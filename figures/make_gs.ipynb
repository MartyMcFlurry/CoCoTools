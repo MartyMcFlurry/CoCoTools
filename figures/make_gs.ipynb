{
    "worksheets": [
        {
            "cells": [
                {
                    "source": "# Gold-standard template creation.\n\nLoad cocomac and paxinos labels from INCF to create a csv file that can be manually edited later.", 
                    "cell_type": "markdown"
                }, 
                {
                    "cell_type": "code", 
                    "language": "python", 
                    "outputs": [
                        {
                            "output_type": "stream", 
                            "stream": "stdout", 
                            "text": "cocotools_session.ipynb    graph_viewing.ipynb  unknowns_degrees.svg\r\nfix_standard_labels.ipynb  make_gs.ipynb\r\n"
                        }
                    ], 
                    "collapsed": false, 
                    "prompt_number": 2, 
                    "input": "ls"
                }, 
                {
                    "cell_type": "code", 
                    "language": "python", 
                    "outputs": [], 
                    "collapsed": false, 
                    "prompt_number": 3, 
                    "input": "fname = '../cocotools/coords/pht00_rhesus.tsv'\natlas = mlab.csv2rec(fname, delimiter='\\t')\nlabels = atlas['label']\nlabel_idx = dict([(l, i) for (i, l) in enumerate(labels)])\nincf_labels = set(labels)"
                }, 
                {
                    "cell_type": "code", 
                    "language": "python", 
                    "outputs": [], 
                    "collapsed": true, 
                    "prompt_number": 4, 
                    "input": "import cPickle as pickle\npht_graph = pickle.load(open('../results/end4.pck'))"
                }, 
                {
                    "cell_type": "code", 
                    "language": "python", 
                    "outputs": [
                        {
                            "output_type": "stream", 
                            "stream": "stdout", 
                            "text": "[&apos;1&apos;, &apos;10&apos;, &apos;11&apos;, &apos;11L&apos;, &apos;11M&apos;, &apos;13&apos;, &apos;14&apos;, &apos;2&apos;, &apos;23A&apos;, &apos;23B&apos;, &apos;23C&apos;, &apos;24/23&apos;, &apos;24A&apos;, &apos;24B&apos;, &apos;24C&apos;, &apos;24D&apos;, &apos;25&apos;, &apos;29&apos;, &apos;31&apos;, &apos;32&apos;, &apos;35&apos;, &apos;3A&apos;, &apos;3B&apos;, &apos;4(F1)&apos;, &apos;44&apos;, &apos;45A&apos;, &apos;45B&apos;, &apos;46D&apos;, &apos;46V&apos;, &apos;47(12)&apos;, &apos;6/32&apos;, &apos;6DC(F2)&apos;, &apos;6DR(F7)&apos;, &apos;6M&apos;, &apos;6VC(F4)&apos;, &apos;6VR(F5)&apos;, &apos;8/32&apos;, &apos;8A&apos;, &apos;8AD&apos;, &apos;8AV&apos;, &apos;8B&apos;, &apos;9/32&apos;, &apos;9/46D&apos;, &apos;9/46V&apos;, &apos;9L&apos;, &apos;9M&apos;, &apos;AA&apos;, &apos;AI&apos;, &apos;CL&apos;, &apos;DI&apos;, &apos;DIP&apos;, &apos;EC&apos;, &apos;ECL&apos;, &apos;EI&apos;, &apos;ELC&apos;, &apos;ELR&apos;, &apos;ER&apos;, &apos;FST&apos;, &apos;GI&apos;, &apos;IPA&apos;, &apos;LA&apos;, &apos;ME&apos;, &apos;MST&apos;, &apos;MT(V5)&apos;, &apos;OPAL&apos;, &apos;OPRO&apos;, &apos;OPT&apos;, &apos;PAAC&apos;, &apos;PAAR&apos;, &apos;PAI&apos;, &apos;PE&apos;, &apos;PEA&apos;, &apos;PEC&apos;, &apos;PECG&apos;, &apos;PF&apos;, &apos;PFG&apos;, &apos;PFOP&apos;, &apos;PG&apos;, &apos;PGA&apos;, &apos;PGM&apos;, &apos;PGOP&apos;, &apos;PO&apos;, &apos;POA&apos;, &apos;POAE&apos;, &apos;POAI&apos;, &apos;PROK&apos;, &apos;PROKL&apos;, &apos;PROKM&apos;, &apos;PROM&apos;, &apos;REI&apos;, &apos;REIT&apos;, &apos;S2&apos;, &apos;ST1&apos;, &apos;ST2&apos;, &apos;ST3&apos;, &apos;TE1&apos;, &apos;TE2&apos;, &apos;TE3&apos;, &apos;TEA&apos;, &apos;TEM&apos;, &apos;TEO&apos;, &apos;TEOM&apos;, &apos;TF&apos;, &apos;TFL&apos;, &apos;TFM&apos;, &apos;TFO&apos;, &apos;TH&apos;, &apos;THO&apos;, &apos;TL(36)&apos;, &apos;TLO(36O)&apos;, &apos;TLR(36R)&apos;, &apos;TPO&apos;, &apos;TPPRO&apos;, &apos;TPT&apos;, &apos;V1&apos;, &apos;V2&apos;, &apos;V3D&apos;, &apos;V3V&apos;, &apos;V4D&apos;, &apos;V4V&apos;]\n"
                        }
                    ], 
                    "collapsed": false, 
                    "prompt_number": 5, 
                    "input": "print sorted(pht_graph.nodes())"
                }, 
                {
                    "cell_type": "code", 
                    "language": "python", 
                    "outputs": [], 
                    "collapsed": true, 
                    "prompt_number": 6, 
                    "input": "cocomac_labels = set(pht_graph.nodes())"
                }, 
                {
                    "cell_type": "code", 
                    "language": "python", 
                    "outputs": [
                        {
                            "output_type": "stream", 
                            "stream": "stdout", 
                            "text": "common: 79 incf: 172 coco: 41\n"
                        }
                    ], 
                    "collapsed": false, 
                    "prompt_number": 7, 
                    "input": "common = sorted(incf_labels.intersection(cocomac_labels))\nincf_only = sorted(incf_labels - cocomac_labels)\ncocomac_only = sorted(cocomac_labels - incf_labels)\nprint 'common:', len(common), 'incf:', len(incf_only), 'coco:', len(cocomac_only)"
                }, 
                {
                    "cell_type": "code", 
                    "language": "python", 
                    "outputs": [], 
                    "collapsed": true, 
                    "prompt_number": 62, 
                    "input": "template = '../cocotools/coords/standard_labels_template.csv'\nline_tpl = \",{0[incf]},{0[cocomac]},{0[color]},{0[x]},{0[y]},{0[z]},\\n\"\np = pht00\nwith open(template, 'w') as t:\n    t.write('label,incf,cocomac,color,x,y,z,comments\\n')\n    for label in incf_only:\n        i = label_idx[label]\n        data = defaultdict(str, incf=label, color=p.color[i], x=p.x[i], y=p.y[i],\n                           z = p.z[i])\n        t.write(line_tpl.format(data))\n    for label in cocomac_only:\n        data = defaultdict(str, cocomac=label)\n        t.write(line_tpl.format(data))\n    for label in common:\n        i = label_idx[label]\n        data = defaultdict(str, incf=label, cocomac=label, color=p.color[i], \n                           x=p.x[i], y=p.y[i], z = p.z[i])\n        t.write(line_tpl.format(data))"
                }, 
                {
                    "input": "", 
                    "cell_type": "code", 
                    "collapsed": true, 
                    "language": "python", 
                    "outputs": []
                }
            ]
        }
    ], 
    "metadata": {
        "name": "make_gs"
    }, 
    "nbformat": 2
}