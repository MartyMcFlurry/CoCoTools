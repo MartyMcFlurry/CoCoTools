{
    "worksheets": [
        {
            "cells": [
                {
                    "source": "# Graph visualizations of the CoCoMac connectivity data in PHT00 space", 
                    "cell_type": "markdown"
                }, 
                {
                    "cell_type": "code", 
                    "language": "python", 
                    "outputs": [], 
                    "collapsed": false, 
                    "prompt_number": 1, 
                    "input": "import networkx as nx"
                }, 
                {
                    "source": "We load our standardized labels, that use the names and coordinates of the \n[INCF Scalable Brain Atlas](http://scalablebrainatlas.incf.org), with minor manual fixes.  The labeling file \nalso contains the map from CoCoMac labels to standardized ones, so that we can relabel the output graphs of the\nCoCoMac analysis to match the INCF names.", 
                    "cell_type": "markdown"
                }, 
                {
                    "cell_type": "code", 
                    "language": "python", 
                    "outputs": [], 
                    "collapsed": false, 
                    "prompt_number": 2, 
                    "input": "from numpy.lib import recfunctions as rfn\n\nfname = '../cocotools/coords/standard_labels.csv'\n\n# Converters for the fields we're interested in: strings without whitespace and floats\ncleanstr = lambda x: str(x).strip()\nconv = {0:cleanstr, 1:cleanstr, 2:cleanstr, 3:cleanstr, 4:float, 5:float, 6:float}\n\nn_fields = len(conv)\nwith open(fname) as f:\n    # Read the first line for the names\n    names = [n.strip() for n in f.next().split(',')[:n_fields]]\n    # Now, let genfromtxt iterate over the rest of the file\n    araw = np.genfromtxt(f, delimiter=',', usecols=range(n_fields), converters=conv)\n\n# Rename the fields so the dtype has more useful names than f0, f1, etc.\n# Also make it a recarray for more convenient use further down\nrenamer = dict(zip(araw.dtype.names, names))\natlas = rfn.rename_fields(araw, renamer).view(np.recarray)\n\n# Flip y axis to have frontal areas on the left in axial projections\natlas.y *= -1"
                }, 
                {
                    "source": "We need to convert the raw data from the atlas array into something more amenable to visualization, in particular\nsomething we can index by graph node instead of by integer index.", 
                    "cell_type": "markdown"
                }, 
                {
                    "cell_type": "code", 
                    "language": "python", 
                    "outputs": [], 
                    "collapsed": true, 
                    "prompt_number": 3, 
                    "input": "def aspect_ratio(x, y):\n    \"\"\"Compute the aspect ratio of a region given its x and y axes as arrays\"\"\"\n    return abs((x.max()-x.min())/(y.max()-y.min()))\n\ndef make_projections(atlas):\n    \"\"\"Compute projections and aspect ratios given an atlas.\n    \"\"\"\n    labels = atlas.label\n    # x, y, z coordinates as columns\n    coords = np.empty((len(atlas), 3))\n    coords[:, 0] = atlas.x\n    coords[:, 1] = atlas.y\n    coords[:, 2] = atlas.z\n    colors = {}\n    # Build coordinates\n    coords_xy = coords[:,(1,0)]  # axial\n    coords_xz = coords[:,(0,2)]  # coronal\n    coords_yz = coords[:,(1,2)]  # sagittal\n    # build the position dicts\n    all_pos = pos, pos_xy, pos_xz, pos_yz = {}, {}, {}, {}\n    all_c = coords, coords_xy, coords_xz, coords_yz\n    for i, label in enumerate(labels):\n        colors[label] = '#' + atlas.color[i].strip()\n        for p, c in zip(all_pos, all_c):\n            p[label] = c[i]\n    positions = dict(axial=pos_xy, sagittal=pos_yz, coronal=pos_xz)\n    positions['3d'] = pos\n    # Compute aspect ratios\n    aspect = {}\n    aspect['axial'] = aspect_ratio(atlas.y, atlas.x)\n    aspect['sagittal'] = aspect_ratio(atlas.y, atlas.z)\n    aspect['coronal'] = aspect_ratio(atlas.x, atlas.z)\n    return labels, positions, aspect, colors\n\nlabels, positions, aspect, colors = make_projections(atlas)"
                }, 
                {
                    "source": "Now we load up the end result of the Cocomac analysis as a graph, and run a few checks to compare the resulting\nnode set.", 
                    "cell_type": "markdown"
                }, 
                {
                    "cell_type": "code", 
                    "language": "python", 
                    "outputs": [], 
                    "collapsed": false, 
                    "prompt_number": 4, 
                    "input": "import cPickle as pickle\ng_coco = pickle.load(open('../results/end4.pck', 'r'))\n\n# relabel graph according to cocomac nodes\nname_map = dict(zip(atlas.cocomac, atlas.label))\ng = nx.relabel_nodes(g_coco, name_map)\n\ngnodes = set(g.nodes())\nlabelset = set(labels)\nmissing = gnodes - labelset\nunused = labelset - gnodes\ncommon = gnodes.intersection(labelset)\n\nprint 'nlabels:', len(labels)\nprint 'nmissing:', len(missing), 'ncommon', len(common), 'nunused', len(unused)"
                }, 
                {
                    "cell_type": "code", 
                    "language": "python", 
                    "outputs": [], 
                    "collapsed": false, 
                    "prompt_number": 5, 
                    "input": "print 'All standard labels atlas:\\n', labels, '\\n'\nprint 'Nodes in Cocomac but missing from atlas\\n', sorted(missing), '\\n'\nprint 'Nodes in atlas but unused by cocomac\\n', sorted(unused), '\\n'\nprint 'Nodes in common\\n', sorted(common)"
                }, 
                {
                    "cell_type": "code", 
                    "language": "python", 
                    "outputs": [], 
                    "collapsed": false, 
                    "prompt_number": 6, 
                    "input": "incf_fname = '../cocotools/coords/pht00_rhesus.tsv'\nincf_atlas = mlab.csv2rec(incf_fname, delimiter='\\t')\nincf_labels = incf_atlas['label']\nlabel_idx = dict([(l, i) for (i, l) in enumerate(labels)])\nincf_labelset = set(incf_labels)"
                }, 
                {
                    "source": "There are a few areas that are labeled in the INCF atlas but which we didn't bring into our standards file.  Let's\ncall these 'problem' areas; they require special attention and likely will be merged later into other areas.", 
                    "cell_type": "markdown"
                }, 
                {
                    "cell_type": "code", 
                    "language": "python", 
                    "outputs": [], 
                    "collapsed": false, 
                    "prompt_number": 7, 
                    "input": "problem = incf_labelset & missing\nprint 'problem areas: total', len(problem),\nprint sorted(problem)"
                }, 
                {
                    "source": "## Visualization\n\nWe now create a graph that only contains the nodes common to the Cocomac output and the INCF coordinate set which \nwe can visualize.", 
                    "cell_type": "markdown"
                }, 
                {
                    "cell_type": "code", 
                    "language": "python", 
                    "outputs": [], 
                    "collapsed": false, 
                    "prompt_number": 8, 
                    "input": "gnorm = nx.DiGraph()\nfor node in common:\n    gnorm.add_node(node)\nfor u,v,data in g.edges(data=True):\n    if u in common and v in common:\n            gnorm.add_edge(u, v, data)"
                }, 
                {
                    "source": "Now we look at some graphs.  First we make a few ones with only edges for specific nodes, as the full graphs are \nhard to read and take a very long time to draw.  At the end of the notebook, full ones are drawn.", 
                    "cell_type": "markdown"
                }, 
                {
                    "cell_type": "code", 
                    "language": "python", 
                    "outputs": [], 
                    "collapsed": true, 
                    "prompt_number": 9, 
                    "input": "def graph_view(projection, size=None, only_nodes=None):\n    \"\"\"Simple utility to draw the various projections.\"\"\"\n    from cocotools import nxdraw; reload(nxdraw)\n    \n    if size is None:\n        size = dict(axial=15, sagittal=15, coronal=8)[projection]\n        \n    f, ax = plt.subplots(figsize=(size, size/aspect[projection]))\n    ax.set_title(projection, fontsize=20)\n    \n    if only_nodes is None:\n        # For full graphs, it's better to make the edges faint and the nodes darker\n        node_alpha=0.7; edge_alpha=0.1\n    else:\n        # defaults from draw_network\n        node_alpha=0.5; edge_alpha=0.25\n        \n    nxdraw.draw_network(gnorm, pos=positions[projection], ax=ax, node_color=colors,\n                        only_nodes=only_nodes, node_alpha=node_alpha, edge_alpha=edge_alpha)\n    \n    if projection=='axial':\n        ax.set_ylim(-3,30)\n    return ax"
                }, 
                {
                    "cell_type": "code", 
                    "language": "python", 
                    "outputs": [], 
                    "collapsed": false, 
                    "prompt_number": 10, 
                    "input": "graph_view('axial', only_nodes=['V1', '10'])"
                }, 
                {
                    "cell_type": "code", 
                    "language": "python", 
                    "outputs": [], 
                    "collapsed": false, 
                    "prompt_number": 11, 
                    "input": "graph_view('sagittal', only_nodes=['V1', '10'])"
                }, 
                {
                    "cell_type": "code", 
                    "language": "python", 
                    "outputs": [], 
                    "collapsed": false, 
                    "prompt_number": 12, 
                    "input": "graph_view('coronal', only_nodes=['V1', '10'])"
                }, 
                {
                    "source": "## Full graphs\nThese are the full graphs with all edges, they take a while to render...", 
                    "cell_type": "markdown"
                }, 
                {
                    "cell_type": "code", 
                    "language": "python", 
                    "outputs": [], 
                    "collapsed": false, 
                    "prompt_number": 13, 
                    "input": "graph_view('axial')\ngraph_view('sagittal')\ngraph_view('coronal')"
                }, 
                {
                    "cell_type": "code", 
                    "language": "python", 
                    "outputs": [], 
                    "collapsed": true, 
                    "prompt_number": 13, 
                    "input": ""
                }
            ]
        }
    ], 
    "metadata": {
        "name": "graph_viewing"
    }, 
    "nbformat": 2
}