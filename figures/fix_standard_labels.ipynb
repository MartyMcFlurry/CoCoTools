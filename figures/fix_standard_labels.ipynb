{
    "worksheets": [
        {
            "cells": [
                {
                    "source": "Rewrite the standard labels file to remove spurious whitespace and ensure that all cocomac labels are uppercase.\n\n**Note:** once run, manuall re-lowercase the 'cocomac' header in the first line, I didn't bother putting in logic\nto skip the first line from lowercasing.", 
                    "cell_type": "markdown"
                }, 
                {
                    "cell_type": "code", 
                    "language": "python", 
                    "outputs": [
                        {
                            "output_type": "stream", 
                            "stream": "stdout", 
                            "text": "\nWelcome to pylab, a matplotlib-based Python environment [backend: module://IPython.zmq.pylab.backend_inline].\nFor more information, type &apos;help(pylab)&apos;.\n../cocotools/coords/1incf_2coco.csv\r\n../cocotools/coords/add2cocomac.csv\r\n../cocotools/coords/add_supernodes.csv\r\n../cocotools/coords/problem_coco_nodes.csv\r\n../cocotools/coords/standard_labels.csv\r\n../cocotools/coords/standard_labels_template.csv\r\n"
                        }
                    ], 
                    "collapsed": false, 
                    "prompt_number": 1, 
                    "input": "ls ../cocotools/coords/*csv"
                }, 
                {
                    "cell_type": "code", 
                    "language": "python", 
                    "outputs": [], 
                    "collapsed": true, 
                    "prompt_number": 4, 
                    "input": "n_parts = 8\ntpl = [''] * n_parts\nwith open('../cocotools/coords/standard_labels.csv') as f:\n    with open('../cocotools/coords/standard_labels_f.csv', 'w') as fw:\n        for line in f:\n            parts = [p.strip() for p in line.split(',')]\n            if len(parts) < n_parts:\n                new = tpl[:]\n                new[:len(parts)] = parts\n            else:\n                new = parts\n            new[2] = new[2].upper()\n            fw.write(','.join(new) + '\\n')"
                }, 
                {
                    "input": "", 
                    "cell_type": "code", 
                    "collapsed": true, 
                    "language": "python", 
                    "outputs": []
                }
            ]
        }
    ], 
    "metadata": {
        "name": "fix_standard_labels"
    }, 
    "nbformat": 2
}