{
    "worksheets": [
        {
            "cells": [
                {
                    "cell_type": "code", 
                    "language": "python", 
                    "outputs": [], 
                    "collapsed": true, 
                    "prompt_number": 4, 
                    "input": "import cocotools as coco"
                }, 
                {
                    "source": "A single function, multi_map_ebunch, is used to query CoCoMac for Mapping or Connectivity data, store\nthe returned XML in a local SQLite database for faster access on subsequent queries, and parse the XML\nto generate a list of graph edges.  This function also returns a list of those BrainMaps for which no\ndata were obtained.  By default, multi_map_ebunch performs queries for all BrainMaps in CoCoMac;\nhowever, if only a subset of these are desired, the subset can be supplied as an optional second\nargument.", 
                    "cell_type": "markdown"
                }, 
                {
                    "cell_type": "code", 
                    "language": "python", 
                    "outputs": [], 
                    "collapsed": true, 
                    "prompt_number": 5, 
                    "input": "map_bunch, map_failures = coco.multi_map_ebunch('Mapping')"
                }, 
                {
                    "source": "Mapping data, represented as edges in map_bunch, are added to a MapGraph, a sub-class of the NetworkX\nDiGraph with extra features to ensure that more precise descriptions of BrainSite relationships are \nfavored when conflicts occur and that each edge has complete information.", 
                    "cell_type": "markdown"
                }, 
                {
                    "cell_type": "code", 
                    "language": "python", 
                    "outputs": [], 
                    "collapsed": true, 
                    "prompt_number": 9, 
                    "input": "map_g = coco.MapGraph()"
                }, 
                {
                    "cell_type": "code", 
                    "language": "python", 
                    "outputs": [], 
                    "collapsed": true, 
                    "prompt_number": 10, 
                    "input": "map_g.add_edges_from(map_bunch)"
                }, 
                {
                    "source": "MapGraph's deduce_edges method performs the first stage of ORT: The deduction of new spatial\nrelationships based on those already in the graph.", 
                    "cell_type": "markdown"
                }, 
                {
                    "cell_type": "code", 
                    "language": "python", 
                    "outputs": [], 
                    "collapsed": true, 
                    "prompt_number": 12, 
                    "input": "map_g.deduce_edges()"
                }, 
                {
                    "source": "A second call to multi_map_ebunch is needed to obtain Connectivity data, and a ConGraph is created in\na way analogous to the creation of the MapGraph.", 
                    "cell_type": "markdown"
                }, 
                {
                    "cell_type": "code", 
                    "language": "python", 
                    "outputs": [], 
                    "collapsed": true, 
                    "prompt_number": 14, 
                    "input": "con_bunch, con_failures = coco.multi_map_ebunch('Connectivity')"
                }, 
                {
                    "cell_type": "code", 
                    "language": "python", 
                    "outputs": [], 
                    "collapsed": true, 
                    "prompt_number": 16, 
                    "input": "con_g = coco.ConGraph()"
                }, 
                {
                    "cell_type": "code", 
                    "language": "python", 
                    "outputs": [], 
                    "collapsed": true, 
                    "prompt_number": 17, 
                    "input": "con_g.add_edges_from(con_bunch)"
                }, 
                {
                    "source": "The third and final graph type in CoCoTools is the EndGraph, which is designed to carry ORT to its end\npoint.", 
                    "cell_type": "markdown"
                }, 
                {
                    "cell_type": "code", 
                    "language": "python", 
                    "outputs": [], 
                    "collapsed": true, 
                    "prompt_number": 18, 
                    "input": "end_g = coco.EndGraph()"
                }, 
                {
                    "source": "Calling EndGraph's add_translated_edges method with a MapGraph, a ConGraph, and the name of a target \nBrainMap performs the ORT algebra of transformation.  Those edges from con_g that can be translated \ninto the PHT00 nomenclature using relationships in map_g are added to end_g.", 
                    "cell_type": "markdown"
                }, 
                {
                    "cell_type": "code", 
                    "language": "python", 
                    "outputs": [], 
                    "collapsed": true, 
                    "prompt_number": 19, 
                    "input": "end_g.add_translated_edges(map_g, con_g, 'PHT00')"
                }, 
                {
                    "source": "The descriptions of anatomical connectivity held in end_g can be analyzed in several ways using \nCoCoTools.  A useful first step is to separate those connections that have been observed in the\nmacaque brain (\"known present\") from those that have been tested for but not observed (\"known absent\").\nbinarize_ecs splits an EndGraph into two graphs, one with the known present edges, and one with the\nknown absent edges.", 
                    "cell_type": "markdown"
                }, 
                {
                    "cell_type": "code", 
                    "language": "python", 
                    "outputs": [], 
                    "collapsed": false, 
                    "prompt_number": 4, 
                    "input": "present, absent = coco.split_present_from_absent(end_g)"
                }, 
                {
                    "source": "The edges absent from both of these graphs are those whose existence is uncertain.  A graph with these\nedges, the inverse of end_g, can be made using compute_graph_of_unknowns.", 
                    "cell_type": "markdown"
                }, 
                {
                    "cell_type": "code", 
                    "language": "python", 
                    "outputs": [], 
                    "collapsed": true, 
                    "prompt_number": 21, 
                    "input": "unknown = coco.compute_graph_of_unknowns(end_g)"
                }
            ]
        }
    ], 
    "metadata": {
        "name": "cocotools_session"
    }, 
    "nbformat": 2
}