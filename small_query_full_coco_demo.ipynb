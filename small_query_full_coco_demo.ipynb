{
 "metadata": {
  "name": "small_query_full_coco_demo"
 },
 "nbformat": 3,
 "nbformat_minor": 0,
 "worksheets": [
  {
   "cells": [
    {
     "cell_type": "code",
     "collapsed": false,
     "input": [
      "pwd"
     ],
     "language": "python",
     "metadata": {},
     "outputs": [
      {
       "output_type": "pyout",
       "prompt_number": 1,
       "text": [
        "u'c:\\\\Users\\\\Robert\\\\cocomac\\\\cocomac-tools'"
       ]
      }
     ],
     "prompt_number": 1
    },
    {
     "cell_type": "code",
     "collapsed": false,
     "input": [
      "import cocotools as coco"
     ],
     "language": "python",
     "metadata": {},
     "outputs": [],
     "prompt_number": 2
    },
    {
     "cell_type": "code",
     "collapsed": false,
     "input": [
      "small_query_list=['PP94', 'W40', 'YP85', 'FV87', 'B09', 'VV19', 'PHT00']\n",
      "small_map_bunch, small_map_failures =coco.multi_map_ebunch('Mapping', small_query_list)"
     ],
     "language": "python",
     "metadata": {},
     "outputs": [],
     "prompt_number": 3
    },
    {
     "cell_type": "code",
     "collapsed": false,
     "input": [
      "small_con_bunch, small_con_failures= coco.multi_map_ebunch('Connectivity', small_query_list)"
     ],
     "language": "python",
     "metadata": {},
     "outputs": [],
     "prompt_number": 6
    },
    {
     "cell_type": "code",
     "collapsed": false,
     "input": [
      "small_mapg=coco.MapGraph()"
     ],
     "language": "python",
     "metadata": {},
     "outputs": [],
     "prompt_number": 7
    },
    {
     "cell_type": "code",
     "collapsed": false,
     "input": [
      "small_mapg.add_edges_from(small_map_bunch)"
     ],
     "language": "python",
     "metadata": {},
     "outputs": [],
     "prompt_number": 8
    },
    {
     "cell_type": "code",
     "collapsed": false,
     "input": [
      "small_cong=coco.ConGraph()\n",
      "small_cong.add_edges_from(small_con_bunch)"
     ],
     "language": "python",
     "metadata": {},
     "outputs": [],
     "prompt_number": 14
    },
    {
     "cell_type": "code",
     "collapsed": false,
     "input": [
      "small_mapg.size()"
     ],
     "language": "python",
     "metadata": {},
     "outputs": [
      {
       "output_type": "pyout",
       "prompt_number": 10,
       "text": [
        "1494"
       ]
      }
     ],
     "prompt_number": 10
    },
    {
     "cell_type": "code",
     "collapsed": false,
     "input": [
      "small_mapg.edges('PP94-46')"
     ],
     "language": "python",
     "metadata": {},
     "outputs": [
      {
       "output_type": "pyout",
       "prompt_number": 21,
       "text": [
        "[('PP94-46', 'PHT00-46'),\n",
        " ('PP94-46', 'B09-9'),\n",
        " ('PP94-46', 'CP99-46'),\n",
        " ('PP94-46', 'W40-46'),\n",
        " ('PP94-46', 'B09-10'),\n",
        " ('PP94-46', 'PP99-46')]"
       ]
      }
     ],
     "prompt_number": 21
    },
    {
     "cell_type": "code",
     "collapsed": false,
     "input": [
      "small_mapg.edge['PP94-46']['B09-9']"
     ],
     "language": "python",
     "metadata": {},
     "outputs": [
      {
       "output_type": "pyout",
       "prompt_number": 25,
       "text": [
        "{'PDC': 2, 'RC': 'O', 'TP': []}"
       ]
      }
     ],
     "prompt_number": 25
    },
    {
     "cell_type": "code",
     "collapsed": false,
     "input": [
      "small_cong.size()"
     ],
     "language": "python",
     "metadata": {},
     "outputs": [
      {
       "output_type": "pyout",
       "prompt_number": 27,
       "text": [
        "219"
       ]
      }
     ],
     "prompt_number": 27
    },
    {
     "cell_type": "code",
     "collapsed": false,
     "input": [
      "small_cong.edges('PP94-46')"
     ],
     "language": "python",
     "metadata": {},
     "outputs": [
      {
       "output_type": "pyout",
       "prompt_number": 33,
       "text": [
        "[('PP94-46', 'MCSGP04-M4'),\n",
        " ('PP94-46', 'MCSGP04-31'),\n",
        " ('PP94-46', 'MCSGP04-SSA'),\n",
        " ('PP94-46', 'MCSGP04-TSA'),\n",
        " ('PP94-46', 'VPR87-23'),\n",
        " ('PP94-46', 'MCSGP04-23'),\n",
        " ('PP94-46', 'PP94-47/12'),\n",
        " ('PP94-46', 'MCSGP04-23C')]"
       ]
      }
     ],
     "prompt_number": 33
    },
    {
     "cell_type": "code",
     "collapsed": false,
     "input": [
      "small_cong.edge['PP94-46']['PP94-47/12']"
     ],
     "language": "python",
     "metadata": {},
     "outputs": [
      {
       "output_type": "pyout",
       "prompt_number": 34,
       "text": [
        "{'Connection': 'Present',\n",
        " 'Degree': 'X',\n",
        " 'EC_Source': 'P',\n",
        " 'EC_Target': 'X',\n",
        " 'PDC_Density': 18,\n",
        " 'PDC_EC_Source': 6,\n",
        " 'PDC_EC_Target': 18,\n",
        " 'PDC_Site_Source': 12,\n",
        " 'PDC_Site_Target': 0}"
       ]
      }
     ],
     "prompt_number": 34
    },
    {
     "cell_type": "code",
     "collapsed": false,
     "input": [
      "small_mapg.clean_data()"
     ],
     "language": "python",
     "metadata": {},
     "outputs": [
      {
       "ename": "NetworkXError",
       "evalue": "The node DU86-DMZ is not in the digraph.",
       "output_type": "pyerr",
       "traceback": [
        "\u001b[1;31m---------------------------------------------------------------------------\u001b[0m\n\u001b[1;31mNetworkXError\u001b[0m                             Traceback (most recent call last)",
        "\u001b[1;32m<ipython-input-36-45a53be25386>\u001b[0m in \u001b[0;36m<module>\u001b[1;34m()\u001b[0m\n\u001b[1;32m----> 1\u001b[1;33m \u001b[0msmall_mapg\u001b[0m\u001b[1;33m.\u001b[0m\u001b[0mclean_data\u001b[0m\u001b[1;33m(\u001b[0m\u001b[1;33m)\u001b[0m\u001b[1;33m\u001b[0m\u001b[0m\n\u001b[0m",
        "\u001b[1;32mc:\\Users\\Robert\\cocomac\\cocomac-tools\\cocotools\\mapgraph.pyc\u001b[0m in \u001b[0;36mclean_data\u001b[1;34m(self)\u001b[0m\n\u001b[0;32m   1161\u001b[0m                                 \u001b[1;34m'PHT00-4C'\u001b[0m\u001b[1;33m,\u001b[0m \u001b[1;34m'PHT00-5'\u001b[0m\u001b[1;33m,\u001b[0m \u001b[1;34m'PHT00-6VD'\u001b[0m\u001b[1;33m,\u001b[0m\u001b[1;33m\u001b[0m\u001b[0m\n\u001b[0;32m   1162\u001b[0m                                 \u001b[1;34m'PHT00-6VV'\u001b[0m\u001b[1;33m,\u001b[0m \u001b[1;34m'PHT00-AHIPM'\u001b[0m\u001b[1;33m,\u001b[0m \u001b[1;34m'PHT00-CXA'\u001b[0m\u001b[1;33m,\u001b[0m\u001b[1;33m\u001b[0m\u001b[0m\n\u001b[1;32m-> 1163\u001b[1;33m                                 'PHT00-ST2G', 'PHT00-ST2S'])\n\u001b[0m\u001b[0;32m   1164\u001b[0m         \u001b[1;31m# Although CoCoMac contains the following edges, they are not\u001b[0m\u001b[1;33m\u001b[0m\u001b[1;33m\u001b[0m\u001b[0m\n\u001b[0;32m   1165\u001b[0m         \u001b[1;31m# supported by the original papers.\u001b[0m\u001b[1;33m\u001b[0m\u001b[1;33m\u001b[0m\u001b[0m\n",
        "\u001b[1;32mc:\\Users\\Robert\\cocomac\\cocomac-tools\\cocotools\\mapgraph.pyc\u001b[0m in \u001b[0;36mremove_nodes_from\u001b[1;34m(self, nodes)\u001b[0m\n\u001b[0;32m    359\u001b[0m         \"\"\"\n\u001b[0;32m    360\u001b[0m         \u001b[1;32mfor\u001b[0m \u001b[0mnode\u001b[0m \u001b[1;32min\u001b[0m \u001b[0mnodes\u001b[0m\u001b[1;33m:\u001b[0m\u001b[1;33m\u001b[0m\u001b[0m\n\u001b[1;32m--> 361\u001b[1;33m             \u001b[0mself\u001b[0m\u001b[1;33m.\u001b[0m\u001b[0mremove_node\u001b[0m\u001b[1;33m(\u001b[0m\u001b[0mnode\u001b[0m\u001b[1;33m)\u001b[0m\u001b[1;33m\u001b[0m\u001b[0m\n\u001b[0m\u001b[0;32m    362\u001b[0m \u001b[1;33m\u001b[0m\u001b[0m\n\u001b[0;32m    363\u001b[0m     \u001b[1;32mdef\u001b[0m \u001b[0m_transfer_data_to_smaller\u001b[0m\u001b[1;33m(\u001b[0m\u001b[0mself\u001b[0m\u001b[1;33m,\u001b[0m \u001b[0mlarger\u001b[0m\u001b[1;33m,\u001b[0m \u001b[0msmaller\u001b[0m\u001b[1;33m)\u001b[0m\u001b[1;33m:\u001b[0m\u001b[1;33m\u001b[0m\u001b[0m\n",
        "\u001b[1;32mc:\\Users\\Robert\\cocomac\\cocomac-tools\\cocotools\\mapgraph.pyc\u001b[0m in \u001b[0;36mremove_node\u001b[1;34m(self, node)\u001b[0m\n\u001b[0;32m    334\u001b[0m         \u001b[0mwhen\u001b[0m \u001b[0mnode\u001b[0m \u001b[1;32mis\u001b[0m \u001b[0mremoved\u001b[0m \u001b[0mso\u001b[0m \u001b[0mwill\u001b[0m \u001b[0mall\u001b[0m \u001b[0mof\u001b[0m \u001b[0mits\u001b[0m \u001b[0medges\u001b[0m\u001b[1;33m.\u001b[0m\u001b[1;33m\u001b[0m\u001b[0m\n\u001b[0;32m    335\u001b[0m         \"\"\"\n\u001b[1;32m--> 336\u001b[1;33m         \u001b[0mnx\u001b[0m\u001b[1;33m.\u001b[0m\u001b[0mDiGraph\u001b[0m\u001b[1;33m.\u001b[0m\u001b[0mremove_node\u001b[0m\u001b[1;33m.\u001b[0m\u001b[0mim_func\u001b[0m\u001b[1;33m(\u001b[0m\u001b[0mself\u001b[0m\u001b[1;33m,\u001b[0m \u001b[0mnode\u001b[0m\u001b[1;33m)\u001b[0m\u001b[1;33m\u001b[0m\u001b[0m\n\u001b[0m\u001b[0;32m    337\u001b[0m         \u001b[0medges_to_remove\u001b[0m \u001b[1;33m=\u001b[0m \u001b[1;33m[\u001b[0m\u001b[1;33m]\u001b[0m\u001b[1;33m\u001b[0m\u001b[0m\n\u001b[0;32m    338\u001b[0m         \u001b[1;32mfor\u001b[0m \u001b[0msource\u001b[0m\u001b[1;33m,\u001b[0m \u001b[0mtarget\u001b[0m \u001b[1;32min\u001b[0m \u001b[0mself\u001b[0m\u001b[1;33m.\u001b[0m\u001b[0medges_iter\u001b[0m\u001b[1;33m(\u001b[0m\u001b[1;33m)\u001b[0m\u001b[1;33m:\u001b[0m\u001b[1;33m\u001b[0m\u001b[0m\n",
        "\u001b[1;32mc:\\Python27\\lib\\site-packages\\networkx-1.7rc1-py2.7.egg\\networkx\\classes\\digraph.pyc\u001b[0m in \u001b[0;36mremove_node\u001b[1;34m(self, n)\u001b[0m\n\u001b[0;32m    378\u001b[0m             \u001b[1;32mdel\u001b[0m \u001b[0mself\u001b[0m\u001b[1;33m.\u001b[0m\u001b[0mnode\u001b[0m\u001b[1;33m[\u001b[0m\u001b[0mn\u001b[0m\u001b[1;33m]\u001b[0m\u001b[1;33m\u001b[0m\u001b[0m\n\u001b[0;32m    379\u001b[0m         \u001b[1;32mexcept\u001b[0m \u001b[0mKeyError\u001b[0m\u001b[1;33m:\u001b[0m \u001b[1;31m# NetworkXError if n not in self\u001b[0m\u001b[1;33m\u001b[0m\u001b[0m\n\u001b[1;32m--> 380\u001b[1;33m             \u001b[1;32mraise\u001b[0m \u001b[0mNetworkXError\u001b[0m\u001b[1;33m(\u001b[0m\u001b[1;34m\"The node %s is not in the digraph.\"\u001b[0m\u001b[1;33m%\u001b[0m\u001b[1;33m(\u001b[0m\u001b[0mn\u001b[0m\u001b[1;33m,\u001b[0m\u001b[1;33m)\u001b[0m\u001b[1;33m)\u001b[0m\u001b[1;33m\u001b[0m\u001b[0m\n\u001b[0m\u001b[0;32m    381\u001b[0m         \u001b[1;32mfor\u001b[0m \u001b[0mu\u001b[0m \u001b[1;32min\u001b[0m \u001b[0mnbrs\u001b[0m\u001b[1;33m:\u001b[0m\u001b[1;33m\u001b[0m\u001b[0m\n\u001b[0;32m    382\u001b[0m             \u001b[1;32mdel\u001b[0m \u001b[0mself\u001b[0m\u001b[1;33m.\u001b[0m\u001b[0mpred\u001b[0m\u001b[1;33m[\u001b[0m\u001b[0mu\u001b[0m\u001b[1;33m]\u001b[0m\u001b[1;33m[\u001b[0m\u001b[0mn\u001b[0m\u001b[1;33m]\u001b[0m \u001b[1;31m# remove all edges n-u in digraph\u001b[0m\u001b[1;33m\u001b[0m\u001b[0m\n",
        "\u001b[1;31mNetworkXError\u001b[0m: The node DU86-DMZ is not in the digraph."
       ]
      }
     ],
     "prompt_number": 36
    },
    {
     "cell_type": "code",
     "collapsed": false,
     "input": [
      "small_mapg.keep_only_one_level_of_resolution(small_cong, 'PHT00')"
     ],
     "language": "python",
     "metadata": {},
     "outputs": [
      {
       "ename": "MapGraphError",
       "evalue": "PP94-8A has different RCs to disjoint nodes in\nits own map.",
       "output_type": "pyerr",
       "traceback": [
        "\u001b[1;31m---------------------------------------------------------------------------\u001b[0m\n\u001b[1;31mMapGraphError\u001b[0m                             Traceback (most recent call last)",
        "\u001b[1;32m<ipython-input-37-7cff5647ca26>\u001b[0m in \u001b[0;36m<module>\u001b[1;34m()\u001b[0m\n\u001b[1;32m----> 1\u001b[1;33m \u001b[0msmall_mapg\u001b[0m\u001b[1;33m.\u001b[0m\u001b[0mkeep_only_one_level_of_resolution\u001b[0m\u001b[1;33m(\u001b[0m\u001b[0msmall_cong\u001b[0m\u001b[1;33m,\u001b[0m \u001b[1;34m'PHT00'\u001b[0m\u001b[1;33m)\u001b[0m\u001b[1;33m\u001b[0m\u001b[0m\n\u001b[0m",
        "\u001b[1;32mc:\\Users\\Robert\\cocomac\\cocomac-tools\\cocotools\\mapgraph.pyc\u001b[0m in \u001b[0;36mkeep_only_one_level_of_resolution\u001b[1;34m(self, cong, target_map)\u001b[0m\n\u001b[0;32m   1620\u001b[0m             \u001b[1;32mif\u001b[0m \u001b[0msource\u001b[0m\u001b[1;33m.\u001b[0m\u001b[0msplit\u001b[0m\u001b[1;33m(\u001b[0m\u001b[1;34m'-'\u001b[0m\u001b[1;33m)\u001b[0m\u001b[1;33m[\u001b[0m\u001b[1;36m0\u001b[0m\u001b[1;33m]\u001b[0m \u001b[1;33m==\u001b[0m \u001b[0mtarget\u001b[0m\u001b[1;33m.\u001b[0m\u001b[0msplit\u001b[0m\u001b[1;33m(\u001b[0m\u001b[1;34m'-'\u001b[0m\u001b[1;33m)\u001b[0m\u001b[1;33m[\u001b[0m\u001b[1;36m0\u001b[0m\u001b[1;33m]\u001b[0m\u001b[1;33m:\u001b[0m\u001b[1;33m\u001b[0m\u001b[0m\n\u001b[0;32m   1621\u001b[0m                 \u001b[0mintramap_nodes\u001b[0m\u001b[1;33m.\u001b[0m\u001b[0mupdate\u001b[0m\u001b[1;33m(\u001b[0m\u001b[1;33m[\u001b[0m\u001b[0msource\u001b[0m\u001b[1;33m,\u001b[0m \u001b[0mtarget\u001b[0m\u001b[1;33m]\u001b[0m\u001b[1;33m)\u001b[0m\u001b[1;33m\u001b[0m\u001b[0m\n\u001b[1;32m-> 1622\u001b[1;33m         \u001b[0mmap_hierarchies\u001b[0m \u001b[1;33m=\u001b[0m \u001b[0mself\u001b[0m\u001b[1;33m.\u001b[0m\u001b[0m_determine_hierarchies\u001b[0m\u001b[1;33m(\u001b[0m\u001b[0mintramap_nodes\u001b[0m\u001b[1;33m)\u001b[0m\u001b[1;33m\u001b[0m\u001b[0m\n\u001b[0m\u001b[0;32m   1623\u001b[0m         \u001b[1;32mfor\u001b[0m \u001b[0mhierarchy\u001b[0m \u001b[1;32min\u001b[0m \u001b[0mmap_hierarchies\u001b[0m\u001b[1;33m.\u001b[0m\u001b[0mitervalues\u001b[0m\u001b[1;33m(\u001b[0m\u001b[1;33m)\u001b[0m\u001b[1;33m:\u001b[0m\u001b[1;33m\u001b[0m\u001b[0m\n\u001b[0;32m   1624\u001b[0m             \u001b[0mself\u001b[0m\u001b[1;33m.\u001b[0m\u001b[0m_keep_one_level\u001b[0m\u001b[1;33m(\u001b[0m\u001b[0mhierarchy\u001b[0m\u001b[1;33m,\u001b[0m \u001b[0mtarget_map\u001b[0m\u001b[1;33m)\u001b[0m\u001b[1;33m\u001b[0m\u001b[0m\n",
        "\u001b[1;32mc:\\Users\\Robert\\cocomac\\cocomac-tools\\cocotools\\mapgraph.pyc\u001b[0m in \u001b[0;36m_determine_hierarchies\u001b[1;34m(self, intramap_nodes)\u001b[0m\n\u001b[0;32m    751\u001b[0m                 \u001b[0mhierarchies\u001b[0m\u001b[1;33m[\u001b[0m\u001b[0mbrain_map\u001b[0m\u001b[1;33m]\u001b[0m \u001b[1;33m=\u001b[0m \u001b[1;33m{\u001b[0m\u001b[1;33m}\u001b[0m\u001b[1;33m\u001b[0m\u001b[0m\n\u001b[0;32m    752\u001b[0m             \u001b[0mhierarchy\u001b[0m \u001b[1;33m=\u001b[0m \u001b[0mhierarchies\u001b[0m\u001b[1;33m[\u001b[0m\u001b[0mbrain_map\u001b[0m\u001b[1;33m]\u001b[0m\u001b[1;33m\u001b[0m\u001b[0m\n\u001b[1;32m--> 753\u001b[1;33m             \u001b[0mhierarchies\u001b[0m\u001b[1;33m[\u001b[0m\u001b[0mbrain_map\u001b[0m\u001b[1;33m]\u001b[0m \u001b[1;33m=\u001b[0m \u001b[0mself\u001b[0m\u001b[1;33m.\u001b[0m\u001b[0m_add_to_hierarchy\u001b[0m\u001b[1;33m(\u001b[0m\u001b[0mnode\u001b[0m\u001b[1;33m,\u001b[0m \u001b[0mhierarchy\u001b[0m\u001b[1;33m)\u001b[0m\u001b[1;33m\u001b[0m\u001b[0m\n\u001b[0m\u001b[0;32m    754\u001b[0m         \u001b[1;32mreturn\u001b[0m \u001b[0mhierarchies\u001b[0m\u001b[1;33m\u001b[0m\u001b[0m\n\u001b[0;32m    755\u001b[0m \u001b[1;33m\u001b[0m\u001b[0m\n",
        "\u001b[1;32mc:\\Users\\Robert\\cocomac\\cocomac-tools\\cocotools\\mapgraph.pyc\u001b[0m in \u001b[0;36m_add_to_hierarchy\u001b[1;34m(self, node_x, hierarchy)\u001b[0m\n\u001b[0;32m    707\u001b[0m         \"\"\"\n\u001b[0;32m    708\u001b[0m         related_to_x, rc = self._relate_node_to_others(node_x,\n\u001b[1;32m--> 709\u001b[1;33m                                                        hierarchy.keys())\n\u001b[0m\u001b[0;32m    710\u001b[0m         \u001b[1;32mif\u001b[0m \u001b[0mrc\u001b[0m \u001b[1;33m==\u001b[0m \u001b[1;34m'L'\u001b[0m\u001b[1;33m:\u001b[0m\u001b[1;33m\u001b[0m\u001b[0m\n\u001b[0;32m    711\u001b[0m             \u001b[1;31m# node_x is at a level higher than the highest one in\u001b[0m\u001b[1;33m\u001b[0m\u001b[1;33m\u001b[0m\u001b[0m\n",
        "\u001b[1;32mc:\\Users\\Robert\\cocomac\\cocomac-tools\\cocotools\\mapgraph.pyc\u001b[0m in \u001b[0;36m_relate_node_to_others\u001b[1;34m(self, node_x, others)\u001b[0m\n\u001b[0;32m    676\u001b[0m         \u001b[1;32mif\u001b[0m \u001b[0mL_count\u001b[0m \u001b[1;33m+\u001b[0m \u001b[0mi_count\u001b[0m \u001b[1;33m+\u001b[0m \u001b[0ms_count\u001b[0m \u001b[1;33m>\u001b[0m \u001b[1;36m1\u001b[0m\u001b[1;33m:\u001b[0m\u001b[1;33m\u001b[0m\u001b[0m\n\u001b[0;32m    677\u001b[0m             raise MapGraphError(\"\"\"%s has different RCs to disjoint nodes in\n\u001b[1;32m--> 678\u001b[1;33m its own map.\"\"\" % node_x)\n\u001b[0m\u001b[0;32m    679\u001b[0m         \u001b[1;32mif\u001b[0m \u001b[0mL_count\u001b[0m\u001b[1;33m:\u001b[0m\u001b[1;33m\u001b[0m\u001b[0m\n\u001b[0;32m    680\u001b[0m             \u001b[1;32mreturn\u001b[0m \u001b[0mx_is_larger\u001b[0m\u001b[1;33m,\u001b[0m \u001b[1;34m'L'\u001b[0m\u001b[1;33m\u001b[0m\u001b[0m\n",
        "\u001b[1;31mMapGraphError\u001b[0m: PP94-8A has different RCs to disjoint nodes in\nits own map."
       ]
      }
     ],
     "prompt_number": 37
    },
    {
     "cell_type": "code",
     "collapsed": false,
     "input": [
      "small_mapg.deduce_edges()"
     ],
     "language": "python",
     "metadata": {},
     "outputs": [],
     "prompt_number": "*"
    },
    {
     "cell_type": "code",
     "collapsed": false,
     "input": [],
     "language": "python",
     "metadata": {},
     "outputs": []
    }
   ],
   "metadata": {}
  }
 ]
}