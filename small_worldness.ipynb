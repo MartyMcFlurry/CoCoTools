{
 "metadata": {
  "name": "small_worldness"
 },
 "nbformat": 3,
 "nbformat_minor": 0,
 "worksheets": [
  {
   "cells": [
    {
     "cell_type": "markdown",
     "metadata": {},
     "source": [
      "#Results"
     ]
    },
    {
     "cell_type": "code",
     "collapsed": false,
     "input": [
      "import cocotools as coco\n",
      "import pickle\n",
      "import networkx as nx"
     ],
     "language": "python",
     "metadata": {},
     "outputs": [],
     "prompt_number": 1
    },
    {
     "cell_type": "code",
     "collapsed": false,
     "input": [
      "mapfile=open('results\\graphs\\post_deduce_fullmapg.pck', 'rb')\n",
      "confile=open('results\\graphs\\post_deduce_fullcong.pck', 'rb')\n",
      "mapg=pickle.load(mapfile)\n",
      "cong=pickle.load(confile)"
     ],
     "language": "python",
     "metadata": {},
     "outputs": [],
     "prompt_number": 3
    },
    {
     "cell_type": "code",
     "collapsed": false,
     "input": [
      "pht00_endg=coco.EndGraph()\n",
      "pht00_endg_mort=coco.EndGraph()\n",
      "pht00_cong = mapg.keep_only_one_level_of_resolution(cong, 'PHT00')\n",
      "pht00_endg.add_translated_edges(mapg, pht00_cong, 'PHT00', 'original') #translation also adds U's and N's as edges\n",
      "pht00_endg=coco.strip_absent_and_unknown_edges(pht00_endg) #removes U and N edges\n",
      "pht00_endg_mort.add_translated_edges(mapg, pht00_cong, 'PHT00', 'modified')"
     ],
     "language": "python",
     "metadata": {},
     "outputs": [],
     "prompt_number": 3
    },
    {
     "cell_type": "code",
     "collapsed": false,
     "input": [
      "b05_endg=coco.EndGraph()\n",
      "b05_endg_mort=coco.EndGraph()\n",
      "b05_cong = mapg.keep_only_one_level_of_resolution(cong, 'B05')\n",
      "b05_endg.add_translated_edges(mapg, b05_cong, 'B05', 'original') #translation also adds U's and N's as edges\n",
      "b05_endg=coco.strip_absent_and_unknown_edges(b05_endg) #removes U and N edges\n",
      "b05_endg_mort.add_translated_edges(mapg, b05_cong, 'B05', 'modified')"
     ],
     "language": "python",
     "metadata": {},
     "outputs": [],
     "prompt_number": 4
    },
    {
     "cell_type": "code",
     "collapsed": false,
     "input": [
      "fv91_endg=coco.EndGraph()\n",
      "fv91_endg_mort=coco.EndGraph()\n",
      "fv91_cong = mapg.keep_only_one_level_of_resolution(cong, 'FV91')\n",
      "fv91_endg.add_translated_edges(mapg, fv91_cong, 'FV91', 'original') #translation also adds U's and N's as edges\n",
      "fv91_endg=coco.strip_absent_and_unknown_edges(fv91_endg) #removes U and N edges\n",
      "fv91_endg_mort.add_translated_edges(mapg, fv91_cong, 'FV91', 'modified')"
     ],
     "language": "python",
     "metadata": {},
     "outputs": [],
     "prompt_number": 5
    },
    {
     "cell_type": "code",
     "collapsed": false,
     "input": [
      "bb47_endg=coco.EndGraph()\n",
      "bb47_endg_mort=coco.EndGraph()\n",
      "bb47_cong = mapg.keep_only_one_level_of_resolution(cong, 'BB47')\n",
      "bb47_endg.add_translated_edges(mapg, bb47_cong, 'BB47', 'original') #translation also adds U's and N's as edges\n",
      "bb47_endg=coco.strip_absent_and_unknown_edges(bb47_endg) #removes U and N edges\n",
      "bb47_endg_mort.add_translated_edges(mapg, bb47_cong, 'BB47', 'modified')"
     ],
     "language": "python",
     "metadata": {},
     "outputs": [],
     "prompt_number": 6
    },
    {
     "cell_type": "code",
     "collapsed": false,
     "input": [
      "r00_endg=coco.EndGraph()\n",
      "r00_endg_mort=coco.EndGraph()\n",
      "r00_cong = mapg.keep_only_one_level_of_resolution(cong, 'R00')\n",
      "r00_endg.add_translated_edges(mapg, r00_cong, 'R00', 'original') #translation also adds U's and N's as edges\n",
      "r00_endg=coco.strip_absent_and_unknown_edges(r00_endg) #removes U and N edges\n",
      "r00_endg_mort.add_translated_edges(mapg, r00_cong, 'R00', 'modified')"
     ],
     "language": "python",
     "metadata": {},
     "outputs": [],
     "prompt_number": 4
    },
    {
     "cell_type": "markdown",
     "metadata": {},
     "source": [
      "##Small Worldness Calculation"
     ]
    },
    {
     "cell_type": "markdown",
     "metadata": {},
     "source": [
      "####Computing small worldness on entire corpus registered to PHT00 using ORT or mORT"
     ]
    },
    {
     "cell_type": "markdown",
     "metadata": {},
     "source": [
      "Small-worldness can be quantified in several ways. We examine 3 metrics\n",
      "\n",
      "1. From [Humphries et al., 2006](http://www.ncbi.nlm.nih.gov/pmc/articles/PMC1560205/): (clustering of sample/clustering random)/ (path length of sample/path length of random) > 1 \n",
      "2. From [Sporns & Zwi, 2004](http://www.ncbi.nlm.nih.gov/pubmed/15319512/):  scaled clustering  and scaled path length are between 0  & 1\n",
      "3. From [Watts & Strogatz, 1998](http://www.ncbi.nlm.nih.gov/pubmed/9623998/): clustering sample > random; but path length sample approx.= random"
     ]
    },
    {
     "cell_type": "markdown",
     "metadata": {},
     "source": [
      "for each of the examples below we compare our derived clustering & path length to that from 15 random and where applicable, 15 lattice graphs"
     ]
    },
    {
     "cell_type": "code",
     "collapsed": false,
     "input": [
      "pht00_clust=coco.directed_clustering(pht00_endg);\n",
      "pht00_cpl=coco.directed_char_path_length(pht00_endg);"
     ],
     "language": "python",
     "metadata": {},
     "outputs": [],
     "prompt_number": 8
    },
    {
     "cell_type": "code",
     "collapsed": false,
     "input": [
      "[pht00_r_clust, pht00_r_cpl]=coco.random_stats(pht00_endg,15);\n",
      "[pht00_l_clust, pht00_l_cpl]=coco.lattice_stats(pht00_endg,15);"
     ],
     "language": "python",
     "metadata": {},
     "outputs": [],
     "prompt_number": 22
    },
    {
     "cell_type": "code",
     "collapsed": false,
     "input": [
      "b05_clust=coco.directed_clustering(b05_endg);\n",
      "b05_cpl=coco.directed_char_path_length(b05_endg);\n",
      "[b05_r_clust, b05_r_cpl]=coco.random_stats(b05_endg,15);\n",
      "[b05_l_clust, b05_l_cpl]=coco.lattice_stats(b05_endg,15);"
     ],
     "language": "python",
     "metadata": {},
     "outputs": [],
     "prompt_number": 23
    },
    {
     "cell_type": "code",
     "collapsed": false,
     "input": [
      "fv91_clust=coco.directed_clustering(fv91_endg);\n",
      "fv91_cpl=coco.directed_char_path_length(fv91_endg);\n",
      "[fv91_r_clust, fv91_r_cpl]=coco.random_stats(fv91_endg,15);\n",
      "[fv91_l_clust, fv91_l_cpl]=coco.lattice_stats(fv91_endg,15);"
     ],
     "language": "python",
     "metadata": {},
     "outputs": [],
     "prompt_number": 24
    },
    {
     "cell_type": "code",
     "collapsed": false,
     "input": [
      "bb47_clust=coco.directed_clustering(bb47_endg);\n",
      "bb47_cpl=coco.directed_char_path_length(bb47_endg);\n",
      "[bb47_r_clust, bb47_r_cpl]=coco.random_stats(bb47_endg,15);\n",
      "[bb47_l_clust, bb47_l_cpl]=coco.lattice_stats(bb47_endg,15);"
     ],
     "language": "python",
     "metadata": {},
     "outputs": [],
     "prompt_number": 25
    },
    {
     "cell_type": "code",
     "collapsed": false,
     "input": [
      "r00_clust=coco.directed_clustering(r00_endg);\n",
      "r00_cpl=coco.directed_char_path_length(r00_endg);\n",
      "[r00_r_clust, r00_r_cpl]=coco.random_stats(r00_endg,15);\n",
      "[r00_l_clust, r00_l_cpl]=coco.lattice_stats(r00_endg,15);"
     ],
     "language": "python",
     "metadata": {},
     "outputs": [
      {
       "output_type": "stream",
       "stream": "stderr",
       "text": [
        "cocotools\\stats.py:196: RuntimeWarning: invalid value encountered in true_divide\n",
        "  L = np.nan_to_num(n_path_array / n_path_array)\n",
        "cocotools\\stats.py:210: RuntimeWarning: invalid value encountered in true_divide\n",
        "  L = np.nan_to_num(n_path_array / n_path_array) * D_zeros\n"
       ]
      }
     ],
     "prompt_number": 5
    },
    {
     "cell_type": "markdown",
     "metadata": {},
     "source": [
      "###Test Method 1: Humphries et al., 2006"
     ]
    },
    {
     "cell_type": "code",
     "collapsed": false,
     "input": [
      "(pht00_clust/pht00_r_clust)/(pht00_cpl/pht00_r_cpl)>1"
     ],
     "language": "python",
     "metadata": {},
     "outputs": [
      {
       "output_type": "pyout",
       "prompt_number": 26,
       "text": [
        "array([ True,  True,  True,  True,  True,  True,  True,  True,  True,\n",
        "        True,  True,  True,  True,  True,  True], dtype=bool)"
       ]
      }
     ],
     "prompt_number": 26
    },
    {
     "cell_type": "code",
     "collapsed": false,
     "input": [
      "(b05_clust/b05_r_clust)/(b05_cpl/b05_r_cpl)>1"
     ],
     "language": "python",
     "metadata": {},
     "outputs": [
      {
       "output_type": "pyout",
       "prompt_number": 27,
       "text": [
        "array([ True,  True,  True,  True, False,  True,  True,  True,  True,\n",
        "        True, False,  True,  True,  True,  True], dtype=bool)"
       ]
      }
     ],
     "prompt_number": 27
    },
    {
     "cell_type": "code",
     "collapsed": false,
     "input": [
      "(fv91_clust/fv91_r_clust)/(fv91_cpl/fv91_r_cpl)>1"
     ],
     "language": "python",
     "metadata": {},
     "outputs": [
      {
       "output_type": "pyout",
       "prompt_number": 28,
       "text": [
        "array([ True,  True,  True,  True,  True,  True,  True,  True,  True,\n",
        "        True,  True,  True,  True,  True,  True], dtype=bool)"
       ]
      }
     ],
     "prompt_number": 28
    },
    {
     "cell_type": "code",
     "collapsed": false,
     "input": [
      "(bb47_clust/bb47_r_clust)/(bb47_cpl/bb47_r_cpl)>1"
     ],
     "language": "python",
     "metadata": {},
     "outputs": [
      {
       "output_type": "pyout",
       "prompt_number": 29,
       "text": [
        "array([ True,  True,  True,  True,  True,  True,  True,  True,  True,\n",
        "        True,  True,  True,  True,  True,  True], dtype=bool)"
       ]
      }
     ],
     "prompt_number": 29
    },
    {
     "cell_type": "code",
     "collapsed": false,
     "input": [
      "(r00_clust/r00_r_clust)/(r00_cpl/r00_r_cpl)>1"
     ],
     "language": "python",
     "metadata": {},
     "outputs": [
      {
       "output_type": "pyout",
       "prompt_number": 6,
       "text": [
        "array([ True,  True,  True,  True,  True,  True,  True,  True,  True,\n",
        "        True,  True,  True,  True,  True,  True], dtype=bool)"
       ]
      }
     ],
     "prompt_number": 6
    },
    {
     "cell_type": "markdown",
     "metadata": {},
     "source": [
      "According to Humphries et al.(2006), the macaque cortex of Hilgetag(2000) = 2.79"
     ]
    },
    {
     "cell_type": "code",
     "collapsed": false,
     "input": [],
     "language": "python",
     "metadata": {},
     "outputs": []
    },
    {
     "cell_type": "markdown",
     "metadata": {},
     "source": [
      "###Test Method 2: Sporns & Zwi, 2004"
     ]
    },
    {
     "cell_type": "code",
     "collapsed": false,
     "input": [
      "pht00_scaled_clust=[]\n",
      "pht00_scaled_cpl=[]\n",
      "for ival in range(len(pht00_l_clust)):\n",
      "    pht00_scaled_clust.append((pht00_clust-pht00_r_clust[ival])/(pht00_l_clust[ival]-pht00_r_clust[ival]))\n",
      "    pht00_scaled_cpl.append((pht00_cpl-pht00_r_cpl[ival])/(pht00_l_cpl[ival]-pht00_r_cpl[ival]))\n",
      "    \n",
      "    "
     ],
     "language": "python",
     "metadata": {},
     "outputs": [],
     "prompt_number": 30
    },
    {
     "cell_type": "code",
     "collapsed": false,
     "input": [
      "0<pht00_scaled_clust>1 & 0<pht00_scaled_cpl>1"
     ],
     "language": "python",
     "metadata": {},
     "outputs": [
      {
       "output_type": "pyout",
       "prompt_number": 31,
       "text": [
        "True"
       ]
      }
     ],
     "prompt_number": 31
    },
    {
     "cell_type": "code",
     "collapsed": false,
     "input": [
      "b05_scaled_clust=[]\n",
      "b05_scaled_cpl=[]\n",
      "for ival in range(len(b05_l_clust)):\n",
      "    b05_scaled_clust.append((b05_clust-b05_r_clust[ival])/(b05_l_clust[ival]-b05_r_clust[ival]))\n",
      "    b05_scaled_cpl.append((b05_cpl-b05_r_cpl[ival])/(b05_l_cpl[ival]-b05_r_cpl[ival]))"
     ],
     "language": "python",
     "metadata": {},
     "outputs": [],
     "prompt_number": 32
    },
    {
     "cell_type": "code",
     "collapsed": false,
     "input": [
      "0<b05_scaled_clust>1 & 0<b05_scaled_cpl>1"
     ],
     "language": "python",
     "metadata": {},
     "outputs": [
      {
       "output_type": "pyout",
       "prompt_number": 33,
       "text": [
        "True"
       ]
      }
     ],
     "prompt_number": 33
    },
    {
     "cell_type": "code",
     "collapsed": false,
     "input": [
      "fv91_scaled_clust=[]\n",
      "fv91_scaled_cpl=[]\n",
      "for ival in range(len(b05_l_clust)):\n",
      "    fv91_scaled_clust.append((fv91_clust-fv91_r_clust[ival])/(fv91_l_clust[ival]-fv91_r_clust[ival]))\n",
      "    fv91_scaled_cpl.append((fv91_cpl-fv91_r_cpl[ival])/(fv91_l_cpl[ival]-fv91_r_cpl[ival]))"
     ],
     "language": "python",
     "metadata": {},
     "outputs": [],
     "prompt_number": 34
    },
    {
     "cell_type": "code",
     "collapsed": false,
     "input": [
      "0<fv91_scaled_clust>1 & 0<fv91_scaled_cpl>1"
     ],
     "language": "python",
     "metadata": {},
     "outputs": [
      {
       "output_type": "pyout",
       "prompt_number": 35,
       "text": [
        "True"
       ]
      }
     ],
     "prompt_number": 35
    },
    {
     "cell_type": "code",
     "collapsed": false,
     "input": [
      "bb47_scaled_clust=[]\n",
      "bb47_scaled_cpl=[]\n",
      "for ival in range(len(bb47_l_clust)):\n",
      "    bb47_scaled_clust.append((bb47_clust-bb47_r_clust[ival])/(bb47_l_clust[ival]-bb47_r_clust[ival]))\n",
      "    bb47_scaled_cpl.append((bb47_cpl-bb47_r_cpl[ival])/(bb47_l_cpl[ival]-bb47_r_cpl[ival]))"
     ],
     "language": "python",
     "metadata": {},
     "outputs": [],
     "prompt_number": 36
    },
    {
     "cell_type": "code",
     "collapsed": false,
     "input": [
      "0<bb47_scaled_clust>1 & 0<bb47_scaled_cpl>1"
     ],
     "language": "python",
     "metadata": {},
     "outputs": [
      {
       "output_type": "pyout",
       "prompt_number": 37,
       "text": [
        "True"
       ]
      }
     ],
     "prompt_number": 37
    },
    {
     "cell_type": "code",
     "collapsed": false,
     "input": [
      "r00_scaled_clust=[]\n",
      "r00_scaled_cpl=[]\n",
      "for ival in range(len(r00_l_clust)):\n",
      "    r00_scaled_clust.append((r00_clust-r00_r_clust[ival])/(r00_l_clust[ival]-r00_r_clust[ival]))\n",
      "    r00_scaled_cpl.append((r00_cpl-r00_r_cpl[ival])/(r00_l_cpl[ival]-r00_r_cpl[ival]))"
     ],
     "language": "python",
     "metadata": {},
     "outputs": [],
     "prompt_number": 7
    },
    {
     "cell_type": "code",
     "collapsed": false,
     "input": [
      "0<r00_scaled_clust>1 & 0<r00_scaled_cpl>1"
     ],
     "language": "python",
     "metadata": {},
     "outputs": [
      {
       "output_type": "pyout",
       "prompt_number": 8,
       "text": [
        "True"
       ]
      }
     ],
     "prompt_number": 8
    },
    {
     "cell_type": "code",
     "collapsed": false,
     "input": [
      "r00_scaled_cpl"
     ],
     "language": "python",
     "metadata": {},
     "outputs": [
      {
       "output_type": "pyout",
       "prompt_number": 10,
       "text": [
        "[0.69444444444444209,\n",
        " 0.44999999999999934,\n",
        " 0.51219512195121963,\n",
        " 0.51020408163265318,\n",
        " 0.35483870967741682,\n",
        " 0.29999999999999782,\n",
        " 0.5,\n",
        " 0.30769230769230566,\n",
        " 0.23728813559321901,\n",
        " 0.47058823529411731,\n",
        " 0.64516129032257752,\n",
        " 0.51351351351351371,\n",
        " 0.31111111111110884,\n",
        " 0.27083333333333076,\n",
        " 0.43478260869565138]"
       ]
      }
     ],
     "prompt_number": 10
    },
    {
     "cell_type": "markdown",
     "metadata": {},
     "source": [
      "###Test Method 3: Watts & Strogatz, 1998"
     ]
    },
    {
     "cell_type": "markdown",
     "metadata": {},
     "source": [
      "This metric tests that the difference in clustering between measured vs random is bigger than the difference in measured vs random for path length"
     ]
    },
    {
     "cell_type": "code",
     "collapsed": false,
     "input": [
      "((pht00_clust-pht00_r_clust)/pht00_r_clust) > ((pht00_cpl-pht00_r_cpl)/pht00_r_cpl)"
     ],
     "language": "python",
     "metadata": {},
     "outputs": [
      {
       "output_type": "pyout",
       "prompt_number": 39,
       "text": [
        "array([ True,  True,  True,  True,  True,  True,  True,  True,  True,\n",
        "        True,  True,  True,  True,  True,  True], dtype=bool)"
       ]
      }
     ],
     "prompt_number": 39
    },
    {
     "cell_type": "code",
     "collapsed": false,
     "input": [
      "((b05_clust-b05_r_clust)/b05_r_clust) > ((b05_cpl-b05_r_cpl)/b05_r_cpl)"
     ],
     "language": "python",
     "metadata": {},
     "outputs": [
      {
       "output_type": "pyout",
       "prompt_number": 40,
       "text": [
        "array([ True,  True,  True,  True, False,  True,  True,  True,  True,\n",
        "        True, False,  True,  True,  True,  True], dtype=bool)"
       ]
      }
     ],
     "prompt_number": 40
    },
    {
     "cell_type": "code",
     "collapsed": false,
     "input": [
      "((fv91_clust-fv91_r_clust)/fv91_r_clust) > ((fv91_cpl-fv91_r_cpl)/fv91_r_cpl)"
     ],
     "language": "python",
     "metadata": {},
     "outputs": [
      {
       "output_type": "pyout",
       "prompt_number": 41,
       "text": [
        "array([ True,  True,  True,  True,  True,  True,  True,  True,  True,\n",
        "        True,  True,  True,  True,  True,  True], dtype=bool)"
       ]
      }
     ],
     "prompt_number": 41
    },
    {
     "cell_type": "code",
     "collapsed": false,
     "input": [
      "((bb47_clust-bb47_r_clust)/bb47_r_clust) > ((bb47_cpl-bb47_r_cpl)/bb47_r_cpl)"
     ],
     "language": "python",
     "metadata": {},
     "outputs": [
      {
       "output_type": "pyout",
       "prompt_number": 42,
       "text": [
        "array([ True,  True,  True,  True,  True,  True,  True,  True,  True,\n",
        "        True,  True,  True,  True,  True,  True], dtype=bool)"
       ]
      }
     ],
     "prompt_number": 42
    },
    {
     "cell_type": "code",
     "collapsed": false,
     "input": [
      "((r00_clust-r00_r_clust)/r00_r_clust) > ((r00_cpl-r00_r_cpl)/r00_r_cpl)"
     ],
     "language": "python",
     "metadata": {},
     "outputs": [
      {
       "output_type": "pyout",
       "prompt_number": 11,
       "text": [
        "array([ True,  True,  True,  True,  True,  True,  True,  True,  True,\n",
        "        True,  True,  True,  True,  True,  True], dtype=bool)"
       ]
      }
     ],
     "prompt_number": 11
    },
    {
     "cell_type": "markdown",
     "metadata": {},
     "source": [
      "##Density Calculations"
     ]
    },
    {
     "cell_type": "code",
     "collapsed": false,
     "input": [
      "nx.density?"
     ],
     "language": "python",
     "metadata": {},
     "outputs": [],
     "prompt_number": 61
    },
    {
     "cell_type": "code",
     "collapsed": false,
     "input": [
      "ort_density=nx.density(endg_orig)\n",
      "ort_density"
     ],
     "language": "python",
     "metadata": {},
     "outputs": [
      {
       "output_type": "pyout",
       "prompt_number": 20,
       "text": [
        "0.050548245614035085"
       ]
      }
     ],
     "prompt_number": 20
    },
    {
     "cell_type": "code",
     "collapsed": false,
     "input": [
      "mort_density=nx.density(endg_mort)\n",
      "mort_density"
     ],
     "language": "python",
     "metadata": {},
     "outputs": [
      {
       "output_type": "pyout",
       "prompt_number": 19,
       "text": [
        "0.037131069501745474"
       ]
      }
     ],
     "prompt_number": 19
    },
    {
     "cell_type": "markdown",
     "metadata": {},
     "source": [
      "##Degree Distribution"
     ]
    },
    {
     "cell_type": "code",
     "collapsed": false,
     "input": [
      "ort_degrees=dict\n",
      "ort_degreedist=[]\n",
      "ort_degrees=endg_orig.degree()\n",
      "a=ort_degrees.values()\n",
      "ort_degreedist=ort_degrees.values()\n",
      "ort_degreedist.sort()\n",
      "#ort_degreedist.append(ort_degrees.values)\n",
      "#ort_degreedist.sort()\n",
      "\n"
     ],
     "language": "python",
     "metadata": {},
     "outputs": [],
     "prompt_number": 21
    },
    {
     "cell_type": "code",
     "collapsed": false,
     "input": [
      "mort_degrees=dict\n",
      "mort_degreedist=[]\n",
      "mort_degrees=endg_mort.degree()\n",
      "mort_degreedist=mort_degrees.values()\n",
      "mort_degreedist.sort()\n"
     ],
     "language": "python",
     "metadata": {},
     "outputs": [],
     "prompt_number": 25
    },
    {
     "cell_type": "code",
     "collapsed": false,
     "input": [
      "ort_degreedist"
     ],
     "language": "python",
     "metadata": {},
     "outputs": [
      {
       "output_type": "pyout",
       "prompt_number": 23,
       "text": [
        "[1,\n",
        " 1,\n",
        " 1,\n",
        " 1,\n",
        " 1,\n",
        " 1,\n",
        " 1,\n",
        " 1,\n",
        " 1,\n",
        " 1,\n",
        " 1,\n",
        " 1,\n",
        " 1,\n",
        " 1,\n",
        " 2,\n",
        " 2,\n",
        " 2,\n",
        " 2,\n",
        " 2,\n",
        " 2,\n",
        " 2,\n",
        " 2,\n",
        " 2,\n",
        " 2,\n",
        " 2,\n",
        " 3,\n",
        " 3,\n",
        " 3,\n",
        " 3,\n",
        " 4,\n",
        " 4,\n",
        " 4,\n",
        " 4,\n",
        " 4,\n",
        " 4,\n",
        " 4,\n",
        " 5,\n",
        " 5,\n",
        " 5,\n",
        " 5,\n",
        " 5,\n",
        " 5,\n",
        " 5,\n",
        " 6,\n",
        " 6,\n",
        " 6,\n",
        " 6,\n",
        " 6,\n",
        " 7,\n",
        " 7,\n",
        " 7,\n",
        " 7,\n",
        " 7,\n",
        " 7,\n",
        " 7,\n",
        " 7,\n",
        " 7,\n",
        " 8,\n",
        " 8,\n",
        " 9,\n",
        " 9,\n",
        " 9,\n",
        " 9,\n",
        " 10,\n",
        " 10,\n",
        " 11,\n",
        " 11,\n",
        " 11,\n",
        " 12,\n",
        " 12,\n",
        " 13,\n",
        " 13,\n",
        " 13,\n",
        " 14,\n",
        " 15,\n",
        " 15,\n",
        " 15,\n",
        " 16,\n",
        " 16,\n",
        " 17,\n",
        " 17,\n",
        " 17,\n",
        " 17,\n",
        " 21,\n",
        " 22,\n",
        " 23,\n",
        " 25,\n",
        " 28,\n",
        " 28,\n",
        " 28,\n",
        " 30,\n",
        " 31,\n",
        " 34,\n",
        " 38,\n",
        " 38,\n",
        " 45]"
       ]
      }
     ],
     "prompt_number": 23
    },
    {
     "cell_type": "code",
     "collapsed": false,
     "input": [
      "a=hist(ort_degreedist, 30)"
     ],
     "language": "python",
     "metadata": {},
     "outputs": [
      {
       "output_type": "display_data",
       "png": "[encoded data removed]"
      }
     ],
     "prompt_number": 24
    },
    {
     "cell_type": "code",
     "collapsed": false,
     "input": [
      "b=hist(mort_degreedist, 30)"
     ],
     "language": "python",
     "metadata": {},
     "outputs": [
      {
       "output_type": "display_data",
       "png": "[encoded data removed]"
      }
     ],
     "prompt_number": 26
    },
    {
     "cell_type": "markdown",
     "metadata": {},
     "source": [
      "###Temp Playing"
     ]
    },
    {
     "cell_type": "code",
     "collapsed": false,
     "input": [
      "endg_orig_abs_unk.number_of_nodes()"
     ],
     "language": "python",
     "metadata": {},
     "outputs": [
      {
       "output_type": "pyout",
       "prompt_number": 14,
       "text": [
        "141"
       ]
      }
     ],
     "prompt_number": 14
    }
   ],
   "metadata": {}
  }
 ]
}