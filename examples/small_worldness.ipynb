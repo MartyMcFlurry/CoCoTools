{
 "metadata": {
  "name": "small_worldness"
 },
 "nbformat": 3,
 "nbformat_minor": 0,
 "worksheets": [
  {
   "cells": [
    {
     "cell_type": "markdown",
     "metadata": {},
     "source": [
      "#Notebook for calculating the small-world metrics used in CoCoTools JoCN method paper"
     ]
    },
    {
     "cell_type": "code",
     "collapsed": false,
     "input": [
      "import cocotools as coco\n",
      "import pickle\n",
      "import networkx as nx"
     ],
     "language": "python",
     "metadata": {},
     "outputs": []
    },
    {
     "cell_type": "code",
     "collapsed": false,
     "input": [
      "#subcort nodes for removing\n",
      "subcort={'PHT00':['AA','AHIMC', 'BM', 'BL', 'CE', 'CM' 'LA', 'ME'], 'R00' :['AMYG', 'HC']}"
     ],
     "language": "python",
     "metadata": {},
     "outputs": [],
     "prompt_number": 3
    },
    {
     "cell_type": "code",
     "collapsed": false,
     "input": [
      "mapname ='pht00'\n",
      "coconame=mapname.upper()\n",
      "end_stub_ort='..\\\\..\\\\cocoresults\\\\results\\\\graphs\\\\revision_graphs\\\\' +mapname+\"_endg_ort_revision.pck\"\n",
      "end_stub_mort='..\\\\..\\\\cocoresults\\\\results\\\\graphs\\\\revision_graphs\\\\' +mapname+\"_endg_mort_revision.pck\"\n",
      "\n",
      "endg_file_ort=open(end_stub_ort,'rb')\n",
      "pht00_endg=pickle.load(endg_file_ort)\n",
      "\n",
      "endg_file_mort=open(end_stub_mort,'rb')\n",
      "pht00_endg_mort=pickle.load(endg_file_mort)\n",
      "pht00_endg.remove_nodes_from(subcort[coconame])\n",
      "pht00_endg_mort.remove_nodes_from(subcort[coconame])"
     ],
     "language": "python",
     "metadata": {},
     "outputs": [],
     "prompt_number": 16
    },
    {
     "cell_type": "code",
     "collapsed": false,
     "input": [
      "mapname ='r00'\n",
      "coconame=mapname.upper()\n",
      "end_stub_ort='..\\\\..\\\\cocoresults\\\\results\\\\graphs\\\\revision_graphs\\\\' +mapname+\"_endg_ort_revision.pck\"\n",
      "end_stub_mort='..\\\\..\\\\cocoresults\\\\results\\\\graphs\\\\revision_graphs\\\\' +mapname+\"_endg_mort_revision.pck\"\n",
      "\n",
      "endg_file_ort=open(end_stub_ort,'rb')\n",
      "r00_endg=pickle.load(endg_file_ort)\n",
      "\n",
      "endg_file_mort=open(end_stub_mort,'rb')\n",
      "r00_endg_mort=pickle.load(endg_file_mort)\n",
      "r00_endg.remove_nodes_from(subcort[coconame])\n",
      "r00_endg_mort.remove_nodes_from(subcort[coconame])"
     ],
     "language": "python",
     "metadata": {},
     "outputs": [],
     "prompt_number": 17
    },
    {
     "cell_type": "code",
     "collapsed": false,
     "input": [
      "mapname ='fv91'\n",
      "end_stub_ort='..\\\\..\\\\cocoresults\\\\results\\\\graphs\\\\revision_graphs\\\\' +mapname+\"_endg_ort_revision.pck\"\n",
      "end_stub_mort='..\\\\..\\\\cocoresults\\\\results\\\\graphs\\\\revision_graphs\\\\' +mapname+\"_endg_mort_revision.pck\"\n",
      "\n",
      "endg_file_ort=open(end_stub_ort,'rb')\n",
      "fv91_endg=pickle.load(endg_file_ort)\n",
      "\n",
      "endg_file_mort=open(end_stub_mort,'rb')\n",
      "fv91_endg_mort=pickle.load(endg_file_mort)"
     ],
     "language": "python",
     "metadata": {},
     "outputs": [],
     "prompt_number": 18
    },
    {
     "cell_type": "code",
     "collapsed": false,
     "input": [
      "mapname ='b05'\n",
      "end_stub_ort='..\\\\..\\\\cocoresults\\\\results\\\\graphs\\\\revision_graphs\\\\' +mapname+\"_endg_ort_revision.pck\"\n",
      "end_stub_mort='..\\\\..\\\\cocoresults\\\\results\\\\graphs\\\\revision_graphs\\\\' +mapname+\"_endg_mort_revision.pck\"\n",
      "\n",
      "endg_file_ort=open(end_stub_ort,'rb')\n",
      "b05_endg=pickle.load(endg_file_ort)\n",
      "\n",
      "endg_file_mort=open(end_stub_mort,'rb')\n",
      "b05_endg_mort=pickle.load(endg_file_mort)"
     ],
     "language": "python",
     "metadata": {},
     "outputs": [],
     "prompt_number": 19
    },
    {
     "cell_type": "code",
     "collapsed": false,
     "input": [
      "mapname ='bb47'\n",
      "end_stub_ort='..\\\\..\\\\cocoresults\\\\results\\\\graphs\\\\revision_graphs\\\\' +mapname+\"_endg_ort_revision.pck\"\n",
      "end_stub_mort='..\\\\..\\\\cocoresults\\\\results\\\\graphs\\\\revision_graphs\\\\' +mapname+\"_endg_mort_revision.pck\"\n",
      "\n",
      "endg_file_ort=open(end_stub_ort,'rb')\n",
      "bb47_endg=pickle.load(endg_file_ort)\n",
      "\n",
      "endg_file_mort=open(end_stub_mort,'rb')\n",
      "bb47_endg_mort=pickle.load(endg_file_mort)"
     ],
     "language": "python",
     "metadata": {},
     "outputs": [],
     "prompt_number": 2
    },
    {
     "cell_type": "markdown",
     "metadata": {},
     "source": [
      "##Small Worldness Calculation"
     ]
    },
    {
     "cell_type": "markdown",
     "metadata": {},
     "source": [
      "####Computing small worldness on entire corpus registered to PHT00 using ORT or mORT"
     ]
    },
    {
     "cell_type": "markdown",
     "metadata": {},
     "source": [
      "Small-worldness can be quantified in several ways. We examine 3 metrics\n",
      "\n",
      "1. From [Humphries et al., 2006](http://www.ncbi.nlm.nih.gov/pmc/articles/PMC1560205/): (clustering of sample/clustering random)/ (path length of sample/path length of random) > 1 \n",
      "2. From [Sporns & Zwi, 2004](http://www.ncbi.nlm.nih.gov/pubmed/15319512/):  scaled clustering  and scaled path length are between 0  & 1\n",
      "3. From [Watts & Strogatz, 1998](http://www.ncbi.nlm.nih.gov/pubmed/9623998/): clustering sample > random; but path length sample approx.= random"
     ]
    },
    {
     "cell_type": "markdown",
     "metadata": {},
     "source": [
      "for each of the examples below we compare our derived clustering & path length to that from 15 random and where applicable, 15 lattice graphs"
     ]
    },
    {
     "cell_type": "code",
     "collapsed": false,
     "input": [
      "pht00_clust=coco.directed_clustering(pht00_endg);\n",
      "pht00_cpl=coco.directed_char_path_length(pht00_endg);"
     ],
     "language": "python",
     "metadata": {},
     "outputs": [],
     "prompt_number": 20
    },
    {
     "cell_type": "code",
     "collapsed": false,
     "input": [
      "[pht00_r_clust, pht00_r_cpl]=coco.random_stats(pht00_endg,15);\n",
      "[pht00_l_clust, pht00_l_cpl]=coco.lattice_stats(pht00_endg,15);"
     ],
     "language": "python",
     "metadata": {},
     "outputs": [],
     "prompt_number": 21
    },
    {
     "cell_type": "code",
     "collapsed": false,
     "input": [
      "b05_clust=coco.directed_clustering(b05_endg);\n",
      "b05_cpl=coco.directed_char_path_length(b05_endg);\n",
      "[b05_r_clust, b05_r_cpl]=coco.random_stats(b05_endg,15);\n",
      "[b05_l_clust, b05_l_cpl]=coco.lattice_stats(b05_endg,15);"
     ],
     "language": "python",
     "metadata": {},
     "outputs": [],
     "prompt_number": 22
    },
    {
     "cell_type": "code",
     "collapsed": false,
     "input": [
      "fv91_clust=coco.directed_clustering(fv91_endg);\n",
      "fv91_cpl=coco.directed_char_path_length(fv91_endg);\n",
      "[fv91_r_clust, fv91_r_cpl]=coco.random_stats(fv91_endg,15);\n",
      "[fv91_l_clust, fv91_l_cpl]=coco.lattice_stats(fv91_endg,15);"
     ],
     "language": "python",
     "metadata": {},
     "outputs": [],
     "prompt_number": 23
    },
    {
     "cell_type": "code",
     "collapsed": false,
     "input": [
      "bb47_clust=coco.directed_clustering(bb47_endg);\n",
      "bb47_cpl=coco.directed_char_path_length(bb47_endg);\n",
      "[bb47_r_clust, bb47_r_cpl]=coco.random_stats(bb47_endg,15);\n",
      "[bb47_l_clust, bb47_l_cpl]=coco.lattice_stats(bb47_endg,15);"
     ],
     "language": "python",
     "metadata": {},
     "outputs": [
      {
       "output_type": "stream",
       "stream": "stderr",
       "text": [
        "C:\\Python27\\lib\\site-packages\\cocotools\\stats.py:196: RuntimeWarning: invalid value encountered in true_divide\n",
        "  L = np.nan_to_num(n_path_array / n_path_array)\n",
        "C:\\Python27\\lib\\site-packages\\cocotools\\stats.py:210: RuntimeWarning: invalid value encountered in true_divide\n",
        "  L = np.nan_to_num(n_path_array / n_path_array) * D_zeros\n"
       ]
      }
     ],
     "prompt_number": 3
    },
    {
     "cell_type": "code",
     "collapsed": false,
     "input": [
      "r00_clust=coco.directed_clustering(r00_endg);\n",
      "r00_cpl=coco.directed_char_path_length(r00_endg);\n",
      "[r00_r_clust, r00_r_cpl]=coco.random_stats(r00_endg,15);\n",
      "[r00_l_clust, r00_l_cpl]=coco.lattice_stats(r00_endg,15);"
     ],
     "language": "python",
     "metadata": {},
     "outputs": [],
     "prompt_number": 24
    },
    {
     "cell_type": "markdown",
     "metadata": {},
     "source": [
      "###Test Method 1: Humphries et al., 2006"
     ]
    },
    {
     "cell_type": "code",
     "collapsed": false,
     "input": [
      "(pht00_clust/pht00_r_clust)/(pht00_cpl/pht00_r_cpl)>1"
     ],
     "language": "python",
     "metadata": {},
     "outputs": [
      {
       "output_type": "pyout",
       "prompt_number": 25,
       "text": [
        "array([ True,  True,  True,  True,  True,  True,  True,  True,  True,\n",
        "        True,  True,  True,  True,  True,  True], dtype=bool)"
       ]
      }
     ],
     "prompt_number": 25
    },
    {
     "cell_type": "code",
     "collapsed": false,
     "input": [
      "mean((pht00_clust/pht00_r_clust)/(pht00_cpl/pht00_r_cpl))"
     ],
     "language": "python",
     "metadata": {},
     "outputs": [
      {
       "output_type": "pyout",
       "prompt_number": 29,
       "text": [
        "1.653394574629895"
       ]
      }
     ],
     "prompt_number": 29
    },
    {
     "cell_type": "code",
     "collapsed": false,
     "input": [
      "(b05_clust/b05_r_clust)/(b05_cpl/b05_r_cpl)>1"
     ],
     "language": "python",
     "metadata": {},
     "outputs": [
      {
       "output_type": "pyout",
       "prompt_number": 26,
       "text": [
        "array([ True,  True,  True,  True,  True,  True,  True,  True,  True,\n",
        "        True,  True,  True,  True,  True,  True], dtype=bool)"
       ]
      }
     ],
     "prompt_number": 26
    },
    {
     "cell_type": "code",
     "collapsed": false,
     "input": [
      "mean((b05_clust/b05_r_clust)/(b05_cpl/b05_r_cpl))"
     ],
     "language": "python",
     "metadata": {},
     "outputs": [
      {
       "output_type": "pyout",
       "prompt_number": 30,
       "text": [
        "1.1129420972049402"
       ]
      }
     ],
     "prompt_number": 30
    },
    {
     "cell_type": "code",
     "collapsed": false,
     "input": [
      "(fv91_clust/fv91_r_clust)/(fv91_cpl/fv91_r_cpl)>1"
     ],
     "language": "python",
     "metadata": {},
     "outputs": [
      {
       "output_type": "pyout",
       "prompt_number": 27,
       "text": [
        "array([ True,  True,  True,  True,  True,  True,  True,  True,  True,\n",
        "        True,  True,  True,  True,  True,  True], dtype=bool)"
       ]
      }
     ],
     "prompt_number": 27
    },
    {
     "cell_type": "code",
     "collapsed": false,
     "input": [
      "mean((fv91_clust/fv91_r_clust)/(fv91_cpl/fv91_r_cpl))"
     ],
     "language": "python",
     "metadata": {},
     "outputs": [
      {
       "output_type": "pyout",
       "prompt_number": 31,
       "text": [
        "1.6799076063319649"
       ]
      }
     ],
     "prompt_number": 31
    },
    {
     "cell_type": "code",
     "collapsed": false,
     "input": [
      "(bb47_clust/bb47_r_clust)/(bb47_cpl/bb47_r_cpl)>1"
     ],
     "language": "python",
     "metadata": {},
     "outputs": [
      {
       "output_type": "pyout",
       "prompt_number": 4,
       "text": [
        "array([ True,  True,  True,  True,  True,  True,  True,  True,  True,\n",
        "        True,  True,  True,  True,  True,  True], dtype=bool)"
       ]
      }
     ],
     "prompt_number": 4
    },
    {
     "cell_type": "code",
     "collapsed": false,
     "input": [
      "mean((bb47_clust/bb47_r_clust)/(bb47_cpl/bb47_r_cpl))"
     ],
     "language": "python",
     "metadata": {},
     "outputs": [
      {
       "output_type": "pyout",
       "prompt_number": 5,
       "text": [
        "1.1972722861949494"
       ]
      }
     ],
     "prompt_number": 5
    },
    {
     "cell_type": "code",
     "collapsed": false,
     "input": [
      "(r00_clust/r00_r_clust)/(r00_cpl/r00_r_cpl)>1"
     ],
     "language": "python",
     "metadata": {},
     "outputs": [
      {
       "output_type": "pyout",
       "prompt_number": 32,
       "text": [
        "array([ True,  True,  True,  True,  True,  True,  True,  True,  True,\n",
        "        True,  True,  True,  True,  True,  True], dtype=bool)"
       ]
      }
     ],
     "prompt_number": 32
    },
    {
     "cell_type": "code",
     "collapsed": false,
     "input": [
      "mean((r00_clust/r00_r_clust)/(r00_cpl/r00_r_cpl))"
     ],
     "language": "python",
     "metadata": {},
     "outputs": [
      {
       "output_type": "pyout",
       "prompt_number": 33,
       "text": [
        "1.1119004834874999"
       ]
      }
     ],
     "prompt_number": 33
    },
    {
     "cell_type": "markdown",
     "metadata": {},
     "source": [
      "According to Humphries et al.(2006), the macaque cortex of Hilgetag(2000) = 2.79"
     ]
    },
    {
     "cell_type": "code",
     "collapsed": false,
     "input": [
      "mean((fv91_clust/fv91_r_clust)/(fv91_cpl/fv91_r_cpl))"
     ],
     "language": "python",
     "metadata": {},
     "outputs": [
      {
       "ename": "NameError",
       "evalue": "name 'fv91_clust' is not defined",
       "output_type": "pyerr",
       "traceback": [
        "\u001b[1;31m---------------------------------------------------------------------------\u001b[0m\n\u001b[1;31mNameError\u001b[0m                                 Traceback (most recent call last)",
        "\u001b[1;32m<ipython-input-7-ea0d505926eb>\u001b[0m in \u001b[0;36m<module>\u001b[1;34m()\u001b[0m\n\u001b[1;32m----> 1\u001b[1;33m \u001b[0mmean\u001b[0m\u001b[1;33m(\u001b[0m\u001b[1;33m(\u001b[0m\u001b[0mfv91_clust\u001b[0m\u001b[1;33m/\u001b[0m\u001b[0mfv91_r_clust\u001b[0m\u001b[1;33m)\u001b[0m\u001b[1;33m/\u001b[0m\u001b[1;33m(\u001b[0m\u001b[0mfv91_cpl\u001b[0m\u001b[1;33m/\u001b[0m\u001b[0mfv91_r_cpl\u001b[0m\u001b[1;33m)\u001b[0m\u001b[1;33m)\u001b[0m\u001b[1;33m\u001b[0m\u001b[0m\n\u001b[0m",
        "\u001b[1;31mNameError\u001b[0m: name 'fv91_clust' is not defined"
       ]
      }
     ],
     "prompt_number": 7
    },
    {
     "cell_type": "markdown",
     "metadata": {},
     "source": [
      "###Test Method 2: Sporns & Zwi, 2004"
     ]
    },
    {
     "cell_type": "code",
     "collapsed": false,
     "input": [
      "pht00_scaled_clust=[]\n",
      "pht00_scaled_cpl=[]\n",
      "for ival in range(len(pht00_l_clust)):\n",
      "    pht00_scaled_clust.append((pht00_clust-pht00_r_clust[ival])/(pht00_l_clust[ival]-pht00_r_clust[ival]))\n",
      "    pht00_scaled_cpl.append((pht00_cpl-pht00_r_cpl[ival])/(pht00_l_cpl[ival]-pht00_r_cpl[ival]))\n",
      "    \n",
      "    "
     ],
     "language": "python",
     "metadata": {},
     "outputs": [
      {
       "ename": "NameError",
       "evalue": "name 'pht00_l_clust' is not defined",
       "output_type": "pyerr",
       "traceback": [
        "\u001b[1;31m---------------------------------------------------------------------------\u001b[0m\n\u001b[1;31mNameError\u001b[0m                                 Traceback (most recent call last)",
        "\u001b[1;32m<ipython-input-8-04b11081775f>\u001b[0m in \u001b[0;36m<module>\u001b[1;34m()\u001b[0m\n\u001b[0;32m      1\u001b[0m \u001b[0mpht00_scaled_clust\u001b[0m\u001b[1;33m=\u001b[0m\u001b[1;33m[\u001b[0m\u001b[1;33m]\u001b[0m\u001b[1;33m\u001b[0m\u001b[0m\n\u001b[0;32m      2\u001b[0m \u001b[0mpht00_scaled_cpl\u001b[0m\u001b[1;33m=\u001b[0m\u001b[1;33m[\u001b[0m\u001b[1;33m]\u001b[0m\u001b[1;33m\u001b[0m\u001b[0m\n\u001b[1;32m----> 3\u001b[1;33m \u001b[1;32mfor\u001b[0m \u001b[0mival\u001b[0m \u001b[1;32min\u001b[0m \u001b[0mrange\u001b[0m\u001b[1;33m(\u001b[0m\u001b[0mlen\u001b[0m\u001b[1;33m(\u001b[0m\u001b[0mpht00_l_clust\u001b[0m\u001b[1;33m)\u001b[0m\u001b[1;33m)\u001b[0m\u001b[1;33m:\u001b[0m\u001b[1;33m\u001b[0m\u001b[0m\n\u001b[0m\u001b[0;32m      4\u001b[0m     \u001b[0mpht00_scaled_clust\u001b[0m\u001b[1;33m.\u001b[0m\u001b[0mappend\u001b[0m\u001b[1;33m(\u001b[0m\u001b[1;33m(\u001b[0m\u001b[0mpht00_clust\u001b[0m\u001b[1;33m-\u001b[0m\u001b[0mpht00_r_clust\u001b[0m\u001b[1;33m[\u001b[0m\u001b[0mival\u001b[0m\u001b[1;33m]\u001b[0m\u001b[1;33m)\u001b[0m\u001b[1;33m/\u001b[0m\u001b[1;33m(\u001b[0m\u001b[0mpht00_l_clust\u001b[0m\u001b[1;33m[\u001b[0m\u001b[0mival\u001b[0m\u001b[1;33m]\u001b[0m\u001b[1;33m-\u001b[0m\u001b[0mpht00_r_clust\u001b[0m\u001b[1;33m[\u001b[0m\u001b[0mival\u001b[0m\u001b[1;33m]\u001b[0m\u001b[1;33m)\u001b[0m\u001b[1;33m)\u001b[0m\u001b[1;33m\u001b[0m\u001b[0m\n\u001b[0;32m      5\u001b[0m     \u001b[0mpht00_scaled_cpl\u001b[0m\u001b[1;33m.\u001b[0m\u001b[0mappend\u001b[0m\u001b[1;33m(\u001b[0m\u001b[1;33m(\u001b[0m\u001b[0mpht00_cpl\u001b[0m\u001b[1;33m-\u001b[0m\u001b[0mpht00_r_cpl\u001b[0m\u001b[1;33m[\u001b[0m\u001b[0mival\u001b[0m\u001b[1;33m]\u001b[0m\u001b[1;33m)\u001b[0m\u001b[1;33m/\u001b[0m\u001b[1;33m(\u001b[0m\u001b[0mpht00_l_cpl\u001b[0m\u001b[1;33m[\u001b[0m\u001b[0mival\u001b[0m\u001b[1;33m]\u001b[0m\u001b[1;33m-\u001b[0m\u001b[0mpht00_r_cpl\u001b[0m\u001b[1;33m[\u001b[0m\u001b[0mival\u001b[0m\u001b[1;33m]\u001b[0m\u001b[1;33m)\u001b[0m\u001b[1;33m)\u001b[0m\u001b[1;33m\u001b[0m\u001b[0m\n",
        "\u001b[1;31mNameError\u001b[0m: name 'pht00_l_clust' is not defined"
       ]
      }
     ],
     "prompt_number": 8
    },
    {
     "cell_type": "code",
     "collapsed": false,
     "input": [
      "0<pht00_scaled_clust>1 & 0<pht00_scaled_cpl>1"
     ],
     "language": "python",
     "metadata": {},
     "outputs": [
      {
       "output_type": "pyout",
       "prompt_number": 48,
       "text": [
        "True"
       ]
      }
     ],
     "prompt_number": 48
    },
    {
     "cell_type": "code",
     "collapsed": false,
     "input": [
      "b05_scaled_clust=[]\n",
      "b05_scaled_cpl=[]\n",
      "for ival in range(len(b05_l_clust)):\n",
      "    b05_scaled_clust.append((b05_clust-b05_r_clust[ival])/(b05_l_clust[ival]-b05_r_clust[ival]))\n",
      "    b05_scaled_cpl.append((b05_cpl-b05_r_cpl[ival])/(b05_l_cpl[ival]-b05_r_cpl[ival]))"
     ],
     "language": "python",
     "metadata": {},
     "outputs": [],
     "prompt_number": 49
    },
    {
     "cell_type": "code",
     "collapsed": false,
     "input": [
      "0<b05_scaled_clust>1 & 0<b05_scaled_cpl>1"
     ],
     "language": "python",
     "metadata": {},
     "outputs": [
      {
       "output_type": "pyout",
       "prompt_number": 50,
       "text": [
        "True"
       ]
      }
     ],
     "prompt_number": 50
    },
    {
     "cell_type": "code",
     "collapsed": false,
     "input": [
      "fv91_scaled_clust=[]\n",
      "fv91_scaled_cpl=[]\n",
      "for ival in range(len(fv91_l_clust)):\n",
      "    fv91_scaled_clust.append((fv91_clust-fv91_r_clust[ival])/(fv91_l_clust[ival]-fv91_r_clust[ival]))\n",
      "    fv91_scaled_cpl.append((fv91_cpl-fv91_r_cpl[ival])/(fv91_l_cpl[ival]-fv91_r_cpl[ival]))"
     ],
     "language": "python",
     "metadata": {},
     "outputs": [],
     "prompt_number": 51
    },
    {
     "cell_type": "code",
     "collapsed": false,
     "input": [
      "0<fv91_scaled_clust>1 & 0<fv91_scaled_cpl>1"
     ],
     "language": "python",
     "metadata": {},
     "outputs": [
      {
       "output_type": "pyout",
       "prompt_number": 52,
       "text": [
        "True"
       ]
      }
     ],
     "prompt_number": 52
    },
    {
     "cell_type": "code",
     "collapsed": false,
     "input": [
      "mean(fv91_scaled_cpl)"
     ],
     "language": "python",
     "metadata": {},
     "outputs": [
      {
       "output_type": "pyout",
       "prompt_number": 53,
       "text": [
        "0.97211523067614547"
       ]
      }
     ],
     "prompt_number": 53
    },
    {
     "cell_type": "code",
     "collapsed": false,
     "input": [
      "bb47_scaled_clust=[]\n",
      "bb47_scaled_cpl=[]\n",
      "for ival in range(len(bb47_l_clust)):\n",
      "    bb47_scaled_clust.append((bb47_clust-bb47_r_clust[ival])/(bb47_l_clust[ival]-bb47_r_clust[ival]))\n",
      "    bb47_scaled_cpl.append((bb47_cpl-bb47_r_cpl[ival])/(bb47_l_cpl[ival]-bb47_r_cpl[ival]))"
     ],
     "language": "python",
     "metadata": {},
     "outputs": [],
     "prompt_number": 9
    },
    {
     "cell_type": "code",
     "collapsed": false,
     "input": [
      "(bb47_cpl-(mean(bb47_r_cpl)))/(mean(bb47_l_cpl)-mean(bb47_r_cpl))"
     ],
     "language": "python",
     "metadata": {},
     "outputs": [
      {
       "output_type": "pyout",
       "prompt_number": 10,
       "text": [
        "1.3897316219369877"
       ]
      }
     ],
     "prompt_number": 10
    },
    {
     "cell_type": "code",
     "collapsed": false,
     "input": [
      "0<mean(bb47_scaled_clust)<1"
     ],
     "language": "python",
     "metadata": {},
     "outputs": [
      {
       "output_type": "pyout",
       "prompt_number": 11,
       "text": [
        "True"
       ]
      }
     ],
     "prompt_number": 11
    },
    {
     "cell_type": "code",
     "collapsed": false,
     "input": [
      "0<mean(bb47_scaled_cpl)<1"
     ],
     "language": "python",
     "metadata": {},
     "outputs": [
      {
       "output_type": "pyout",
       "prompt_number": 12,
       "text": [
        "False"
       ]
      }
     ],
     "prompt_number": 12
    },
    {
     "cell_type": "code",
     "collapsed": false,
     "input": [
      "r00_scaled_clust=[]\n",
      "r00_scaled_cpl=[]\n",
      "for ival in range(len(r00_l_clust)):\n",
      "    r00_scaled_clust.append((r00_clust-r00_r_clust[ival])/(r00_l_clust[ival]-r00_r_clust[ival]))\n",
      "    r00_scaled_cpl.append((r00_cpl-r00_r_cpl[ival])/(r00_l_cpl[ival]-r00_r_cpl[ival]))"
     ],
     "language": "python",
     "metadata": {},
     "outputs": [],
     "prompt_number": 57
    },
    {
     "cell_type": "code",
     "collapsed": false,
     "input": [
      "0<mean(r00_scaled_clust)<1"
     ],
     "language": "python",
     "metadata": {},
     "outputs": [
      {
       "output_type": "pyout",
       "prompt_number": 46,
       "text": [
        "True"
       ]
      }
     ],
     "prompt_number": 46
    },
    {
     "cell_type": "code",
     "collapsed": false,
     "input": [
      "0<mean(r00_scaled_cpl)<1"
     ],
     "language": "python",
     "metadata": {},
     "outputs": [
      {
       "output_type": "pyout",
       "prompt_number": 47,
       "text": [
        "True"
       ]
      }
     ],
     "prompt_number": 47
    },
    {
     "cell_type": "code",
     "collapsed": false,
     "input": [
      "& 0<r00_scaled_cpl>1"
     ],
     "language": "python",
     "metadata": {},
     "outputs": []
    },
    {
     "cell_type": "code",
     "collapsed": false,
     "input": [
      "mean(r00_scaled_clust)"
     ],
     "language": "python",
     "metadata": {},
     "outputs": [
      {
       "output_type": "pyout",
       "prompt_number": 58,
       "text": [
        "0.36342418920454295"
       ]
      }
     ],
     "prompt_number": 58
    },
    {
     "cell_type": "markdown",
     "metadata": {},
     "source": [
      "###Test Method 3: Watts & Strogatz, 1998"
     ]
    },
    {
     "cell_type": "markdown",
     "metadata": {},
     "source": [
      "This metric tests that the difference in clustering between measured vs random is bigger than the difference in measured vs random for path length"
     ]
    },
    {
     "cell_type": "code",
     "collapsed": false,
     "input": [
      "((pht00_clust-pht00_r_clust)/pht00_r_clust) > ((pht00_cpl-pht00_r_cpl)/pht00_r_cpl)"
     ],
     "language": "python",
     "metadata": {},
     "outputs": [
      {
       "output_type": "pyout",
       "prompt_number": 39,
       "text": [
        "array([ True,  True,  True,  True,  True,  True,  True,  True,  True,\n",
        "        True,  True,  True,  True,  True,  True], dtype=bool)"
       ]
      }
     ],
     "prompt_number": 39
    },
    {
     "cell_type": "code",
     "collapsed": false,
     "input": [
      "((b05_clust-b05_r_clust)/b05_r_clust) > ((b05_cpl-b05_r_cpl)/b05_r_cpl)"
     ],
     "language": "python",
     "metadata": {},
     "outputs": [
      {
       "output_type": "pyout",
       "prompt_number": 40,
       "text": [
        "array([ True,  True,  True,  True, False,  True,  True,  True,  True,\n",
        "        True, False,  True,  True,  True,  True], dtype=bool)"
       ]
      }
     ],
     "prompt_number": 40
    },
    {
     "cell_type": "code",
     "collapsed": false,
     "input": [
      "((fv91_clust-fv91_r_clust)/fv91_r_clust) > ((fv91_cpl-fv91_r_cpl)/fv91_r_cpl)"
     ],
     "language": "python",
     "metadata": {},
     "outputs": [
      {
       "output_type": "pyout",
       "prompt_number": 41,
       "text": [
        "array([ True,  True,  True,  True,  True,  True,  True,  True,  True,\n",
        "        True,  True,  True,  True,  True,  True], dtype=bool)"
       ]
      }
     ],
     "prompt_number": 41
    },
    {
     "cell_type": "code",
     "collapsed": false,
     "input": [
      "((bb47_clust-bb47_r_clust)/bb47_r_clust) > ((bb47_cpl-bb47_r_cpl)/bb47_r_cpl)"
     ],
     "language": "python",
     "metadata": {},
     "outputs": [
      {
       "output_type": "pyout",
       "prompt_number": 12,
       "text": [
        "array([ True,  True,  True,  True,  True,  True,  True,  True,  True,\n",
        "        True,  True,  True,  True,  True,  True], dtype=bool)"
       ]
      }
     ],
     "prompt_number": 12
    },
    {
     "cell_type": "code",
     "collapsed": false,
     "input": [
      "((r00_clust-r00_r_clust)/r00_r_clust) > ((r00_cpl-r00_r_cpl)/r00_r_cpl)"
     ],
     "language": "python",
     "metadata": {},
     "outputs": [
      {
       "output_type": "pyout",
       "prompt_number": 11,
       "text": [
        "array([ True,  True,  True,  True,  True,  True,  True,  True,  True,\n",
        "        True,  True,  True,  True,  True,  True], dtype=bool)"
       ]
      }
     ],
     "prompt_number": 11
    },
    {
     "cell_type": "markdown",
     "metadata": {},
     "source": [
      "##Raw Values"
     ]
    },
    {
     "cell_type": "code",
     "collapsed": false,
     "input": [
      "pht00_clust, pht00_cpl, mean(pht00_scaled_clust), mean(pht00_scaled_cpl)"
     ],
     "language": "python",
     "metadata": {},
     "outputs": [
      {
       "output_type": "pyout",
       "prompt_number": 66,
       "text": [
        "(0.22935216255285792,\n",
        " 2.6738759248719406,\n",
        " 0.40204436951369538,\n",
        " 0.33395261974484036)"
       ]
      }
     ],
     "prompt_number": 66
    },
    {
     "cell_type": "code",
     "collapsed": false,
     "input": [
      "r00_clust, r00_cpl, mean(r00_scaled_clust), mean(r00_scaled_cpl)"
     ],
     "language": "python",
     "metadata": {},
     "outputs": [
      {
       "output_type": "pyout",
       "prompt_number": 67,
       "text": [
        "(0.56076685260470061,\n",
        " 1.6444444444444444,\n",
        " 0.47593672613186883,\n",
        " 0.80199391815423371)"
       ]
      }
     ],
     "prompt_number": 67
    },
    {
     "cell_type": "code",
     "collapsed": false,
     "input": [
      "fv91_clust, fv91_cpl, mean(fv91_scaled_clust), mean(fv91_scaled_cpl)"
     ],
     "language": "python",
     "metadata": {},
     "outputs": [
      {
       "output_type": "pyout",
       "prompt_number": 68,
       "text": [
        "(0.54392616316235187,\n",
        " 2.3506343713956173,\n",
        " 0.67752442091465825,\n",
        " 0.97211523067614547)"
       ]
      }
     ],
     "prompt_number": 68
    },
    {
     "cell_type": "code",
     "collapsed": false,
     "input": [
      "b05_clust, b05_cpl, mean(b05_scaled_clust), mean(b05_scaled_cpl)"
     ],
     "language": "python",
     "metadata": {},
     "outputs": [
      {
       "output_type": "pyout",
       "prompt_number": 69,
       "text": [
        "(0.5530799241388954,\n",
        " 1.6521739130434783,\n",
        " 0.63914246713942058,\n",
        " 0.87315597591754401)"
       ]
      }
     ],
     "prompt_number": 69
    },
    {
     "cell_type": "code",
     "collapsed": false,
     "input": [
      "bb47_clust, bb47_cpl, mean(bb47_scaled_clust), mean(bb47_scaled_cpl)"
     ],
     "language": "python",
     "metadata": {},
     "outputs": [
      {
       "output_type": "pyout",
       "prompt_number": 13,
       "text": [
        "(0.5796111256587464,\n",
        " 1.7926605504587156,\n",
        " 0.62904751636084233,\n",
        " 1.5122241770289833)"
       ]
      }
     ],
     "prompt_number": 13
    },
    {
     "cell_type": "code",
     "collapsed": false,
     "input": [
      "mean(pht00_r_clust),mean(pht00_r_cpl)"
     ],
     "language": "python",
     "metadata": {},
     "outputs": [
      {
       "output_type": "pyout",
       "prompt_number": 86,
       "text": [
        "(0.12927203567732851, 2.5096564388538187)"
       ]
      }
     ],
     "prompt_number": 86
    },
    {
     "cell_type": "code",
     "collapsed": false,
     "input": [
      "mean(r00_r_clust),mean(r00_r_cpl)"
     ],
     "language": "python",
     "metadata": {},
     "outputs": [
      {
       "output_type": "pyout",
       "prompt_number": 87,
       "text": [
        "(0.49995802896179042, 1.6274603174603175)"
       ]
      }
     ],
     "prompt_number": 87
    },
    {
     "cell_type": "code",
     "collapsed": false,
     "input": [
      "mean(fv91_r_clust),mean(fv91_r_cpl)"
     ],
     "language": "python",
     "metadata": {},
     "outputs": [
      {
       "output_type": "pyout",
       "prompt_number": 90,
       "text": [
        "(0.28488263070830772, 2.0883113888440521)"
       ]
      }
     ],
     "prompt_number": 90
    },
    {
     "cell_type": "code",
     "collapsed": false,
     "input": [
      "mean(b05_r_clust),mean(b05_r_cpl)"
     ],
     "language": "python",
     "metadata": {},
     "outputs": [
      {
       "output_type": "pyout",
       "prompt_number": 89,
       "text": [
        "(0.49679795253473469, 1.6380557513028073)"
       ]
      }
     ],
     "prompt_number": 89
    },
    {
     "cell_type": "code",
     "collapsed": false,
     "input": [
      "mean(bb47_r_clust),mean(bb47_r_cpl)"
     ],
     "language": "python",
     "metadata": {},
     "outputs": [
      {
       "output_type": "pyout",
       "prompt_number": 91,
       "text": [
        "(0.46238707062646134, 1.7194495412844035)"
       ]
      }
     ],
     "prompt_number": 91
    },
    {
     "cell_type": "code",
     "collapsed": false,
     "input": [],
     "language": "python",
     "metadata": {},
     "outputs": []
    },
    {
     "cell_type": "markdown",
     "metadata": {},
     "source": [
      "##Degree Distribution"
     ]
    },
    {
     "cell_type": "code",
     "collapsed": false,
     "input": [
      "ort_degrees=dict\n",
      "ort_degreedist=[]\n",
      "ort_degrees=endg_orig.degree()\n",
      "a=ort_degrees.values()\n",
      "ort_degreedist=ort_degrees.values()\n",
      "ort_degreedist.sort()\n",
      "#ort_degreedist.append(ort_degrees.values)\n",
      "#ort_degreedist.sort()\n",
      "\n"
     ],
     "language": "python",
     "metadata": {},
     "outputs": [],
     "prompt_number": 21
    },
    {
     "cell_type": "code",
     "collapsed": false,
     "input": [
      "mort_degrees=dict\n",
      "mort_degreedist=[]\n",
      "mort_degrees=endg_mort.degree()\n",
      "mort_degreedist=mort_degrees.values()\n",
      "mort_degreedist.sort()\n"
     ],
     "language": "python",
     "metadata": {},
     "outputs": [],
     "prompt_number": 25
    },
    {
     "cell_type": "code",
     "collapsed": false,
     "input": [
      "ort_degreedist"
     ],
     "language": "python",
     "metadata": {},
     "outputs": [
      {
       "output_type": "pyout",
       "prompt_number": 23,
       "text": [
        "[1,\n",
        " 1,\n",
        " 1,\n",
        " 1,\n",
        " 1,\n",
        " 1,\n",
        " 1,\n",
        " 1,\n",
        " 1,\n",
        " 1,\n",
        " 1,\n",
        " 1,\n",
        " 1,\n",
        " 1,\n",
        " 2,\n",
        " 2,\n",
        " 2,\n",
        " 2,\n",
        " 2,\n",
        " 2,\n",
        " 2,\n",
        " 2,\n",
        " 2,\n",
        " 2,\n",
        " 2,\n",
        " 3,\n",
        " 3,\n",
        " 3,\n",
        " 3,\n",
        " 4,\n",
        " 4,\n",
        " 4,\n",
        " 4,\n",
        " 4,\n",
        " 4,\n",
        " 4,\n",
        " 5,\n",
        " 5,\n",
        " 5,\n",
        " 5,\n",
        " 5,\n",
        " 5,\n",
        " 5,\n",
        " 6,\n",
        " 6,\n",
        " 6,\n",
        " 6,\n",
        " 6,\n",
        " 7,\n",
        " 7,\n",
        " 7,\n",
        " 7,\n",
        " 7,\n",
        " 7,\n",
        " 7,\n",
        " 7,\n",
        " 7,\n",
        " 8,\n",
        " 8,\n",
        " 9,\n",
        " 9,\n",
        " 9,\n",
        " 9,\n",
        " 10,\n",
        " 10,\n",
        " 11,\n",
        " 11,\n",
        " 11,\n",
        " 12,\n",
        " 12,\n",
        " 13,\n",
        " 13,\n",
        " 13,\n",
        " 14,\n",
        " 15,\n",
        " 15,\n",
        " 15,\n",
        " 16,\n",
        " 16,\n",
        " 17,\n",
        " 17,\n",
        " 17,\n",
        " 17,\n",
        " 21,\n",
        " 22,\n",
        " 23,\n",
        " 25,\n",
        " 28,\n",
        " 28,\n",
        " 28,\n",
        " 30,\n",
        " 31,\n",
        " 34,\n",
        " 38,\n",
        " 38,\n",
        " 45]"
       ]
      }
     ],
     "prompt_number": 23
    },
    {
     "cell_type": "code",
     "collapsed": false,
     "input": [
      "a=hist(ort_degreedist, 30)"
     ],
     "language": "python",
     "metadata": {},
     "outputs": [
      {
       "output_type": "display_data",
       "png": "[encoded data removed]"
      }
     ],
     "prompt_number": 24
    },
    {
     "cell_type": "code",
     "collapsed": false,
     "input": [
      "b=hist(mort_degreedist, 30)"
     ],
     "language": "python",
     "metadata": {},
     "outputs": [
      {
       "output_type": "display_data",
       "png": "[encoded data removed]"
      }
     ],
     "prompt_number": 26
    },
    {
     "cell_type": "markdown",
     "metadata": {},
     "source": [
      "###Temp Playing"
     ]
    },
    {
     "cell_type": "code",
     "collapsed": false,
     "input": [
      "endg_orig_abs_unk.number_of_nodes()"
     ],
     "language": "python",
     "metadata": {},
     "outputs": [
      {
       "output_type": "pyout",
       "prompt_number": 14,
       "text": [
        "141"
       ]
      }
     ],
     "prompt_number": 14
    }
   ],
   "metadata": {}
  }
 ]
}