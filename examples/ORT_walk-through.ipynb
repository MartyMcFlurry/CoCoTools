{
 "metadata": {
  "name": "ORT_walk-through"
 },
 "nbformat": 3,
 "nbformat_minor": 0,
 "worksheets": [
  {
   "cells": [
    {
     "cell_type": "code",
     "collapsed": false,
     "input": [
      "#Import modules\n",
      "import cocotools as coco\n",
      "import networkx as nx\n",
      "import numpy as np\n",
      "import pickle\n",
      "import matplotlib.pyplot as plt\n",
      "import os"
     ],
     "language": "python",
     "metadata": {},
     "outputs": [],
     "prompt_number": 1
    },
    {
     "cell_type": "code",
     "collapsed": false,
     "input": [
      "pwd"
     ],
     "language": "python",
     "metadata": {},
     "outputs": [
      {
       "output_type": "pyout",
       "prompt_number": 2,
       "text": [
        "u'C:\\\\Users\\\\Robert\\\\cocomac\\\\cocomac-tools\\\\examples'"
       ]
      }
     ],
     "prompt_number": 2
    },
    {
     "cell_type": "code",
     "collapsed": false,
     "input": [
      "os.chdir(\"..\\\\cocotools\") # change to reflect your path\n",
      "import add_translated_edge"
     ],
     "language": "python",
     "metadata": {},
     "outputs": [],
     "prompt_number": 3
    },
    {
     "cell_type": "code",
     "collapsed": false,
     "input": [
      "mapname='bb47'\n",
      "mapstub='C:\\\\Users\\Robert\\\\cocomac\\\\cocoresults\\\\results\\\\graphs\\\\revision_graphs\\\\' +mapname+\"_post_deduce_mapg.pck\"\n",
      "constub='C:\\\\Users\\Robert\\\\cocomac\\\\cocoresults\\\\results\\\\graphs\\\\revision_graphs\\\\' +mapname+\"_post_deduce_cong.pck\"\n",
      "mapfile=open(mapstub, 'rb')\n",
      "confile=open(constub, 'rb')\n",
      "mapg=pickle.load(mapfile)\n",
      "cong=pickle.load(confile)\n",
      "coconame=mapname.upper()\n",
      "\n",
      "\n",
      "endg_ort=coco.EndGraph()\n",
      "endg_mort=coco.EndGraph()\n",
      "endg_ort.add_translated_edges(mapg, cong, coconame, 'original')\n",
      "#endg=coco.strip_absent_and_unknown_edges(endg)\n",
      "endg_mort.add_translated_edges(mapg, cong, coconame, 'modified')\n",
      "#endg_mort=coco.strip_absent_and_unknown_edges(endg_mort)"
     ],
     "language": "python",
     "metadata": {},
     "outputs": [],
     "prompt_number": 4
    },
    {
     "cell_type": "markdown",
     "metadata": {},
     "source": [
      "#solution for strip absent and unknown"
     ]
    },
    {
     "cell_type": "code",
     "collapsed": false,
     "input": [
      "end=endg_ort\n",
      "g = coco.EndGraph()\n",
      "g.add_nodes_from(end.nodes())\n",
      "h = coco.EndGraph()\n",
      "h.add_nodes_from(end.nodes())\n",
      "for source, target in end.edges_iter():\n",
      "        if end[source][target].has_key('Connection'):\n",
      "            if end[source][target]['Connection'] in ('Present', 'Absent'):\n",
      "                g.add_edge(source, target, end[source][target])\n",
      "        else:\n",
      "            source_ec = end[source][target]['EC_Source']\n",
      "            target_ec = end[source][target]['EC_Target']\n",
      "            ns = ('N', 'Nc', 'Np', 'Nx', 'Up', 'Ux', 'U')\n",
      "            if source_ec not in ns and target_ec not in ns:\n",
      "                g.add_edge(source, target, end[source][target])\n",
      "\n",
      "                \n",
      "end_s_ort=g\n"
     ],
     "language": "python",
     "metadata": {},
     "outputs": [],
     "prompt_number": 11
    },
    {
     "cell_type": "code",
     "collapsed": false,
     "input": [
      "end=endg_mort\n",
      "g = coco.EndGraph()\n",
      "g.add_nodes_from(end.nodes())\n",
      "for source, target in end.edges_iter():\n",
      "        if end[source][target].has_key('Connection'):\n",
      "            if end[source][target]['Connection'] in ('Present', 'Absent'):\n",
      "                g.add_edge(source, target, end[source][target])\n",
      "        else:\n",
      "            source_ec = end[source][target]['EC_Source']\n",
      "            target_ec = end[source][target]['EC_Target']\n",
      "            ns = ('N', 'Nc', 'Np', 'Nx', 'Up', 'Ux', 'U')\n",
      "            if source_ec not in ns and target_ec not in ns:\n",
      "                g.add_edge(source, target, end[source][target])\n",
      "\n",
      "                \n",
      "end_s_mort=g"
     ],
     "language": "python",
     "metadata": {},
     "outputs": [],
     "prompt_number": 12
    },
    {
     "cell_type": "markdown",
     "metadata": {},
     "source": [
      "#Making adjacency matrices and diff. adj. matrix"
     ]
    },
    {
     "cell_type": "code",
     "collapsed": false,
     "input": [
      "ort_matrix=nx.to_numpy_matrix(end_s_ort)\n",
      "mort_matrix=nx.to_numpy_matrix(end_s_mort)\n",
      "diff_matrix= mort_matrix - ort_matrix\n",
      "        "
     ],
     "language": "python",
     "metadata": {},
     "outputs": [],
     "prompt_number": 7
    },
    {
     "cell_type": "code",
     "collapsed": false,
     "input": [
      "diff_cases=np.where(diff_matrix !=0)\n",
      "diff_cases"
     ],
     "language": "python",
     "metadata": {},
     "outputs": [
      {
       "output_type": "pyout",
       "prompt_number": 8,
       "text": [
        "(matrix([[ 5,  5, 34]]), matrix([[4, 6, 6]]))"
       ]
      }
     ],
     "prompt_number": 8
    },
    {
     "cell_type": "markdown",
     "metadata": {},
     "source": [
      "#Identify problem case"
     ]
    },
    {
     "cell_type": "markdown",
     "metadata": {},
     "source": [
      "Find the divergences cases with a small number of input_edges"
     ]
    },
    {
     "cell_type": "code",
     "collapsed": false,
     "input": [
      "#I put in coordinates by hand\n",
      "#('OB', 'FD')\n",
      "source_i=diff_cases[0][0,2]\n",
      "target_i=diff_cases[1][0,2]\n",
      "#source_i=diff_cases[0][0,1]\n",
      "#target_i=diff_cases[1][0,1]\n",
      "\n",
      "source=endg_ort.nodes()[source_i]\n",
      "target=endg_ort.nodes()[target_i]\n",
      "source_i, target_i"
     ],
     "language": "python",
     "metadata": {},
     "outputs": [
      {
       "output_type": "pyout",
       "prompt_number": 13,
       "text": [
        "(34, 6)"
       ]
      }
     ],
     "prompt_number": 13
    },
    {
     "cell_type": "code",
     "collapsed": false,
     "input": [
      "source, target"
     ],
     "language": "python",
     "metadata": {},
     "outputs": [
      {
       "output_type": "pyout",
       "prompt_number": 14,
       "text": [
        "('OB', 'FD')"
       ]
      }
     ],
     "prompt_number": 14
    },
    {
     "cell_type": "code",
     "collapsed": false,
     "input": [
      "[endg_mort[source][target], endg_ort[source][target]]"
     ],
     "language": "python",
     "metadata": {},
     "outputs": [
      {
       "output_type": "pyout",
       "prompt_number": 15,
       "text": [
        "[{'Connection': 'Unknown', 'PDC': 9.4264705882352935},\n",
        " {'EC_Source': 'P', 'EC_Target': 'X', 'PDC': 9.4264705882352935}]"
       ]
      }
     ],
     "prompt_number": 15
    },
    {
     "cell_type": "markdown",
     "metadata": {},
     "source": [
      "##Determine which edges contributed to divergence"
     ]
    },
    {
     "cell_type": "markdown",
     "metadata": {},
     "source": [
      "##Determine input edge"
     ]
    },
    {
     "cell_type": "markdown",
     "metadata": {},
     "source": [
      "###find all mapgraph neighbors of source and target region"
     ]
    },
    {
     "cell_type": "code",
     "collapsed": false,
     "input": [
      "prefix_source=coconame +\"-\"+source\n",
      "prefix_target=coconame +\"-\"+target\n",
      "\n",
      "A=mapg.neighbors(prefix_source)\n",
      "B=mapg.neighbors(prefix_target)\n",
      "A.append(prefix_source)\n",
      "B.append(prefix_target)"
     ],
     "language": "python",
     "metadata": {},
     "outputs": [],
     "prompt_number": 16
    },
    {
     "cell_type": "markdown",
     "metadata": {},
     "source": [
      "###find all anatomical connections between all these neighbors"
     ]
    },
    {
     "cell_type": "code",
     "collapsed": false,
     "input": [
      "projs=[e for e in cong.edges() if (e[0] in A) and (e[1] in B)]\n",
      "projs"
     ],
     "language": "python",
     "metadata": {},
     "outputs": [
      {
       "output_type": "pyout",
       "prompt_number": 17,
       "text": [
        "[('B88-V2', 'B88-32'),\n",
        " ('B88-V2', 'B88-12L'),\n",
        " ('B88-V2', 'B88-12O'),\n",
        " ('B88-V2', 'B88-11')]"
       ]
      }
     ],
     "prompt_number": 17
    },
    {
     "cell_type": "code",
     "collapsed": false,
     "input": [
      "cong['B88-V2']['B88-32']"
     ],
     "language": "python",
     "metadata": {},
     "outputs": [
      {
       "output_type": "pyout",
       "prompt_number": 149,
       "text": [
        "{'Connection': 'Present',\n",
        " 'Degree': 'X',\n",
        " 'EC_Source': 'P',\n",
        " 'EC_Target': 'X',\n",
        " 'PDC_Density': 18,\n",
        " 'PDC_EC_Source': 0,\n",
        " 'PDC_EC_Target': 18,\n",
        " 'PDC_Site_Source': 0,\n",
        " 'PDC_Site_Target': 0}"
       ]
      }
     ],
     "prompt_number": 149
    },
    {
     "cell_type": "code",
     "collapsed": false,
     "input": [
      "ecs=[]\n",
      "rcs=[] #(rc:(source,a), rc: (target,b))  \n",
      "connect=[]\n",
      "for x,y in projs:\n",
      "    ecs.append((cong[x][y]['EC_Source'], cong[x][y]['EC_Target']))\n",
      "    rcs.append((mapg[x][prefix_source]['RC'], mapg[y][prefix_target]['RC']))\n",
      "    connect.append(cong[x][y]['Connection'])\n"
     ],
     "language": "python",
     "metadata": {},
     "outputs": [],
     "prompt_number": 147
    },
    {
     "cell_type": "code",
     "collapsed": false,
     "input": [
      "connect"
     ],
     "language": "python",
     "metadata": {},
     "outputs": [
      {
       "output_type": "pyout",
       "prompt_number": 19,
       "text": [
        "['Present', 'Unknown', 'Unknown', 'Unknown']"
       ]
      }
     ],
     "prompt_number": 19
    },
    {
     "cell_type": "code",
     "collapsed": false,
     "input": [
      "ecs"
     ],
     "language": "python",
     "metadata": {},
     "outputs": [
      {
       "output_type": "pyout",
       "prompt_number": 25,
       "text": [
        "[('P', 'X'), ('N', 'X'), ('N', 'X'), ('N', 'X')]"
       ]
      }
     ],
     "prompt_number": 25
    },
    {
     "cell_type": "code",
     "collapsed": false,
     "input": [
      "rcs"
     ],
     "language": "python",
     "metadata": {},
     "outputs": [
      {
       "output_type": "pyout",
       "prompt_number": 26,
       "text": [
        "[('I', 'O'), ('I', 'S'), ('I', 'S'), ('I', 'S')]"
       ]
      }
     ],
     "prompt_number": 26
    },
    {
     "cell_type": "markdown",
     "metadata": {},
     "source": [
      "Since *present* connections will contribute to the divergence, the first ec pairing ('P', 'X') is the connection we should explore "
     ]
    },
    {
     "cell_type": "markdown",
     "metadata": {},
     "source": [
      "#Now backsolve ORT"
     ]
    },
    {
     "cell_type": "markdown",
     "metadata": {},
     "source": [
      "##1) Specify input edge"
     ]
    },
    {
     "cell_type": "markdown",
     "metadata": {},
     "source": [
      "select the connection above and explore why this contributed to divergence"
     ]
    },
    {
     "cell_type": "code",
     "collapsed": false,
     "input": [
      "input_source, input_target=projs[0]# chosen by hand: this is the only edge that could cause a 'P' as source EC in ORT\n",
      "input_source, input_target"
     ],
     "language": "python",
     "metadata": {},
     "outputs": [
      {
       "output_type": "pyout",
       "prompt_number": 24,
       "text": [
        "('B88-V2', 'B88-32')"
       ]
      }
     ],
     "prompt_number": 24
    },
    {
     "cell_type": "markdown",
     "metadata": {},
     "source": [
      "##2) Areas in output map with RCs to input edge's source"
     ]
    },
    {
     "cell_type": "code",
     "collapsed": false,
     "input": [
      "output_sources=[e for e in mapg.edges() if (e[0] ==input_source) and (e[1].split('-')[0] == coconame)]\n",
      "output_sources"
     ],
     "language": "python",
     "metadata": {},
     "outputs": [
      {
       "output_type": "pyout",
       "prompt_number": 27,
       "text": [
        "[('B88-V2', 'BB47-OB')]"
       ]
      }
     ],
     "prompt_number": 27
    },
    {
     "cell_type": "markdown",
     "metadata": {},
     "source": [
      "##3) Areas in output map with RC to input edge's target"
     ]
    },
    {
     "cell_type": "code",
     "collapsed": false,
     "input": [
      "output_targets=[e for e in mapg.edges() if (e[0] ==input_target) and (e[1].split('-')[0] == coconame)]\n",
      "output_targets"
     ],
     "language": "python",
     "metadata": {},
     "outputs": [
      {
       "output_type": "pyout",
       "prompt_number": 36,
       "text": [
        "[('B88-32', 'BB47-FD'), ('B88-32', 'BB47-FC')]"
       ]
      }
     ],
     "prompt_number": 36
    },
    {
     "cell_type": "markdown",
     "metadata": {},
     "source": [
      "##4) Areas in input map with RC's to output edge's source"
     ]
    },
    {
     "cell_type": "code",
     "collapsed": false,
     "input": [
      "input_sources=[]\n",
      "input_rcs=[]\n",
      "for ival in range(len(output_sources)):\n",
      "    input_sources.append([e for e in mapg.edges() if (e[1] ==output_sources[ival][1]) and (e[0].split('-')[0]==output_sources[ival][0].split('-')[0])])"
     ],
     "language": "python",
     "metadata": {},
     "outputs": [],
     "prompt_number": 37
    },
    {
     "cell_type": "code",
     "collapsed": false,
     "input": [
      "#make this a more elegant for loop later and combine with above\n",
      "input_source_rcs=[]\n",
      "for ival in range(len(input_sources[0])):\n",
      "    input_source_rcs.append(mapg[input_sources[0][ival][0]][input_sources[0][ival][1]]['RC'])"
     ],
     "language": "python",
     "metadata": {},
     "outputs": [],
     "prompt_number": 38
    },
    {
     "cell_type": "code",
     "collapsed": false,
     "input": [
      "input_sources"
     ],
     "language": "python",
     "metadata": {},
     "outputs": [
      {
       "output_type": "pyout",
       "prompt_number": 39,
       "text": [
        "[[('B88-V2', 'BB47-OB')]]"
       ]
      }
     ],
     "prompt_number": 39
    },
    {
     "cell_type": "code",
     "collapsed": false,
     "input": [
      "input_source_rcs"
     ],
     "language": "python",
     "metadata": {},
     "outputs": [
      {
       "output_type": "pyout",
       "prompt_number": 40,
       "text": [
        "['I']"
       ]
      }
     ],
     "prompt_number": 40
    },
    {
     "cell_type": "markdown",
     "metadata": {},
     "source": [
      "##5) Areas in input map with RC's to output edge's target"
     ]
    },
    {
     "cell_type": "code",
     "collapsed": false,
     "input": [
      "#ival=range(len(output_targets))\n",
      "input_targets=[]\n",
      "for ival in range(len(output_targets)):\n",
      "    input_targets.append([e for e in mapg.edges() if (e[1] ==output_targets[ival][1]) and (e[0].split('-')[0]==output_targets[ival][0].split('-')[0])])"
     ],
     "language": "python",
     "metadata": {},
     "outputs": [],
     "prompt_number": 41
    },
    {
     "cell_type": "code",
     "collapsed": false,
     "input": [
      "#make this a more elegant for loop later and combine with above --> still broken\n",
      "input_target_rcs=[]\n",
      "for jval in range(len(input_targets)):\n",
      "    for ival in range(len(input_targets[jval])):\n",
      "        input_target_rcs.append(mapg[input_targets[jval][ival][0]][input_targets[jval][ival][1]]['RC'])"
     ],
     "language": "python",
     "metadata": {},
     "outputs": [],
     "prompt_number": 42
    },
    {
     "cell_type": "code",
     "collapsed": false,
     "input": [
      "input_targets"
     ],
     "language": "python",
     "metadata": {},
     "outputs": [
      {
       "output_type": "pyout",
       "prompt_number": 45,
       "text": [
        "[[('B88-32', 'BB47-FD'),\n",
        "  ('B88-12L', 'BB47-FD'),\n",
        "  ('B88-12O', 'BB47-FD'),\n",
        "  ('B88-8D', 'BB47-FD'),\n",
        "  ('B88-8B', 'BB47-FD'),\n",
        "  ('B88-9', 'BB47-FD'),\n",
        "  ('B88-10', 'BB47-FD'),\n",
        "  ('B88-11', 'BB47-FD')],\n",
        " [('B88-32', 'BB47-FC')]]"
       ]
      }
     ],
     "prompt_number": 45
    },
    {
     "cell_type": "code",
     "collapsed": false,
     "input": [
      "input_target_rcs"
     ],
     "language": "python",
     "metadata": {},
     "outputs": [
      {
       "output_type": "pyout",
       "prompt_number": 46,
       "text": [
        "['O', 'S', 'S', 'S', 'S', 'S', 'S', 'S', 'O']"
       ]
      }
     ],
     "prompt_number": 46
    },
    {
     "cell_type": "markdown",
     "metadata": {},
     "source": [
      "##6) Gather and reduce source and target ECs of input areas"
     ]
    },
    {
     "cell_type": "code",
     "collapsed": false,
     "input": [
      "#this example has 2 input_sources and 5 input_targets\n",
      "x= 0#source input iterator\n",
      "y= 0# target input iterator1\n",
      "yy= 7 #target input iterator 2\n",
      "(input_sources[0][x][0], input_targets[y][yy][0])"
     ],
     "language": "python",
     "metadata": {},
     "outputs": [
      {
       "output_type": "pyout",
       "prompt_number": 140,
       "text": [
        "('B88-V2', 'B88-11')"
       ]
      }
     ],
     "prompt_number": 140
    },
    {
     "cell_type": "code",
     "collapsed": false,
     "input": [
      "try:\n",
      "    cong[input_sources[0][x][0]][input_targets[y][yy][0]]\n",
      "except KeyError:\n",
      "    input_source_ec='U'\n",
      "    input_target_ec='U'\n",
      "    input_connection ='Unknown'\n",
      "else:\n",
      "    input_source_ec=cong[input_sources[0][x][0]][input_targets[y][yy][0]]['EC_Source']\n",
      "    input_target_ec=cong[input_sources[0][x][0]][input_targets[y][yy][0]]['EC_Target']\n",
      "    input_connect=cong[input_sources[0][x][0]][input_targets[y][yy][0]]['Connection']                \n",
      "\n",
      "(input_sources[0][x][0], input_targets[y][yy][0])"
     ],
     "language": "python",
     "metadata": {},
     "outputs": [
      {
       "output_type": "pyout",
       "prompt_number": 141,
       "text": [
        "('B88-V2', 'B88-11')"
       ]
      }
     ],
     "prompt_number": 141
    },
    {
     "cell_type": "code",
     "collapsed": false,
     "input": [
      "input_source_ec"
     ],
     "language": "python",
     "metadata": {},
     "outputs": [
      {
       "output_type": "pyout",
       "prompt_number": 142,
       "text": [
        "'N'"
       ]
      }
     ],
     "prompt_number": 142
    },
    {
     "cell_type": "code",
     "collapsed": false,
     "input": [
      "input_target_ec"
     ],
     "language": "python",
     "metadata": {},
     "outputs": [
      {
       "output_type": "pyout",
       "prompt_number": 143,
       "text": [
        "'X'"
       ]
      }
     ],
     "prompt_number": 143
    },
    {
     "cell_type": "code",
     "collapsed": false,
     "input": [
      "input_connect"
     ],
     "language": "python",
     "metadata": {},
     "outputs": [
      {
       "output_type": "pyout",
       "prompt_number": 130,
       "text": [
        "'Unknown'"
       ]
      }
     ],
     "prompt_number": 130
    },
    {
     "cell_type": "code",
     "collapsed": false,
     "input": [
      "input_source_ec=['P']\n",
      "input_target_ec= ['X', 'X', 'X', 'U', 'U', 'U', 'U', 'X']"
     ],
     "language": "python",
     "metadata": {},
     "outputs": [],
     "prompt_number": 131
    },
    {
     "cell_type": "code",
     "collapsed": false,
     "input": [
      "input_target_rcs[:8]"
     ],
     "language": "python",
     "metadata": {},
     "outputs": [
      {
       "output_type": "pyout",
       "prompt_number": 144,
       "text": [
        "['O', 'S', 'S', 'S', 'S', 'S', 'S', 'S']"
       ]
      }
     ],
     "prompt_number": 144
    },
    {
     "cell_type": "markdown",
     "metadata": {},
     "source": [
      "\n",
      "##7) Apply at_logic"
     ]
    },
    {
     "cell_type": "markdown",
     "metadata": {},
     "source": [
      "\n",
      "###source side first"
     ]
    },
    {
     "cell_type": "code",
     "collapsed": false,
     "input": [
      "input_source_rcs, input_source_ec"
     ],
     "language": "python",
     "metadata": {},
     "outputs": [
      {
       "output_type": "pyout",
       "prompt_number": 284,
       "text": [
        "(['I'], ['P'])"
       ]
      }
     ],
     "prompt_number": 284
    },
    {
     "cell_type": "code",
     "collapsed": false,
     "input": [
      "ort_test=coco.EndGraph()\n",
      "rcs= input_source_rcs\n",
      "ecs= input_source_ec\n",
      "ort_test._at_logic(ecs, rcs)"
     ],
     "language": "python",
     "metadata": {},
     "outputs": [
      {
       "output_type": "pyout",
       "prompt_number": 285,
       "text": [
        "'P'"
       ]
      }
     ],
     "prompt_number": 285
    },
    {
     "cell_type": "markdown",
     "metadata": {},
     "source": [
      "\n",
      "###now target side"
     ]
    },
    {
     "cell_type": "code",
     "collapsed": false,
     "input": [
      "input_target_rcs, input_target_ec"
     ],
     "language": "python",
     "metadata": {},
     "outputs": [
      {
       "output_type": "pyout",
       "prompt_number": 286,
       "text": [
        "(['O', 'S', 'S', 'S', 'S', 'S', 'S', 'S', 'O'],\n",
        " ['X', 'X', 'X', 'U', 'U', 'U', 'U', 'X'])"
       ]
      }
     ],
     "prompt_number": 286
    },
    {
     "cell_type": "code",
     "collapsed": false,
     "input": [
      "ort_test=coco.EndGraph()\n",
      "rcs= input_target_rcs[:8]\n",
      "ecs= input_target_ec\n",
      "ort_test._at_logic(ecs, rcs)"
     ],
     "language": "python",
     "metadata": {},
     "outputs": [
      {
       "output_type": "pyout",
       "prompt_number": 287,
       "text": [
        "'X'"
       ]
      }
     ],
     "prompt_number": 287
    },
    {
     "cell_type": "markdown",
     "metadata": {},
     "source": [
      "Summarizing: Working by hand, we found that ORT produces EC[P,X] for BB47-OB to BB47-FD. This is a mistranslation because logically, no one edge in all of our inputs contained sufficient information to lead to a present connection"
     ]
    },
    {
     "cell_type": "code",
     "collapsed": false,
     "input": [
      "input_edges=[]\n",
      "for ival in range(len(projs)):\n",
      "    input_edges.append([projs[ival]])\n",
      "    \n",
      "print input_edges"
     ],
     "language": "python",
     "metadata": {},
     "outputs": [
      {
       "output_type": "stream",
       "stream": "stdout",
       "text": [
        "[[('B09-18', 'VP87-32')], [('B88-V2', 'B88-32')], [('B88-V2', 'B88-12L')], [('B88-V2', 'B88-12O')], [('B88-V2', 'B88-11')]]\n"
       ]
      }
     ],
     "prompt_number": 194
    },
    {
     "cell_type": "code",
     "collapsed": false,
     "input": [
      "empty_end=coco.EndGraph()\n",
      "input_edge =input_edges[1]\n",
      "endgname=empty_end\n",
      "add_translated_edge.add_translated_edge(endgname, mapg, cong, 'BB47', 'original', input_edge)\n",
      "empty_end[source][target]"
     ],
     "language": "python",
     "metadata": {},
     "outputs": [
      {
       "output_type": "pyout",
       "prompt_number": 288,
       "text": [
        "{'EC_Source': 'P', 'EC_Target': 'X', 'PDC': 9.4264705882352935}"
       ]
      }
     ],
     "prompt_number": 288
    },
    {
     "cell_type": "code",
     "collapsed": false,
     "input": [
      "empty_end=coco.EndGraph()\n",
      "orig_s_ecs = {'B88-V2': 'P'}\n",
      "orig_t_ecs= {'B88-32':'X', 'B88-12L':'X', 'B88-8D':'X', 'B88-8B':'U', 'B88-9':'U', 'B88-10':'U', 'B88-11':'X'}\n",
      "original_sources= (['B88-V2'])\n",
      "original_targets=['B88-32', 'B88-12L', 'B88-8D', 'B88-8B', 'B88-9', 'B88-10', 'B88-11']\n",
      "s,t,=empty_end._take_most_extensive_ec(orig_s_ecs, original_sources, orig_t_ecs, original_targets)"
     ],
     "language": "python",
     "metadata": {},
     "outputs": [],
     "prompt_number": 237
    },
    {
     "cell_type": "code",
     "collapsed": false,
     "input": [
      "s,t"
     ],
     "language": "python",
     "metadata": {},
     "outputs": [
      {
       "output_type": "pyout",
       "prompt_number": 239,
       "text": [
        "(['P'], ['X', 'X', 'X', 'U', 'U', 'U', 'X'])"
       ]
      }
     ],
     "prompt_number": 239
    },
    {
     "cell_type": "code",
     "collapsed": false,
     "input": [],
     "language": "python",
     "metadata": {},
     "outputs": [
      {
       "ename": "TypeError",
       "evalue": "list indices must be integers, not str",
       "output_type": "pyerr",
       "traceback": [
        "\u001b[1;31m---------------------------------------------------------------------------\u001b[0m\n\u001b[1;31mTypeError\u001b[0m                                 Traceback (most recent call last)",
        "\u001b[1;32m<ipython-input-225-893d7d305981>\u001b[0m in \u001b[0;36m<module>\u001b[1;34m()\u001b[0m\n\u001b[1;32m----> 1\u001b[1;33m \u001b[0ms\u001b[0m\u001b[1;33m,\u001b[0m\u001b[0mt\u001b[0m\u001b[1;33m,\u001b[0m\u001b[1;33m=\u001b[0m\u001b[0mempty_end\u001b[0m\u001b[1;33m.\u001b[0m\u001b[0m_take_most_extensive_ec\u001b[0m\u001b[1;33m(\u001b[0m\u001b[0morig_s_ecs\u001b[0m\u001b[1;33m,\u001b[0m \u001b[0moriginal_sources\u001b[0m\u001b[1;33m,\u001b[0m \u001b[0morig_t_ecs\u001b[0m\u001b[1;33m,\u001b[0m \u001b[0moriginal_targets\u001b[0m\u001b[1;33m)\u001b[0m\u001b[1;33m\u001b[0m\u001b[0m\n\u001b[0m",
        "\u001b[1;32mc:\\Users\\Robert\\cocomac\\cocomac-tools\\cocotools\\cocotools\\endgraph.py\u001b[0m in \u001b[0;36m_take_most_extensive_ec\u001b[1;34m(self, orig_s_ecs, original_sources, orig_t_ecs, original_targets)\u001b[0m\n\u001b[0;32m    450\u001b[0m         \u001b[1;32mfor\u001b[0m \u001b[0ms\u001b[0m \u001b[1;32min\u001b[0m \u001b[0moriginal_sources\u001b[0m\u001b[1;33m:\u001b[0m\u001b[1;33m\u001b[0m\u001b[0m\n\u001b[0;32m    451\u001b[0m             \u001b[0mbest_rank\u001b[0m \u001b[1;33m=\u001b[0m \u001b[1;36m5\u001b[0m\u001b[1;33m\u001b[0m\u001b[0m\n\u001b[1;32m--> 452\u001b[1;33m             \u001b[1;32mfor\u001b[0m \u001b[0mec\u001b[0m \u001b[1;32min\u001b[0m \u001b[0morig_s_ecs\u001b[0m\u001b[1;33m[\u001b[0m\u001b[0ms\u001b[0m\u001b[1;33m]\u001b[0m\u001b[1;33m:\u001b[0m\u001b[1;33m\u001b[0m\u001b[0m\n\u001b[0m\u001b[0;32m    453\u001b[0m                 \u001b[1;31m# For Nx, Np, Nc, consider only the first letter (i.e., N)\u001b[0m\u001b[1;33m\u001b[0m\u001b[1;33m\u001b[0m\u001b[0m\n\u001b[0;32m    454\u001b[0m                 \u001b[0mcurrent_rank\u001b[0m \u001b[1;33m=\u001b[0m \u001b[0mextensiveness_rank\u001b[0m\u001b[1;33m.\u001b[0m\u001b[0mindex\u001b[0m\u001b[1;33m(\u001b[0m\u001b[0mec\u001b[0m\u001b[1;33m[\u001b[0m\u001b[1;36m0\u001b[0m\u001b[1;33m]\u001b[0m\u001b[1;33m)\u001b[0m\u001b[1;33m\u001b[0m\u001b[0m\n",
        "\u001b[1;31mTypeError\u001b[0m: list indices must be integers, not str"
       ]
      }
     ],
     "prompt_number": 225
    },
    {
     "cell_type": "markdown",
     "metadata": {},
     "source": [
      "###Scratch"
     ]
    },
    {
     "cell_type": "code",
     "collapsed": false,
     "input": [
      "a=cong.edges('MBG91-SMAR')\n",
      "a.sort()\n",
      "a"
     ],
     "language": "python",
     "metadata": {},
     "outputs": [
      {
       "output_type": "pyout",
       "prompt_number": 296,
       "text": [
        "[('MBG91-SMAR', 'B09-4'),\n",
        " ('MBG91-SMAR', 'BP87-6DC'),\n",
        " ('MBG91-SMAR', 'BP87-6DR'),\n",
        " ('MBG91-SMAR', 'BP87-6VA'),\n",
        " ('MBG91-SMAR', 'BP87-6VB'),\n",
        " ('MBG91-SMAR', 'MBG91-46D'),\n",
        " ('MBG91-SMAR', 'MBG91-46DR'),\n",
        " ('MBG91-SMAR', 'MBG91-46V'),\n",
        " ('MBG91-SMAR', 'MBG91-46VR'),\n",
        " ('MBG91-SMAR', 'MBG91-PS'),\n",
        " ('MBG91-SMAR', 'MBG91-SMAC'),\n",
        " ('MBG91-SMAR', 'MBG91-SMAR'),\n",
        " ('MBG91-SMAR', 'PG89-SII'),\n",
        " ('MBG91-SMAR', 'PS82-OPT'),\n",
        " ('MBG91-SMAR', 'PS82-PEA'),\n",
        " ('MBG91-SMAR', 'PS82-PEC'),\n",
        " ('MBG91-SMAR', 'PS82-PECI'),\n",
        " ('MBG91-SMAR', 'PS82-PGM'),\n",
        " ('MBG91-SMAR', 'VPR87-31'),\n",
        " ('MBG91-SMAR', 'W40-24'),\n",
        " ('MBG91-SMAR', 'W40-8A')]"
       ]
      }
     ],
     "prompt_number": 296
    },
    {
     "cell_type": "code",
     "collapsed": false,
     "input": [
      "input_targets[0][2][0]"
     ],
     "language": "python",
     "metadata": {},
     "outputs": [
      {
       "output_type": "pyout",
       "prompt_number": 292,
       "text": [
        "'PS82-OPT'"
       ]
      }
     ],
     "prompt_number": 292
    },
    {
     "cell_type": "code",
     "collapsed": false,
     "input": [
      "mapg[input_targets[0][2][0]]"
     ],
     "language": "python",
     "metadata": {},
     "outputs": [
      {
       "output_type": "pyout",
       "prompt_number": 293,
       "text": [
        "{'AAC85-7A': {'PDC': 12, 'RC': 'S', 'TP': ['AAES90-7A', 'FV91-7A']},\n",
        " 'AAES90-7A': {'PDC': 12, 'RC': 'S', 'TP': []},\n",
        " 'AP84-OA': {'PDC': 12, 'RC': 'O', 'TP': ['BB47-OA']},\n",
        " 'B05-7': {'PDC': 5, 'RC': 'S', 'TP': ['B09-7']},\n",
        " 'B09-7': {'PDC': 5, 'RC': 'S', 'TP': []},\n",
        " 'BB47-OA': {'PDC': 12, 'RC': 'O', 'TP': []},\n",
        " 'BB47-PG': {'PDC': 12, 'RC': 'O', 'TP': []},\n",
        " 'BP92-OPT': {'PDC': 2, 'RC': 'I', 'TP': []},\n",
        " 'BR98-19': {'PDC': 15, 'RC': 'O', 'TP': ['BB47-OA']},\n",
        " 'CGOG88-PP': {'PDC': 15,\n",
        "  'RC': 'S',\n",
        "  'TP': ['AAES90-7A', 'FV91-7A', 'AAC85-7A']},\n",
        " 'CP95B-7A': {'PDC': 15,\n",
        "  'RC': 'S',\n",
        "  'TP': ['AAES90-7A', 'FV91-7A', 'AAC85-7A']},\n",
        " 'CP99-OPT': {'PDC': 6, 'RC': 'I', 'TP': []},\n",
        " 'CSCG95-7A': {'PDC': 12, 'RC': 'S', 'TP': ['AAES90-7A']},\n",
        " 'FV91-7A': {'PDC': 12, 'RC': 'S', 'TP': ['AAES90-7A']},\n",
        " 'GCSC00-IPL': {'PDC': 16, 'RC': 'S', 'TP': ['R00-PCI', 'GM-PCI']},\n",
        " 'GM-PCI': {'PDC': 9.0, 'RC': 'S', 'TP': ['SP90-OPT']},\n",
        " 'IAC87A-OA': {'PDC': 12, 'RC': 'O', 'TP': ['BB47-OA']},\n",
        " 'L86-7': {'PDC': 12, 'RC': 'S', 'TP': ['B09-7', 'B05-7']},\n",
        " 'LV00A-7A': {'PDC': 12, 'RC': 'S', 'TP': ['AAES90-7A']},\n",
        " 'MMLW83-7': {'PDC': 15, 'RC': 'S', 'TP': ['B09-7']},\n",
        " 'NKWKKMAL01-7A': {'PDC': 12, 'RC': 'S', 'TP': ['AAES90-7A']},\n",
        " 'NPP88-7A': {'PDC': 12, 'RC': 'O', 'TP': ['BB47-PG']},\n",
        " 'NPP90B-7A': {'PDC': 12, 'RC': 'O', 'TP': ['BB47-PG']},\n",
        " 'NPP90B-OA': {'PDC': 12, 'RC': 'O', 'TP': ['BB47-OA']},\n",
        " 'PG91B-7A': {'PDC': 12, 'RC': 'S', 'TP': ['AAES90-7A', 'LV00A-7A']},\n",
        " 'PHT00-OPT': {'PDC': 15, 'RC': 'I', 'TP': []},\n",
        " 'PP84-OPT': {'PDC': 4, 'RC': 'I', 'TP': []},\n",
        " 'PP99-19': {'PDC': 15, 'RC': 'O', 'TP': ['BB47-OA', 'B05-19']},\n",
        " 'PVM81-7': {'PDC': 5, 'RC': 'S', 'TP': ['B09-7']},\n",
        " 'R00-PCI': {'PDC': 15, 'RC': 'S', 'TP': []},\n",
        " 'RB79-7': {'PDC': 15, 'RC': 'S', 'TP': ['B09-7']},\n",
        " 'RP79-19': {'PDC': 12, 'RC': 'O', 'TP': ['BB47-OA']},\n",
        " 'SA94A-7A': {'PDC': 12, 'RC': 'S', 'TP': ['AAES90-7A']},\n",
        " 'SP78-OA': {'PDC': 12, 'RC': 'O', 'TP': ['BB47-OA']},\n",
        " 'SP80-OA': {'PDC': 12, 'RC': 'O', 'TP': ['BB47-OA']},\n",
        " 'SP86-OPT': {'PDC': 1, 'RC': 'I', 'TP': []},\n",
        " 'SP89B-19': {'PDC': 12, 'RC': 'O', 'TP': ['BB47-OA', 'SP78-OA']},\n",
        " 'SP90-OPT': {'PDC': 2, 'RC': 'I', 'TP': []},\n",
        " 'SP91B-OPT': {'PDC': 2, 'RC': 'I', 'TP': []},\n",
        " 'SP94-OPT': {'PDC': 12, 'RC': 'I', 'TP': []},\n",
        " 'TBVD88-OA': {'PDC': 15, 'RC': 'O', 'TP': ['BB47-OA']},\n",
        " 'VP87-OPT': {'PDC': 2, 'RC': 'I', 'TP': []},\n",
        " 'YI81-PG': {'PDC': 12, 'RC': 'O', 'TP': ['BB47-PG']},\n",
        " 'YP85-IPL': {'PDC': 16, 'RC': 'S', 'TP': ['R00-PCI', 'GM-PCI']},\n",
        " 'YP89-OA': {'PDC': 12, 'RC': 'O', 'TP': ['BB47-OA', 'SP78-OA']}}"
       ]
      }
     ],
     "prompt_number": 293
    },
    {
     "cell_type": "code",
     "collapsed": false,
     "input": [
      "\n",
      "corn[x]=[e for e in mapg.edges() if (e[0] ==output_sources[0][1]) and (e[1].split('-')[0]==output_sources[0][0].split('-')[0])]\n",
      "corn\n",
      "\n",
      "corn[x+1]=[e for e in mapg.edges() if (e[0] ==output_sources[0][1]) and (e[1].split('-')[0]==output_sources[0][0].split('-')[0])]\n",
      "corn\n",
      "#mapg.edges(output_targets[0][1])\n",
      "#x[1]\n",
      "\n",
      "#mapg.edges(output_targets\n",
      "#input_sources=[e for e in mapg.edges() if (e[0] ==output_source) and (e[1].split('-')[0] == coconame)]\n",
      "#output_sources"
     ],
     "language": "python",
     "metadata": {},
     "outputs": [
      {
       "output_type": "pyout",
       "prompt_number": 242,
       "text": [
        "[[('BB47-FB', 'LV00A-6D'),\n",
        "  ('BB47-FB', 'LV00A-6DS'),\n",
        "  ('BB47-FB', 'LV00A-M2'),\n",
        "  ('BB47-FB', 'LV00A-6DC')],\n",
        " ('BB47-FB', 'LV00A-6DS'),\n",
        " ('BB47-FB', 'LV00A-M2'),\n",
        " ('BB47-FB', 'LV00A-6DC')]"
       ]
      }
     ],
     "prompt_number": 242
    },
    {
     "cell_type": "code",
     "collapsed": false,
     "input": [
      "output_sources"
     ],
     "language": "python",
     "metadata": {},
     "outputs": [
      {
       "output_type": "pyout",
       "prompt_number": 233,
       "text": [
        "[('LV00A-6DS', 'BB47-FB')]"
       ]
      }
     ],
     "prompt_number": 233
    },
    {
     "cell_type": "code",
     "collapsed": false,
     "input": [
      "rcs"
     ],
     "language": "python",
     "metadata": {},
     "outputs": [
      {
       "output_type": "pyout",
       "prompt_number": 87,
       "text": [
        "[('S', 'S'), ('S', 'L'), ('S', 'O'), ('S', 'S'), ('S', 'L')]"
       ]
      }
     ],
     "prompt_number": 87
    },
    {
     "cell_type": "code",
     "collapsed": false,
     "input": [
      "ecs"
     ],
     "language": "python",
     "metadata": {},
     "outputs": [
      {
       "output_type": "pyout",
       "prompt_number": 30,
       "text": [
        "[('N', 'X'), ('P', 'X'), ('X', 'X'), ('N', 'X'), ('N', 'X')]"
       ]
      }
     ],
     "prompt_number": 30
    },
    {
     "cell_type": "code",
     "collapsed": false,
     "input": [
      "cong['LV00A-M2']"
     ],
     "language": "python",
     "metadata": {},
     "outputs": [
      {
       "output_type": "pyout",
       "prompt_number": 182,
       "text": [
        "{'B09-7': {'Connection': 'Unknown',\n",
        "  'Degree': '0',\n",
        "  'EC_Source': 'N',\n",
        "  'EC_Target': 'X',\n",
        "  'PDC_Density': 18,\n",
        "  'PDC_EC_Source': 18,\n",
        "  'PDC_EC_Target': 18,\n",
        "  'PDC_Site_Source': 0,\n",
        "  'PDC_Site_Target': 0},\n",
        " 'LV00A-7B': {'Connection': 'Present',\n",
        "  'Degree': '2',\n",
        "  'EC_Source': 'P',\n",
        "  'EC_Target': 'X',\n",
        "  'PDC_Density': 5,\n",
        "  'PDC_EC_Source': 2,\n",
        "  'PDC_EC_Target': 18,\n",
        "  'PDC_Site_Source': 0,\n",
        "  'PDC_Site_Target': 0},\n",
        " 'LV00A-LIPV': {'Connection': 'Unknown',\n",
        "  'Degree': '0',\n",
        "  'EC_Source': 'N',\n",
        "  'EC_Target': 'X',\n",
        "  'PDC_Density': 18,\n",
        "  'PDC_EC_Source': 18,\n",
        "  'PDC_EC_Target': 18,\n",
        "  'PDC_Site_Source': 0,\n",
        "  'PDC_Site_Target': 0},\n",
        " 'LV00A-MSTDP': {'Connection': 'Present',\n",
        "  'Degree': '1',\n",
        "  'EC_Source': 'P',\n",
        "  'EC_Target': 'X',\n",
        "  'PDC_Density': 5,\n",
        "  'PDC_EC_Source': 2,\n",
        "  'PDC_EC_Target': 18,\n",
        "  'PDC_Site_Source': 0,\n",
        "  'PDC_Site_Target': 0},\n",
        " 'LV00A-VIPL': {'Connection': 'Unknown',\n",
        "  'Degree': '0',\n",
        "  'EC_Source': 'N',\n",
        "  'EC_Target': 'X',\n",
        "  'PDC_Density': 18,\n",
        "  'PDC_EC_Source': 18,\n",
        "  'PDC_EC_Target': 18,\n",
        "  'PDC_Site_Source': 0,\n",
        "  'PDC_Site_Target': 2},\n",
        " 'LV00B-7A/7B': {'Connection': 'Present',\n",
        "  'Degree': '3',\n",
        "  'EC_Source': 'X',\n",
        "  'EC_Target': 'X',\n",
        "  'PDC_Density': 5,\n",
        "  'PDC_EC_Source': 18,\n",
        "  'PDC_EC_Target': 18,\n",
        "  'PDC_Site_Source': 5,\n",
        "  'PDC_Site_Target': 5}}"
       ]
      }
     ],
     "prompt_number": 182
    },
    {
     "cell_type": "code",
     "collapsed": false,
     "input": [
      "projs"
     ],
     "language": "python",
     "metadata": {},
     "outputs": [
      {
       "output_type": "pyout",
       "prompt_number": 37,
       "text": [
        "[('PP84-13', 'VP87-30'),\n",
        " ('PP84-13', 'VP87-29'),\n",
        " ('PP84-13', 'VP87-23A'),\n",
        " ('PP84-13', 'VP87-23C'),\n",
        " ('PP84-13', 'VP87-23B'),\n",
        " ('VP87-13', 'VP87-23A'),\n",
        " ('VP87-13', 'VP87-23C'),\n",
        " ('VP87-13', 'VP87-23B'),\n",
        " ('MV93-13', 'MV93-23C'),\n",
        " ('PP94-13', 'MCSGP04-23C'),\n",
        " ('B09-11', 'HMS88-CMAC')]"
       ]
      }
     ],
     "prompt_number": 37
    },
    {
     "cell_type": "code",
     "collapsed": false,
     "input": [
      "cong['LV00A-M2']['B09-7']"
     ],
     "language": "python",
     "metadata": {},
     "outputs": [
      {
       "output_type": "pyout",
       "prompt_number": 208,
       "text": [
        "{'Connection': 'Unknown',\n",
        " 'Degree': '0',\n",
        " 'EC_Source': 'N',\n",
        " 'EC_Target': 'X',\n",
        " 'PDC_Density': 18,\n",
        " 'PDC_EC_Source': 18,\n",
        " 'PDC_EC_Target': 18,\n",
        " 'PDC_Site_Source': 0,\n",
        " 'PDC_Site_Target': 0}"
       ]
      }
     ],
     "prompt_number": 208
    },
    {
     "cell_type": "code",
     "collapsed": false,
     "input": [
      "a=cong.neighbors('B09-7')\n",
      "\n",
      "#a=cong.neighbors('MBG91-SMAR')\n",
      "a.sort()\n",
      "a\n",
      "#mapg['PS82-OPT']"
     ],
     "language": "python",
     "metadata": {},
     "outputs": [
      {
       "output_type": "pyout",
       "prompt_number": 189,
       "text": [
        "['AAC85-24',\n",
        " 'B05-23',\n",
        " 'B05-24',\n",
        " 'B09-10',\n",
        " 'B09-24',\n",
        " 'B09-6',\n",
        " 'B09-8',\n",
        " 'B09-9',\n",
        " 'O52-CL',\n",
        " 'O52-CSL',\n",
        " 'O52-GLD',\n",
        " 'O52-GM',\n",
        " 'O52-H',\n",
        " 'O52-LD',\n",
        " 'O52-LI',\n",
        " 'O52-LP',\n",
        " 'O52-PCN',\n",
        " 'O52-PF',\n",
        " 'O52-R',\n",
        " 'O52-SG',\n",
        " 'O52-VLPS',\n",
        " 'O52-VPI',\n",
        " 'O52-VPM',\n",
        " 'O52-VPMPC',\n",
        " 'PP84-10',\n",
        " 'PP84-11',\n",
        " 'PP84-12',\n",
        " 'PP84-13',\n",
        " 'PP84-14',\n",
        " 'PP84-24',\n",
        " 'PP84-25',\n",
        " 'PP84-32',\n",
        " 'PP84-4',\n",
        " 'PP84-46',\n",
        " 'PP84-6',\n",
        " 'PP84-8',\n",
        " 'PP84-9',\n",
        " 'PP84-G',\n",
        " 'PP84-MII',\n",
        " 'PP94-24',\n",
        " 'PS73-TPT',\n",
        " 'PS82-PE',\n",
        " 'PS82-PEA',\n",
        " 'PS82-PEC',\n",
        " 'PS82-PECI',\n",
        " 'PS82-PFOP',\n",
        " 'PS82-PG',\n",
        " 'PS82-PGM',\n",
        " 'PS82-PGOP',\n",
        " 'PS82-POA',\n",
        " 'SG85-CD_B_I_C',\n",
        " 'SG85-CD_B_I_D',\n",
        " 'SG85-CD_B_L_C',\n",
        " 'SG85-CD_B_L_D',\n",
        " 'SG85-CD_B_M_C',\n",
        " 'SG85-CD_B_M_D',\n",
        " 'SG85-CD_G_I_C',\n",
        " 'SG85-CD_G_I_D',\n",
        " 'SG85-CD_G_I_V',\n",
        " 'SG85-CD_G_L_V',\n",
        " 'SG85-CD_G_M_V',\n",
        " 'SG85-CD_H_I_C',\n",
        " 'SG85-CD_H_I_D',\n",
        " 'SG85-CD_H_L_C',\n",
        " 'SG85-CD_H_L_D',\n",
        " 'SG85-CD_H_M_C',\n",
        " 'SG85-CD_H_M_D',\n",
        " 'SG85-PU_C_I_C',\n",
        " 'SG85-PU_C_I_V',\n",
        " 'SG85-PU_C_L_C',\n",
        " 'SG85-PU_C_L_V',\n",
        " 'SG85-PU_C_M_V',\n",
        " 'SG85-PU_R_I_C',\n",
        " 'SG85-PU_R_L_C',\n",
        " 'SG85-PU_R_L_D',\n",
        " 'SG85-PU_R_L_V',\n",
        " 'SG85-PU_R_M_C',\n",
        " 'SG85-PU_R_M_D',\n",
        " 'SP78-IPA',\n",
        " 'SP78-PGA',\n",
        " 'SP78-TAA',\n",
        " 'SP78-TPO',\n",
        " 'SP86-IPD',\n",
        " 'SP86-PEA',\n",
        " 'SP86-POA',\n",
        " 'VP87-24A',\n",
        " 'VP87-24B',\n",
        " 'VP87-24C',\n",
        " 'VP87-25',\n",
        " 'VP87-32',\n",
        " 'VPR87-24B',\n",
        " 'VPR87-24C',\n",
        " 'YP93-CD_B_I_C',\n",
        " 'YP93-CD_B_I_D',\n",
        " 'YP93-CD_B_L_D',\n",
        " 'YP93-CD_B_L_V',\n",
        " 'YP93-CD_G_I_C',\n",
        " 'YP93-CD_G_I_V',\n",
        " 'YP93-CD_G_L_D',\n",
        " 'YP93-CD_H_I_D',\n",
        " 'YP93-CD_H_I_V',\n",
        " 'YP93-CD_H_L_C',\n",
        " 'YP93-CD_H_L_D',\n",
        " 'YP93-PU_C_I_C',\n",
        " 'YP93-PU_C_I_D',\n",
        " 'YP93-PU_C_M_D',\n",
        " 'YP93-PU_C_M_V',\n",
        " 'YP93-PU_M_L_D',\n",
        " 'YP93-PU_M_M_D',\n",
        " 'YP93-PU_R_I_C',\n",
        " 'YP93-PU_R_I_D',\n",
        " 'YP93-PU_R_L_D',\n",
        " 'YP93-PU_R_L_V',\n",
        " 'YP93-PU_R_M_D',\n",
        " 'YP97-CM',\n",
        " 'YP97-PI',\n",
        " 'YP97-PL',\n",
        " 'YP97-PM',\n",
        " 'YP97-PO']"
       ]
      }
     ],
     "prompt_number": 189
    },
    {
     "cell_type": "code",
     "collapsed": false,
     "input": [
      "a=cong.neighbors('BB47-OA')\n",
      "a.sort()\n",
      "b=mapg.neighbors('MBG91-SMAR')\n",
      "b.sort()"
     ],
     "language": "python",
     "metadata": {},
     "outputs": [],
     "prompt_number": 143
    },
    {
     "cell_type": "code",
     "collapsed": false,
     "input": [
      "a"
     ],
     "language": "python",
     "metadata": {},
     "outputs": [
      {
       "output_type": "pyout",
       "prompt_number": 144,
       "text": [
        "['BB47-OA',\n",
        " 'GG95-PMV',\n",
        " 'MCGR86-4-HAND',\n",
        " 'MCGR86-4-MOUTH',\n",
        " 'MLR85-F5',\n",
        " 'RTMB99-PMV',\n",
        " 'SP84-35A',\n",
        " 'SP84-35B',\n",
        " 'SUD90-CD_G',\n",
        " 'SUD90-CD_G_M_D',\n",
        " 'TT93-PMV',\n",
        " 'TTNI97-PMV']"
       ]
      }
     ],
     "prompt_number": 144
    },
    {
     "cell_type": "code",
     "collapsed": false,
     "input": [
      "\n",
      "a[12] in b"
     ],
     "language": "python",
     "metadata": {},
     "outputs": [
      {
       "ename": "IndexError",
       "evalue": "list index out of range",
       "output_type": "pyerr",
       "traceback": [
        "\u001b[1;31m---------------------------------------------------------------------------\u001b[0m\n\u001b[1;31mIndexError\u001b[0m                                Traceback (most recent call last)",
        "\u001b[1;32m<ipython-input-176-aceb99d3c528>\u001b[0m in \u001b[0;36m<module>\u001b[1;34m()\u001b[0m\n\u001b[0;32m      1\u001b[0m \u001b[1;33m\u001b[0m\u001b[0m\n\u001b[1;32m----> 2\u001b[1;33m \u001b[0ma\u001b[0m\u001b[1;33m[\u001b[0m\u001b[1;36m12\u001b[0m\u001b[1;33m]\u001b[0m \u001b[1;32min\u001b[0m \u001b[0mb\u001b[0m\u001b[1;33m\u001b[0m\u001b[0m\n\u001b[0m",
        "\u001b[1;31mIndexError\u001b[0m: list index out of range"
       ]
      }
     ],
     "prompt_number": 176
    },
    {
     "cell_type": "code",
     "collapsed": false,
     "input": [
      "b"
     ],
     "language": "python",
     "metadata": {},
     "outputs": [
      {
       "output_type": "pyout",
       "prompt_number": 145,
       "text": [
        "['AAC85-6',\n",
        " 'B05-6',\n",
        " 'B09-6',\n",
        " 'BB47-FB',\n",
        " 'BG93-SMA',\n",
        " 'BGDR99-MII',\n",
        " 'BP87-MII',\n",
        " 'CG89B-SMA',\n",
        " 'CP99-6',\n",
        " 'DS91-6',\n",
        " 'GM-PMCM',\n",
        " 'HMS88-6',\n",
        " 'ITNAT96-SMA',\n",
        " 'JCH78-6',\n",
        " 'L86-6',\n",
        " 'LV00A-M2',\n",
        " 'MCSGP04-6M',\n",
        " 'MLR85-F3',\n",
        " 'MLR91-F3',\n",
        " 'MLWJR05-SMA-PROPER',\n",
        " 'MM82B-6',\n",
        " 'MM82C-6',\n",
        " 'MPP99A-6',\n",
        " 'MV93-6M',\n",
        " 'MW87-6M',\n",
        " 'PG91A-6M',\n",
        " 'PHT00-6M',\n",
        " 'PP84-6',\n",
        " 'PP88-MII',\n",
        " 'PVM81-6',\n",
        " 'PW51-SMA',\n",
        " 'RLM96-SMA-PROPER',\n",
        " 'RTMB99-SMA-PROPER',\n",
        " 'RTMKBW98-SMA',\n",
        " 'SG88-6',\n",
        " 'SS87-SEF',\n",
        " 'VP87-6',\n",
        " 'WSMSPT52-SMA']"
       ]
      }
     ],
     "prompt_number": 145
    },
    {
     "cell_type": "raw",
     "metadata": {},
     "source": [
      "Dan's email:\n",
      "1) find the areas in the MapGraph to which s is connected (let's call these A)\n",
      "\n",
      "      A=mapg.neighbors(s)\n",
      "\n",
      "2) find the areas in the MapGraph to which t is connected (let's call these B)\n",
      "\n",
      "      B=mapg.neighbors(t)\n",
      "\n",
      "3) find all the projections in the ConGraph from A+s to B+t\n",
      "\n",
      "      A.append(s)\n",
      "      B.append(t)\n",
      "      projs=[e for e in cong.edges() if (e[0] in A) and (e[1] in B)]\n",
      "\n",
      "For some edges in the EndGraph projs will be very long, but for many itll have just a few\n",
      "edges.  The key is to find EndGraph edges that differ between mORT and ORT and for which \n",
      "len(projs) is small.  That will take a trial-and-error search."
     ]
    },
    {
     "cell_type": "code",
     "collapsed": false,
     "input": [
      "endg_mort[source][target]"
     ],
     "language": "python",
     "metadata": {},
     "outputs": [
      {
       "output_type": "pyout",
       "prompt_number": 39,
       "text": [
        "{'Connection': 'Present', 'PDC': 12.772727272727273}"
       ]
      }
     ],
     "prompt_number": 39
    },
    {
     "cell_type": "code",
     "collapsed": false,
     "input": [
      "coconame"
     ],
     "language": "python",
     "metadata": {},
     "outputs": [
      {
       "output_type": "pyout",
       "prompt_number": 71,
       "text": [
        "'BB47'"
       ]
      }
     ],
     "prompt_number": 71
    },
    {
     "cell_type": "code",
     "collapsed": false,
     "input": [
      "new_s, new_t=projs[4]\n",
      "new_s, new_t"
     ],
     "language": "python",
     "metadata": {},
     "outputs": [
      {
       "output_type": "pyout",
       "prompt_number": 60,
       "text": [
        "('PP84-13', 'VP87-23B')"
       ]
      }
     ],
     "prompt_number": 60
    },
    {
     "cell_type": "code",
     "collapsed": false,
     "input": [
      "Aa=mapg.neighbors(new_s)\n",
      "Bb=mapg.neighbors(new_t)\n",
      "#Aa.append(new_s)\n",
      "#Bb.append(new_t)\n",
      "\n",
      "#new_projs=[e for e in mapg.edges() if (e[0] in Aa) and (e[1] in Bb)]\n"
     ],
     "language": "python",
     "metadata": {},
     "outputs": [],
     "prompt_number": 121
    },
    {
     "cell_type": "code",
     "collapsed": false,
     "input": [
      "foo=[]\n",
      "goo=[]\n",
      "for w in A:\n",
      "    if new_s.split('-')[0] in w.split('-')[0]:\n",
      "        foo.append(w)\n",
      "                \n",
      "      \n",
      "for y in B:\n",
      "    if new_t.split('-')[0] in y.split('-')[0]:\n",
      "        goo.append(y)            "
     ],
     "language": "python",
     "metadata": {},
     "outputs": [],
     "prompt_number": 151
    },
    {
     "cell_type": "code",
     "collapsed": false,
     "input": [
      "goo"
     ],
     "language": "python",
     "metadata": {},
     "outputs": [
      {
       "output_type": "pyout",
       "prompt_number": 152,
       "text": [
        "(['PP84-13'],\n",
        " ['VP87-23A',\n",
        "  'VP87-23B',\n",
        "  'VP87-23C',\n",
        "  'VP87-29',\n",
        "  'VP87-29A',\n",
        "  'VP87-29B',\n",
        "  'VP87-29C',\n",
        "  'VP87-29D',\n",
        "  'VP87-30'])"
       ]
      }
     ],
     "prompt_number": 152
    },
    {
     "cell_type": "code",
     "collapsed": false,
     "input": [
      "w for w in Aa if coconame in w.split('-')[0]"
     ],
     "language": "python",
     "metadata": {},
     "outputs": [
      {
       "ename": "SyntaxError",
       "evalue": "invalid syntax (<ipython-input-137-c614c93ea67c>, line 2)",
       "output_type": "pyerr",
       "traceback": [
        "\u001b[1;36m  File \u001b[1;32m\"<ipython-input-137-c614c93ea67c>\"\u001b[1;36m, line \u001b[1;32m2\u001b[0m\n\u001b[1;33m    w for w in Aa\u001b[0m\n\u001b[1;37m        ^\u001b[0m\n\u001b[1;31mSyntaxError\u001b[0m\u001b[1;31m:\u001b[0m invalid syntax\n"
       ]
      }
     ],
     "prompt_number": 137
    },
    {
     "cell_type": "code",
     "collapsed": false,
     "input": [
      "'CP99' in Aa[0].split('-')[0] "
     ],
     "language": "python",
     "metadata": {},
     "outputs": [
      {
       "output_type": "pyout",
       "prompt_number": 122,
       "text": [
        "True"
       ]
      }
     ],
     "prompt_number": 122
    },
    {
     "cell_type": "code",
     "collapsed": false,
     "input": [
      "foo=[]\n",
      "corn=[]\n",
      "for y in Aa: \n",
      "    foo.append( y.split('-')[0])\n",
      "    if y.split('-')[0] in mapname:\n",
      "        corn.append(y)"
     ],
     "language": "python",
     "metadata": {},
     "outputs": [],
     "prompt_number": 110
    },
    {
     "cell_type": "code",
     "collapsed": false,
     "input": [
      "z for z in foo==coconame\n",
      "    "
     ],
     "language": "python",
     "metadata": {},
     "outputs": [
      {
       "ename": "SyntaxError",
       "evalue": "invalid syntax (<ipython-input-120-e4227b08c7f0>, line 1)",
       "output_type": "pyerr",
       "traceback": [
        "\u001b[1;36m  File \u001b[1;32m\"<ipython-input-120-e4227b08c7f0>\"\u001b[1;36m, line \u001b[1;32m1\u001b[0m\n\u001b[1;33m    z for z in foo==coconame\u001b[0m\n\u001b[1;37m        ^\u001b[0m\n\u001b[1;31mSyntaxError\u001b[0m\u001b[1;31m:\u001b[0m invalid syntax\n"
       ]
      }
     ],
     "prompt_number": 120
    },
    {
     "cell_type": "code",
     "collapsed": false,
     "input": [
      "q for q in Aa if q.split('-')[0] in coconame"
     ],
     "language": "python",
     "metadata": {},
     "outputs": [
      {
       "ename": "SyntaxError",
       "evalue": "invalid syntax (<ipython-input-92-5bfcb73bd5e6>, line 1)",
       "output_type": "pyerr",
       "traceback": [
        "\u001b[1;36m  File \u001b[1;32m\"<ipython-input-92-5bfcb73bd5e6>\"\u001b[1;36m, line \u001b[1;32m1\u001b[0m\n\u001b[1;33m    if q.split('-')[0] in coconame\u001b[0m\n\u001b[1;37m                                  ^\u001b[0m\n\u001b[1;31mSyntaxError\u001b[0m\u001b[1;31m:\u001b[0m invalid syntax\n"
       ]
      }
     ],
     "prompt_number": 92
    },
    {
     "cell_type": "code",
     "collapsed": false,
     "input": [
      "s_strip=coco.strip_absent_and_unknown_edges(s)"
     ],
     "language": "python",
     "metadata": {},
     "outputs": [],
     "prompt_number": 194
    },
    {
     "cell_type": "code",
     "collapsed": false,
     "input": [
      "end_s_ort.edge['FB']"
     ],
     "language": "python",
     "metadata": {},
     "outputs": [
      {
       "output_type": "pyout",
       "prompt_number": 199,
       "text": [
        "{'FA': {'EC_Source': 'P', 'EC_Target': 'X', 'PDC': 7.4500000000000002},\n",
        " 'FBA': {'EC_Source': 'P', 'EC_Target': 'P', 'PDC': 9.65625},\n",
        " 'FCBM': {'EC_Source': 'P', 'EC_Target': 'X', 'PDC': 7.4500000000000002},\n",
        " 'FD': {'EC_Source': 'P', 'EC_Target': 'X', 'PDC': 6.8571428571428568},\n",
        " 'FDDELTA': {'EC_Source': 'X', 'EC_Target': 'P', 'PDC': 10.088235294117647},\n",
        " 'FDL': {'EC_Source': 'X', 'EC_Target': 'X', 'PDC': 11.0},\n",
        " 'FF': {'EC_Source': 'P', 'EC_Target': 'X', 'PDC': 6.1111111111111107},\n",
        " 'FL': {'EC_Source': 'X', 'EC_Target': 'P', 'PDC': 13.0625},\n",
        " 'LA': {'EC_Source': 'X', 'EC_Target': 'X', 'PDC': 8.8214285714285712},\n",
        " 'LC': {'EC_Source': 'P', 'EC_Target': 'X', 'PDC': 8.2142857142857135},\n",
        " 'PCOP': {'EC_Source': 'X', 'EC_Target': 'X', 'PDC': 15.1},\n",
        " 'PEM': {'EC_Source': 'X', 'EC_Target': 'X', 'PDC': 13.15},\n",
        " 'PF': {'EC_Source': 'P', 'EC_Target': 'X', 'PDC': 10.083333333333334},\n",
        " 'PG': {'EC_Source': 'X', 'EC_Target': 'X', 'PDC': 13.089285714285714},\n",
        " 'TB': {'EC_Source': 'P', 'EC_Target': 'X', 'PDC': 11.949999999999999}}"
       ]
      }
     ],
     "prompt_number": 199
    },
    {
     "cell_type": "code",
     "collapsed": false,
     "input": [
      "s_strip.edge['FB']"
     ],
     "language": "python",
     "metadata": {},
     "outputs": [
      {
       "output_type": "pyout",
       "prompt_number": 201,
       "text": [
        "{'FA': {},\n",
        " 'FBA': {},\n",
        " 'FCBM': {},\n",
        " 'FD': {},\n",
        " 'FDDELTA': {},\n",
        " 'FDL': {},\n",
        " 'FF': {},\n",
        " 'FL': {},\n",
        " 'LA': {},\n",
        " 'LC': {},\n",
        " 'PCOP': {},\n",
        " 'PEM': {},\n",
        " 'PF': {},\n",
        " 'PG': {},\n",
        " 'TB': {}}"
       ]
      }
     ],
     "prompt_number": 201
    },
    {
     "cell_type": "code",
     "collapsed": false,
     "input": [
      "s.strip_absent_and_unkno"
     ],
     "language": "python",
     "metadata": {},
     "outputs": [
      {
       "output_type": "pyout",
       "prompt_number": 87,
       "text": [
        "'PHT00-13'"
       ]
      }
     ],
     "prompt_number": 87
    },
    {
     "cell_type": "code",
     "collapsed": false,
     "input": [
      "projs=[e for e in cong.edges() if (e[0] in A) and (e[1] in B)]"
     ],
     "language": "python",
     "metadata": {},
     "outputs": []
    },
    {
     "cell_type": "code",
     "collapsed": false,
     "input": [
      "Aa[0].split('-')[0]\n"
     ],
     "language": "python",
     "metadata": {},
     "outputs": [
      {
       "output_type": "pyout",
       "prompt_number": 65,
       "text": [
        "'CP99'"
       ]
      }
     ],
     "prompt_number": 65
    },
    {
     "cell_type": "code",
     "collapsed": false,
     "input": [
      "B"
     ],
     "language": "python",
     "metadata": {},
     "outputs": [
      {
       "output_type": "pyout",
       "prompt_number": 59,
       "text": [
        "['AI92-23',\n",
        " 'AP84-23',\n",
        " 'ASM94-23',\n",
        " 'B05-23',\n",
        " 'B09-23',\n",
        " 'B88-23',\n",
        " 'BB47-LC',\n",
        " 'BB95-29A',\n",
        " 'BB95-29B',\n",
        " 'BB95-29C',\n",
        " 'BGDR99-29',\n",
        " 'CCTCR00-29',\n",
        " 'CCTCR00-30',\n",
        " 'CG89A-RSP',\n",
        " 'CP95A-23A',\n",
        " 'CP95A-23B',\n",
        " 'CP95A-29L',\n",
        " 'CP95A-29M',\n",
        " 'CP95A-30',\n",
        " 'CP99-23',\n",
        " 'DS91-23C',\n",
        " 'DS91-CMAV',\n",
        " 'DS93-CMAV',\n",
        " 'GM-CCP',\n",
        " 'GM-CCR',\n",
        " 'GSS84-CML',\n",
        " 'HMS88-23C',\n",
        " 'HMS88-CMAC',\n",
        " 'IAC87A-29L',\n",
        " 'IAC87A-30',\n",
        " 'LPS94-CMAV',\n",
        " 'LV00A-23A',\n",
        " 'LV00A-23B',\n",
        " 'MCSGP04-23A',\n",
        " 'MCSGP04-23B',\n",
        " 'MCSGP04-23C',\n",
        " 'MCSGP04-29',\n",
        " 'MCSGP04-30',\n",
        " 'MPP96-30',\n",
        " 'MPP99A-29A-C',\n",
        " 'MPP99A-30D',\n",
        " 'MPP99A-30PV',\n",
        " 'MRV00-RSPC',\n",
        " 'MV92-23A',\n",
        " 'MV92-23B',\n",
        " 'MV92-23C',\n",
        " 'MV93-23C',\n",
        " 'NPP88-RSPC',\n",
        " 'NPP90B-RSPC',\n",
        " 'PHT00-23A',\n",
        " 'PHT00-23B',\n",
        " 'PHT00-23C',\n",
        " 'PHT00-29',\n",
        " 'PP99-23',\n",
        " 'PVM81-RSPLC',\n",
        " 'R00-CCP',\n",
        " 'R00-CCR',\n",
        " 'RAP87-23',\n",
        " 'SA00-29',\n",
        " 'SA00-30',\n",
        " 'SA94A-29L',\n",
        " 'SA94A-29M',\n",
        " 'SA94A-30',\n",
        " 'SP91B-RSPL',\n",
        " 'TBVD88-RSPC',\n",
        " 'TNHTMTAL04-CMAV',\n",
        " 'TT93-CMAC',\n",
        " 'TTNI97-CMAV',\n",
        " 'V76-RSAG',\n",
        " 'V76-RSG',\n",
        " 'V76-RSG1',\n",
        " 'V76-RSG2',\n",
        " 'V85A-23A',\n",
        " 'V85A-23B',\n",
        " 'V85A-23C',\n",
        " 'V85A-29A',\n",
        " 'V85A-29B',\n",
        " 'V85A-29C',\n",
        " 'V85A-29D',\n",
        " 'V85A-30',\n",
        " 'V93-23',\n",
        " 'VP87-23A',\n",
        " 'VP87-23B',\n",
        " 'VP87-23C',\n",
        " 'VP87-29',\n",
        " 'VP87-29A',\n",
        " 'VP87-29B',\n",
        " 'VP87-29C',\n",
        " 'VP87-29D',\n",
        " 'VP87-30',\n",
        " 'VPR87-23A',\n",
        " 'VPR87-23B',\n",
        " 'VPR87-23C',\n",
        " 'VPR87-29',\n",
        " 'VPR87-30',\n",
        " 'YP88-23']"
       ]
      }
     ],
     "prompt_number": 59
    },
    {
     "cell_type": "code",
     "collapsed": false,
     "input": [],
     "language": "python",
     "metadata": {},
     "outputs": [
      {
       "output_type": "pyout",
       "prompt_number": 58,
       "text": [
        "array(['AI92-23', 'AP84-23', 'ASM94-23', 'B05-23', 'B09-23', 'B88-23',\n",
        "       'BB47-LC', 'BB95-29A', 'BB95-29B', 'BB95-29C', 'BGDR99-29',\n",
        "       'CCTCR00-29', 'CCTCR00-30', 'CG89A-RSP', 'CP95A-23A', 'CP95A-23B',\n",
        "       'CP95A-29L', 'CP95A-29M', 'CP95A-30', 'CP99-23', 'DS91-23C',\n",
        "       'DS91-CMAV', 'DS93-CMAV', 'GM-CCP', 'GM-CCR', 'GSS84-CML',\n",
        "       'HMS88-23C', 'HMS88-CMAC', 'IAC87A-29L', 'IAC87A-30', 'LPS94-CMAV',\n",
        "       'LV00A-23A', 'LV00A-23B', 'MCSGP04-23A', 'MCSGP04-23B',\n",
        "       'MCSGP04-23C', 'MCSGP04-29', 'MCSGP04-30', 'MPP96-30',\n",
        "       'MPP99A-29A-C', 'MPP99A-30D', 'MPP99A-30PV', 'MRV00-RSPC',\n",
        "       'MV92-23A', 'MV92-23B', 'MV92-23C', 'MV93-23C', 'NPP88-RSPC',\n",
        "       'NPP90B-RSPC', 'PHT00-23A', 'PHT00-23B', 'PHT00-23C', 'PHT00-29',\n",
        "       'PP99-23', 'PVM81-RSPLC', 'R00-CCP', 'R00-CCR', 'RAP87-23',\n",
        "       'SA00-29', 'SA00-30', 'SA94A-29L', 'SA94A-29M', 'SA94A-30',\n",
        "       'SP91B-RSPL', 'TBVD88-RSPC', 'TNHTMTAL04-CMAV', 'TT93-CMAC',\n",
        "       'TTNI97-CMAV', 'V76-RSAG', 'V76-RSG', 'V76-RSG1', 'V76-RSG2',\n",
        "       'V85A-23A', 'V85A-23B', 'V85A-23C', 'V85A-29A', 'V85A-29B',\n",
        "       'V85A-29C', 'V85A-29D', 'V85A-30', 'V93-23', 'VP87-23A', 'VP87-23B',\n",
        "       'VP87-23C', 'VP87-29', 'VP87-29A', 'VP87-29B', 'VP87-29C',\n",
        "       'VP87-29D', 'VP87-30', 'VPR87-23A', 'VPR87-23B', 'VPR87-23C',\n",
        "       'VPR87-29', 'VPR87-30', 'YP88-23'], \n",
        "      dtype='|S15')"
       ]
      }
     ],
     "prompt_number": 58
    },
    {
     "cell_type": "code",
     "collapsed": false,
     "input": [
      "new_projs=[e for e in cong.edges() if (e[0] in A) and (e[1] in B)]\n",
      "projs"
     ],
     "language": "python",
     "metadata": {},
     "outputs": [
      {
       "output_type": "pyout",
       "prompt_number": 22,
       "text": [
        "[('PP84-13', 'VP87-30'),\n",
        " ('PP84-13', 'VP87-29'),\n",
        " ('PP84-13', 'VP87-23A'),\n",
        " ('PP84-13', 'VP87-23C'),\n",
        " ('PP84-13', 'VP87-23B'),\n",
        " ('VP87-13', 'VP87-23A'),\n",
        " ('VP87-13', 'VP87-23C'),\n",
        " ('VP87-13', 'VP87-23B'),\n",
        " ('MV93-13', 'MV93-23C'),\n",
        " ('PP94-13', 'MCSGP04-23C'),\n",
        " ('B09-11', 'HMS88-CMAC')]"
       ]
      }
     ],
     "prompt_number": 22
    },
    {
     "cell_type": "code",
     "collapsed": false,
     "input": [
      "prefix_target"
     ],
     "language": "python",
     "metadata": {},
     "outputs": [
      {
       "output_type": "pyout",
       "prompt_number": 32,
       "text": [
        "'BB47-LC'"
       ]
      }
     ],
     "prompt_number": 32
    },
    {
     "cell_type": "code",
     "collapsed": false,
     "input": [],
     "language": "python",
     "metadata": {},
     "outputs": []
    },
    {
     "cell_type": "markdown",
     "metadata": {},
     "source": [
      "scratch"
     ]
    },
    {
     "cell_type": "code",
     "collapsed": false,
     "input": [],
     "language": "python",
     "metadata": {},
     "outputs": [
      {
       "output_type": "pyout",
       "prompt_number": 23,
       "text": [
        "370"
       ]
      }
     ],
     "prompt_number": 23
    },
    {
     "cell_type": "code",
     "collapsed": false,
     "input": [],
     "language": "python",
     "metadata": {},
     "outputs": []
    },
    {
     "cell_type": "code",
     "collapsed": false,
     "input": [],
     "language": "python",
     "metadata": {},
     "outputs": []
    },
    {
     "cell_type": "code",
     "collapsed": false,
     "input": [
      "end=endg_ort\n",
      "g = coco.EndGraph()\n",
      "g.add_nodes_from(end.nodes())\n",
      "for source, target in end.edges_iter():\n",
      "        if end[source][target].has_key('Connection'):\n",
      "            if end[source][target]['Connection'] in ('Present', 'Absent'):\n",
      "                g.add_edge(source, target, end[source][target])\n",
      "        else:\n",
      "            source_ec = end[source][target]['EC_Source']\n",
      "            target_ec = end[source][target]['EC_Target']\n",
      "            ns = ('N', 'Nc', 'Np', 'Nx', 'Up', 'Ux', 'U')\n",
      "            if source_ec not in ns and target_ec not in ns:\n",
      "                g.add_edge(source, target, end[source][target])\n",
      "\n",
      "                "
     ],
     "language": "python",
     "metadata": {},
     "outputs": [],
     "prompt_number": 15
    },
    {
     "cell_type": "code",
     "collapsed": false,
     "input": [
      "end_s_ort=g"
     ],
     "language": "python",
     "metadata": {},
     "outputs": [
      {
       "output_type": "pyout",
       "prompt_number": 3,
       "text": [
        "('FF', 'FDE')"
       ]
      }
     ],
     "prompt_number": 3
    },
    {
     "cell_type": "code",
     "collapsed": false,
     "input": [
      "\n",
      "endg_ort.edge[endg_ort.edges()[0][0]][endg_ort.edges()[0][1]]"
     ],
     "language": "python",
     "metadata": {},
     "outputs": [
      {
       "output_type": "pyout",
       "prompt_number": 21,
       "text": [
        "{'EC_Source': 'X', 'EC_Target': 'X', 'PDC': 11.5}"
       ]
      }
     ],
     "prompt_number": 21
    },
    {
     "cell_type": "code",
     "collapsed": false,
     "input": [
      "endg_mort[endg_ort.edges()[0][0]][endg_ort.edges()[0][1]]"
     ],
     "language": "python",
     "metadata": {},
     "outputs": [
      {
       "output_type": "pyout",
       "prompt_number": 30,
       "text": [
        "{'Connection': 'Present', 'PDC': 11.5}"
       ]
      }
     ],
     "prompt_number": 30
    },
    {
     "cell_type": "code",
     "collapsed": false,
     "input": [
      "source =endg_mort.edges()[0][0]\n",
      "target =endg_mort.edges()[0][1]\n",
      "\n"
     ],
     "language": "python",
     "metadata": {},
     "outputs": [
      {
       "output_type": "pyout",
       "prompt_number": 74,
       "text": [
        "{'Connection': 'Present', 'PDC': 11.5}"
       ]
      }
     ],
     "prompt_number": 74
    },
    {
     "cell_type": "code",
     "collapsed": false,
     "input": [
      "g.number_of_edges()"
     ],
     "language": "python",
     "metadata": {},
     "outputs": [
      {
       "output_type": "pyout",
       "prompt_number": 16,
       "text": [
        "331"
       ]
      }
     ],
     "prompt_number": 16
    },
    {
     "cell_type": "code",
     "collapsed": false,
     "input": [],
     "language": "python",
     "metadata": {},
     "outputs": [],
     "prompt_number": 48
    },
    {
     "cell_type": "code",
     "collapsed": false,
     "input": [
      "g = nx.DiGraph()\n",
      "    g.add_nodes_from(end.nodes())\n",
      "    for source, target in end.edges_iter():\n",
      "        if end[source][target].has_key('Connection'):\n",
      "            if end[source][target]['Connection'] in ('Present', 'Absent'):\n",
      "                g.add_edge(source, target)\n",
      "        else:\n",
      "            source_ec = end[source][target]['EC_Source']\n",
      "            target_ec = end[source][target]['EC_Target']\n",
      "            ns = ('N', 'Nc', 'Np', 'Nx', 'Up', 'Ux', 'U')\n",
      "            if source_ec not in ns and target_ec not in ns:\n",
      "                g.add_edge(source, target)\n",
      "    return g"
     ],
     "language": "python",
     "metadata": {},
     "outputs": []
    },
    {
     "cell_type": "code",
     "collapsed": false,
     "input": [
      "coco.MAPPING_SOURCES"
     ],
     "language": "python",
     "metadata": {},
     "outputs": [
      {
       "output_type": "pyout",
       "prompt_number": 78,
       "text": [
        "['A85',\n",
        " 'A86',\n",
        " 'AAC85',\n",
        " 'AAES90',\n",
        " 'AB89',\n",
        " 'ABMR98',\n",
        " 'ABP80',\n",
        " 'AF42',\n",
        " 'AHGWU00',\n",
        " 'AI92',\n",
        " 'AIC87',\n",
        " 'AM84',\n",
        " 'AP84',\n",
        " 'APA83',\n",
        " 'APPC92',\n",
        " 'ASM94',\n",
        " 'B00',\n",
        " 'B05',\n",
        " 'B09',\n",
        " 'B81',\n",
        " 'B84',\n",
        " 'B88',\n",
        " 'B92',\n",
        " 'BAS90',\n",
        " 'BB47',\n",
        " 'BB95',\n",
        " 'BD77',\n",
        " 'BD90',\n",
        " 'BDG81',\n",
        " 'BDU91',\n",
        " 'BF95',\n",
        " 'BFNV86',\n",
        " 'BG93',\n",
        " 'BGDR99',\n",
        " 'BGSB85',\n",
        " 'BHD91',\n",
        " 'BJ76',\n",
        " 'BK83',\n",
        " 'BK98',\n",
        " 'BK99',\n",
        " 'BMLU97',\n",
        " 'BP87',\n",
        " 'BP89',\n",
        " 'BP92',\n",
        " 'BR75',\n",
        " 'BR76',\n",
        " 'BR98',\n",
        " 'BS83',\n",
        " 'BSM96',\n",
        " 'BUD90',\n",
        " 'C34',\n",
        " 'CCHR95',\n",
        " 'CCTCR00',\n",
        " 'CDG93',\n",
        " 'CG85',\n",
        " 'CG89a',\n",
        " 'CG89b',\n",
        " 'CGG82',\n",
        " 'CGMBOFal99',\n",
        " 'CGOG83',\n",
        " 'CGOG88',\n",
        " 'CP94',\n",
        " 'CP95b',\n",
        " 'CP99',\n",
        " 'CSCG95',\n",
        " 'CSDW93',\n",
        " 'CST97',\n",
        " 'DBDU93',\n",
        " 'DCG98',\n",
        " 'DDBR93',\n",
        " 'DDC90',\n",
        " 'DLRPK03',\n",
        " 'DRV85',\n",
        " 'DS91',\n",
        " 'DS93',\n",
        " 'DU86',\n",
        " 'FAG85',\n",
        " 'FJ81',\n",
        " 'FJB80',\n",
        " 'FM86',\n",
        " 'FMOM86',\n",
        " 'FSAG86',\n",
        " 'FV87',\n",
        " 'FV91',\n",
        " 'FXM97',\n",
        " 'G82',\n",
        " 'G89',\n",
        " 'GBP87',\n",
        " 'GC97',\n",
        " 'GCSC00',\n",
        " 'GFBSZ96',\n",
        " 'GFGK99',\n",
        " 'GFKG99',\n",
        " 'GG81',\n",
        " 'GG88',\n",
        " 'GG95',\n",
        " 'GGC99',\n",
        " 'GGKFLM01',\n",
        " 'GGS81',\n",
        " 'GLKR84',\n",
        " 'GP83',\n",
        " 'GP85',\n",
        " 'GSC85',\n",
        " 'GSG88',\n",
        " 'GSMU97',\n",
        " 'GSS84',\n",
        " 'GTVB90',\n",
        " 'GYC95',\n",
        " 'HDS95',\n",
        " 'HHFSR80',\n",
        " 'HK90',\n",
        " 'HM95',\n",
        " 'HMS88',\n",
        " 'HPS91',\n",
        " 'HSK98a',\n",
        " 'HSK98b',\n",
        " 'HSK99b',\n",
        " 'HTNT00',\n",
        " 'HV76',\n",
        " 'HW72',\n",
        " 'IAC87a',\n",
        " 'IAC87b',\n",
        " 'IAK99',\n",
        " 'IK87',\n",
        " 'IM69',\n",
        " 'IST96',\n",
        " 'ITNAT96',\n",
        " 'IY87',\n",
        " 'IY88',\n",
        " 'IYSS87',\n",
        " 'J49',\n",
        " 'J85',\n",
        " 'JB76a',\n",
        " 'JDMRH95',\n",
        " 'JT75',\n",
        " 'K78',\n",
        " 'K94',\n",
        " 'KA77',\n",
        " 'KCTEC95',\n",
        " 'KH88',\n",
        " 'KHHJ97',\n",
        " 'KK75',\n",
        " 'KK77',\n",
        " 'KK93',\n",
        " 'KSI03',\n",
        " 'KW88',\n",
        " 'L34',\n",
        " 'L45',\n",
        " 'L86',\n",
        " 'LCRM01',\n",
        " 'LMCR93',\n",
        " 'LMGM99',\n",
        " 'LMWR02',\n",
        " 'LPS94',\n",
        " 'LRCM03',\n",
        " 'LSB86',\n",
        " 'LV00a',\n",
        " 'LYL95',\n",
        " 'M80',\n",
        " 'MB73',\n",
        " 'MB84',\n",
        " 'MB90',\n",
        " 'MBG91',\n",
        " 'MBMM93',\n",
        " 'MCF86',\n",
        " 'MCGR86',\n",
        " 'MCSGP04',\n",
        " 'MDRLHJ95',\n",
        " 'MGBFSMal01',\n",
        " 'MGGKL98',\n",
        " 'MGGMC03',\n",
        " 'MGM92',\n",
        " 'MH02',\n",
        " 'MJ97',\n",
        " 'MLFR89',\n",
        " 'MLR85',\n",
        " 'MLR91',\n",
        " 'MLWJR05',\n",
        " 'MM82a',\n",
        " 'MM82b',\n",
        " 'MM82c',\n",
        " 'MM84',\n",
        " 'MMLW83',\n",
        " 'MMM87',\n",
        " 'MMP81',\n",
        " 'MPP96',\n",
        " 'MPP99a',\n",
        " 'MRV00',\n",
        " 'MV83',\n",
        " 'MV87',\n",
        " 'MV92',\n",
        " 'MV93',\n",
        " 'NHYM96',\n",
        " 'NK78',\n",
        " 'NKWKKMal01',\n",
        " 'NMV80',\n",
        " 'NMV86',\n",
        " 'NPP87',\n",
        " 'NPP90a',\n",
        " 'NPP90b',\n",
        " 'O52',\n",
        " 'P81a',\n",
        " 'PA34',\n",
        " 'PA81',\n",
        " 'PA98',\n",
        " 'PBK86',\n",
        " 'PCG81',\n",
        " 'PG89',\n",
        " 'PG91a',\n",
        " 'PG91b',\n",
        " 'PGCK85',\n",
        " 'PHT00',\n",
        " 'PK85',\n",
        " 'PM59',\n",
        " 'PP02',\n",
        " 'PP84',\n",
        " 'PP88',\n",
        " 'PP99',\n",
        " 'PRA87',\n",
        " 'PS73',\n",
        " 'PS82',\n",
        " 'PSB88',\n",
        " 'PVD73',\n",
        " 'PVM81',\n",
        " 'R00',\n",
        " 'RA63',\n",
        " 'RACR99',\n",
        " 'RAP87',\n",
        " 'RB77',\n",
        " 'RB79',\n",
        " 'RB80a',\n",
        " 'RBMWJ98',\n",
        " 'RD96',\n",
        " 'RGBG97',\n",
        " 'RLBMW94',\n",
        " 'RLM96',\n",
        " 'RP79',\n",
        " 'RP93',\n",
        " 'RTFMGR99',\n",
        " 'RTMB99',\n",
        " 'RTMKBW98',\n",
        " 'RV77',\n",
        " 'RV87',\n",
        " 'RV99',\n",
        " 'S70',\n",
        " 'S72',\n",
        " 'SA00',\n",
        " 'SA70',\n",
        " 'SA90',\n",
        " 'SA94b',\n",
        " 'SB83',\n",
        " 'SBZ98',\n",
        " 'SDGM89',\n",
        " 'SG88',\n",
        " 'SJ02',\n",
        " 'SK96',\n",
        " 'SK97',\n",
        " 'SMB68',\n",
        " 'SMKB95',\n",
        " 'SMM82',\n",
        " 'SP80',\n",
        " 'SP86',\n",
        " 'SP89a',\n",
        " 'SP89b',\n",
        " 'SP90',\n",
        " 'SP91a',\n",
        " 'SP94',\n",
        " 'SQK00',\n",
        " 'SR88',\n",
        " 'SRV88',\n",
        " 'SS87',\n",
        " 'SSA96',\n",
        " 'SSTH00',\n",
        " 'ST96',\n",
        " 'SUD90',\n",
        " 'SYTHFI86',\n",
        " 'SZ85',\n",
        " 'TBVD88',\n",
        " 'THSYFI86',\n",
        " 'TJ74',\n",
        " 'TJ76',\n",
        " 'TMK80',\n",
        " 'TNHTMTal04',\n",
        " 'TRB02',\n",
        " 'TT93',\n",
        " 'TTNI97',\n",
        " 'U85',\n",
        " 'UD86a',\n",
        " 'UD86b',\n",
        " 'UDGM84',\n",
        " 'UGM83',\n",
        " 'UM79',\n",
        " 'V76',\n",
        " 'V82',\n",
        " 'V85a',\n",
        " 'V85b',\n",
        " 'V93',\n",
        " 'VFDOK90',\n",
        " 'VMB81',\n",
        " 'VNB82',\n",
        " 'VNM84',\n",
        " 'VNMB86',\n",
        " 'VP75a',\n",
        " 'VP75c',\n",
        " 'VP87',\n",
        " 'VPR87',\n",
        " 'VV19',\n",
        " 'VZ78',\n",
        " 'W38',\n",
        " 'W40',\n",
        " 'W43',\n",
        " 'W44',\n",
        " 'WA91',\n",
        " 'WBU93',\n",
        " 'WF46',\n",
        " 'WPW69',\n",
        " 'WR97',\n",
        " 'WSMSPT52',\n",
        " 'WUB91',\n",
        " 'WVA89',\n",
        " 'WW43',\n",
        " 'Y00',\n",
        " 'YI81',\n",
        " 'YI85',\n",
        " 'YI88',\n",
        " 'YP85',\n",
        " 'YP88',\n",
        " 'YP89',\n",
        " 'YP91b',\n",
        " 'YP94',\n",
        " 'YP95',\n",
        " 'YP97',\n",
        " 'Z71',\n",
        " 'Z73',\n",
        " 'Z77',\n",
        " 'Z78a',\n",
        " 'Z78b',\n",
        " 'Z78c',\n",
        " 'ZR03',\n",
        " 'ZSCR93',\n",
        " 'AC80',\n",
        " 'W58',\n",
        " 'SP91b',\n",
        " 'SP78',\n",
        " 'SA94a',\n",
        " 'RB80b',\n",
        " 'PW51',\n",
        " 'PA91',\n",
        " 'NPP88',\n",
        " 'MW87',\n",
        " 'MGK93',\n",
        " 'CP95a',\n",
        " 'BP82',\n",
        " 'AP34',\n",
        " 'YTHI90',\n",
        " 'PP94',\n",
        " 'JCH78']"
       ]
      }
     ],
     "prompt_number": 78
    },
    {
     "cell_type": "code",
     "collapsed": false,
     "input": [],
     "language": "python",
     "metadata": {},
     "outputs": []
    },
    {
     "cell_type": "code",
     "collapsed": false,
     "input": [],
     "language": "python",
     "metadata": {},
     "outputs": []
    },
    {
     "cell_type": "code",
     "collapsed": false,
     "input": [],
     "language": "python",
     "metadata": {},
     "outputs": []
    }
   ],
   "metadata": {}
  }
 ]
}