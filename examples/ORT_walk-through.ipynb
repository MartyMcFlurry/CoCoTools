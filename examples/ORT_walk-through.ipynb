{
 "metadata": {
  "name": "ORT_walk-through"
 },
 "nbformat": 3,
 "nbformat_minor": 0,
 "worksheets": [
  {
   "cells": [
    {
     "cell_type": "code",
     "collapsed": false,
     "input": [
      "#Import modules\n",
      "import cocotools as coco\n",
      "import networkx as nx\n",
      "import numpy as np\n",
      "import pickle\n",
      "import matplotlib.pyplot as plt\n",
      "import os"
     ],
     "language": "python",
     "metadata": {},
     "outputs": [],
     "prompt_number": 2
    },
    {
     "cell_type": "code",
     "collapsed": false,
     "input": [
      "pwd"
     ],
     "language": "python",
     "metadata": {},
     "outputs": [
      {
       "output_type": "pyout",
       "prompt_number": 3,
       "text": [
        "u'C:\\\\Users\\\\Robert\\\\cocomac\\\\cocomac-tools\\\\examples'"
       ]
      }
     ],
     "prompt_number": 3
    },
    {
     "cell_type": "code",
     "collapsed": false,
     "input": [
      "os.chdir(\"..\\\\cocotools\") # change to reflect your path\n",
      "import add_translated_edge"
     ],
     "language": "python",
     "metadata": {},
     "outputs": [],
     "prompt_number": 4
    },
    {
     "cell_type": "code",
     "collapsed": false,
     "input": [
      "mapname='bb47'\n",
      "mapstub='C:\\\\Users\\Robert\\\\cocomac\\\\cocoresults\\\\results\\\\graphs\\\\revision_graphs\\\\' +mapname+\"_post_deduce_mapg.pck\"\n",
      "constub='C:\\\\Users\\Robert\\\\cocomac\\\\cocoresults\\\\results\\\\graphs\\\\revision_graphs\\\\' +mapname+\"_post_deduce_cong.pck\"\n",
      "mapfile=open(mapstub, 'rb')\n",
      "confile=open(constub, 'rb')\n",
      "mapg=pickle.load(mapfile)\n",
      "cong=pickle.load(confile)\n",
      "coconame=mapname.upper()\n",
      "\n",
      "\n",
      "endg_ort=coco.EndGraph()\n",
      "endg_mort=coco.EndGraph()\n",
      "endg_ort.add_translated_edges(mapg, cong, coconame, 'original')\n",
      "#endg=coco.strip_absent_and_unknown_edges(endg)\n",
      "endg_mort.add_translated_edges(mapg, cong, coconame, 'modified')\n",
      "#endg_mort=coco.strip_absent_and_unknown_edges(endg_mort)"
     ],
     "language": "python",
     "metadata": {},
     "outputs": [],
     "prompt_number": 5
    },
    {
     "cell_type": "markdown",
     "metadata": {},
     "source": [
      "#add attributes for strip absent and unknown"
     ]
    },
    {
     "cell_type": "code",
     "collapsed": false,
     "input": [
      "end=endg_ort\n",
      "g = coco.EndGraph()\n",
      "g.add_nodes_from(end.nodes())\n",
      "h = coco.EndGraph()\n",
      "h.add_nodes_from(end.nodes())\n",
      "for source, target in end.edges_iter():\n",
      "        if end[source][target].has_key('Connection'):\n",
      "            if end[source][target]['Connection'] in ('Present', 'Absent'):\n",
      "                g.add_edge(source, target, end[source][target])\n",
      "        else:\n",
      "            source_ec = end[source][target]['EC_Source']\n",
      "            target_ec = end[source][target]['EC_Target']\n",
      "            ns = ('N', 'Nc', 'Np', 'Nx', 'Up', 'Ux', 'U')\n",
      "            if source_ec not in ns and target_ec not in ns:\n",
      "                g.add_edge(source, target, end[source][target])\n",
      "\n",
      "                \n",
      "end_s_ort=g\n"
     ],
     "language": "python",
     "metadata": {},
     "outputs": [],
     "prompt_number": 6
    },
    {
     "cell_type": "code",
     "collapsed": false,
     "input": [
      "end=endg_mort\n",
      "g = coco.EndGraph()\n",
      "g.add_nodes_from(end.nodes())\n",
      "for source, target in end.edges_iter():\n",
      "        if end[source][target].has_key('Connection'):\n",
      "            if end[source][target]['Connection'] in ('Present', 'Absent'):\n",
      "                g.add_edge(source, target, end[source][target])\n",
      "        else:\n",
      "            source_ec = end[source][target]['EC_Source']\n",
      "            target_ec = end[source][target]['EC_Target']\n",
      "            ns = ('N', 'Nc', 'Np', 'Nx', 'Up', 'Ux', 'U')\n",
      "            if source_ec not in ns and target_ec not in ns:\n",
      "                g.add_edge(source, target, end[source][target])\n",
      "\n",
      "                \n",
      "end_s_mort=g"
     ],
     "language": "python",
     "metadata": {},
     "outputs": [],
     "prompt_number": 7
    },
    {
     "cell_type": "markdown",
     "metadata": {},
     "source": [
      "#Making adjacency matrices and diff. adj. matrix"
     ]
    },
    {
     "cell_type": "code",
     "collapsed": false,
     "input": [
      "ort_matrix=nx.to_numpy_matrix(end_s_ort)\n",
      "mort_matrix=nx.to_numpy_matrix(end_s_mort)\n",
      "diff_matrix= mort_matrix - ort_matrix\n",
      "        "
     ],
     "language": "python",
     "metadata": {},
     "outputs": [],
     "prompt_number": 8
    },
    {
     "cell_type": "code",
     "collapsed": false,
     "input": [
      "range(0,int(abs(diff_matrix.sum())))"
     ],
     "language": "python",
     "metadata": {},
     "outputs": [
      {
       "output_type": "pyout",
       "prompt_number": 64,
       "text": [
        "[0, 1, 2]"
       ]
      }
     ],
     "prompt_number": 64
    },
    {
     "cell_type": "code",
     "collapsed": false,
     "input": [
      "diff_cases=np.where(diff_matrix !=0)\n",
      "diff_num=int(abs(diff_matrix.sum()))\n",
      "\n",
      "print \"there are\", diff_num, \"cases where mORT and ORT differ \\n\"\n",
      "for x in range(0, diff_num):\n",
      "        print \"cell (\", diff_cases[0][0,x],\",\", diff_cases[1][0,x], \") differs\"\n",
      "#for x in diffcase\n",
      "#print \"the cells\" diff_cases"
     ],
     "language": "python",
     "metadata": {},
     "outputs": [
      {
       "output_type": "stream",
       "stream": "stdout",
       "text": [
        "there are 3 cases where mORT and ORT differ \n",
        "\n",
        "cell ( 5 , 4 ) differs\n",
        "cell ( 5 , 6 ) differs\n",
        "cell ( 34 , 6 ) differs\n"
       ]
      }
     ],
     "prompt_number": 79
    },
    {
     "cell_type": "markdown",
     "metadata": {},
     "source": [
      "there appears to be 3 edges that differ between ORT and mORT"
     ]
    },
    {
     "cell_type": "markdown",
     "metadata": {},
     "source": [
      "#Identify problem case"
     ]
    },
    {
     "cell_type": "markdown",
     "metadata": {},
     "source": [
      "Now lets select one of the divergence cases and explore it in detail"
     ]
    },
    {
     "cell_type": "code",
     "collapsed": false,
     "input": [
      "#I put in coordinates by hand\n",
      "#('OB', 'FD') this is the edge in question\n",
      "source_i=diff_cases[0][0,2] \n",
      "target_i=diff_cases[1][0,2]\n",
      "\n",
      "source=endg_ort.nodes()[source_i]\n",
      "target=endg_ort.nodes()[target_i]\n",
      "print \"selected cell (\", source_i,\",\", target_i, \")\""
     ],
     "language": "python",
     "metadata": {},
     "outputs": [
      {
       "output_type": "stream",
       "stream": "stdout",
       "text": [
        "selected cell ( 34 , 6 )\n"
       ]
      }
     ],
     "prompt_number": 81
    },
    {
     "cell_type": "code",
     "collapsed": false,
     "input": [
      "source, target"
     ],
     "language": "python",
     "metadata": {},
     "outputs": [
      {
       "output_type": "pyout",
       "prompt_number": 14,
       "text": [
        "('OB', 'FD')"
       ]
      }
     ],
     "prompt_number": 14
    },
    {
     "cell_type": "code",
     "collapsed": false,
     "input": [
      "print \"Here is how they diverge:\"\n",
      "print \"mORT reports:   \",endg_mort[source][target]\n",
      "print \"ORT reports:    \", endg_ort[source][target]"
     ],
     "language": "python",
     "metadata": {},
     "outputs": [
      {
       "output_type": "stream",
       "stream": "stdout",
       "text": [
        "Here is how they diverge:\n",
        "mORT reports:    {'Connection': 'Unknown', 'PDC': 9.4264705882352935}\n",
        "ORT reports:     {'PDC': 9.4264705882352935, 'EC_Source': 'P', 'EC_Target': 'X'}\n"
       ]
      }
     ],
     "prompt_number": 84
    },
    {
     "cell_type": "markdown",
     "metadata": {},
     "source": [
      "##Determine which edges contributed to divergence"
     ]
    },
    {
     "cell_type": "markdown",
     "metadata": {},
     "source": [
      "##Determine input edge"
     ]
    },
    {
     "cell_type": "markdown",
     "metadata": {},
     "source": [
      "###find all mapgraph neighbors of source and target region"
     ]
    },
    {
     "cell_type": "code",
     "collapsed": false,
     "input": [
      "prefix_source=coconame +\"-\"+source\n",
      "prefix_target=coconame +\"-\"+target\n",
      "\n",
      "A=mapg.neighbors(prefix_source)\n",
      "B=mapg.neighbors(prefix_target)\n",
      "A.append(prefix_source)\n",
      "B.append(prefix_target)"
     ],
     "language": "python",
     "metadata": {},
     "outputs": [],
     "prompt_number": 16
    },
    {
     "cell_type": "markdown",
     "metadata": {},
     "source": [
      "###find all anatomical connections between all these neighbors"
     ]
    },
    {
     "cell_type": "code",
     "collapsed": false,
     "input": [
      "projs=[e for e in cong.edges() if (e[0] in A) and (e[1] in B)]\n",
      "projs"
     ],
     "language": "python",
     "metadata": {},
     "outputs": [
      {
       "output_type": "pyout",
       "prompt_number": 17,
       "text": [
        "[('B88-V2', 'B88-32'),\n",
        " ('B88-V2', 'B88-12L'),\n",
        " ('B88-V2', 'B88-12O'),\n",
        " ('B88-V2', 'B88-11')]"
       ]
      }
     ],
     "prompt_number": 17
    },
    {
     "cell_type": "code",
     "collapsed": false,
     "input": [
      "cong['B88-V2']['B88-32']"
     ],
     "language": "python",
     "metadata": {},
     "outputs": [
      {
       "output_type": "pyout",
       "prompt_number": 149,
       "text": [
        "{'Connection': 'Present',\n",
        " 'Degree': 'X',\n",
        " 'EC_Source': 'P',\n",
        " 'EC_Target': 'X',\n",
        " 'PDC_Density': 18,\n",
        " 'PDC_EC_Source': 0,\n",
        " 'PDC_EC_Target': 18,\n",
        " 'PDC_Site_Source': 0,\n",
        " 'PDC_Site_Target': 0}"
       ]
      }
     ],
     "prompt_number": 149
    },
    {
     "cell_type": "code",
     "collapsed": false,
     "input": [
      "ecs=[]\n",
      "rcs=[] #(rc:(source,a), rc: (target,b))  \n",
      "connect=[]\n",
      "for x,y in projs:\n",
      "    ecs.append((cong[x][y]['EC_Source'], cong[x][y]['EC_Target']))\n",
      "    rcs.append((mapg[x][prefix_source]['RC'], mapg[y][prefix_target]['RC']))\n",
      "    connect.append(cong[x][y]['Connection'])\n"
     ],
     "language": "python",
     "metadata": {},
     "outputs": [],
     "prompt_number": 147
    },
    {
     "cell_type": "code",
     "collapsed": false,
     "input": [
      "connect"
     ],
     "language": "python",
     "metadata": {},
     "outputs": [
      {
       "output_type": "pyout",
       "prompt_number": 19,
       "text": [
        "['Present', 'Unknown', 'Unknown', 'Unknown']"
       ]
      }
     ],
     "prompt_number": 19
    },
    {
     "cell_type": "code",
     "collapsed": false,
     "input": [
      "ecs"
     ],
     "language": "python",
     "metadata": {},
     "outputs": [
      {
       "output_type": "pyout",
       "prompt_number": 25,
       "text": [
        "[('P', 'X'), ('N', 'X'), ('N', 'X'), ('N', 'X')]"
       ]
      }
     ],
     "prompt_number": 25
    },
    {
     "cell_type": "code",
     "collapsed": false,
     "input": [
      "rcs"
     ],
     "language": "python",
     "metadata": {},
     "outputs": [
      {
       "output_type": "pyout",
       "prompt_number": 26,
       "text": [
        "[('I', 'O'), ('I', 'S'), ('I', 'S'), ('I', 'S')]"
       ]
      }
     ],
     "prompt_number": 26
    },
    {
     "cell_type": "markdown",
     "metadata": {},
     "source": [
      "Since *present* connections will contribute to the divergence, the first ec pairing ('P', 'X') is the connection we should explore "
     ]
    },
    {
     "cell_type": "markdown",
     "metadata": {},
     "source": [
      "#Now backsolve ORT"
     ]
    },
    {
     "cell_type": "markdown",
     "metadata": {},
     "source": [
      "##1) Specify input edge"
     ]
    },
    {
     "cell_type": "markdown",
     "metadata": {},
     "source": [
      "select the connection above and explore why this contributed to divergence"
     ]
    },
    {
     "cell_type": "code",
     "collapsed": false,
     "input": [
      "input_source, input_target=projs[0]# chosen by hand: this is the only edge that could cause a 'P' as source EC in ORT\n",
      "input_source, input_target"
     ],
     "language": "python",
     "metadata": {},
     "outputs": [
      {
       "output_type": "pyout",
       "prompt_number": 24,
       "text": [
        "('B88-V2', 'B88-32')"
       ]
      }
     ],
     "prompt_number": 24
    },
    {
     "cell_type": "markdown",
     "metadata": {},
     "source": [
      "##2) Areas in output map with RCs to input edge's source"
     ]
    },
    {
     "cell_type": "code",
     "collapsed": false,
     "input": [
      "output_sources=[e for e in mapg.edges() if (e[0] ==input_source) and (e[1].split('-')[0] == coconame)]\n",
      "output_sources"
     ],
     "language": "python",
     "metadata": {},
     "outputs": [
      {
       "output_type": "pyout",
       "prompt_number": 27,
       "text": [
        "[('B88-V2', 'BB47-OB')]"
       ]
      }
     ],
     "prompt_number": 27
    },
    {
     "cell_type": "markdown",
     "metadata": {},
     "source": [
      "##3) Areas in output map with RC to input edge's target"
     ]
    },
    {
     "cell_type": "code",
     "collapsed": false,
     "input": [
      "output_targets=[e for e in mapg.edges() if (e[0] ==input_target) and (e[1].split('-')[0] == coconame)]\n",
      "output_targets"
     ],
     "language": "python",
     "metadata": {},
     "outputs": [
      {
       "output_type": "pyout",
       "prompt_number": 36,
       "text": [
        "[('B88-32', 'BB47-FD'), ('B88-32', 'BB47-FC')]"
       ]
      }
     ],
     "prompt_number": 36
    },
    {
     "cell_type": "markdown",
     "metadata": {},
     "source": [
      "##4) Areas in input map with RC's to output edge's source"
     ]
    },
    {
     "cell_type": "code",
     "collapsed": false,
     "input": [
      "input_sources=[]\n",
      "input_rcs=[]\n",
      "for ival in range(len(output_sources)):\n",
      "    input_sources.append([e for e in mapg.edges() if (e[1] ==output_sources[ival][1]) and (e[0].split('-')[0]==output_sources[ival][0].split('-')[0])])"
     ],
     "language": "python",
     "metadata": {},
     "outputs": [],
     "prompt_number": 37
    },
    {
     "cell_type": "code",
     "collapsed": false,
     "input": [
      "#make this a more elegant for loop later and combine with above\n",
      "input_source_rcs=[]\n",
      "for ival in range(len(input_sources[0])):\n",
      "    input_source_rcs.append(mapg[input_sources[0][ival][0]][input_sources[0][ival][1]]['RC'])"
     ],
     "language": "python",
     "metadata": {},
     "outputs": [],
     "prompt_number": 38
    },
    {
     "cell_type": "code",
     "collapsed": false,
     "input": [
      "input_sources"
     ],
     "language": "python",
     "metadata": {},
     "outputs": [
      {
       "output_type": "pyout",
       "prompt_number": 39,
       "text": [
        "[[('B88-V2', 'BB47-OB')]]"
       ]
      }
     ],
     "prompt_number": 39
    },
    {
     "cell_type": "code",
     "collapsed": false,
     "input": [
      "input_source_rcs"
     ],
     "language": "python",
     "metadata": {},
     "outputs": [
      {
       "output_type": "pyout",
       "prompt_number": 40,
       "text": [
        "['I']"
       ]
      }
     ],
     "prompt_number": 40
    },
    {
     "cell_type": "markdown",
     "metadata": {},
     "source": [
      "##5) Areas in input map with RC's to output edge's target"
     ]
    },
    {
     "cell_type": "code",
     "collapsed": false,
     "input": [
      "#ival=range(len(output_targets))\n",
      "input_targets=[]\n",
      "for ival in range(len(output_targets)):\n",
      "    input_targets.append([e for e in mapg.edges() if (e[1] ==output_targets[ival][1]) and (e[0].split('-')[0]==output_targets[ival][0].split('-')[0])])"
     ],
     "language": "python",
     "metadata": {},
     "outputs": [],
     "prompt_number": 41
    },
    {
     "cell_type": "code",
     "collapsed": false,
     "input": [
      "#make this a more elegant for loop later and combine with above --> still broken\n",
      "input_target_rcs=[]\n",
      "for jval in range(len(input_targets)):\n",
      "    for ival in range(len(input_targets[jval])):\n",
      "        input_target_rcs.append(mapg[input_targets[jval][ival][0]][input_targets[jval][ival][1]]['RC'])"
     ],
     "language": "python",
     "metadata": {},
     "outputs": [],
     "prompt_number": 42
    },
    {
     "cell_type": "code",
     "collapsed": false,
     "input": [
      "input_targets"
     ],
     "language": "python",
     "metadata": {},
     "outputs": [
      {
       "output_type": "pyout",
       "prompt_number": 45,
       "text": [
        "[[('B88-32', 'BB47-FD'),\n",
        "  ('B88-12L', 'BB47-FD'),\n",
        "  ('B88-12O', 'BB47-FD'),\n",
        "  ('B88-8D', 'BB47-FD'),\n",
        "  ('B88-8B', 'BB47-FD'),\n",
        "  ('B88-9', 'BB47-FD'),\n",
        "  ('B88-10', 'BB47-FD'),\n",
        "  ('B88-11', 'BB47-FD')],\n",
        " [('B88-32', 'BB47-FC')]]"
       ]
      }
     ],
     "prompt_number": 45
    },
    {
     "cell_type": "code",
     "collapsed": false,
     "input": [
      "input_target_rcs"
     ],
     "language": "python",
     "metadata": {},
     "outputs": [
      {
       "output_type": "pyout",
       "prompt_number": 46,
       "text": [
        "['O', 'S', 'S', 'S', 'S', 'S', 'S', 'S', 'O']"
       ]
      }
     ],
     "prompt_number": 46
    },
    {
     "cell_type": "markdown",
     "metadata": {},
     "source": [
      "##6) Gather and reduce source and target ECs of input areas"
     ]
    },
    {
     "cell_type": "code",
     "collapsed": false,
     "input": [
      "#this example has 2 input_sources and 5 input_targets\n",
      "x= 0#source input iterator\n",
      "y= 0# target input iterator1\n",
      "yy= 7 #target input iterator 2\n",
      "(input_sources[0][x][0], input_targets[y][yy][0])"
     ],
     "language": "python",
     "metadata": {},
     "outputs": [
      {
       "output_type": "pyout",
       "prompt_number": 140,
       "text": [
        "('B88-V2', 'B88-11')"
       ]
      }
     ],
     "prompt_number": 140
    },
    {
     "cell_type": "code",
     "collapsed": false,
     "input": [
      "try:\n",
      "    cong[input_sources[0][x][0]][input_targets[y][yy][0]]\n",
      "except KeyError:\n",
      "    input_source_ec='U'\n",
      "    input_target_ec='U'\n",
      "    input_connection ='Unknown'\n",
      "else:\n",
      "    input_source_ec=cong[input_sources[0][x][0]][input_targets[y][yy][0]]['EC_Source']\n",
      "    input_target_ec=cong[input_sources[0][x][0]][input_targets[y][yy][0]]['EC_Target']\n",
      "    input_connect=cong[input_sources[0][x][0]][input_targets[y][yy][0]]['Connection']                \n",
      "\n",
      "(input_sources[0][x][0], input_targets[y][yy][0])"
     ],
     "language": "python",
     "metadata": {},
     "outputs": [
      {
       "output_type": "pyout",
       "prompt_number": 141,
       "text": [
        "('B88-V2', 'B88-11')"
       ]
      }
     ],
     "prompt_number": 141
    },
    {
     "cell_type": "code",
     "collapsed": false,
     "input": [
      "input_source_ec"
     ],
     "language": "python",
     "metadata": {},
     "outputs": [
      {
       "output_type": "pyout",
       "prompt_number": 142,
       "text": [
        "'N'"
       ]
      }
     ],
     "prompt_number": 142
    },
    {
     "cell_type": "code",
     "collapsed": false,
     "input": [
      "input_target_ec"
     ],
     "language": "python",
     "metadata": {},
     "outputs": [
      {
       "output_type": "pyout",
       "prompt_number": 143,
       "text": [
        "'X'"
       ]
      }
     ],
     "prompt_number": 143
    },
    {
     "cell_type": "code",
     "collapsed": false,
     "input": [
      "input_connect"
     ],
     "language": "python",
     "metadata": {},
     "outputs": [
      {
       "output_type": "pyout",
       "prompt_number": 130,
       "text": [
        "'Unknown'"
       ]
      }
     ],
     "prompt_number": 130
    },
    {
     "cell_type": "code",
     "collapsed": false,
     "input": [
      "input_source_ec=['P']\n",
      "input_target_ec= ['X', 'X', 'X', 'U', 'U', 'U', 'U', 'X']"
     ],
     "language": "python",
     "metadata": {},
     "outputs": [],
     "prompt_number": 131
    },
    {
     "cell_type": "code",
     "collapsed": false,
     "input": [
      "input_target_rcs[:8]"
     ],
     "language": "python",
     "metadata": {},
     "outputs": [
      {
       "output_type": "pyout",
       "prompt_number": 144,
       "text": [
        "['O', 'S', 'S', 'S', 'S', 'S', 'S', 'S']"
       ]
      }
     ],
     "prompt_number": 144
    },
    {
     "cell_type": "markdown",
     "metadata": {},
     "source": [
      "\n",
      "##7) Apply at_logic"
     ]
    },
    {
     "cell_type": "markdown",
     "metadata": {},
     "source": [
      "\n",
      "###source side first"
     ]
    },
    {
     "cell_type": "code",
     "collapsed": false,
     "input": [
      "input_source_rcs, input_source_ec"
     ],
     "language": "python",
     "metadata": {},
     "outputs": [
      {
       "output_type": "pyout",
       "prompt_number": 284,
       "text": [
        "(['I'], ['P'])"
       ]
      }
     ],
     "prompt_number": 284
    },
    {
     "cell_type": "code",
     "collapsed": false,
     "input": [
      "ort_test=coco.EndGraph()\n",
      "rcs= input_source_rcs\n",
      "ecs= input_source_ec\n",
      "ort_test._at_logic(ecs, rcs)"
     ],
     "language": "python",
     "metadata": {},
     "outputs": [
      {
       "output_type": "pyout",
       "prompt_number": 285,
       "text": [
        "'P'"
       ]
      }
     ],
     "prompt_number": 285
    },
    {
     "cell_type": "markdown",
     "metadata": {},
     "source": [
      "\n",
      "###now target side"
     ]
    },
    {
     "cell_type": "code",
     "collapsed": false,
     "input": [
      "input_target_rcs, input_target_ec"
     ],
     "language": "python",
     "metadata": {},
     "outputs": [
      {
       "output_type": "pyout",
       "prompt_number": 286,
       "text": [
        "(['O', 'S', 'S', 'S', 'S', 'S', 'S', 'S', 'O'],\n",
        " ['X', 'X', 'X', 'U', 'U', 'U', 'U', 'X'])"
       ]
      }
     ],
     "prompt_number": 286
    },
    {
     "cell_type": "code",
     "collapsed": false,
     "input": [
      "ort_test=coco.EndGraph()\n",
      "rcs= input_target_rcs[:8]\n",
      "ecs= input_target_ec\n",
      "ort_test._at_logic(ecs, rcs)"
     ],
     "language": "python",
     "metadata": {},
     "outputs": [
      {
       "output_type": "pyout",
       "prompt_number": 287,
       "text": [
        "'X'"
       ]
      }
     ],
     "prompt_number": 287
    },
    {
     "cell_type": "markdown",
     "metadata": {},
     "source": [
      "Summarizing: Working by hand, we found that ORT produces EC[P,X] for BB47-OB to BB47-FD. This is a mistranslation because logically, no one edge in all of our inputs contained sufficient information to lead to a present connection"
     ]
    },
    {
     "cell_type": "code",
     "collapsed": false,
     "input": [
      "input_edges=[]\n",
      "for ival in range(len(projs)):\n",
      "    input_edges.append([projs[ival]])\n",
      "    \n",
      "print input_edges"
     ],
     "language": "python",
     "metadata": {},
     "outputs": [
      {
       "output_type": "stream",
       "stream": "stdout",
       "text": [
        "[[('B09-18', 'VP87-32')], [('B88-V2', 'B88-32')], [('B88-V2', 'B88-12L')], [('B88-V2', 'B88-12O')], [('B88-V2', 'B88-11')]]\n"
       ]
      }
     ],
     "prompt_number": 194
    },
    {
     "cell_type": "code",
     "collapsed": false,
     "input": [
      "empty_end=coco.EndGraph()\n",
      "input_edge =input_edges[1]\n",
      "endgname=empty_end\n",
      "add_translated_edge.add_translated_edge(endgname, mapg, cong, 'BB47', 'original', input_edge)\n",
      "empty_end[source][target]"
     ],
     "language": "python",
     "metadata": {},
     "outputs": [
      {
       "output_type": "pyout",
       "prompt_number": 288,
       "text": [
        "{'EC_Source': 'P', 'EC_Target': 'X', 'PDC': 9.4264705882352935}"
       ]
      }
     ],
     "prompt_number": 288
    },
    {
     "cell_type": "code",
     "collapsed": false,
     "input": [
      "empty_end=coco.EndGraph()\n",
      "orig_s_ecs = {'B88-V2': 'P'}\n",
      "orig_t_ecs= {'B88-32':'X', 'B88-12L':'X', 'B88-8D':'X', 'B88-8B':'U', 'B88-9':'U', 'B88-10':'U', 'B88-11':'X'}\n",
      "original_sources= (['B88-V2'])\n",
      "original_targets=['B88-32', 'B88-12L', 'B88-8D', 'B88-8B', 'B88-9', 'B88-10', 'B88-11']\n",
      "s,t,=empty_end._take_most_extensive_ec(orig_s_ecs, original_sources, orig_t_ecs, original_targets)"
     ],
     "language": "python",
     "metadata": {},
     "outputs": [],
     "prompt_number": 237
    },
    {
     "cell_type": "code",
     "collapsed": false,
     "input": [
      "s,t"
     ],
     "language": "python",
     "metadata": {},
     "outputs": [
      {
       "output_type": "pyout",
       "prompt_number": 239,
       "text": [
        "(['P'], ['X', 'X', 'X', 'U', 'U', 'U', 'X'])"
       ]
      }
     ],
     "prompt_number": 239
    },
    {
     "cell_type": "markdown",
     "metadata": {},
     "source": [
      "###Scratch"
     ]
    },
    {
     "cell_type": "code",
     "collapsed": false,
     "input": [],
     "language": "python",
     "metadata": {},
     "outputs": []
    }
   ],
   "metadata": {}
  }
 ]
}