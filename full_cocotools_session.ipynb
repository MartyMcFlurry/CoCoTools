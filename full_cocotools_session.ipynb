{
 "metadata": {
  "name": "full_cocotools_session"
 },
 "nbformat": 3,
 "nbformat_minor": 0,
 "worksheets": [
  {
   "cells": [
    {
     "cell_type": "code",
     "collapsed": false,
     "input": [
      "pwd"
     ],
     "language": "python",
     "metadata": {},
     "outputs": [
      {
       "output_type": "pyout",
       "prompt_number": 1,
       "text": [
        "u'C:\\\\Users\\\\Robert\\\\cocomac\\\\cocomac-tools'"
       ]
      }
     ],
     "prompt_number": 1
    },
    {
     "cell_type": "code",
     "collapsed": true,
     "input": [
      "import cocotools as coco"
     ],
     "language": "python",
     "metadata": {},
     "outputs": [],
     "prompt_number": 2
    },
    {
     "cell_type": "code",
     "collapsed": false,
     "input": [
      "import networkx as nx #for plotting and computing metrics\n",
      "import matplotlib.pyplot as plt #for plotting as well"
     ],
     "language": "python",
     "metadata": {},
     "outputs": [],
     "prompt_number": 3
    },
    {
     "cell_type": "markdown",
     "metadata": {},
     "source": [
      "###Mapping and Connectivity Query"
     ]
    },
    {
     "cell_type": "markdown",
     "metadata": {},
     "source": [
      "The multi_map_ebunch function is designed to query the CoCoMac server for data from several parcellation schemes.  The first argument to the function is a string specifying whether mapping or connectivity information is desired.  The second argument, which is optional, specifies which brain maps should be queried; if no argument is given, data is sought for all brain maps in CoCoMac.  CoCoTools includes two constants that are useful second arguments to multi_map_ebunch: MAPPING_SOURCES is a list of those maps for which Mapping data have been entered into CoCoMac, and CONNECTIVITY_SOURCES is the corresponding list for maps with Connectivity data.\n",
      "\n",
      "multi_map_ebunch returns two lists: The first contains edges suitable for a NetworkX DiGraph, and the second holds the maps for which no data were returned from the CoCoMac server.  Brain maps whose queries are known to cause CoCoMac server timeouts are listed in the CoCoTools constants MAPPING_TIMEOUTS and CONNECTIVITY_TIMEOUTS. These brain maps can be queried separately using the \"query_maps_by_area\" function.\n",
      "\n",
      "Whenever a query of the CoCoMac server is made using CoCoTools, the server's response (provided in XML format) is stored in a local SQLite database (cocotools.sqlite), located in the .cache directory within the user's home directory.  This ensures rapid retrieval of results for repeated queries at a small memory cost (80 MB maximum)."
     ]
    },
    {
     "cell_type": "code",
     "collapsed": true,
     "input": [
      "map_bunch, map_failures = coco.multi_map_ebunch('Mapping', coco.MAPPING_NON_TIMEOUTS)"
     ],
     "language": "python",
     "metadata": {},
     "outputs": [],
     "prompt_number": 4
    },
    {
     "cell_type": "markdown",
     "metadata": {},
     "source": [
      "In the case of a Mapping query, each edge that multi_map_ebunch returns is a tuple that represents a directed spatial relationship between two brain areas.  In the tuple, the source area is listed first, and both areas are specified in full CoCoMac format.  A dictionary of edge attributes is the third entry in the tuple, with a PDC and an RC.  Numeric rather than alphabetic codes are used for PDCs in CoCoTools: Starting at zero, the numeric code refers to the index in the hierarchy recommended by Kotter & Wanke (2005) of the original alphabetic PDC.  An additional numeric code, 18, is included for CoCoMac data entries without a PDC.  In CoCoTools, lesser PDCs are valued more highly than greater ones.  The alphabetic hierarchy of Kotter & Wanke (2005) is available in CoCoTools as the constant PDC_HIER."
     ]
    },
    {
     "cell_type": "code",
     "collapsed": true,
     "input": [
      "con_bunch, con_failures = coco.multi_map_ebunch('Connectivity', coco.CONNECTIVITY_NON_TIMEOUTS)"
     ],
     "language": "python",
     "metadata": {},
     "outputs": [],
     "prompt_number": 5
    },
    {
     "cell_type": "markdown",
     "metadata": {},
     "source": [
      "For Connectivity queries, the edges returned represent directed anatomical connections.  As for Mapping queries, each edge has a source area, a target area, and a dictionary of attributes.  The attributes specify whether the connection is present or known to be absent, its degree (or density), the ECs for the source and target, and PDCs for each brain area (or site), the ECs, and the density.**"
     ]
    },
    {
     "cell_type": "markdown",
     "metadata": {},
     "source": [
      "The Mapping edges are meant to be added to a MapGraph and the Connectivity edges are meant to be added to a ConGraph. Whenever an edge is added to a MapGraph, so is its reciprocal: For example, when an edge is added to the effect that area A is smaller than B, the corresponding edge implying that area B is larger than area A is also added."
     ]
    },
    {
     "cell_type": "markdown",
     "metadata": {},
     "source": [
      "###Query maps by area"
     ]
    },
    {
     "cell_type": "markdown",
     "metadata": {},
     "source": [
      "Querying of studies containing large amounts of data cause the cocomac server to timeout. However data from these studies can be gathered by using the \"query_maps_by_area\" function.  This function individually queries each area within each study passed to it."
     ]
    },
    {
     "cell_type": "code",
     "collapsed": false,
     "input": [
      "mbunch2, mfailures2 = coco.query_maps_by_area('Mapping', coco.MAPPING_TIMEOUTS) # Note I'm querying the timeouts here and below.\n",
      "cbunch2, cfailures2 = coco.query_maps_by_area('Connectivity',coco.CONNECTIVITY_TIMEOUTS)"
     ],
     "language": "python",
     "metadata": {},
     "outputs": [],
     "prompt_number": 6
    },
    {
     "cell_type": "markdown",
     "metadata": {},
     "source": [
      "Now adding the mapping and connectivity queries together"
     ]
    },
    {
     "cell_type": "code",
     "collapsed": false,
     "input": [
      "mapg = coco.MapGraph()\n",
      "mapg.add_edges_from(map_bunch + mbunch2) # Adding two lists together appends the items in the second to the first.\n",
      "\n",
      "cong = coco.ConGraph()\n",
      "cong.add_edges_from(con_bunch + cbunch2)"
     ],
     "language": "python",
     "metadata": {},
     "outputs": [],
     "prompt_number": 8
    },
    {
     "cell_type": "code",
     "collapsed": false,
     "input": [
      "mapg.size()"
     ],
     "language": "python",
     "metadata": {},
     "outputs": [
      {
       "output_type": "pyout",
       "prompt_number": 9,
       "text": [
        "16406"
       ]
      }
     ],
     "prompt_number": 9
    },
    {
     "cell_type": "code",
     "collapsed": false,
     "input": [
      "mapg.edge['PP94-46']"
     ],
     "language": "python",
     "metadata": {},
     "outputs": [
      {
       "output_type": "pyout",
       "prompt_number": 10,
       "text": [
        "{'B09-10': {'PDC': 2, 'RC': 'O', 'TP': []},\n",
        " 'B09-9': {'PDC': 2, 'RC': 'O', 'TP': []},\n",
        " 'CP99-46': {'PDC': 15, 'RC': 'I', 'TP': []},\n",
        " 'PHT00-46': {'PDC': 15, 'RC': 'I', 'TP': []},\n",
        " 'PP99-46': {'PDC': 15, 'RC': 'I', 'TP': []},\n",
        " 'W40-46': {'PDC': 2, 'RC': 'S', 'TP': []}}"
       ]
      }
     ],
     "prompt_number": 10
    },
    {
     "cell_type": "code",
     "collapsed": false,
     "input": [
      "cong.size()"
     ],
     "language": "python",
     "metadata": {},
     "outputs": [
      {
       "output_type": "pyout",
       "prompt_number": 11,
       "text": [
        "24044"
       ]
      }
     ],
     "prompt_number": 11
    },
    {
     "cell_type": "code",
     "collapsed": false,
     "input": [
      "cong.degree('PP94-46')"
     ],
     "language": "python",
     "metadata": {},
     "outputs": [
      {
       "output_type": "pyout",
       "prompt_number": 12,
       "text": [
        "9"
       ]
      }
     ],
     "prompt_number": 12
    },
    {
     "cell_type": "code",
     "collapsed": false,
     "input": [
      "G=nx.DiGraph()\n",
      "G.add_edges_from(cong.edges('PP94-9/46D'))\n",
      "nx.draw(G)\n",
      "plt.show()"
     ],
     "language": "python",
     "metadata": {},
     "outputs": [
      {
       "ename": "TypeError",
       "evalue": "'int' object is not callable",
       "output_type": "pyerr",
       "traceback": [
        "\u001b[1;31m---------------------------------------------------------------------------\u001b[0m\n\u001b[1;31mTypeError\u001b[0m                                 Traceback (most recent call last)",
        "\u001b[1;32mC:\\Python27\\lib\\site-packages\\matplotlib\\backends\\backend_wx.pyc\u001b[0m in \u001b[0;36m_onIdle\u001b[1;34m(self, evt)\u001b[0m\n\u001b[0;32m   1246\u001b[0m         \u001b[1;32mreturn\u001b[0m \u001b[0mkey\u001b[0m\u001b[1;33m\u001b[0m\u001b[0m\n\u001b[0;32m   1247\u001b[0m \u001b[1;33m\u001b[0m\u001b[0m\n\u001b[1;32m-> 1248\u001b[1;33m     \u001b[1;32mdef\u001b[0m \u001b[0m_onIdle\u001b[0m\u001b[1;33m(\u001b[0m\u001b[0mself\u001b[0m\u001b[1;33m,\u001b[0m \u001b[0mevt\u001b[0m\u001b[1;33m)\u001b[0m\u001b[1;33m:\u001b[0m\u001b[1;33m\u001b[0m\u001b[0m\n\u001b[0m\u001b[0;32m   1249\u001b[0m         \u001b[1;34m'a GUI idle event'\u001b[0m\u001b[1;33m\u001b[0m\u001b[0m\n\u001b[0;32m   1250\u001b[0m         \u001b[0mevt\u001b[0m\u001b[1;33m.\u001b[0m\u001b[0mSkip\u001b[0m\u001b[1;33m(\u001b[0m\u001b[1;33m)\u001b[0m\u001b[1;33m\u001b[0m\u001b[0m\n",
        "\u001b[1;31mTypeError\u001b[0m: 'int' object is not callable"
       ]
      }
     ],
     "prompt_number": "*"
    },
    {
     "cell_type": "markdown",
     "metadata": {},
     "source": [
      "#Pre-Processing"
     ]
    },
    {
     "cell_type": "raw",
     "metadata": {},
     "source": [
      "While developing CoCoTools we discovered numerous omissions and errors in the Mapping section of the CoCoMac database.  Calling the clean_data method of MapGraph rectifies these."
     ]
    },
    {
     "cell_type": "code",
     "collapsed": true,
     "input": [
      "mapg.clean_data()"
     ],
     "language": "python",
     "metadata": {},
     "outputs": [],
     "prompt_number": "*"
    },
    {
     "cell_type": "raw",
     "metadata": {},
     "source": [
      "In order for ORT to be performed, each parcellation scheme must be represented at a single level of resolution.  The MapGraph method keep_only_one_level_of_resolution is designed to reduce the many overlapping areas from the same map in the CoCoMac database to a set of disjoint areas.  Within a single map, the level of resolution with the most reported anatomical connections (in ConGraph) is kept.  In the event of a tie, the finer level of resolution is kept except in the case of the target map for ORT ('PHT00' below), for which the coarser level is kept.  This bias maximizes the translatability of information between maps during ORT.  When levels are discarded, areas are removed from both the MapGraph and its corresponding ConGraph, but, when possible, relational and connectivity information for the discarded levels are retained in the one that is kept."
     ]
    },
    {
     "cell_type": "code",
     "collapsed": true,
     "input": [
      "cong = mapg.keep_only_one_level_of_resolution(cong, 'PHT00')"
     ],
     "language": "python",
     "metadata": {},
     "outputs": [
      {
       "ename": "MapGraphError",
       "evalue": "GM-GN has different RCs to disjoint nodes in\nits own map.",
       "output_type": "pyerr",
       "traceback": [
        "\u001b[1;31m---------------------------------------------------------------------------\u001b[0m\n\u001b[1;31mMapGraphError\u001b[0m                             Traceback (most recent call last)",
        "\u001b[1;32m<ipython-input-52-5547960d1c3b>\u001b[0m in \u001b[0;36m<module>\u001b[1;34m()\u001b[0m\n\u001b[1;32m----> 1\u001b[1;33m \u001b[0mcong\u001b[0m \u001b[1;33m=\u001b[0m \u001b[0mmapg\u001b[0m\u001b[1;33m.\u001b[0m\u001b[0mkeep_only_one_level_of_resolution\u001b[0m\u001b[1;33m(\u001b[0m\u001b[0mcong\u001b[0m\u001b[1;33m,\u001b[0m \u001b[1;34m'PHT00'\u001b[0m\u001b[1;33m)\u001b[0m\u001b[1;33m\u001b[0m\u001b[0m\n\u001b[0m",
        "\u001b[1;32mC:\\Users\\Robert\\cocomac\\cocomac-tools\\cocotools\\mapgraph.pyc\u001b[0m in \u001b[0;36mkeep_only_one_level_of_resolution\u001b[1;34m(self, cong, target_map)\u001b[0m\n\u001b[0;32m   1626\u001b[0m             \u001b[1;32mif\u001b[0m \u001b[0msource\u001b[0m\u001b[1;33m.\u001b[0m\u001b[0msplit\u001b[0m\u001b[1;33m(\u001b[0m\u001b[1;34m'-'\u001b[0m\u001b[1;33m)\u001b[0m\u001b[1;33m[\u001b[0m\u001b[1;36m0\u001b[0m\u001b[1;33m]\u001b[0m \u001b[1;33m==\u001b[0m \u001b[0mtarget\u001b[0m\u001b[1;33m.\u001b[0m\u001b[0msplit\u001b[0m\u001b[1;33m(\u001b[0m\u001b[1;34m'-'\u001b[0m\u001b[1;33m)\u001b[0m\u001b[1;33m[\u001b[0m\u001b[1;36m0\u001b[0m\u001b[1;33m]\u001b[0m\u001b[1;33m:\u001b[0m\u001b[1;33m\u001b[0m\u001b[0m\n\u001b[0;32m   1627\u001b[0m                 \u001b[0mintramap_nodes\u001b[0m\u001b[1;33m.\u001b[0m\u001b[0mupdate\u001b[0m\u001b[1;33m(\u001b[0m\u001b[1;33m[\u001b[0m\u001b[0msource\u001b[0m\u001b[1;33m,\u001b[0m \u001b[0mtarget\u001b[0m\u001b[1;33m]\u001b[0m\u001b[1;33m)\u001b[0m\u001b[1;33m\u001b[0m\u001b[0m\n\u001b[1;32m-> 1628\u001b[1;33m         \u001b[0mmap_hierarchies\u001b[0m \u001b[1;33m=\u001b[0m \u001b[0mself\u001b[0m\u001b[1;33m.\u001b[0m\u001b[0m_determine_hierarchies\u001b[0m\u001b[1;33m(\u001b[0m\u001b[0mintramap_nodes\u001b[0m\u001b[1;33m)\u001b[0m\u001b[1;33m\u001b[0m\u001b[0m\n\u001b[0m\u001b[0;32m   1629\u001b[0m         \u001b[1;32mfor\u001b[0m \u001b[0mhierarchy\u001b[0m \u001b[1;32min\u001b[0m \u001b[0mmap_hierarchies\u001b[0m\u001b[1;33m.\u001b[0m\u001b[0mitervalues\u001b[0m\u001b[1;33m(\u001b[0m\u001b[1;33m)\u001b[0m\u001b[1;33m:\u001b[0m\u001b[1;33m\u001b[0m\u001b[0m\n\u001b[0;32m   1630\u001b[0m             \u001b[0mself\u001b[0m\u001b[1;33m.\u001b[0m\u001b[0m_keep_one_level\u001b[0m\u001b[1;33m(\u001b[0m\u001b[0mhierarchy\u001b[0m\u001b[1;33m,\u001b[0m \u001b[0mtarget_map\u001b[0m\u001b[1;33m)\u001b[0m\u001b[1;33m\u001b[0m\u001b[0m\n",
        "\u001b[1;32mC:\\Users\\Robert\\cocomac\\cocomac-tools\\cocotools\\mapgraph.pyc\u001b[0m in \u001b[0;36m_determine_hierarchies\u001b[1;34m(self, intramap_nodes)\u001b[0m\n\u001b[0;32m    755\u001b[0m                 \u001b[0mhierarchies\u001b[0m\u001b[1;33m[\u001b[0m\u001b[0mbrain_map\u001b[0m\u001b[1;33m]\u001b[0m \u001b[1;33m=\u001b[0m \u001b[1;33m{\u001b[0m\u001b[1;33m}\u001b[0m\u001b[1;33m\u001b[0m\u001b[0m\n\u001b[0;32m    756\u001b[0m             \u001b[0mhierarchy\u001b[0m \u001b[1;33m=\u001b[0m \u001b[0mhierarchies\u001b[0m\u001b[1;33m[\u001b[0m\u001b[0mbrain_map\u001b[0m\u001b[1;33m]\u001b[0m\u001b[1;33m\u001b[0m\u001b[0m\n\u001b[1;32m--> 757\u001b[1;33m             \u001b[0mhierarchies\u001b[0m\u001b[1;33m[\u001b[0m\u001b[0mbrain_map\u001b[0m\u001b[1;33m]\u001b[0m \u001b[1;33m=\u001b[0m \u001b[0mself\u001b[0m\u001b[1;33m.\u001b[0m\u001b[0m_add_to_hierarchy\u001b[0m\u001b[1;33m(\u001b[0m\u001b[0mnode\u001b[0m\u001b[1;33m,\u001b[0m \u001b[0mhierarchy\u001b[0m\u001b[1;33m)\u001b[0m\u001b[1;33m\u001b[0m\u001b[0m\n\u001b[0m\u001b[0;32m    758\u001b[0m         \u001b[1;32mreturn\u001b[0m \u001b[0mhierarchies\u001b[0m\u001b[1;33m\u001b[0m\u001b[0m\n\u001b[0;32m    759\u001b[0m \u001b[1;33m\u001b[0m\u001b[0m\n",
        "\u001b[1;32mC:\\Users\\Robert\\cocomac\\cocomac-tools\\cocotools\\mapgraph.pyc\u001b[0m in \u001b[0;36m_add_to_hierarchy\u001b[1;34m(self, node_x, hierarchy)\u001b[0m\n\u001b[0;32m    711\u001b[0m         \"\"\"\n\u001b[0;32m    712\u001b[0m         related_to_x, rc = self._relate_node_to_others(node_x,\n\u001b[1;32m--> 713\u001b[1;33m                                                        hierarchy.keys())\n\u001b[0m\u001b[0;32m    714\u001b[0m         \u001b[1;32mif\u001b[0m \u001b[0mrc\u001b[0m \u001b[1;33m==\u001b[0m \u001b[1;34m'L'\u001b[0m\u001b[1;33m:\u001b[0m\u001b[1;33m\u001b[0m\u001b[0m\n\u001b[0;32m    715\u001b[0m             \u001b[1;31m# node_x is at a level higher than the highest one in\u001b[0m\u001b[1;33m\u001b[0m\u001b[1;33m\u001b[0m\u001b[0m\n",
        "\u001b[1;32mC:\\Users\\Robert\\cocomac\\cocomac-tools\\cocotools\\mapgraph.pyc\u001b[0m in \u001b[0;36m_relate_node_to_others\u001b[1;34m(self, node_x, others)\u001b[0m\n\u001b[0;32m    680\u001b[0m         \u001b[1;32mif\u001b[0m \u001b[0mL_count\u001b[0m \u001b[1;33m+\u001b[0m \u001b[0mi_count\u001b[0m \u001b[1;33m+\u001b[0m \u001b[0ms_count\u001b[0m \u001b[1;33m>\u001b[0m \u001b[1;36m1\u001b[0m\u001b[1;33m:\u001b[0m\u001b[1;33m\u001b[0m\u001b[0m\n\u001b[0;32m    681\u001b[0m             raise MapGraphError(\"\"\"%s has different RCs to disjoint nodes in\n\u001b[1;32m--> 682\u001b[1;33m its own map.\"\"\" % node_x)\n\u001b[0m\u001b[0;32m    683\u001b[0m         \u001b[1;32mif\u001b[0m \u001b[0mL_count\u001b[0m\u001b[1;33m:\u001b[0m\u001b[1;33m\u001b[0m\u001b[0m\n\u001b[0;32m    684\u001b[0m             \u001b[1;32mreturn\u001b[0m \u001b[0mx_is_larger\u001b[0m\u001b[1;33m,\u001b[0m \u001b[1;34m'L'\u001b[0m\u001b[1;33m\u001b[0m\u001b[0m\n",
        "\u001b[1;31mMapGraphError\u001b[0m: GM-GN has different RCs to disjoint nodes in\nits own map."
       ]
      }
     ],
     "prompt_number": 52
    },
    {
     "cell_type": "raw",
     "metadata": {},
     "source": [
      "With no overlap among areas from the same map, the method from Stephan et al. (2000) for deducing implicit spatial relationships based on those explicit in the dataset can be performed using the deduce_edges method.  However, rather than use the finite automaton of Stephan et al. (2000) for resolving chains of relations to a single RC, CoCoTools uses Table 2 of Kotter & Wanke (2005)."
     ]
    },
    {
     "cell_type": "code",
     "collapsed": true,
     "input": [
      " mapg.deduce_edges()"
     ],
     "language": "python",
     "metadata": {},
     "outputs": [],
     "prompt_number": 14
    },
    {
     "cell_type": "markdown",
     "metadata": {},
     "source": [
      "#Coordinate-free Registration"
     ]
    },
    {
     "cell_type": "raw",
     "metadata": {},
     "source": [
      "With new relations deduced and added to the MapGraph, the end stage of ORT -- the algebra of transformation (AT) -- can be performed.  This is done in CoCoTools using the EndGraph object and its method add_translated_edges."
     ]
    },
    {
     "cell_type": "code",
     "collapsed": true,
     "input": [
      "endg = coco.EndGraph()"
     ],
     "language": "python",
     "metadata": {},
     "outputs": [],
     "prompt_number": 15
    },
    {
     "cell_type": "code",
     "collapsed": true,
     "input": [
      "endg.add_translated_edges(mapg, cong, 'PHT00', 'original')"
     ],
     "language": "python",
     "metadata": {},
     "outputs": [],
     "prompt_number": 16
    },
    {
     "cell_type": "code",
     "collapsed": true,
     "input": [
      "endg_mort=coco.EndGraph()"
     ],
     "language": "python",
     "metadata": {},
     "outputs": [],
     "prompt_number": 19
    },
    {
     "cell_type": "code",
     "collapsed": false,
     "input": [
      "endg_mort.add_translated_edges(mapg, cong, 'PHT00', 'modified')"
     ],
     "language": "python",
     "metadata": {},
     "outputs": [],
     "prompt_number": 20
    },
    {
     "cell_type": "markdown",
     "metadata": {},
     "source": [
      "#Plotting"
     ]
    },
    {
     "cell_type": "code",
     "collapsed": false,
     "input": [
      "endg_mort.number_of_edges()"
     ],
     "language": "python",
     "metadata": {},
     "outputs": [
      {
       "output_type": "pyout",
       "prompt_number": 23,
       "text": [
        "603"
       ]
      }
     ],
     "prompt_number": 23
    },
    {
     "cell_type": "code",
     "collapsed": false,
     "input": [
      "endg_mort.nodes()\n"
     ],
     "language": "python",
     "metadata": {},
     "outputs": [
      {
       "ename": "NameError",
       "evalue": "name 'endg_mort' is not defined",
       "output_type": "pyerr",
       "traceback": [
        "\u001b[1;31m---------------------------------------------------------------------------\u001b[0m\n\u001b[1;31mNameError\u001b[0m                                 Traceback (most recent call last)",
        "\u001b[1;32m<ipython-input-56-82dc4101debd>\u001b[0m in \u001b[0;36m<module>\u001b[1;34m()\u001b[0m\n\u001b[1;32m----> 1\u001b[1;33m \u001b[0mendg_mort\u001b[0m\u001b[1;33m.\u001b[0m\u001b[0mnodes\u001b[0m\u001b[1;33m(\u001b[0m\u001b[1;33m)\u001b[0m\u001b[1;33m\u001b[0m\u001b[0m\n\u001b[0m",
        "\u001b[1;31mNameError\u001b[0m: name 'endg_mort' is not defined"
       ]
      }
     ],
     "prompt_number": 56
    },
    {
     "cell_type": "code",
     "collapsed": false,
     "input": [
      "import cocotools as coco\n",
      "import pickle\n",
      "import networkx as nx\n",
      "mapg=pickle.load(open('post_deduce_fullmapg.pck'))\n",
      "cong=pickle.load(open('post_deduce_fullcong.pck'))\n",
      "endg_orig=coco.EndGraph()\n",
      "endg_mort=coco.EndGraph()"
     ],
     "language": "python",
     "metadata": {},
     "outputs": [],
     "prompt_number": 1
    },
    {
     "cell_type": "code",
     "collapsed": false,
     "input": [
      "endg_orig.add_translated_edges(mapg, cong, 'PHT00', 'original')"
     ],
     "language": "python",
     "metadata": {},
     "outputs": [],
     "prompt_number": 2
    },
    {
     "cell_type": "markdown",
     "metadata": {},
     "source": [
      "##Playing and analyses"
     ]
    },
    {
     "cell_type": "code",
     "collapsed": false,
     "input": [
      "ort_clust=coco.directed_clustering(endg_orig)\n",
      "ort_cpl=coco.directed_char_path_length(endg_orig)"
     ],
     "language": "python",
     "metadata": {},
     "outputs": [
      {
       "output_type": "stream",
       "stream": "stderr",
       "text": [
        "cocotools\\stats.py:52: RuntimeWarning: invalid value encountered in true_divide\n",
        "  L = np.nan_to_num(n_path_array / n_path_array)\n",
        "cocotools\\stats.py:66: RuntimeWarning: invalid value encountered in true_divide\n",
        "  L = np.nan_to_num(n_path_array / n_path_array) * D_zeros\n"
       ]
      }
     ],
     "prompt_number": 3
    },
    {
     "cell_type": "code",
     "collapsed": false,
     "input": [
      "endg_orig.out_degree()"
     ],
     "language": "python",
     "metadata": {},
     "outputs": [
      {
       "output_type": "pyout",
       "prompt_number": 4,
       "text": [
        "{'1': 61,\n",
        " '10': 81,\n",
        " '11L': 50,\n",
        " '11M': 53,\n",
        " '13': 68,\n",
        " '13A': 46,\n",
        " '14': 88,\n",
        " '2': 58,\n",
        " '2/1': 35,\n",
        " '23A': 94,\n",
        " '23B': 93,\n",
        " '23C': 95,\n",
        " '23D': 0,\n",
        " '24/23': 50,\n",
        " '24A': 109,\n",
        " '24B': 106,\n",
        " '24C': 97,\n",
        " '24D': 108,\n",
        " '25': 24,\n",
        " '29': 59,\n",
        " '2VE': 58,\n",
        " '31': 51,\n",
        " '32': 78,\n",
        " '35': 46,\n",
        " '36': 75,\n",
        " '3A': 63,\n",
        " '3B': 67,\n",
        " '4': 78,\n",
        " '44': 65,\n",
        " '45A': 75,\n",
        " '45B': 53,\n",
        " '46': 77,\n",
        " '47(12)': 61,\n",
        " '6/32': 21,\n",
        " '6DC': 0,\n",
        " '6DR': 0,\n",
        " '6M': 58,\n",
        " '6VC': 67,\n",
        " '6VR': 77,\n",
        " '8/32': 10,\n",
        " '8A': 78,\n",
        " '8B': 49,\n",
        " '9/32': 55,\n",
        " '9/46D': 79,\n",
        " '9/46V': 78,\n",
        " '9L': 58,\n",
        " '9M': 58,\n",
        " 'AA': 69,\n",
        " 'AHIMC': 17,\n",
        " 'AI': 54,\n",
        " 'AKL': 68,\n",
        " 'AKM': 68,\n",
        " 'ATG': 1,\n",
        " 'BL': 84,\n",
        " 'BM': 21,\n",
        " 'CD': 1,\n",
        " 'CE': 50,\n",
        " 'CL': 5,\n",
        " 'DI': 54,\n",
        " 'DIP': 91,\n",
        " 'DTG': 1,\n",
        " 'EC': 14,\n",
        " 'ECL': 14,\n",
        " 'EI': 13,\n",
        " 'ELC': 20,\n",
        " 'ELR': 13,\n",
        " 'EOL': 12,\n",
        " 'ER': 13,\n",
        " 'F2': 39,\n",
        " 'F7': 58,\n",
        " 'FST': 63,\n",
        " 'GI': 54,\n",
        " 'GU': 0,\n",
        " 'IPA': 66,\n",
        " 'IPRO': 54,\n",
        " 'JXST': 58,\n",
        " 'LA': 89,\n",
        " 'ME': 80,\n",
        " 'MST': 58,\n",
        " 'MT': 44,\n",
        " 'OPAL': 2,\n",
        " 'OPRO': 7,\n",
        " 'OPT': 82,\n",
        " 'PAAC': 81,\n",
        " 'PAAR': 44,\n",
        " 'PAI': 56,\n",
        " 'PAS': 0,\n",
        " 'PE': 73,\n",
        " 'PEA': 73,\n",
        " 'PEC': 64,\n",
        " 'PECG': 72,\n",
        " 'PF': 82,\n",
        " 'PFG': 78,\n",
        " 'PFOP': 73,\n",
        " 'PG': 77,\n",
        " 'PGA': 59,\n",
        " 'PGM': 72,\n",
        " 'PGM/31': 66,\n",
        " 'PGOP': 59,\n",
        " 'PIR': 0,\n",
        " 'PITD': 57,\n",
        " 'PO': 68,\n",
        " 'POAE': 88,\n",
        " 'POAI': 88,\n",
        " 'PROK': 59,\n",
        " 'PROM': 65,\n",
        " 'PRS': 0,\n",
        " 'PTG': 1,\n",
        " 'PU': 0,\n",
        " 'PUL': 97,\n",
        " 'REIP': 49,\n",
        " 'REIT': 66,\n",
        " 'S': 0,\n",
        " 'S2': 55,\n",
        " 'SNC': 2,\n",
        " 'SNR': 1,\n",
        " 'ST1': 80,\n",
        " 'ST2': 71,\n",
        " 'ST3': 89,\n",
        " 'TE1': 78,\n",
        " 'TE2': 81,\n",
        " 'TE3': 71,\n",
        " 'TEA': 78,\n",
        " 'TEM': 76,\n",
        " 'TEO': 0,\n",
        " 'TF': 74,\n",
        " 'TH': 67,\n",
        " 'THO': 0,\n",
        " 'TL': 3,\n",
        " 'TPO': 66,\n",
        " 'TPOC': 39,\n",
        " 'TPPRO': 72,\n",
        " 'TPT': 76,\n",
        " 'V1': 57,\n",
        " 'V3A': 17,\n",
        " 'V3D': 66,\n",
        " 'V3V': 60,\n",
        " 'V4D': 35,\n",
        " 'V4T': 0,\n",
        " 'V4V': 35,\n",
        " 'VTA': 1}"
       ]
      }
     ],
     "prompt_number": 4
    },
    {
     "cell_type": "code",
     "collapsed": false,
     "input": [
      "coco.random_stats(endg_orig,10)"
     ],
     "language": "python",
     "metadata": {},
     "outputs": [
      {
       "ename": "TypeError",
       "evalue": "unbound method clear() must be called with DiGraph instance as first argument (got nothing instead)",
       "output_type": "pyerr",
       "traceback": [
        "\u001b[1;31m---------------------------------------------------------------------------\u001b[0m\n\u001b[1;31mTypeError\u001b[0m                                 Traceback (most recent call last)",
        "\u001b[1;32m<ipython-input-6-c012e10167d1>\u001b[0m in \u001b[0;36m<module>\u001b[1;34m()\u001b[0m\n\u001b[1;32m----> 1\u001b[1;33m \u001b[0mcoco\u001b[0m\u001b[1;33m.\u001b[0m\u001b[0mrandom_stats\u001b[0m\u001b[1;33m(\u001b[0m\u001b[0mendg_orig\u001b[0m\u001b[1;33m,\u001b[0m\u001b[1;36m10\u001b[0m\u001b[1;33m)\u001b[0m\u001b[1;33m\u001b[0m\u001b[0m\n\u001b[0m",
        "\u001b[1;32mC:\\Users\\Robert\\cocomac\\cocomac-tools\\cocotools\\stats.py\u001b[0m in \u001b[0;36mrandom_stats\u001b[1;34m(g, n)\u001b[0m\n\u001b[0;32m     33\u001b[0m     \u001b[0mout_seq\u001b[0m \u001b[1;33m=\u001b[0m \u001b[0mg\u001b[0m\u001b[1;33m.\u001b[0m\u001b[0mout_degree\u001b[0m\u001b[1;33m(\u001b[0m\u001b[1;33m)\u001b[0m\u001b[1;33m.\u001b[0m\u001b[0mvalues\u001b[0m\u001b[1;33m(\u001b[0m\u001b[1;33m)\u001b[0m\u001b[1;33m\u001b[0m\u001b[0m\n\u001b[0;32m     34\u001b[0m     \u001b[1;32mfor\u001b[0m \u001b[0mi\u001b[0m \u001b[1;32min\u001b[0m \u001b[0mrange\u001b[0m\u001b[1;33m(\u001b[0m\u001b[0mn\u001b[0m\u001b[1;33m)\u001b[0m\u001b[1;33m:\u001b[0m\u001b[1;33m\u001b[0m\u001b[0m\n\u001b[1;32m---> 35\u001b[1;33m         \u001b[0mr\u001b[0m \u001b[1;33m=\u001b[0m \u001b[0mnx\u001b[0m\u001b[1;33m.\u001b[0m\u001b[0mdirected_configuration_model\u001b[0m\u001b[1;33m(\u001b[0m\u001b[0min_seq\u001b[0m\u001b[1;33m,\u001b[0m \u001b[0mout_seq\u001b[0m\u001b[1;33m,\u001b[0m \u001b[0mcreate_using\u001b[0m\u001b[1;33m=\u001b[0m\u001b[0mnx\u001b[0m\u001b[1;33m.\u001b[0m\u001b[0mDiGraph\u001b[0m\u001b[1;33m)\u001b[0m\u001b[1;33m\u001b[0m\u001b[0m\n\u001b[0m\u001b[0;32m     36\u001b[0m         \u001b[0mclusts\u001b[0m\u001b[1;33m.\u001b[0m\u001b[0mappend\u001b[0m\u001b[1;33m(\u001b[0m\u001b[0mdirected_clustering\u001b[0m\u001b[1;33m(\u001b[0m\u001b[0mr\u001b[0m\u001b[1;33m)\u001b[0m\u001b[1;33m)\u001b[0m\u001b[1;33m\u001b[0m\u001b[0m\n\u001b[0;32m     37\u001b[0m         \u001b[0mcharpaths\u001b[0m\u001b[1;33m.\u001b[0m\u001b[0mappend\u001b[0m\u001b[1;33m(\u001b[0m\u001b[0mdirected_char_path_length\u001b[0m\u001b[1;33m(\u001b[0m\u001b[0mr\u001b[0m\u001b[1;33m)\u001b[0m\u001b[1;33m)\u001b[0m\u001b[1;33m\u001b[0m\u001b[0m\n",
        "\u001b[1;32mc:\\Python27\\lib\\site-packages\\networkx-1.7rc1-py2.7.egg\\networkx\\generators\\degree_seq.pyc\u001b[0m in \u001b[0;36mdirected_configuration_model\u001b[1;34m(in_degree_sequence, out_degree_sequence, create_using, seed)\u001b[0m\n\u001b[0;32m    233\u001b[0m \u001b[1;33m\u001b[0m\u001b[0m\n\u001b[0;32m    234\u001b[0m     \u001b[1;31m# allow multiedges and selfloops\u001b[0m\u001b[1;33m\u001b[0m\u001b[1;33m\u001b[0m\u001b[0m\n\u001b[1;32m--> 235\u001b[1;33m     \u001b[0mG\u001b[0m\u001b[1;33m=\u001b[0m\u001b[0mnx\u001b[0m\u001b[1;33m.\u001b[0m\u001b[0mempty_graph\u001b[0m\u001b[1;33m(\u001b[0m\u001b[0mN\u001b[0m\u001b[1;33m,\u001b[0m\u001b[0mcreate_using\u001b[0m\u001b[1;33m)\u001b[0m\u001b[1;33m\u001b[0m\u001b[0m\n\u001b[0m\u001b[0;32m    236\u001b[0m \u001b[1;33m\u001b[0m\u001b[0m\n\u001b[0;32m    237\u001b[0m     \u001b[1;32mif\u001b[0m \u001b[0mN\u001b[0m\u001b[1;33m==\u001b[0m\u001b[1;36m0\u001b[0m \u001b[1;32mor\u001b[0m \u001b[0mmax\u001b[0m\u001b[1;33m(\u001b[0m\u001b[0min_degree_sequence\u001b[0m\u001b[1;33m)\u001b[0m\u001b[1;33m==\u001b[0m\u001b[1;36m0\u001b[0m\u001b[1;33m:\u001b[0m \u001b[1;31m# done if no edges\u001b[0m\u001b[1;33m\u001b[0m\u001b[0m\n",
        "\u001b[1;32mc:\\Python27\\lib\\site-packages\\networkx-1.7rc1-py2.7.egg\\networkx\\generators\\classic.pyc\u001b[0m in \u001b[0;36mempty_graph\u001b[1;34m(n, create_using)\u001b[0m\n\u001b[0;32m    310\u001b[0m     \u001b[1;32melse\u001b[0m\u001b[1;33m:\u001b[0m\u001b[1;33m\u001b[0m\u001b[0m\n\u001b[0;32m    311\u001b[0m         \u001b[0mG\u001b[0m\u001b[1;33m=\u001b[0m\u001b[0mcreate_using\u001b[0m\u001b[1;33m\u001b[0m\u001b[0m\n\u001b[1;32m--> 312\u001b[1;33m         \u001b[0mG\u001b[0m\u001b[1;33m.\u001b[0m\u001b[0mclear\u001b[0m\u001b[1;33m(\u001b[0m\u001b[1;33m)\u001b[0m\u001b[1;33m\u001b[0m\u001b[0m\n\u001b[0m\u001b[0;32m    313\u001b[0m \u001b[1;33m\u001b[0m\u001b[0m\n\u001b[0;32m    314\u001b[0m     \u001b[0mG\u001b[0m\u001b[1;33m.\u001b[0m\u001b[0madd_nodes_from\u001b[0m\u001b[1;33m(\u001b[0m\u001b[0mrange\u001b[0m\u001b[1;33m(\u001b[0m\u001b[0mn\u001b[0m\u001b[1;33m)\u001b[0m\u001b[1;33m)\u001b[0m\u001b[1;33m\u001b[0m\u001b[0m\n",
        "\u001b[1;31mTypeError\u001b[0m: unbound method clear() must be called with DiGraph instance as first argument (got nothing instead)"
       ]
      }
     ],
     "prompt_number": 6
    },
    {
     "cell_type": "code",
     "collapsed": false,
     "input": [
      "endg_mort.add_translated_edges(mapg, cong, 'PHT00', 'original')"
     ],
     "language": "python",
     "metadata": {},
     "outputs": []
    }
   ],
   "metadata": {}
  }
 ]
}