{
 "metadata": {
  "name": "full_cocotools_session"
 },
 "nbformat": 3,
 "nbformat_minor": 0,
 "worksheets": [
  {
   "cells": [
    {
     "cell_type": "code",
     "collapsed": false,
     "input": [
      "pwd"
     ],
     "language": "python",
     "metadata": {},
     "outputs": [
      {
       "output_type": "pyout",
       "prompt_number": 1,
       "text": [
        "u'C:\\\\Users\\\\Robert\\\\cocomac\\\\cocomac-tools'"
       ]
      }
     ],
     "prompt_number": 1
    },
    {
     "cell_type": "code",
     "collapsed": true,
     "input": [
      "import cocotools as coco"
     ],
     "language": "python",
     "metadata": {},
     "outputs": [],
     "prompt_number": 2
    },
    {
     "cell_type": "code",
     "collapsed": false,
     "input": [
      "import networkx as nx #for plotting and computing metrics\n",
      "import matplotlib.pyplot as plt #for plotting as well"
     ],
     "language": "python",
     "metadata": {},
     "outputs": [],
     "prompt_number": 3
    },
    {
     "cell_type": "markdown",
     "metadata": {},
     "source": [
      "###Mapping and Connectivity Query"
     ]
    },
    {
     "cell_type": "markdown",
     "metadata": {},
     "source": [
      "The multi_map_ebunch function is designed to query the CoCoMac server for data from several parcellation schemes.  The first argument to the function is a string specifying whether mapping or connectivity information is desired.  The second argument, which is optional, specifies which brain maps should be queried; if no argument is given, data is sought for all brain maps in CoCoMac.  CoCoTools includes two constants that are useful second arguments to multi_map_ebunch: MAPPING_SOURCES is a list of those maps for which Mapping data have been entered into CoCoMac, and CONNECTIVITY_SOURCES is the corresponding list for maps with Connectivity data.\n",
      "\n",
      "multi_map_ebunch returns two lists: The first contains edges suitable for a NetworkX DiGraph, and the second holds the maps for which no data were returned from the CoCoMac server.  Brain maps whose queries are known to cause CoCoMac server timeouts are listed in the CoCoTools constants MAPPING_TIMEOUTS and CONNECTIVITY_TIMEOUTS. These brain maps can be queried separately using the \"query_maps_by_area\" function.\n",
      "\n",
      "Whenever a query of the CoCoMac server is made using CoCoTools, the server's response (provided in XML format) is stored in a local SQLite database (cocotools.sqlite), located in the .cache directory within the user's home directory.  This ensures rapid retrieval of results for repeated queries at a small memory cost (80 MB maximum)."
     ]
    },
    {
     "cell_type": "code",
     "collapsed": true,
     "input": [
      "map_bunch, map_failures = coco.multi_map_ebunch('Mapping', coco.MAPPING_NON_TIMEOUTS)"
     ],
     "language": "python",
     "metadata": {},
     "outputs": [],
     "prompt_number": 4
    },
    {
     "cell_type": "markdown",
     "metadata": {},
     "source": [
      "In the case of a Mapping query, each edge that multi_map_ebunch returns is a tuple that represents a directed spatial relationship between two brain areas.  In the tuple, the source area is listed first, and both areas are specified in full CoCoMac format.  A dictionary of edge attributes is the third entry in the tuple, with a PDC and an RC.  Numeric rather than alphabetic codes are used for PDCs in CoCoTools: Starting at zero, the numeric code refers to the index in the hierarchy recommended by Kotter & Wanke (2005) of the original alphabetic PDC.  An additional numeric code, 18, is included for CoCoMac data entries without a PDC.  In CoCoTools, lesser PDCs are valued more highly than greater ones.  The alphabetic hierarchy of Kotter & Wanke (2005) is available in CoCoTools as the constant PDC_HIER."
     ]
    },
    {
     "cell_type": "code",
     "collapsed": true,
     "input": [
      "con_bunch, con_failures = coco.multi_map_ebunch('Connectivity', coco.CONNECTIVITY_NON_TIMEOUTS)"
     ],
     "language": "python",
     "metadata": {},
     "outputs": [],
     "prompt_number": "*"
    },
    {
     "cell_type": "markdown",
     "metadata": {},
     "source": [
      "For Connectivity queries, the edges returned represent directed anatomical connections.  As for Mapping queries, each edge has a source area, a target area, and a dictionary of attributes.  The attributes specify whether the connection is present or known to be absent, its degree (or density), the ECs for the source and target, and PDCs for each brain area (or site), the ECs, and the density.**"
     ]
    },
    {
     "cell_type": "markdown",
     "metadata": {},
     "source": [
      "The Mapping edges are meant to be added to a MapGraph and the Connectivity edges are meant to be added to a ConGraph. Whenever an edge is added to a MapGraph, so is its reciprocal: For example, when an edge is added to the effect that area A is smaller than B, the corresponding edge implying that area B is larger than area A is also added."
     ]
    },
    {
     "cell_type": "markdown",
     "metadata": {},
     "source": [
      "###Query maps by area"
     ]
    },
    {
     "cell_type": "markdown",
     "metadata": {},
     "source": [
      "Querying of studies containing large amounts of data cause the cocomac server to timeout. However data from these studies can be gathered by using the \"query_maps_by_area\" function.  This function individually queries each area within each study passed to it."
     ]
    },
    {
     "cell_type": "code",
     "collapsed": false,
     "input": [
      "mbunch2, mfailures2 = coco.query_maps_by_area('Mapping', coco.MAPPING_TIMEOUTS) # Note I'm querying the timeouts here and below.\n",
      "cbunch2, cfailures2 = coco.query_maps_by_area('Connectivity',coco.CONNECTIVITY_TIMEOUTS)"
     ],
     "language": "python",
     "metadata": {},
     "outputs": [],
     "prompt_number": "*"
    },
    {
     "cell_type": "markdown",
     "metadata": {},
     "source": [
      "Now adding the mapping and connectivity queries together"
     ]
    },
    {
     "cell_type": "code",
     "collapsed": false,
     "input": [
      "mapg = coco.MapGraph()\n",
      "mapg.add_edges_from(map_bunch + mbunch2) # Adding two lists together appends the items in the second to the first.\n",
      "\n",
      "cong = coco.ConGraph()\n",
      "cong.add_edges_from(con_bunch + cbunch2)"
     ],
     "language": "python",
     "metadata": {},
     "outputs": [],
     "prompt_number": "*"
    },
    {
     "cell_type": "code",
     "collapsed": false,
     "input": [
      "mapg.size()"
     ],
     "language": "python",
     "metadata": {},
     "outputs": [],
     "prompt_number": "*"
    },
    {
     "cell_type": "code",
     "collapsed": false,
     "input": [
      "mapg.edge['PP94-46']"
     ],
     "language": "python",
     "metadata": {},
     "outputs": [],
     "prompt_number": "*"
    },
    {
     "cell_type": "code",
     "collapsed": false,
     "input": [
      "cong.size()"
     ],
     "language": "python",
     "metadata": {},
     "outputs": [],
     "prompt_number": "*"
    },
    {
     "cell_type": "code",
     "collapsed": false,
     "input": [
      "cong.degree('PP94-46')"
     ],
     "language": "python",
     "metadata": {},
     "outputs": [],
     "prompt_number": "*"
    },
    {
     "cell_type": "markdown",
     "metadata": {},
     "source": [
      "#Pre-Processing"
     ]
    },
    {
     "cell_type": "raw",
     "metadata": {},
     "source": [
      "While developing CoCoTools we discovered numerous omissions and errors in the Mapping section of the CoCoMac database.  Calling the clean_data method of MapGraph rectifies these."
     ]
    },
    {
     "cell_type": "code",
     "collapsed": true,
     "input": [
      "mapg.clean_data()"
     ],
     "language": "python",
     "metadata": {},
     "outputs": [],
     "prompt_number": "*"
    },
    {
     "cell_type": "raw",
     "metadata": {},
     "source": [
      "In order for ORT to be performed, each parcellation scheme must be represented at a single level of resolution.  The MapGraph method keep_only_one_level_of_resolution is designed to reduce the many overlapping areas from the same map in the CoCoMac database to a set of disjoint areas.  Within a single map, the level of resolution with the most reported anatomical connections (in ConGraph) is kept.  In the event of a tie, the finer level of resolution is kept except in the case of the target map for ORT ('PHT00' below), for which the coarser level is kept.  This bias maximizes the translatability of information between maps during ORT.  When levels are discarded, areas are removed from both the MapGraph and its corresponding ConGraph, but, when possible, relational and connectivity information for the discarded levels are retained in the one that is kept."
     ]
    },
    {
     "cell_type": "code",
     "collapsed": true,
     "input": [
      "cong = mapg.keep_only_one_level_of_resolution(cong, 'PHT00')"
     ],
     "language": "python",
     "metadata": {},
     "outputs": [],
     "prompt_number": "*"
    },
    {
     "cell_type": "raw",
     "metadata": {},
     "source": [
      "With no overlap among areas from the same map, the method from Stephan et al. (2000) for deducing implicit spatial relationships based on those explicit in the dataset can be performed using the deduce_edges method.  However, rather than use the finite automaton of Stephan et al. (2000) for resolving chains of relations to a single RC, CoCoTools uses Table 2 of Kotter & Wanke (2005)."
     ]
    },
    {
     "cell_type": "code",
     "collapsed": true,
     "input": [
      " mapg.deduce_edges()"
     ],
     "language": "python",
     "metadata": {},
     "outputs": [],
     "prompt_number": 14
    },
    {
     "cell_type": "code",
     "collapsed": false,
     "input": [
      "import pickle\n",
      "pickle.dump(mapg,'post_deduce_fullmapg2.pck')\n",
      "pickle.dump(cong,'post_deduce_fullcong2.pck')"
     ],
     "language": "python",
     "metadata": {},
     "outputs": []
    },
    {
     "cell_type": "markdown",
     "metadata": {},
     "source": [
      "#Coordinate-free Registration"
     ]
    },
    {
     "cell_type": "raw",
     "metadata": {},
     "source": [
      "With new relations deduced and added to the MapGraph, the end stage of ORT -- the algebra of transformation (AT) -- can be performed.  This is done in CoCoTools using the EndGraph object and its method add_translated_edges."
     ]
    },
    {
     "cell_type": "code",
     "collapsed": true,
     "input": [
      "endg = coco.EndGraph()"
     ],
     "language": "python",
     "metadata": {},
     "outputs": [],
     "prompt_number": 15
    },
    {
     "cell_type": "code",
     "collapsed": true,
     "input": [
      "endg.add_translated_edges(mapg, cong, 'PHT00', 'original')"
     ],
     "language": "python",
     "metadata": {},
     "outputs": [],
     "prompt_number": 16
    },
    {
     "cell_type": "code",
     "collapsed": true,
     "input": [
      "endg_mort=coco.EndGraph()"
     ],
     "language": "python",
     "metadata": {},
     "outputs": [],
     "prompt_number": 19
    },
    {
     "cell_type": "code",
     "collapsed": false,
     "input": [
      "endg_mort.add_translated_edges(mapg, cong, 'PHT00', 'modified')"
     ],
     "language": "python",
     "metadata": {},
     "outputs": [],
     "prompt_number": 20
    },
    {
     "cell_type": "markdown",
     "metadata": {},
     "source": [
      "#Plotting"
     ]
    },
    {
     "cell_type": "code",
     "collapsed": false,
     "input": [
      "endg_mort.number_of_edges()"
     ],
     "language": "python",
     "metadata": {},
     "outputs": [
      {
       "output_type": "pyout",
       "prompt_number": 23,
       "text": [
        "603"
       ]
      }
     ],
     "prompt_number": 23
    },
    {
     "cell_type": "code",
     "collapsed": false,
     "input": [
      "endg_mort.nodes()\n"
     ],
     "language": "python",
     "metadata": {},
     "outputs": [
      {
       "ename": "NameError",
       "evalue": "name 'endg_mort' is not defined",
       "output_type": "pyerr",
       "traceback": [
        "\u001b[1;31m---------------------------------------------------------------------------\u001b[0m\n\u001b[1;31mNameError\u001b[0m                                 Traceback (most recent call last)",
        "\u001b[1;32m<ipython-input-56-82dc4101debd>\u001b[0m in \u001b[0;36m<module>\u001b[1;34m()\u001b[0m\n\u001b[1;32m----> 1\u001b[1;33m \u001b[0mendg_mort\u001b[0m\u001b[1;33m.\u001b[0m\u001b[0mnodes\u001b[0m\u001b[1;33m(\u001b[0m\u001b[1;33m)\u001b[0m\u001b[1;33m\u001b[0m\u001b[0m\n\u001b[0m",
        "\u001b[1;31mNameError\u001b[0m: name 'endg_mort' is not defined"
       ]
      }
     ],
     "prompt_number": 56
    },
    {
     "cell_type": "code",
     "collapsed": false,
     "input": [
      "import cocotools as coco\n",
      "import pickle\n",
      "import networkx as nx\n",
      "mapg=pickle.load(open('post_deduce_fullmapg.pck'))\n",
      "cong=pickle.load(open('post_deduce_fullcong.pck'))\n",
      "endg_orig=coco.EndGraph()\n",
      "endg_mort=coco.EndGraph()"
     ],
     "language": "python",
     "metadata": {},
     "outputs": [],
     "prompt_number": 1
    },
    {
     "cell_type": "code",
     "collapsed": false,
     "input": [
      "endg_orig.add_translated_edges(mapg, cong, 'PHT00', 'original')"
     ],
     "language": "python",
     "metadata": {},
     "outputs": [],
     "prompt_number": 2
    },
    {
     "cell_type": "code",
     "collapsed": false,
     "input": [
      "endg_orig_stripped=coco.strip_absent_edges(endg_orig)"
     ],
     "language": "python",
     "metadata": {},
     "outputs": [
      {
       "ename": "KeyError",
       "evalue": "'ECs'",
       "output_type": "pyerr",
       "traceback": [
        "\u001b[1;31m---------------------------------------------------------------------------\u001b[0m\n\u001b[1;31mKeyError\u001b[0m                                  Traceback (most recent call last)",
        "\u001b[1;32m<ipython-input-23-aaad6495f554>\u001b[0m in \u001b[0;36m<module>\u001b[1;34m()\u001b[0m\n\u001b[1;32m----> 1\u001b[1;33m \u001b[0mendg_orig_stripped\u001b[0m\u001b[1;33m=\u001b[0m\u001b[0mcoco\u001b[0m\u001b[1;33m.\u001b[0m\u001b[0mstrip_absent_edges\u001b[0m\u001b[1;33m(\u001b[0m\u001b[0mendg_orig\u001b[0m\u001b[1;33m)\u001b[0m\u001b[1;33m\u001b[0m\u001b[0m\n\u001b[0m",
        "\u001b[1;32mC:\\Users\\Robert\\cocomac\\cocomac-tools\\cocotools\\stats.py\u001b[0m in \u001b[0;36mstrip_absent_edges\u001b[1;34m(end)\u001b[0m\n\u001b[0;32m    352\u001b[0m     \u001b[0mg\u001b[0m \u001b[1;33m=\u001b[0m \u001b[0mnx\u001b[0m\u001b[1;33m.\u001b[0m\u001b[0mDiGraph\u001b[0m\u001b[1;33m(\u001b[0m\u001b[1;33m)\u001b[0m\u001b[1;33m\u001b[0m\u001b[0m\n\u001b[0;32m    353\u001b[0m     \u001b[1;32mfor\u001b[0m \u001b[0msource\u001b[0m\u001b[1;33m,\u001b[0m \u001b[0mtarget\u001b[0m \u001b[1;32min\u001b[0m \u001b[0mend\u001b[0m\u001b[1;33m.\u001b[0m\u001b[0medges_iter\u001b[0m\u001b[1;33m(\u001b[0m\u001b[1;33m)\u001b[0m\u001b[1;33m:\u001b[0m\u001b[1;33m\u001b[0m\u001b[0m\n\u001b[1;32m--> 354\u001b[1;33m         \u001b[0msource_ec\u001b[0m\u001b[1;33m,\u001b[0m \u001b[0mtarget_ec\u001b[0m \u001b[1;33m=\u001b[0m \u001b[0mend\u001b[0m\u001b[1;33m[\u001b[0m\u001b[0msource\u001b[0m\u001b[1;33m]\u001b[0m\u001b[1;33m[\u001b[0m\u001b[0mtarget\u001b[0m\u001b[1;33m]\u001b[0m\u001b[1;33m[\u001b[0m\u001b[1;34m'ECs'\u001b[0m\u001b[1;33m]\u001b[0m\u001b[1;33m\u001b[0m\u001b[0m\n\u001b[0m\u001b[0;32m    355\u001b[0m         \u001b[0mns\u001b[0m \u001b[1;33m=\u001b[0m \u001b[1;33m(\u001b[0m\u001b[1;34m'N'\u001b[0m\u001b[1;33m,\u001b[0m \u001b[1;34m'Nc'\u001b[0m\u001b[1;33m,\u001b[0m \u001b[1;34m'Np'\u001b[0m\u001b[1;33m,\u001b[0m \u001b[1;34m'Nx'\u001b[0m\u001b[1;33m)\u001b[0m\u001b[1;33m\u001b[0m\u001b[0m\n\u001b[0;32m    356\u001b[0m         \u001b[1;32mif\u001b[0m \u001b[0msource_ec\u001b[0m \u001b[1;32mnot\u001b[0m \u001b[1;32min\u001b[0m \u001b[0mns\u001b[0m \u001b[1;32mand\u001b[0m \u001b[0mtarget_ec\u001b[0m \u001b[1;32mnot\u001b[0m \u001b[1;32min\u001b[0m \u001b[0mns\u001b[0m\u001b[1;33m:\u001b[0m\u001b[1;33m\u001b[0m\u001b[0m\n",
        "\u001b[1;31mKeyError\u001b[0m: 'ECs'"
       ]
      }
     ],
     "prompt_number": 23
    },
    {
     "cell_type": "markdown",
     "metadata": {},
     "source": [
      "##Playing and analyses"
     ]
    },
    {
     "cell_type": "code",
     "collapsed": false,
     "input": [
      "ort_clust=coco.directed_clustering(endg_orig)\n",
      "ort_cpl=coco.directed_char_path_length(endg_orig)"
     ],
     "language": "python",
     "metadata": {},
     "outputs": [
      {
       "output_type": "stream",
       "stream": "stderr",
       "text": [
        "cocotools\\stats.py:165: RuntimeWarning: invalid value encountered in true_divide\n",
        "  L = np.nan_to_num(n_path_array / n_path_array)\n",
        "cocotools\\stats.py:179: RuntimeWarning: invalid value encountered in true_divide\n",
        "  L = np.nan_to_num(n_path_array / n_path_array) * D_zeros\n"
       ]
      }
     ],
     "prompt_number": 3
    },
    {
     "cell_type": "code",
     "collapsed": false,
     "input": [
      "[random_clust, random_cpl]=coco.random_stats(endg_orig,1)"
     ],
     "language": "python",
     "metadata": {},
     "outputs": [],
     "prompt_number": 4
    },
    {
     "cell_type": "code",
     "collapsed": false,
     "input": [
      "[lattice_clust, lattice_cpl]=coco.lattice_stats(endg_orig,1)"
     ],
     "language": "python",
     "metadata": {},
     "outputs": [],
     "prompt_number": 5
    },
    {
     "cell_type": "code",
     "collapsed": false,
     "input": [
      "lattice_cpl"
     ],
     "language": "python",
     "metadata": {},
     "outputs": [
      {
       "output_type": "pyout",
       "prompt_number": 6,
       "text": [
        "[1.5727318170457385]"
       ]
      }
     ],
     "prompt_number": 6
    },
    {
     "cell_type": "code",
     "collapsed": false,
     "input": [
      "random_cpl"
     ],
     "language": "python",
     "metadata": {},
     "outputs": [
      {
       "output_type": "pyout",
       "prompt_number": 14,
       "text": [
        "[1.5726068482879281]"
       ]
      }
     ],
     "prompt_number": 14
    },
    {
     "cell_type": "code",
     "collapsed": false,
     "input": [
      "ort_cpl"
     ],
     "language": "python",
     "metadata": {},
     "outputs": [
      {
       "output_type": "pyout",
       "prompt_number": 7,
       "text": [
        "1.5928517870532366"
       ]
      }
     ],
     "prompt_number": 7
    },
    {
     "cell_type": "code",
     "collapsed": false,
     "input": [
      "ort_clust"
     ],
     "language": "python",
     "metadata": {},
     "outputs": [
      {
       "output_type": "pyout",
       "prompt_number": 17,
       "text": [
        "0.64317192864714634"
       ]
      }
     ],
     "prompt_number": 17
    },
    {
     "cell_type": "code",
     "collapsed": false,
     "input": [
      "lattice_clust"
     ],
     "language": "python",
     "metadata": {},
     "outputs": [
      {
       "output_type": "pyout",
       "prompt_number": 15,
       "text": [
        "[0.70537128123965231]"
       ]
      }
     ],
     "prompt_number": 15
    },
    {
     "cell_type": "code",
     "collapsed": false,
     "input": [
      "random_clust"
     ],
     "language": "python",
     "metadata": {},
     "outputs": [
      {
       "output_type": "pyout",
       "prompt_number": 16,
       "text": [
        "[0.61203957640447748]"
       ]
      }
     ],
     "prompt_number": 16
    },
    {
     "cell_type": "code",
     "collapsed": false,
     "input": [
      "scaled_clust=(ort_clust-random_clust[0])/(lattice_clust[0]-random_clust[0])"
     ],
     "language": "python",
     "metadata": {},
     "outputs": [],
     "prompt_number": 9
    },
    {
     "cell_type": "code",
     "collapsed": false,
     "input": [
      "scaled_cpl=(ort_cpl-random_cpl[0])/(lattice_cpl[0]-random_cpl[0])"
     ],
     "language": "python",
     "metadata": {},
     "outputs": [],
     "prompt_number": 10
    },
    {
     "cell_type": "code",
     "collapsed": false,
     "input": [
      "scaled_clust/scaled_cpl"
     ],
     "language": "python",
     "metadata": {},
     "outputs": [
      {
       "output_type": "pyout",
       "prompt_number": 18,
       "text": [
        "0.0020590539322391846"
       ]
      }
     ],
     "prompt_number": 18
    },
    {
     "cell_type": "code",
     "collapsed": false,
     "input": [
      "smallworld_ratio=[]\n",
      "for ival in range(len(lattice_clust)):\n",
      "    scaled_clust =(ort_clust-random_clust[ival])/(lattice_clust[ival]-random_clust[ival])\n",
      "    scaled_cpl =(ort_cpl-random_cpl[ival])/(lattice_cpl[ival]-random_cpl[ival])\n",
      "    smallworld_ratio.append(scaled_clust/scaled_cpl)"
     ],
     "language": "python",
     "metadata": {},
     "outputs": [],
     "prompt_number": 12
    },
    {
     "cell_type": "code",
     "collapsed": false,
     "input": [
      "endg_"
     ],
     "language": "python",
     "metadata": {},
     "outputs": [
      {
       "ename": "NameError",
       "evalue": "name 'endg_ort' is not defined",
       "output_type": "pyerr",
       "traceback": [
        "\u001b[1;31m---------------------------------------------------------------------------\u001b[0m\n\u001b[1;31mNameError\u001b[0m                                 Traceback (most recent call last)",
        "\u001b[1;32m<ipython-input-19-54a768462a42>\u001b[0m in \u001b[0;36m<module>\u001b[1;34m()\u001b[0m\n\u001b[1;32m----> 1\u001b[1;33m \u001b[0mendg_ort\u001b[0m\u001b[1;33m\u001b[0m\u001b[0m\n\u001b[0m",
        "\u001b[1;31mNameError\u001b[0m: name 'endg_ort' is not defined"
       ]
      }
     ],
     "prompt_number": 19
    },
    {
     "cell_type": "code",
     "collapsed": false,
     "input": [
      "endg_mort.add_translated_edges(mapg, cong, 'PHT00', 'original')"
     ],
     "language": "python",
     "metadata": {},
     "outputs": []
    }
   ],
   "metadata": {}
  }
 ]
}