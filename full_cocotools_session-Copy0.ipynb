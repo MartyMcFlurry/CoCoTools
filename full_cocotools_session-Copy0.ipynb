{
 "metadata": {
  "name": "full_cocotools_session-Copy0"
 },
 "nbformat": 3,
 "nbformat_minor": 0,
 "worksheets": [
  {
   "cells": [
    {
     "cell_type": "code",
     "collapsed": false,
     "input": [
      "pwd"
     ],
     "language": "python",
     "metadata": {},
     "outputs": [
      {
       "output_type": "pyout",
       "prompt_number": 1,
       "text": [
        "u'c:\\\\Users\\\\Robert\\\\cocomac\\\\cocomac-tools'"
       ]
      }
     ],
     "prompt_number": 1
    },
    {
     "cell_type": "code",
     "collapsed": true,
     "input": [
      "import cocotools as coco"
     ],
     "language": "python",
     "metadata": {},
     "outputs": [],
     "prompt_number": 2
    },
    {
     "cell_type": "raw",
     "metadata": {},
     "source": [
      "The multi_map_ebunch function is designed to query the CoCoMac server for data from several parcellation schemes.  The first argument to the function is a string specifying whether mapping or connectivity information is desired.  The second argument, which is optional, specifies which brain maps should be queried; if no argument is given, data is sought for all brain maps in CoCoMac.  CoCoTools includes two constants that are useful second arguments to multi_map_ebunch: MAPPING_SOURCES is a list of those maps for which Mapping data have been entered into CoCoMac, and CONNECTIVITY_SOURCES is the corresponding list for maps with Connectivity data.\n",
      "\n",
      "multi_map_ebunch returns two lists: The first contains edges suitable for a NetworkX DiGraph, and the second holds the maps for which no data were returned from the CoCoMac server.  Brain maps whose queries are known to cause CoCoMac server timeouts are listed in the CoCoTools constants MAPPING_TIMEOUTS and CONNECTIVITY_TIMEOUTS.\n",
      "\n",
      "Whenever a query of the CoCoMac server is made using CoCoTools, the server's response (provided in XML format) is stored in a local SQLite database (cocotools.sqlite), located in the .cache directory within the user's home directory.  This ensures rapid retrieval of results for repeated queries at a small memory cost (80 MB maximum)."
     ]
    },
    {
     "cell_type": "code",
     "collapsed": true,
     "input": [
      "map_bunch, map_failures = coco.multi_map_ebunch('Mapping', coco.MAPPING_NON_TIMEOUTS)"
     ],
     "language": "python",
     "metadata": {},
     "outputs": [],
     "prompt_number": 3
    },
    {
     "cell_type": "raw",
     "metadata": {},
     "source": [
      "In the case of a Mapping query, each edge that multi_map_ebunch returns is a tuple that represents a directed spatial relationship between two brain areas.  In the tuple, the source area is listed first, and both areas are specified in full CoCoMac format.  A dictionary of edge attributes is the third entry in the tuple, with a PDC and an RC.  Numeric rather than alphabetic codes are used for PDCs in CoCoTools: Starting at zero, the numeric code refers to the index in the hierarchy recommended by Kotter & Wanke (2005) of the original alphabetic PDC.  An additional numeric code, 18, is included for CoCoMac data entries without a PDC.  In CoCoTools, lesser PDCs are valued more highly than greater ones.  The alphabetic hierarchy of Kotter & Wanke (2005) is available in CoCoTools as the constant PDC_HIER."
     ]
    },
    {
     "cell_type": "code",
     "collapsed": true,
     "input": [
      "con_bunch, con_failures = coco.multi_map_ebunch('Connectivity', coco.CONNECTIVITY_NON_TIMEOUTS)"
     ],
     "language": "python",
     "metadata": {},
     "outputs": [],
     "prompt_number": 5
    },
    {
     "cell_type": "raw",
     "metadata": {},
     "source": [
      "For Connectivity queries, the edges returned represent directed anatomical connections.  As for Mapping queries, each edge has a source area, a target area, and a dictionary of attributes.  The attributes specify whether the connection is present or known to be absent, its degree (or density), the ECs for the source and target, and PDCs for each brain area (or site), the ECs, and the density.**"
     ]
    },
    {
     "cell_type": "markdown",
     "metadata": {},
     "source": [
      "small query list"
     ]
    },
    {
     "cell_type": "code",
     "collapsed": false,
     "input": [
      "small_query_list=['PP94', 'W40', 'YP85', 'FV87', 'B09', 'VV19', 'PHT00']"
     ],
     "language": "python",
     "metadata": {},
     "outputs": [],
     "prompt_number": 14
    },
    {
     "cell_type": "code",
     "collapsed": false,
     "input": [
      "small_map_bunch, small_map_failures =coco.multi_map_ebunch('Mapping', small_query_list)"
     ],
     "language": "python",
     "metadata": {},
     "outputs": [],
     "prompt_number": 15
    },
    {
     "cell_type": "code",
     "collapsed": false,
     "input": [
      "small_con_bunch, small_con_failures= coco.multi_map_ebunch('Connectivity', small_query_list)"
     ],
     "language": "python",
     "metadata": {},
     "outputs": [],
     "prompt_number": 20
    },
    {
     "cell_type": "code",
     "collapsed": false,
     "input": [
      "map_bunch[0]"
     ],
     "language": "python",
     "metadata": {},
     "outputs": []
    },
    {
     "cell_type": "code",
     "collapsed": false,
     "input": [
      "con_bunch[0]"
     ],
     "language": "python",
     "metadata": {},
     "outputs": []
    },
    {
     "cell_type": "raw",
     "metadata": {},
     "source": [
      "The Mapping edges are meant to be added to a MapGraph and the Connectivity edges are meant to be added to a ConGraph. Whenever an edge is added to a MapGraph, so is its reciprocal: For example, when an edge is added to the effect that area A is smaller than B, the corresponding edge implying that area B is larger than area A is also added."
     ]
    },
    {
     "cell_type": "code",
     "collapsed": true,
     "input": [
      "mapg = coco.MapGraph()"
     ],
     "language": "python",
     "metadata": {},
     "outputs": [],
     "prompt_number": 6
    },
    {
     "cell_type": "code",
     "collapsed": false,
     "input": [
      "mapg.add_edges_from(map_bunch)"
     ],
     "language": "python",
     "metadata": {},
     "outputs": [],
     "prompt_number": 7
    },
    {
     "cell_type": "code",
     "collapsed": true,
     "input": [
      "cong = coco.ConGraph()"
     ],
     "language": "python",
     "metadata": {},
     "outputs": [],
     "prompt_number": 8
    },
    {
     "cell_type": "code",
     "collapsed": true,
     "input": [
      "cong.add_edges_from(con_bunch)"
     ],
     "language": "python",
     "metadata": {},
     "outputs": [],
     "prompt_number": 9
    },
    {
     "cell_type": "markdown",
     "metadata": {},
     "source": [
      "Small test building"
     ]
    },
    {
     "cell_type": "code",
     "collapsed": false,
     "input": [
      "small_mapg=coco.MapGraph()"
     ],
     "language": "python",
     "metadata": {},
     "outputs": [],
     "prompt_number": 70
    },
    {
     "cell_type": "code",
     "collapsed": false,
     "input": [
      "small_cong=coco.ConGraph()"
     ],
     "language": "python",
     "metadata": {},
     "outputs": [],
     "prompt_number": 71
    },
    {
     "cell_type": "code",
     "collapsed": false,
     "input": [
      "small_mapg=small_mapg.add_edges_from(small_map_bunch)"
     ],
     "language": "python",
     "metadata": {},
     "outputs": [],
     "prompt_number": 72
    },
    {
     "cell_type": "code",
     "collapsed": false,
     "input": [
      "small_cong=small_cong.add_edges_from(small_con_bunch)"
     ],
     "language": "python",
     "metadata": {},
     "outputs": [],
     "prompt_number": 73
    },
    {
     "cell_type": "markdown",
     "metadata": {},
     "source": [
      "MapGraph and DiGraph are instances of NetworkX DiGraph objects that are special to CoCoTools. Putting mapping and connectivity data into these objects, allows you to operate on them using NetworkX's suite of graph theory methods."
     ]
    },
    {
     "cell_type": "code",
     "collapsed": false,
     "input": [
      "mapg.size()"
     ],
     "language": "python",
     "metadata": {},
     "outputs": [
      {
       "output_type": "pyout",
       "prompt_number": 10,
       "text": [
        "15620"
       ]
      }
     ],
     "prompt_number": 10
    },
    {
     "cell_type": "code",
     "collapsed": false,
     "input": [],
     "language": "python",
     "metadata": {},
     "outputs": [],
     "prompt_number": 51
    },
    {
     "cell_type": "code",
     "collapsed": false,
     "input": [
      "mapg.edge['PP94-46']"
     ],
     "language": "python",
     "metadata": {},
     "outputs": [
      {
       "output_type": "pyout",
       "prompt_number": 11,
       "text": [
        "{'B09-10': {'PDC': 2, 'RC': 'O', 'TP': []},\n",
        " 'B09-9': {'PDC': 2, 'RC': 'O', 'TP': []},\n",
        " 'CP99-46': {'PDC': 15, 'RC': 'I', 'TP': []},\n",
        " 'PHT00-46': {'PDC': 15, 'RC': 'I', 'TP': []},\n",
        " 'PP99-46': {'PDC': 15, 'RC': 'I', 'TP': []},\n",
        " 'W40-46': {'PDC': 2, 'RC': 'S', 'TP': []}}"
       ]
      }
     ],
     "prompt_number": 11
    },
    {
     "cell_type": "code",
     "collapsed": false,
     "input": [
      "cong.size()"
     ],
     "language": "python",
     "metadata": {},
     "outputs": [
      {
       "output_type": "pyout",
       "prompt_number": 12,
       "text": [
        "21221"
       ]
      }
     ],
     "prompt_number": 12
    },
    {
     "cell_type": "code",
     "collapsed": false,
     "input": [
      "cong.degree('PP94-46')"
     ],
     "language": "python",
     "metadata": {},
     "outputs": [
      {
       "output_type": "pyout",
       "prompt_number": 13,
       "text": [
        "9"
       ]
      }
     ],
     "prompt_number": 13
    },
    {
     "cell_type": "raw",
     "metadata": {},
     "source": [
      "While developing CoCoTools we discovered numerous omissions and errors in the Mapping section of the CoCoMac database.  Calling the clean_data method of MapGraph rectifies these."
     ]
    },
    {
     "cell_type": "code",
     "collapsed": true,
     "input": [
      "mapg.clean_data()"
     ],
     "language": "python",
     "metadata": {},
     "outputs": [],
     "prompt_number": 14
    },
    {
     "cell_type": "raw",
     "metadata": {},
     "source": [
      "In order for ORT to be performed, each parcellation scheme must be represented at a single level of resolution.  The MapGraph method keep_only_one_level_of_resolution is designed to reduce the many overlapping areas from the same map in the CoCoMac database to a set of disjoint areas.  Within a single map, the level of resolution with the most reported anatomical connections (in ConGraph) is kept.  In the event of a tie, the finer level of resolution is kept except in the case of the target map for ORT ('PHT00' below), for which the coarser level is kept.  This bias maximizes the translatability of information between maps during ORT.  When levels are discarded, areas are removed from both the MapGraph and its corresponding ConGraph, but, when possible, relational and connectivity information for the discarded levels are retained in the one that is kept."
     ]
    },
    {
     "cell_type": "code",
     "collapsed": true,
     "input": [
      "cong = mapg.keep_only_one_level_of_resolution(cong, 'PHT00')"
     ],
     "language": "python",
     "metadata": {},
     "outputs": [],
     "prompt_number": 15
    },
    {
     "cell_type": "raw",
     "metadata": {},
     "source": [
      "With no overlap among areas from the same map, the method from Stephan et al. (2000) for deducing implicit spatial relationships based on those explicit in the dataset can be performed using the deduce_edges method.  However, rather than use the finite automaton of Stephan et al. (2000) for resolving chains of relations to a single RC, CoCoTools uses Table 2 of Kotter & Wanke (2005)."
     ]
    },
    {
     "cell_type": "code",
     "collapsed": true,
     "input": [
      "mapg.deduce_edges()"
     ],
     "language": "python",
     "metadata": {},
     "outputs": [],
     "prompt_number": 16
    },
    {
     "cell_type": "raw",
     "metadata": {},
     "source": [
      "With new relations deduced and added to the MapGraph, the end stage of ORT -- the algebra of transformation (AT) -- can be performed.  This is done in CoCoTools using the EndGraph object and its method add_translated_edges."
     ]
    },
    {
     "cell_type": "code",
     "collapsed": true,
     "input": [
      "endg = coco.EndGraph()"
     ],
     "language": "python",
     "metadata": {},
     "outputs": [],
     "prompt_number": 17
    },
    {
     "cell_type": "code",
     "collapsed": true,
     "input": [
      "endg.add_translated_edges(mapg, cong, 'PHT00', 'original')"
     ],
     "language": "python",
     "metadata": {},
     "outputs": [
      {
       "ename": "KeyError",
       "evalue": "'Connection'",
       "output_type": "pyerr",
       "traceback": [
        "\u001b[1;31m---------------------------------------------------------------------------\u001b[0m\n\u001b[1;31mKeyError\u001b[0m                                  Traceback (most recent call last)",
        "\u001b[1;32m<ipython-input-18-6cd3c5fe6973>\u001b[0m in \u001b[0;36m<module>\u001b[1;34m()\u001b[0m\n\u001b[1;32m----> 1\u001b[1;33m \u001b[0mendg\u001b[0m\u001b[1;33m.\u001b[0m\u001b[0madd_translated_edges\u001b[0m\u001b[1;33m(\u001b[0m\u001b[0mmapg\u001b[0m\u001b[1;33m,\u001b[0m \u001b[0mcong\u001b[0m\u001b[1;33m,\u001b[0m \u001b[1;34m'PHT00'\u001b[0m\u001b[1;33m,\u001b[0m \u001b[1;34m'original'\u001b[0m\u001b[1;33m)\u001b[0m\u001b[1;33m\u001b[0m\u001b[0m\n\u001b[0m",
        "\u001b[1;32mc:\\Users\\Robert\\cocomac\\cocomac-tools\\cocotools\\endgraph.pyc\u001b[0m in \u001b[0;36madd_translated_edges\u001b[1;34m(self, mapp, conn, desired_map, method)\u001b[0m\n\u001b[0;32m    585\u001b[0m                     \u001b[0mnew_source\u001b[0m \u001b[1;33m=\u001b[0m \u001b[0ms_mapping\u001b[0m\u001b[1;33m[\u001b[0m\u001b[1;36m0\u001b[0m\u001b[1;33m]\u001b[0m\u001b[1;33m.\u001b[0m\u001b[0msplit\u001b[0m\u001b[1;33m(\u001b[0m\u001b[1;34m'-'\u001b[0m\u001b[1;33m,\u001b[0m \u001b[1;36m1\u001b[0m\u001b[1;33m)\u001b[0m\u001b[1;33m[\u001b[0m\u001b[1;33m-\u001b[0m\u001b[1;36m1\u001b[0m\u001b[1;33m]\u001b[0m\u001b[1;33m\u001b[0m\u001b[0m\n\u001b[0;32m    586\u001b[0m                     \u001b[0mnew_target\u001b[0m \u001b[1;33m=\u001b[0m \u001b[0mt_mapping\u001b[0m\u001b[1;33m[\u001b[0m\u001b[1;36m0\u001b[0m\u001b[1;33m]\u001b[0m\u001b[1;33m.\u001b[0m\u001b[0msplit\u001b[0m\u001b[1;33m(\u001b[0m\u001b[1;34m'-'\u001b[0m\u001b[1;33m,\u001b[0m \u001b[1;36m1\u001b[0m\u001b[1;33m)\u001b[0m\u001b[1;33m[\u001b[0m\u001b[1;33m-\u001b[0m\u001b[1;36m1\u001b[0m\u001b[1;33m]\u001b[0m\u001b[1;33m\u001b[0m\u001b[0m\n\u001b[1;32m--> 587\u001b[1;33m                     \u001b[0mself\u001b[0m\u001b[1;33m.\u001b[0m\u001b[0madd_edge\u001b[0m\u001b[1;33m(\u001b[0m\u001b[0mnew_source\u001b[0m\u001b[1;33m,\u001b[0m \u001b[0mnew_target\u001b[0m\u001b[1;33m,\u001b[0m \u001b[0mattr\u001b[0m\u001b[1;33m)\u001b[0m\u001b[1;33m\u001b[0m\u001b[0m\n\u001b[0m",
        "\u001b[1;32mc:\\Users\\Robert\\cocomac\\cocomac-tools\\cocotools\\endgraph.pyc\u001b[0m in \u001b[0;36madd_edge\u001b[1;34m(self, source, target, attributes)\u001b[0m\n\u001b[0;32m     59\u001b[0m           \u001b[0mHas\u001b[0m \u001b[0mkeys\u001b[0m \u001b[1;32mand\u001b[0m \u001b[0mvalid\u001b[0m \u001b[0mvalues\u001b[0m \u001b[1;32mfor\u001b[0m \u001b[1;34m'Connection'\u001b[0m \u001b[1;32mand\u001b[0m \u001b[1;34m'PDC'\u001b[0m\u001b[1;33m.\u001b[0m\u001b[1;33m\u001b[0m\u001b[0m\n\u001b[0;32m     60\u001b[0m         \"\"\"\n\u001b[1;32m---> 61\u001b[1;33m         \u001b[1;32mif\u001b[0m \u001b[0msource\u001b[0m \u001b[1;33m==\u001b[0m \u001b[0mtarget\u001b[0m \u001b[1;32mor\u001b[0m \u001b[0mattributes\u001b[0m\u001b[1;33m[\u001b[0m\u001b[1;34m'Connection'\u001b[0m\u001b[1;33m]\u001b[0m \u001b[1;33m==\u001b[0m \u001b[1;34m'Unknown'\u001b[0m\u001b[1;33m:\u001b[0m\u001b[1;33m\u001b[0m\u001b[0m\n\u001b[0m\u001b[0;32m     62\u001b[0m             \u001b[1;32mreturn\u001b[0m\u001b[1;33m\u001b[0m\u001b[0m\n\u001b[0;32m     63\u001b[0m         \u001b[1;32mif\u001b[0m \u001b[1;32mnot\u001b[0m \u001b[0mself\u001b[0m\u001b[1;33m.\u001b[0m\u001b[0mhas_edge\u001b[0m\u001b[1;33m(\u001b[0m\u001b[0msource\u001b[0m\u001b[1;33m,\u001b[0m \u001b[0mtarget\u001b[0m\u001b[1;33m)\u001b[0m\u001b[1;33m:\u001b[0m\u001b[1;33m\u001b[0m\u001b[0m\n",
        "\u001b[1;31mKeyError\u001b[0m: 'Connection'"
       ]
      }
     ],
     "prompt_number": 18
    },
    {
     "cell_type": "code",
     "collapsed": true,
     "input": [
      "endg_mort=coco.EndGraph()"
     ],
     "language": "python",
     "metadata": {},
     "outputs": [],
     "prompt_number": 19
    },
    {
     "cell_type": "code",
     "collapsed": false,
     "input": [
      "endg_mort.add_translated_edges(mapg, cong, 'PHT00', 'modified')"
     ],
     "language": "python",
     "metadata": {},
     "outputs": [],
     "prompt_number": 20
    },
    {
     "cell_type": "code",
     "collapsed": false,
     "input": [
      "endg_mort.number_of_edges()"
     ],
     "language": "python",
     "metadata": {},
     "outputs": [
      {
       "output_type": "pyout",
       "prompt_number": 23,
       "text": [
        "603"
       ]
      }
     ],
     "prompt_number": 23
    },
    {
     "cell_type": "code",
     "collapsed": false,
     "input": [
      "endg_mort.nodes()\n"
     ],
     "language": "python",
     "metadata": {},
     "outputs": [
      {
       "output_type": "pyout",
       "prompt_number": 50,
       "text": [
        "['PAS',\n",
        " 'BL',\n",
        " 'BM',\n",
        " '24/23',\n",
        " 'EOL',\n",
        " 'PECG',\n",
        " 'PAI',\n",
        " '25',\n",
        " 'OPAL',\n",
        " '29',\n",
        " '4',\n",
        " 'PRS',\n",
        " 'PIR',\n",
        " 'PITD',\n",
        " 'PUL',\n",
        " 'GU',\n",
        " 'ST2',\n",
        " 'TPO',\n",
        " '9/46V',\n",
        " '13',\n",
        " 'THO',\n",
        " 'IPRO',\n",
        " 'TPT',\n",
        " '9/46D',\n",
        " 'GI',\n",
        " '13A',\n",
        " 'IPA',\n",
        " 'SNC',\n",
        " 'SNR',\n",
        " 'POAE',\n",
        " 'POAI',\n",
        " '2VE',\n",
        " '9/32',\n",
        " 'DTG',\n",
        " 'TEM',\n",
        " '3B',\n",
        " '3A',\n",
        " '24D',\n",
        " '24A',\n",
        " '24C',\n",
        " 'PU',\n",
        " 'PTG',\n",
        " 'PF',\n",
        " 'PG',\n",
        " 'PE',\n",
        " 'PO',\n",
        " 'TPPRO',\n",
        " 'EI',\n",
        " 'FST',\n",
        " 'EC',\n",
        " 'TEO',\n",
        " 'S',\n",
        " 'PGM/31',\n",
        " '2/1',\n",
        " 'ER',\n",
        " 'ME',\n",
        " 'V4D',\n",
        " '11M',\n",
        " '11L',\n",
        " '31',\n",
        " 'PAAC',\n",
        " '36',\n",
        " '35',\n",
        " 'MT',\n",
        " 'PROM',\n",
        " 'PROK',\n",
        " 'V4T',\n",
        " 'V4V',\n",
        " 'ATG',\n",
        " 'V3V',\n",
        " 'S2',\n",
        " '6VR',\n",
        " 'V3A',\n",
        " 'V3D',\n",
        " 'AKM',\n",
        " 'AKL',\n",
        " '6VC',\n",
        " 'PEA',\n",
        " 'PEC',\n",
        " '9M',\n",
        " '9L',\n",
        " 'PAAR',\n",
        " 'TEA',\n",
        " 'PGOP',\n",
        " 'ECL',\n",
        " '2',\n",
        " 'VTA',\n",
        " 'OPT',\n",
        " 'CL',\n",
        " 'ELC',\n",
        " 'CE',\n",
        " 'CD',\n",
        " 'PFOP',\n",
        " 'ELR',\n",
        " 'TE1',\n",
        " 'TE2',\n",
        " 'TE3',\n",
        " 'REIT',\n",
        " '10',\n",
        " 'F2',\n",
        " 'REIP',\n",
        " '14',\n",
        " 'F7',\n",
        " '6M',\n",
        " '8B',\n",
        " '32',\n",
        " '45A',\n",
        " '45B',\n",
        " '47(12)',\n",
        " '8/32',\n",
        " 'DI',\n",
        " 'MST',\n",
        " 'DIP',\n",
        " 'OPRO',\n",
        " 'LA',\n",
        " '46',\n",
        " '44',\n",
        " 'PGM',\n",
        " '24B',\n",
        " '1',\n",
        " 'V1',\n",
        " 'ST1',\n",
        " 'TH',\n",
        " 'ST3',\n",
        " 'TF',\n",
        " 'AA',\n",
        " '8A',\n",
        " 'AI',\n",
        " '6/32',\n",
        " 'JXST',\n",
        " 'AHIMC',\n",
        " 'TPOC',\n",
        " '23D',\n",
        " 'PGA',\n",
        " '23A',\n",
        " '23B',\n",
        " '23C',\n",
        " 'PFG']"
       ]
      }
     ],
     "prompt_number": 50
    },
    {
     "cell_type": "code",
     "collapsed": false,
     "input": [],
     "language": "python",
     "metadata": {},
     "outputs": []
    }
   ],
   "metadata": {}
  }
 ]
}