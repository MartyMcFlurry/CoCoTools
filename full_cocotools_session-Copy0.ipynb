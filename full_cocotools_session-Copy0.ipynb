{
 "metadata": {
  "name": "full_cocotools_session-Copy0"
 },
 "nbformat": 3,
 "nbformat_minor": 0,
 "worksheets": [
  {
   "cells": [
    {
     "cell_type": "code",
     "collapsed": false,
     "input": [
      "pwd"
     ],
     "language": "python",
     "metadata": {},
     "outputs": [
      {
       "output_type": "pyout",
       "prompt_number": 2,
       "text": [
        "u'c:\\\\Users\\\\Robert\\\\cocomac\\\\cocomac-tools'"
       ]
      }
     ],
     "prompt_number": 2
    },
    {
     "cell_type": "code",
     "collapsed": true,
     "input": [
      "import cocotools as coco"
     ],
     "language": "python",
     "metadata": {},
     "outputs": [],
     "prompt_number": 3
    },
    {
     "cell_type": "raw",
     "metadata": {},
     "source": [
      "The multi_map_ebunch function is designed to query the CoCoMac server for data from several parcellation schemes.  The first argument to the function is a string specifying whether mapping or connectivity information is desired.  The second argument, which is optional, specifies which brain maps should be queried; if no argument is given, data is sought for all brain maps in CoCoMac.  CoCoTools includes two constants that are useful second arguments to multi_map_ebunch: MAPPING_SOURCES is a list of those maps for which Mapping data have been entered into CoCoMac, and CONNECTIVITY_SOURCES is the corresponding list for maps with Connectivity data.\n",
      "\n",
      "multi_map_ebunch returns two lists: The first contains edges suitable for a NetworkX DiGraph, and the second holds the maps for which no data were returned from the CoCoMac server.  Brain maps whose queries are known to cause CoCoMac server timeouts are listed in the CoCoTools constants MAPPING_TIMEOUTS and CONNECTIVITY_TIMEOUTS.\n",
      "\n",
      "Whenever a query of the CoCoMac server is made using CoCoTools, the server's response (provided in XML format) is stored in a local SQLite database (cocotools.sqlite), located in the .cache directory within the user's home directory.  This ensures rapid retrieval of results for repeated queries at a small memory cost (80 MB maximum)."
     ]
    },
    {
     "cell_type": "code",
     "collapsed": true,
     "input": [
      "map_bunch, map_failures = coco.multi_map_ebunch('Mapping', coco.MAPPING_NON_TIMEOUTS)"
     ],
     "language": "python",
     "metadata": {},
     "outputs": [],
     "prompt_number": 4
    },
    {
     "cell_type": "code",
     "collapsed": false,
     "input": [
      "small_query_list=['PP94', 'W40', 'YP85', 'FV87', 'B09', 'VV19', 'PHT00']"
     ],
     "language": "python",
     "metadata": {},
     "outputs": [],
     "prompt_number": 14
    },
    {
     "cell_type": "code",
     "collapsed": false,
     "input": [
      "small_map_bunch, small_map_failures =coco.multi_map_ebunch('Mapping', small_query_list)"
     ],
     "language": "python",
     "metadata": {},
     "outputs": [],
     "prompt_number": 15
    },
    {
     "cell_type": "raw",
     "metadata": {},
     "source": [
      "In the case of a Mapping query, each edge that multi_map_ebunch returns is a tuple that represents a directed spatial relationship between two brain areas.  In the tuple, the source area is listed first, and both areas are specified in full CoCoMac format.  A dictionary of edge attributes is the third entry in the tuple, with a PDC and an RC.  Numeric rather than alphabetic codes are used for PDCs in CoCoTools: Starting at zero, the numeric code refers to the index in the hierarchy recommended by Kotter & Wanke (2005) of the original alphabetic PDC.  An additional numeric code, 18, is included for CoCoMac data entries without a PDC.  In CoCoTools, lesser PDCs are valued more highly than greater ones.  The alphabetic hierarchy of Kotter & Wanke (2005) is available in CoCoTools as the constant PDC_HIER."
     ]
    },
    {
     "cell_type": "code",
     "collapsed": false,
     "input": [],
     "language": "python",
     "metadata": {},
     "outputs": []
    },
    {
     "cell_type": "code",
     "collapsed": false,
     "input": [
      "map_bunch[0]"
     ],
     "language": "python",
     "metadata": {},
     "outputs": [
      {
       "output_type": "pyout",
       "prompt_number": 20,
       "text": [
        "('A85-A', 'A85-AMG', {'PDC': 0, 'RC': 'S'})"
       ]
      }
     ],
     "prompt_number": 20
    },
    {
     "cell_type": "code",
     "collapsed": true,
     "input": [
      "con_bunch, con_failures = coco.multi_map_ebunch('Connectivity', coco.CONNECTIVITY_NON_TIMEOUTS)"
     ],
     "language": "python",
     "metadata": {},
     "outputs": [],
     "prompt_number": 16
    },
    {
     "cell_type": "code",
     "collapsed": false,
     "input": [
      "small_con_bunch, small_con_failures= coco.multi_map_ebunch('Connectivity', small_query_list)"
     ],
     "language": "python",
     "metadata": {},
     "outputs": [],
     "prompt_number": "*"
    },
    {
     "cell_type": "raw",
     "metadata": {},
     "source": [
      "For Connectivity queries, the edges returned represent directed anatomical connections.  As for Mapping queries, each edge has a source area, a target area, and a dictionary of attributes.  The attributes specify whether the connection is present or known to be absent, its degree (or density), the ECs for the source and target, and PDCs for each brain area (or site), the ECs, and the density."
     ]
    },
    {
     "cell_type": "code",
     "collapsed": false,
     "input": [
      "con_bunch[0]"
     ],
     "language": "python",
     "metadata": {},
     "outputs": [
      {
       "output_type": "pyout",
       "prompt_number": 18,
       "text": [
        "('B09-10',\n",
        " 'GSS84-SUB',\n",
        " {'Connection': 'Unknown',\n",
        "  'Degree': '0',\n",
        "  'EC_Source': 'X',\n",
        "  'EC_Target': 'N',\n",
        "  'PDC_Density': 18,\n",
        "  'PDC_EC_Source': 18,\n",
        "  'PDC_EC_Target': 18,\n",
        "  'PDC_Site_Source': 1,\n",
        "  'PDC_Site_Target': 0})"
       ]
      }
     ],
     "prompt_number": 18
    },
    {
     "cell_type": "raw",
     "metadata": {},
     "source": [
      "The Mapping edges are meant to be added to a MapGraph and the Connectivity edges are meant to be added to a ConGraph. Whenever an edge is added to a MapGraph, so is its reciprocal: For example, when an edge is added to the effect that area A is smaller than B, the corresponding edge implying that area B is larger than area A is also added."
     ]
    },
    {
     "cell_type": "code",
     "collapsed": true,
     "input": [
      "mapg = coco.MapGraph()"
     ],
     "language": "python",
     "metadata": {},
     "outputs": [],
     "prompt_number": 10
    },
    {
     "cell_type": "code",
     "collapsed": false,
     "input": [
      "mapg.add_edges_from(map_bunch)"
     ],
     "language": "python",
     "metadata": {},
     "outputs": [],
     "prompt_number": 12
    },
    {
     "cell_type": "code",
     "collapsed": true,
     "input": [
      "cong = coco.ConGraph()"
     ],
     "language": "python",
     "metadata": {},
     "outputs": [],
     "prompt_number": 8
    },
    {
     "cell_type": "code",
     "collapsed": true,
     "input": [
      "cong.add_edges_from(con_bunch)"
     ],
     "language": "python",
     "metadata": {},
     "outputs": [],
     "prompt_number": 9
    },
    {
     "cell_type": "code",
     "collapsed": false,
     "input": [
      "small_mapg=coco.MapGraph()\n",
      "small_cong=coco.ConGraph()\n",
      "small_mapg=small_mapg.add_edges_from(small_map_bunch)\n",
      "small_cong=small_cong.add_edges_from(small_con_bunch)"
     ],
     "language": "python",
     "metadata": {},
     "outputs": [],
     "prompt_number": "*"
    },
    {
     "cell_type": "markdown",
     "metadata": {},
     "source": [
      "MapGraph and DiGraph are instances of NetworkX DiGraph objects that are special to CoCoTools. Putting mapping and connectivity data into these objects, allows you to operate on them using NetworkX's suite of graph theory methods."
     ]
    },
    {
     "cell_type": "code",
     "collapsed": false,
     "input": [
      "mapg.size()"
     ],
     "language": "python",
     "metadata": {},
     "outputs": []
    },
    {
     "cell_type": "code",
     "collapsed": false,
     "input": [
      "mapg.edges()"
     ],
     "language": "python",
     "metadata": {},
     "outputs": [
      {
       "ename": "NameError",
       "evalue": "name 'mapg' is not defined",
       "output_type": "pyerr",
       "traceback": [
        "\u001b[1;31m---------------------------------------------------------------------------\u001b[0m\n\u001b[1;31mNameError\u001b[0m                                 Traceback (most recent call last)",
        "\u001b[1;32m<ipython-input-1-8e4a0a51654e>\u001b[0m in \u001b[0;36m<module>\u001b[1;34m()\u001b[0m\n\u001b[1;32m----> 1\u001b[1;33m \u001b[0mmapg\u001b[0m\u001b[1;33m.\u001b[0m\u001b[0medges\u001b[0m\u001b[1;33m(\u001b[0m\u001b[1;33m)\u001b[0m\u001b[1;33m\u001b[0m\u001b[0m\n\u001b[0m",
        "\u001b[1;31mNameError\u001b[0m: name 'mapg' is not defined"
       ]
      }
     ],
     "prompt_number": 1
    },
    {
     "cell_type": "code",
     "collapsed": false,
     "input": [
      "mapg.edge['PP94-9']"
     ],
     "language": "python",
     "metadata": {},
     "outputs": []
    },
    {
     "cell_type": "code",
     "collapsed": false,
     "input": [
      "cong.size()"
     ],
     "language": "python",
     "metadata": {},
     "outputs": []
    },
    {
     "cell_type": "raw",
     "metadata": {},
     "source": [
      "While developing CoCoTools we discovered numerous omissions and errors in the Mapping section of the CoCoMac database.  Calling the clean_data method of MapGraph rectifies these."
     ]
    },
    {
     "cell_type": "code",
     "collapsed": true,
     "input": [
      "mapg.clean_data()"
     ],
     "language": "python",
     "metadata": {},
     "outputs": [],
     "prompt_number": 13
    },
    {
     "cell_type": "raw",
     "metadata": {},
     "source": [
      "In order for ORT to be performed, each parcellation scheme must be represented at a single level of resolution.  The MapGraph method keep_only_one_level_of_resolution is designed to reduce the many overlapping areas from the same map in the CoCoMac database to a set of disjoint areas.  Within a single map, the level of resolution with the most reported anatomical connections (in ConGraph) is kept.  In the event of a tie, the finer level of resolution is kept except in the case of the target map for ORT ('PHT00' below), for which the coarser level is kept.  This bias maximizes the translatability of information between maps during ORT.  When levels are discarded, areas are removed from both the MapGraph and its corresponding ConGraph, but, when possible, relational and connectivity information for the discarded levels are retained in the one that is kept."
     ]
    },
    {
     "cell_type": "code",
     "collapsed": true,
     "input": [
      "cong = mapg.keep_only_one_level_of_resolution(cong, 'PHT00')"
     ],
     "language": "python",
     "metadata": {},
     "outputs": [],
     "prompt_number": 14
    },
    {
     "cell_type": "raw",
     "metadata": {},
     "source": [
      "With no overlap among areas from the same map, the method from Stephan et al. (2000) for deducing implicit spatial relationships based on those explicit in the dataset can be performed using the deduce_edges method.  However, rather than use the finite automaton of Stephan et al. (2000) for resolving chains of relations to a single RC, CoCoTools uses Table 2 of Kotter & Wanke (2005)."
     ]
    },
    {
     "cell_type": "code",
     "collapsed": true,
     "input": [
      "mapg.deduce_edges()"
     ],
     "language": "python",
     "metadata": {},
     "outputs": [],
     "prompt_number": 15
    },
    {
     "cell_type": "raw",
     "metadata": {},
     "source": [
      "With new relations deduced and added to the MapGraph, the end stage of ORT -- the algebra of transformation (AT) -- can be performed.  This is done in CoCoTools using the EndGraph object and its method add_translated_edges."
     ]
    },
    {
     "cell_type": "code",
     "collapsed": true,
     "input": [
      "endg = coco.EndGraph()"
     ],
     "language": "python",
     "metadata": {},
     "outputs": [],
     "prompt_number": 16
    },
    {
     "cell_type": "code",
     "collapsed": true,
     "input": [
      "endg.add_translated_edges(mapg, cong, 'PHT00')"
     ],
     "language": "python",
     "metadata": {},
     "outputs": [],
     "prompt_number": 17
    },
    {
     "cell_type": "code",
     "collapsed": true,
     "input": [],
     "language": "python",
     "metadata": {},
     "outputs": []
    }
   ],
   "metadata": {}
  }
 ]
}