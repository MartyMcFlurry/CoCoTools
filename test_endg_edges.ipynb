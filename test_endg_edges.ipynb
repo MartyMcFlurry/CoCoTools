{
 "metadata": {
  "name": "test_endg_edges"
 },
 "nbformat": 3,
 "nbformat_minor": 0,
 "worksheets": [
  {
   "cells": [
    {
     "cell_type": "code",
     "collapsed": false,
     "input": [
      "import cocotools as coco\n",
      "import networkx as nx\n",
      "import numpy as np\n",
      "import pickle\n",
      "import matplotlib.pyplot as plt"
     ],
     "language": "python",
     "metadata": {},
     "outputs": [],
     "prompt_number": 16
    },
    {
     "cell_type": "code",
     "collapsed": false,
     "input": [
      "mapname='bb47'\n",
      "mapstub='C:\\\\Users\\Robert\\\\cocomac\\\\cocoresults\\\\results\\\\graphs\\\\revision_graphs\\\\' +mapname+\"_post_deduce_mapg.pck\"\n",
      "constub='C:\\\\Users\\Robert\\\\cocomac\\\\cocoresults\\\\results\\\\graphs\\\\revision_graphs\\\\' +mapname+\"_post_deduce_cong.pck\"\n",
      "mapfile=open(mapstub, 'rb')\n",
      "confile=open(constub, 'rb')\n",
      "mapg=pickle.load(mapfile)\n",
      "cong=pickle.load(confile)\n",
      "coconame=mapname.upper()\n",
      "\n",
      "\n",
      "endg_ort=coco.EndGraph()\n",
      "endg_mort=coco.EndGraph()\n",
      "endg_ort.add_translated_edges(mapg, cong, coconame, 'original')\n",
      "#endg_s_ort=coco.strip_absent_and_unknown_edges(endg_ort)\n",
      "endg_mort.add_translated_edges(mapg, cong, coconame, 'modified')\n",
      "#endg_s_mort=coco.strip_absent_and_unknown_edges(endg_mort)"
     ],
     "language": "python",
     "metadata": {},
     "outputs": [],
     "prompt_number": 17
    },
    {
     "cell_type": "code",
     "collapsed": false,
     "input": [
      "import add_translated_edge"
     ],
     "language": "python",
     "metadata": {},
     "outputs": [],
     "prompt_number": 18
    },
    {
     "cell_type": "code",
     "collapsed": false,
     "input": [
      "input_edges=[[('LV00A-6DS', 'LV00A-LIPV')],[('LV00A-6DS', 'B09-7')],[('MBG91-SMAR', 'PS82-OPT')],[('LV00A-M2', 'LV00A-LIPV')],[('LV00A-M2', 'B09-7')]]"
     ],
     "language": "python",
     "metadata": {},
     "outputs": [],
     "prompt_number": 37
    },
    {
     "cell_type": "code",
     "collapsed": false,
     "input": [
      "empty_end=coco.EndGraph()\n",
      "input_edge =input_edges[2]\n",
      "endgname=empty_end\n",
      "add_translated_edge.add_translated_edge(endgname, mapg, cong, 'BB47', 'original', input_edge)"
     ],
     "language": "python",
     "metadata": {},
     "outputs": [],
     "prompt_number": 62
    },
    {
     "cell_type": "code",
     "collapsed": false,
     "input": [
      "print input_edge\n",
      "empty_end.edge['FB']['PG']"
     ],
     "language": "python",
     "metadata": {},
     "outputs": [
      {
       "output_type": "stream",
       "stream": "stdout",
       "text": [
        "[('MBG91-SMAR', 'PS82-OPT')]\n"
       ]
      },
      {
       "output_type": "pyout",
       "prompt_number": 63,
       "text": [
        "{'EC_Source': 'X', 'EC_Target': 'X', 'PDC': 13.089285714285714}"
       ]
      }
     ],
     "prompt_number": 63
    },
    {
     "cell_type": "code",
     "collapsed": false,
     "input": [
      "input_edge[0][0]"
     ],
     "language": "python",
     "metadata": {},
     "outputs": [
      {
       "output_type": "pyout",
       "prompt_number": 67,
       "text": [
        "'MBG91-SMAR'"
       ]
      }
     ],
     "prompt_number": 67
    },
    {
     "cell_type": "code",
     "collapsed": false,
     "input": [
      "original_s='MBG91-SMAR'\n",
      "original_t='PS82-OPT'\n",
      "for original_s, original_t in input_edge:\n",
      "            s_dict = empty_end._make_translation_dict(mapg, original_s, 'BB47')\n",
      "            t_dict = empty_end._make_translation_dict(mapg, original_t, 'BB47')"
     ],
     "language": "python",
     "metadata": {},
     "outputs": [],
     "prompt_number": 71
    },
    {
     "cell_type": "code",
     "collapsed": false,
     "input": [
      "t_dict"
     ],
     "language": "python",
     "metadata": {},
     "outputs": [
      {
       "output_type": "pyout",
       "prompt_number": 73,
       "text": [
        "{'BB47-OA': ['PS82-OPT'],\n",
        " 'BB47-PG': ['PS82-POA', 'PS82-OPT', 'PS82-PG', 'PS82-PFG']}"
       ]
      }
     ],
     "prompt_number": 73
    },
    {
     "cell_type": "code",
     "collapsed": false,
     "input": [
      "s_dict"
     ],
     "language": "python",
     "metadata": {},
     "outputs": [
      {
       "output_type": "pyout",
       "prompt_number": 112,
       "text": [
        "{'BB47-FB': ['MBG91-SMAR', 'MBG91-SMAC']}"
       ]
      }
     ],
     "prompt_number": 112
    },
    {
     "cell_type": "code",
     "collapsed": false,
     "input": [
      "endg_empty=coco.EndGraph()\n",
      "endg_empty.map='BB47'\n",
      "s_mapping=('BB47-FB',['MBG91-SMAR', 'MBG91-SMAC'])\n",
      "t_mapping=('BB47-PG', ['PS82-POA', 'PS82-PFG', 'PS82-OPT', 'PS82-PG'])\n",
      "                      \n",
      "test_attr=endg_empty._translate_attr_original(s_mapping, t_mapping, mapg, cong)"
     ],
     "language": "python",
     "metadata": {},
     "outputs": [],
     "prompt_number": 121
    },
    {
     "cell_type": "code",
     "collapsed": false,
     "input": [
      "endg_empty=coco.EndGraph()\n",
      "s_mapping=('BB47-FB',['MBG91-SMAR', 'MBG91-SMAC'])\n",
      "t_mapping=('BB47-PG', ['PS82-POA', 'PS82-PFG', 'PS82-OPT', 'PS82-PG'])\n",
      "pdcs = []\n",
      "source_rcs, pdcs = endg_empty._get_rcs(s_mapping, mapg, pdcs)\n",
      "target_rcs, pdcs = endg_empty._get_rcs(t_mapping, mapg, pdcs)\n",
      "new_source, original_sources = s_mapping\n",
      "new_target, original_targets = t_mapping\n",
      "orig_s_ecs = {}\n",
      "orig_t_ecs = {}\n",
      "for original_s in original_sources:\n",
      "    for original_t in original_targets:\n",
      "        try:\n",
      "            conn_dict = cong[original_s][original_t]\n",
      "        except KeyError:\n",
      "            conn_dict = {'EC_Source': 'U', 'EC_Target': 'U'}\n",
      "# It's kind of weird that we're incorporating PDCs\n",
      "# for edges that aren't ultimately going to factor\n",
      "# into the final EC (as only the most extensive is\n",
      "# kept), but whatever.\n",
      "            pdcs.append(18)\n",
      "        else:\n",
      "            pdcs.append(endg_empty._get_mean_pdc(original_s, original_t,\n",
      "                                                 cong))\n",
      "        if not orig_s_ecs.has_key(original_s):\n",
      "            orig_s_ecs[original_s] = [conn_dict['EC_Source']]\n",
      "        else:\n",
      "            orig_s_ecs[original_s].append(conn_dict['EC_Source'])\n",
      "        if not orig_t_ecs.has_key(original_t):\n",
      "            orig_t_ecs[original_t] = [conn_dict['EC_Target']]\n",
      "        else:\n",
      "            orig_t_ecs[original_t].append(conn_dict['EC_Target'])\n"
     ],
     "language": "python",
     "metadata": {},
     "outputs": [],
     "prompt_number": 124
    },
    {
     "cell_type": "code",
     "collapsed": false,
     "input": [
      "source_rcs"
     ],
     "language": "python",
     "metadata": {},
     "outputs": [
      {
       "output_type": "pyout",
       "prompt_number": 136,
       "text": [
        "['S', 'S']"
       ]
      }
     ],
     "prompt_number": 136
    },
    {
     "cell_type": "code",
     "collapsed": false,
     "input": [
      "target_rcs"
     ],
     "language": "python",
     "metadata": {},
     "outputs": [
      {
       "output_type": "pyout",
       "prompt_number": 138,
       "text": [
        "['S', 'O', 'O', 'S']"
       ]
      }
     ],
     "prompt_number": 138
    },
    {
     "cell_type": "code",
     "collapsed": false,
     "input": [
      "endg_empty._take_most_extensive_ec(orig_s_ecs, original_sources, orig_t_ecs, original_targets)"
     ],
     "language": "python",
     "metadata": {},
     "outputs": [
      {
       "output_type": "pyout",
       "prompt_number": 141,
       "text": [
        "(['X', 'U'], ['U', 'U', 'X', 'X'])"
       ]
      }
     ],
     "prompt_number": 141
    },
    {
     "cell_type": "code",
     "collapsed": false,
     "input": [
      "original_targets"
     ],
     "language": "python",
     "metadata": {},
     "outputs": [
      {
       "output_type": "pyout",
       "prompt_number": 142,
       "text": [
        "['PS82-POA', 'PS82-PFG', 'PS82-OPT', 'PS82-PG']"
       ]
      }
     ],
     "prompt_number": 142
    },
    {
     "cell_type": "code",
     "collapsed": false,
     "input": [
      "t_dict.values()[0][0]"
     ],
     "language": "python",
     "metadata": {},
     "outputs": [
      {
       "output_type": "pyout",
       "prompt_number": 110,
       "text": [
        "'PS82-POA'"
       ]
      }
     ],
     "prompt_number": 110
    },
    {
     "cell_type": "code",
     "collapsed": false,
     "input": [
      "original_sources"
     ],
     "language": "python",
     "metadata": {},
     "outputs": [
      {
       "output_type": "pyout",
       "prompt_number": 143,
       "text": [
        "['MBG91-SMAR', 'MBG91-SMAC']"
       ]
      }
     ],
     "prompt_number": 143
    },
    {
     "cell_type": "code",
     "collapsed": false,
     "input": [
      "reduced_s_ecs,reduced_t_ecs=endg_empty._take_most_extensive_ec({},[],{'PS82-OPT':['X','U'],'PS82-PG':['U','U']},['PS82-OPT','PS82-PG'])"
     ],
     "language": "python",
     "metadata": {},
     "outputs": [],
     "prompt_number": 144
    },
    {
     "cell_type": "code",
     "collapsed": false,
     "input": [
      "reduced_s_ecs"
     ],
     "language": "python",
     "metadata": {},
     "outputs": [
      {
       "output_type": "pyout",
       "prompt_number": 145,
       "text": [
        "[]"
       ]
      }
     ],
     "prompt_number": 145
    },
    {
     "cell_type": "code",
     "collapsed": false,
     "input": [
      "reduced_t_ecs"
     ],
     "language": "python",
     "metadata": {},
     "outputs": [
      {
       "output_type": "pyout",
       "prompt_number": 146,
       "text": [
        "['X', 'X']"
       ]
      }
     ],
     "prompt_number": 146
    },
    {
     "cell_type": "code",
     "collapsed": false,
     "input": [
      "extensiveness_rank = ('C', 'X', 'P', 'N', 'U')\n",
      "reduced_s_ecs = []\n",
      "for s in original_sources:\n",
      "    best_rank = 5\n",
      "    for ec in orig_s_ecs[s]:\n",
      "        # For Nx, Np, Nc, consider only the first letter (i.e., N)\n",
      "        current_rank = extensiveness_rank.index(ec[0])\n",
      "        if current_rank < best_rank:\n",
      "            best_rank = current_rank\n",
      "            best_ec = ec\n",
      "    reduced_s_ecs.append(best_ec)\n",
      "reduced_t_ecs = []\n",
      "for t in original_targets:\n",
      "    best_rank = 5\n",
      "    for ec in orig_t_ecs[t]:\n",
      "        current_rank = extensiveness_rank.index(ec[0])\n",
      "        if current_rank < best_rank:\n",
      "            best_rank = current_rank\n",
      "            best_ec = ec\n",
      "    reduced_t_ecs.append(best_ec)"
     ],
     "language": "python",
     "metadata": {},
     "outputs": [],
     "prompt_number": 148
    },
    {
     "cell_type": "code",
     "collapsed": false,
     "input": [
      "reduced_t_ecs"
     ],
     "language": "python",
     "metadata": {},
     "outputs": [
      {
       "output_type": "pyout",
       "prompt_number": 149,
       "text": [
        "['U', 'U', 'X', 'U']"
       ]
      }
     ],
     "prompt_number": 149
    },
    {
     "cell_type": "code",
     "collapsed": false,
     "input": [],
     "language": "python",
     "metadata": {},
     "outputs": []
    }
   ],
   "metadata": {}
  }
 ]
}