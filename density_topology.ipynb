{
 "metadata": {
  "name": "density_topology"
 },
 "nbformat": 3,
 "nbformat_minor": 0,
 "worksheets": [
  {
   "cells": [
    {
     "cell_type": "code",
     "collapsed": false,
     "input": [
      "pwd"
     ],
     "language": "python",
     "metadata": {},
     "outputs": [
      {
       "output_type": "pyout",
       "prompt_number": 13,
       "text": [
        "u'C:\\\\Users\\\\Robert\\\\cocomac\\\\cocomac-tools'"
       ]
      }
     ],
     "prompt_number": 13
    },
    {
     "cell_type": "code",
     "collapsed": false,
     "input": [
      "import cocotools as coco\n",
      "import networkx as nx"
     ],
     "language": "python",
     "metadata": {},
     "outputs": [],
     "prompt_number": 2
    },
    {
     "cell_type": "markdown",
     "metadata": {},
     "source": [
      "# Importing Data"
     ]
    },
    {
     "cell_type": "code",
     "collapsed": false,
     "input": [
      "import pickle\n",
      "mapg=pickle.load(open('post_deduce_fullmapg.pck'))\n",
      "cong=pickle.load(open('post_deduce_fullcong.pck'))"
     ],
     "language": "python",
     "metadata": {},
     "outputs": [],
     "prompt_number": 3
    },
    {
     "cell_type": "markdown",
     "metadata": {},
     "source": [
      "#PHT00"
     ]
    },
    {
     "cell_type": "code",
     "collapsed": false,
     "input": [
      "pht00_map_bunch, pht00_map_failures = coco.multi_map_ebunch('Mapping', ['PHT00'])"
     ],
     "language": "python",
     "metadata": {},
     "outputs": [],
     "prompt_number": 4
    },
    {
     "cell_type": "code",
     "collapsed": false,
     "input": [
      "pht00_native_mapg=coco.MapGraph()\n",
      "pht00_native_mapg.add_edges_from(pht00_map_bunch)\n",
      "\n",
      "mname='PHT00'\n",
      "y=pht00_native_mapg.nodes()\n",
      "y.sort()\n",
      "pht00_native_nodes=[]\n",
      "pht00_native_nnodes=sum(1 if y[xval].startswith(mname) else 0 for xval in range(len(y)))"
     ],
     "language": "python",
     "metadata": {},
     "outputs": [],
     "prompt_number": 5
    },
    {
     "cell_type": "code",
     "collapsed": false,
     "input": [
      "pht00_con_bunch, pht00_con_failures = coco.multi_map_ebunch('Connectivity', ['PHT00'])\n",
      "pht00_native=coco.ConGraph()\n",
      "pht00_native.add_edges_from(pht00_con_bunch)\n",
      "pht00_native=coco.strip_absent_and_unknown_edges(pht00_native)"
     ],
     "language": "python",
     "metadata": {},
     "outputs": [],
     "prompt_number": 6
    },
    {
     "cell_type": "code",
     "collapsed": false,
     "input": [
      "#pht00_cong = mapg.keep_only_one_level_of_resolution(cong, 'PHT00')\n",
      "pht00_endg=coco.EndGraph()\n",
      "pht00_endg_mort=coco.EndGraph()\n",
      "pht00_endg.add_translated_edges(mapg, cong, 'PHT00', 'original')\n",
      "pht00_endg=coco.strip_absent_and_unknown_edges(pht00_endg)\n",
      "pht00_endg_mort.add_translated_edges(mapg, cong, 'PHT00', 'modified')"
     ],
     "language": "python",
     "metadata": {},
     "outputs": [],
     "prompt_number": 7
    },
    {
     "cell_type": "code",
     "collapsed": false,
     "input": [
      "y=pht00_endg.nodes()\n",
      "z=pht00_endg.degree(y).values()\n",
      "pht00_connected_edges=sum(1 if z[xval]>0 else 0 for xval in range(len(z)))"
     ],
     "language": "python",
     "metadata": {},
     "outputs": [],
     "prompt_number": 8
    },
    {
     "cell_type": "code",
     "collapsed": false,
     "input": [
      "y=pht00_endg_mort.nodes()\n",
      "z=pht00_endg_mort.degree(y).values()\n",
      "pht00_mort_connected_edges=sum(1 if z[xval]>0 else 0 for xval in range(len(z)))"
     ],
     "language": "python",
     "metadata": {},
     "outputs": [],
     "prompt_number": 9
    },
    {
     "cell_type": "code",
     "collapsed": false,
     "input": [
      "print 'A simple', mname, 'query found edges for', pht00_native.number_of_nodes(), 'out of', pht00_native_nnodes, 'nodes. Totalling', pht00_native.number_of_edges(), 'edges.' "
     ],
     "language": "python",
     "metadata": {},
     "outputs": [
      {
       "output_type": "stream",
       "stream": "stdout",
       "text": [
        "A simple PHT00 query found edges for 48 out of 191 nodes. Totalling 49 edges.\n"
       ]
      }
     ],
     "prompt_number": 10
    },
    {
     "cell_type": "code",
     "collapsed": false,
     "input": [
      "print 'ORT w/ all of CoCoMac found edges for ', pht00_connected_edges, 'out of', pht00_endg.number_of_nodes(), 'nodes.Totalling', pht00_endg.number_of_edges(), 'edges.'"
     ],
     "language": "python",
     "metadata": {},
     "outputs": [
      {
       "output_type": "stream",
       "stream": "stdout",
       "text": [
        "ORT w/ all of CoCoMac found edges for  96 out of 141 nodes.Totalling 461 edges.\n"
       ]
      }
     ],
     "prompt_number": 11
    },
    {
     "cell_type": "code",
     "collapsed": false,
     "input": [
      "print 'mORT w/ all of CoCoMac found edges for ', pht00_mort_connected_edges, 'out of', pht00_endg_mort.number_of_nodes(), 'nodes.Totalling', pht00_endg_mort.number_of_edges(), 'edges.'"
     ],
     "language": "python",
     "metadata": {},
     "outputs": [
      {
       "output_type": "stream",
       "stream": "stdout",
       "text": [
        "mORT w/ all of CoCoMac found edges for  98 out of 138 nodes.Totalling 702 edges.\n"
       ]
      }
     ],
     "prompt_number": 12
    },
    {
     "cell_type": "code",
     "collapsed": false,
     "input": [
      "pht00_endg.edge['1']"
     ],
     "language": "python",
     "metadata": {},
     "outputs": [
      {
       "output_type": "pyout",
       "prompt_number": 230,
       "text": [
        "{}"
       ]
      }
     ],
     "prompt_number": 230
    },
    {
     "cell_type": "code",
     "collapsed": false,
     "input": [
      "pht00_endg_mort.number_of_edges()"
     ],
     "language": "python",
     "metadata": {},
     "outputs": [
      {
       "output_type": "pyout",
       "prompt_number": 220,
       "text": [
        "702"
       ]
      }
     ],
     "prompt_number": 220
    },
    {
     "cell_type": "code",
     "collapsed": false,
     "input": [
      "pht00_endg.number_of_edges()"
     ],
     "language": "python",
     "metadata": {},
     "outputs": [
      {
       "output_type": "pyout",
       "prompt_number": 221,
       "text": [
        "460"
       ]
      }
     ],
     "prompt_number": 221
    },
    {
     "cell_type": "code",
     "collapsed": false,
     "input": [
      "pht00_density=nx.density(pht00_endg)\n",
      "pht00_density"
     ],
     "language": "python",
     "metadata": {},
     "outputs": [
      {
       "output_type": "pyout",
       "prompt_number": 219,
       "text": [
        "0.02330293819655522"
       ]
      }
     ],
     "prompt_number": 219
    },
    {
     "cell_type": "code",
     "collapsed": false,
     "input": [
      "pht00_mort_density=nx.density(pht00_endg_mort)\n",
      "pht00_mort_density"
     ],
     "language": "python",
     "metadata": {},
     "outputs": [
      {
       "output_type": "pyout",
       "prompt_number": 218,
       "text": [
        "0.037131069501745474"
       ]
      }
     ],
     "prompt_number": 218
    },
    {
     "cell_type": "markdown",
     "metadata": {},
     "source": [
      "#B05"
     ]
    },
    {
     "cell_type": "code",
     "collapsed": false,
     "input": [
      "b05_map_bunch, b05_map_failures = coco.multi_map_ebunch('Mapping', ['B05'])"
     ],
     "language": "python",
     "metadata": {},
     "outputs": [],
     "prompt_number": 152
    },
    {
     "cell_type": "code",
     "collapsed": false,
     "input": [
      "b05_native_mapg=coco.MapGraph()\n",
      "b05_native_mapg.add_edges_from(b05_map_bunch)\n",
      "\n",
      "mname='B05'\n",
      "y=b05_native_mapg.nodes()\n",
      "y.sort()\n",
      "b05_native_nodes=[]\n",
      "b05_native_nnodes=sum(1 if y[xval].startswith(mname) else 0 for xval in range(len(y)))"
     ],
     "language": "python",
     "metadata": {},
     "outputs": [],
     "prompt_number": 153
    },
    {
     "cell_type": "code",
     "collapsed": false,
     "input": [
      "b05_con_bunch, b05_con_failures = coco.multi_map_ebunch('Connectivity', ['B05'])\n",
      "b05_native=coco.ConGraph()\n",
      "b05_native.add_edges_from(b05_con_bunch)\n",
      "b05_native=coco.strip_absent_and_unknown_edges(b05_native)"
     ],
     "language": "python",
     "metadata": {},
     "outputs": [],
     "prompt_number": 155
    },
    {
     "cell_type": "code",
     "collapsed": false,
     "input": [
      "b05_cong = mapg.keep_only_one_level_of_resolution(cong, 'B05')\n",
      "b05_endg=coco.EndGraph()\n",
      "b05_endg_mort=coco.EndGraph()\n",
      "b05_endg.add_translated_edges(mapg, b05_cong, 'B05', 'original')\n",
      "b05_endg=coco.strip_absent_and_unknown_edges(b05_endg)\n",
      "b05_endg_mort.add_translated_edges(mapg, b05_cong, 'B05', 'modified')"
     ],
     "language": "python",
     "metadata": {},
     "outputs": [],
     "prompt_number": 156
    },
    {
     "cell_type": "code",
     "collapsed": false,
     "input": [
      "y=b05_endg.nodes()\n",
      "z=b05_endg.degree(y).values()\n",
      "b05_connected_edges=sum(1 if z[xval]>0 else 0 for xval in range(len(z)))"
     ],
     "language": "python",
     "metadata": {},
     "outputs": [],
     "prompt_number": 157
    },
    {
     "cell_type": "code",
     "collapsed": false,
     "input": [
      "y=b05_endg_mort.nodes()\n",
      "z=b05_endg_mort.degree(y).values()\n",
      "b05_mort_connected_edges=sum(1 if z[xval]>0 else 0 for xval in range(len(z)))"
     ],
     "language": "python",
     "metadata": {},
     "outputs": [],
     "prompt_number": 158
    },
    {
     "cell_type": "code",
     "collapsed": false,
     "input": [
      "print 'A simple', mname, 'query found edges for', b05_native.number_of_nodes(), 'out of', b05_native_nnodes, 'nodes. Totalling', b05_native.number_of_edges(), 'edges.' "
     ],
     "language": "python",
     "metadata": {},
     "outputs": [
      {
       "output_type": "stream",
       "stream": "stdout",
       "text": [
        "A simple B05 query found edges for 125 out of 27 nodes. Totalling 85 edges.\n"
       ]
      }
     ],
     "prompt_number": 159
    },
    {
     "cell_type": "code",
     "collapsed": false,
     "input": [
      "print 'ORT w/ all of CoCoMac found edges for ', b05_connected_edges, 'out of', b05_endg.number_of_nodes(), 'nodes.Totalling', b05_endg.number_of_edges(), 'edges.'"
     ],
     "language": "python",
     "metadata": {},
     "outputs": [
      {
       "output_type": "stream",
       "stream": "stdout",
       "text": [
        "ORT w/ all of CoCoMac found edges for  24 out of 28 nodes.Totalling 138 edges.\n"
       ]
      }
     ],
     "prompt_number": 160
    },
    {
     "cell_type": "code",
     "collapsed": false,
     "input": [
      "print 'mORT w/ all of CoCoMac found edges for ', b05_mort_connected_edges, 'out of', b05_endg_mort.number_of_nodes(), 'nodes.Totalling', b05_endg_mort.number_of_edges(), 'edges.'"
     ],
     "language": "python",
     "metadata": {},
     "outputs": [
      {
       "output_type": "stream",
       "stream": "stdout",
       "text": [
        "mORT w/ all of CoCoMac found edges for  24 out of 28 nodes.Totalling 216 edges.\n"
       ]
      }
     ],
     "prompt_number": 161
    },
    {
     "cell_type": "code",
     "collapsed": false,
     "input": [
      "b05_density=nx.density(b05_endg)\n",
      "b05_density"
     ],
     "language": "python",
     "metadata": {},
     "outputs": [
      {
       "output_type": "pyout",
       "prompt_number": 217,
       "text": [
        "0.18253968253968253"
       ]
      }
     ],
     "prompt_number": 217
    },
    {
     "cell_type": "code",
     "collapsed": false,
     "input": [
      "b05_mort_density=nx.density(b05_endg_mort)\n",
      "b05_mort_density"
     ],
     "language": "python",
     "metadata": {},
     "outputs": [
      {
       "output_type": "pyout",
       "prompt_number": 216,
       "text": [
        "0.2857142857142857"
       ]
      }
     ],
     "prompt_number": 216
    },
    {
     "cell_type": "markdown",
     "metadata": {},
     "source": [
      "#FV91"
     ]
    },
    {
     "cell_type": "code",
     "collapsed": false,
     "input": [
      "fv91_map_bunch, mfailures= coco.query_maps_by_area('Mapping', ['FV91'])"
     ],
     "language": "python",
     "metadata": {},
     "outputs": [],
     "prompt_number": 191
    },
    {
     "cell_type": "code",
     "collapsed": false,
     "input": [
      "fv91_native_mapg=coco.MapGraph()\n",
      "fv91_native_mapg.add_edges_from(fv91_map_bunch)\n",
      "\n",
      "mname='FV91'\n",
      "y=fv91_native_mapg.nodes()\n",
      "y.sort()\n",
      "fv91_native_nodes=[]\n",
      "fv91_native_nnodes=sum(1 if y[xval].startswith(mname) else 0 for xval in range(len(y)))"
     ],
     "language": "python",
     "metadata": {},
     "outputs": [],
     "prompt_number": 192
    },
    {
     "cell_type": "code",
     "collapsed": false,
     "input": [
      "fv91_con_bunch, fv91_con_failures = coco.multi_map_ebunch('Connectivity', ['FV91'])\n",
      "fv91_native=coco.ConGraph()\n",
      "fv91_native.add_edges_from(fv91_con_bunch)\n",
      "fv91_native=coco.strip_absent_and_unknown_edges(fv91_native)"
     ],
     "language": "python",
     "metadata": {},
     "outputs": [],
     "prompt_number": 193
    },
    {
     "cell_type": "code",
     "collapsed": false,
     "input": [
      "fv91_cong = mapg.keep_only_one_level_of_resolution(cong, 'FV91')\n",
      "fv91_endg=coco.EndGraph()\n",
      "fv91_endg_mort=coco.EndGraph()\n",
      "fv91_endg.add_translated_edges(mapg, fv91_cong, 'FV91', 'original')\n",
      "fv91_endg=coco.strip_absent_and_unknown_edges(fv91_endg)\n",
      "fv91_endg_mort.add_translated_edges(mapg, fv91_cong, 'FV91', 'modified')"
     ],
     "language": "python",
     "metadata": {},
     "outputs": [],
     "prompt_number": 194
    },
    {
     "cell_type": "code",
     "collapsed": false,
     "input": [
      "y=fv91_endg.nodes()\n",
      "z=fv91_endg.degree(y).values()\n",
      "fv91_connected_edges=sum(1 if z[xval]>0 else 0 for xval in range(len(z)))"
     ],
     "language": "python",
     "metadata": {},
     "outputs": [],
     "prompt_number": 195
    },
    {
     "cell_type": "code",
     "collapsed": false,
     "input": [
      "y=fv91_endg_mort.nodes()\n",
      "z=fv91_endg_mort.degree(y).values()\n",
      "fv91_mort_connected_edges=sum(1 if z[xval]>0 else 0 for xval in range(len(z)))"
     ],
     "language": "python",
     "metadata": {},
     "outputs": [],
     "prompt_number": 196
    },
    {
     "cell_type": "code",
     "collapsed": false,
     "input": [
      "print 'A simple', mname, 'query found edges for', fv91_native.number_of_nodes(), 'out of', fv91_native_nnodes, 'nodes. Totalling', fv91_native.number_of_edges(), 'edges.' "
     ],
     "language": "python",
     "metadata": {},
     "outputs": [
      {
       "output_type": "stream",
       "stream": "stdout",
       "text": [
        "A simple FV91 query found edges for 0 out of 55 nodes. Totalling 0 edges.\n"
       ]
      }
     ],
     "prompt_number": 209
    },
    {
     "cell_type": "code",
     "collapsed": false,
     "input": [
      "print 'ORT w/ all of CoCoMac found edges for ', fv91_connected_edges, 'out of', fv91_endg.number_of_nodes(), 'nodes.Totalling', fv91_endg.number_of_edges(), 'edges.'"
     ],
     "language": "python",
     "metadata": {},
     "outputs": [
      {
       "output_type": "stream",
       "stream": "stdout",
       "text": [
        "ORT w/ all of CoCoMac found edges for  51 out of 52 nodes.Totalling 363 edges.\n"
       ]
      }
     ],
     "prompt_number": 210
    },
    {
     "cell_type": "code",
     "collapsed": false,
     "input": [
      "print 'mORT w/ all of CoCoMac found edges for ', fv91_mort_connected_edges, 'out of', fv91_endg_mort.number_of_nodes(), 'nodes.Totalling', fv91_endg_mort.number_of_edges(), 'edges.'"
     ],
     "language": "python",
     "metadata": {},
     "outputs": [
      {
       "output_type": "stream",
       "stream": "stdout",
       "text": [
        "mORT w/ all of CoCoMac found edges for  52 out of 52 nodes.Totalling 448 edges.\n"
       ]
      }
     ],
     "prompt_number": 211
    },
    {
     "cell_type": "code",
     "collapsed": false,
     "input": [],
     "language": "python",
     "metadata": {},
     "outputs": [],
     "prompt_number": 178
    },
    {
     "cell_type": "code",
     "collapsed": false,
     "input": [
      "fv91_density=nx.density(fv91_endg)\n",
      "fv91_density"
     ],
     "language": "python",
     "metadata": {},
     "outputs": [
      {
       "output_type": "pyout",
       "prompt_number": 214,
       "text": [
        "0.13687782805429866"
       ]
      }
     ],
     "prompt_number": 214
    },
    {
     "cell_type": "code",
     "collapsed": false,
     "input": [
      "fv91_mort_density=nx.density(fv91_endg_mort)\n",
      "fv91_mort_density"
     ],
     "language": "python",
     "metadata": {},
     "outputs": [
      {
       "output_type": "pyout",
       "prompt_number": 215,
       "text": [
        "0.1689291101055807"
       ]
      }
     ],
     "prompt_number": 215
    },
    {
     "cell_type": "markdown",
     "metadata": {},
     "source": [
      "#BB47"
     ]
    },
    {
     "cell_type": "code",
     "collapsed": false,
     "input": [
      "bb47_map_bunch, bb47_map_failures = coco.multi_map_ebunch('Mapping', ['BB47'])"
     ],
     "language": "python",
     "metadata": {},
     "outputs": [],
     "prompt_number": 200
    },
    {
     "cell_type": "code",
     "collapsed": false,
     "input": [
      "bb47_native_mapg=coco.MapGraph()\n",
      "bb47_native_mapg.add_edges_from(bb47_map_bunch)\n",
      "\n",
      "mname='FV91'\n",
      "y=bb47_native_mapg.nodes()\n",
      "y.sort()\n",
      "bb47_native_nodes=[]\n",
      "bb47_native_nnodes=sum(1 if y[xval].startswith(mname) else 0 for xval in range(len(y)))"
     ],
     "language": "python",
     "metadata": {},
     "outputs": [],
     "prompt_number": 201
    },
    {
     "cell_type": "code",
     "collapsed": false,
     "input": [
      "bb47_con_bunch, fv91_con_failures = coco.multi_map_ebunch('Connectivity', ['BB47'])\n",
      "bb47_native=coco.ConGraph()\n",
      "bb47_native.add_edges_from(bb47_con_bunch)\n",
      "bb47_native=coco.strip_absent_and_unknown_edges(bb47_native)"
     ],
     "language": "python",
     "metadata": {},
     "outputs": [],
     "prompt_number": 202
    },
    {
     "cell_type": "code",
     "collapsed": false,
     "input": [
      "bb47_cong = mapg.keep_only_one_level_of_resolution(cong, 'BB47')\n",
      "bb47_endg=coco.EndGraph()\n",
      "bb47_endg_mort=coco.EndGraph()\n",
      "bb47_endg.add_translated_edges(mapg, bb47_cong, 'BB47', 'original')\n",
      "bb47_endg=coco.strip_absent_and_unknown_edges(bb47_endg)\n",
      "bb47_endg_mort.add_translated_edges(mapg, bb47_cong, 'BB47', 'modified')"
     ],
     "language": "python",
     "metadata": {},
     "outputs": [],
     "prompt_number": 203
    },
    {
     "cell_type": "code",
     "collapsed": false,
     "input": [
      "y=bb47_endg.nodes()\n",
      "z=bb47_endg.degree(y).values()\n",
      "bb47_connected_edges=sum(1 if z[xval]>0 else 0 for xval in range(len(z)))"
     ],
     "language": "python",
     "metadata": {},
     "outputs": [],
     "prompt_number": 204
    },
    {
     "cell_type": "code",
     "collapsed": false,
     "input": [
      "y=bb47_endg_mort.nodes()\n",
      "z=bb47_endg_mort.degree(y).values()\n",
      "bb47_mort_connected_edges=sum(1 if z[xval]>0 else 0 for xval in range(len(z)))"
     ],
     "language": "python",
     "metadata": {},
     "outputs": [],
     "prompt_number": 205
    },
    {
     "cell_type": "code",
     "collapsed": false,
     "input": [
      "print 'A simple', mname, 'query found edges for', bb47_native.number_of_nodes(), 'out of', bb47_native_nnodes, 'nodes. Totalling', bb47_native.number_of_edges(), 'edges.' "
     ],
     "language": "python",
     "metadata": {},
     "outputs": [
      {
       "output_type": "stream",
       "stream": "stdout",
       "text": [
        "A simple FV91 query found edges for 0 out of 0 nodes. Totalling 0 edges.\n"
       ]
      }
     ],
     "prompt_number": 206
    },
    {
     "cell_type": "code",
     "collapsed": false,
     "input": [
      "print 'ORT w/ all of CoCoMac found edges for ', bb47_connected_edges, 'out of', bb47_endg.number_of_nodes(), 'nodes.Totalling', bb47_endg.number_of_edges(), 'edges.'"
     ],
     "language": "python",
     "metadata": {},
     "outputs": [
      {
       "output_type": "stream",
       "stream": "stdout",
       "text": [
        "ORT w/ all of CoCoMac found edges for  34 out of 37 nodes.Totalling 253 edges.\n"
       ]
      }
     ],
     "prompt_number": 207
    },
    {
     "cell_type": "code",
     "collapsed": false,
     "input": [
      "print 'mORT w/ all of CoCoMac found edges for ', bb47_mort_connected_edges, 'out of', bb47_endg_mort.number_of_nodes(), 'nodes.Totalling', bb47_endg_mort.number_of_edges(), 'edges.'"
     ],
     "language": "python",
     "metadata": {},
     "outputs": [
      {
       "output_type": "stream",
       "stream": "stdout",
       "text": [
        "mORT w/ all of CoCoMac found edges for  34 out of 36 nodes.Totalling 376 edges.\n"
       ]
      }
     ],
     "prompt_number": 208
    },
    {
     "cell_type": "code",
     "collapsed": false,
     "input": [],
     "language": "python",
     "metadata": {},
     "outputs": []
    },
    {
     "cell_type": "code",
     "collapsed": false,
     "input": [
      "bb47_edges=b05.number_of_edges()"
     ],
     "language": "python",
     "metadata": {},
     "outputs": []
    },
    {
     "cell_type": "code",
     "collapsed": false,
     "input": [
      "bb47_density=nx.density(bb47_endg)\n",
      "bb47_density"
     ],
     "language": "python",
     "metadata": {},
     "outputs": [
      {
       "output_type": "pyout",
       "prompt_number": 212,
       "text": [
        "0.18993993993993993"
       ]
      }
     ],
     "prompt_number": 212
    },
    {
     "cell_type": "code",
     "collapsed": false,
     "input": [
      "bb47_mort_density=nx.density(bb47_endg_mort)\n",
      "bb47_mort_density"
     ],
     "language": "python",
     "metadata": {},
     "outputs": [
      {
       "output_type": "pyout",
       "prompt_number": 213,
       "text": [
        "0.2984126984126984"
       ]
      }
     ],
     "prompt_number": 213
    },
    {
     "cell_type": "code",
     "collapsed": false,
     "input": [],
     "language": "python",
     "metadata": {},
     "outputs": []
    },
    {
     "cell_type": "code",
     "collapsed": false,
     "input": [
      "fv91_cong = mapg.keep_only_one_level_of_resolution(cong, 'FV91')"
     ],
     "language": "python",
     "metadata": {},
     "outputs": [],
     "prompt_number": 34
    },
    {
     "cell_type": "code",
     "collapsed": false,
     "input": [
      "fv91_endg=coco.EndGraph()\n",
      "fv91_endg_mort=coco.EndGraph()"
     ],
     "language": "python",
     "metadata": {},
     "outputs": [],
     "prompt_number": 35
    },
    {
     "cell_type": "code",
     "collapsed": false,
     "input": [
      "fv91_endg.add_translated_edges(mapg, fv91_cong, 'FV91', 'original')"
     ],
     "language": "python",
     "metadata": {},
     "outputs": [],
     "prompt_number": 36
    },
    {
     "cell_type": "code",
     "collapsed": false,
     "input": [
      "fv91_endg=coco.strip_absent_and_unknown_edges(fv91_endg)"
     ],
     "language": "python",
     "metadata": {},
     "outputs": [],
     "prompt_number": 37
    },
    {
     "cell_type": "code",
     "collapsed": false,
     "input": [
      "fv91_endg_mort.add_translated_edges(mapg, fv91_cong, 'FV91', 'modified')"
     ],
     "language": "python",
     "metadata": {},
     "outputs": [],
     "prompt_number": 38
    },
    {
     "cell_type": "code",
     "collapsed": false,
     "input": [
      "mort_nodes = set(fv91_endg_mort.nodes())\n",
      "len(mort_nodes)"
     ],
     "language": "python",
     "metadata": {},
     "outputs": [
      {
       "output_type": "pyout",
       "prompt_number": 40,
       "text": [
        "52"
       ]
      }
     ],
     "prompt_number": 40
    },
    {
     "cell_type": "code",
     "collapsed": false,
     "input": [
      "print natnodes\n",
      "print mort_nodes"
     ],
     "language": "python",
     "metadata": {},
     "outputs": [
      {
       "output_type": "stream",
       "stream": "stdout",
       "text": [
        "set(['RV94-TMPS', 'YP95-PU_C_M_D', 'O52-GM', 'YP95-CD_G_L_V', 'O52-CSL', 'YP95-CD_H', 'FV91-SMA', 'YP95-CD_B', 'FV91-MIP', 'YP95-CD_G', 'MCSGP04-23C', 'O52-LI', 'FV91-V4T', 'FV91-AITD', 'O52-LP', 'FV91-V4D', 'FV91-AITV', 'FV91-PO', 'FV91-PITV', 'FV91-IG', 'FV91-ID', 'VPR87-23', 'YP95-CD_H_I_D', 'FV91-PITD', 'FV91-3A', 'FV91-3B', 'YP97-PO', 'YP97-PM', 'YP97-PL', 'YP97-PI', 'YP95-CD_T_M_C', 'YP95-CD_H_L_D', 'FV91-V2V', 'FV91-CITV', 'FV91-36', 'FV91-PIP', 'SP78-TEM', 'FV91-PIT', 'FV91-CITD', 'FV91-RI', 'YP95-CD_B_L_D', 'O52-PUL.M', 'O52-PUL.L', 'O52-PUL.O', 'FV91-DP', 'YP95-CD_G_I_D', 'FV91-V3A', 'O52-CL', 'FV91-MDP', 'FV91-MSTD', 'MCSGP04-31', 'FV91-MSTL', 'BDU91-TEO', 'FV91-STPA', 'FV91-SII', 'FV91-STPP', 'FV91-35', 'FV91-FST', 'YP95-CD_T_I_V', 'BDU91-TE', 'O52-PCN', 'YP95-CD_T_I_D', 'MCSGP04-23', 'FV91-TF', 'SP78-PGA', 'FV91-TH', 'FV91-VOT', 'FV91-MT', 'FV91-7A', 'FV91-7B', 'O52-MD', 'FV91-FEF', 'FV91-V2', 'FV91-V4', 'FV91-V1', 'YP95-CD_G_M_D', 'YP95-CD_G_M_C', 'FV91-STP', 'YP95-PU_C', 'FV91-V3', 'FV91-46', 'FV91-LIP', 'FV91-2', 'FV91-1', 'FV91-6', 'FV91-5', 'FV91-4', 'O52-SG', 'FV91-CIT', 'YP95-CD_T_L_V', 'YP95-CD_T_I_C', 'SP78-IPA', 'O52-VLPS', 'YP95-CD_T_L_D', 'YP95-CD_T_L_C', 'FV91-VIP', 'FV91-VP'])\n",
        "set(['STPA', 'MST', 'V3A', 'LIP', 'CITV', 'CIT', 'MIP', '3A', 'SII', 'SMA', '3B', '7B', '7A', 'V1', '46', 'PITV', '1', 'SEF', 'V2', 'V3', '5', '4', 'TH', '6', 'PIP', 'V4', 'MDP', 'PIT', 'PO', 'FEF', 'AITV', 'MSTL', 'TF', 'STP', 'MSTD', '2', 'ID', 'AITD', 'VP', 'DP', 'STPP', '36', '35', 'PITD', 'VOT', 'MT', 'VIP', 'V4T', 'IG', 'FST', 'CITD', 'RI'])\n"
       ]
      }
     ],
     "prompt_number": 42
    },
    {
     "cell_type": "code",
     "collapsed": false,
     "input": [
      "fv91_density=nx.density(fv91_endg)\n",
      "fv91_density"
     ],
     "language": "python",
     "metadata": {},
     "outputs": [],
     "prompt_number": "*"
    },
    {
     "cell_type": "code",
     "collapsed": false,
     "input": [
      "fv91_endg.number_of_edges()"
     ],
     "language": "python",
     "metadata": {},
     "outputs": [
      {
       "output_type": "pyout",
       "prompt_number": 43,
       "text": [
        "363"
       ]
      }
     ],
     "prompt_number": 43
    },
    {
     "cell_type": "code",
     "collapsed": false,
     "input": [
      "fv91_endg.number_of_nodes()"
     ],
     "language": "python",
     "metadata": {},
     "outputs": [],
     "prompt_number": "*"
    },
    {
     "cell_type": "code",
     "collapsed": false,
     "input": [
      "fv91_endg_mort.number_of_nodes()"
     ],
     "language": "python",
     "metadata": {},
     "outputs": []
    },
    {
     "cell_type": "code",
     "collapsed": false,
     "input": [
      "fv91_mort_density=nx.density(fv91_endg_mort)\n",
      "fv91_mort_density"
     ],
     "language": "python",
     "metadata": {},
     "outputs": [
      {
       "output_type": "pyout",
       "prompt_number": 26,
       "text": [
        "0.1689291101055807"
       ]
      }
     ],
     "prompt_number": 26
    },
    {
     "cell_type": "code",
     "collapsed": false,
     "input": [
      "fv91_native_density=nx.density(fv91_native)\n",
      "fv91_native_density"
     ],
     "language": "python",
     "metadata": {},
     "outputs": [
      {
       "output_type": "pyout",
       "prompt_number": 73,
       "text": [
        "0.046176975945017185"
       ]
      }
     ],
     "prompt_number": 73
    },
    {
     "cell_type": "code",
     "collapsed": false,
     "input": [
      "fv91_native.number_of_edges()\n"
     ],
     "language": "python",
     "metadata": {},
     "outputs": [
      {
       "output_type": "pyout",
       "prompt_number": 78,
       "text": [
        "430"
       ]
      }
     ],
     "prompt_number": 78
    },
    {
     "cell_type": "code",
     "collapsed": false,
     "input": [
      "fv91_native.number_of_nodes()"
     ],
     "language": "python",
     "metadata": {},
     "outputs": [
      {
       "output_type": "pyout",
       "prompt_number": 80,
       "text": [
        "97"
       ]
      }
     ],
     "prompt_number": 80
    },
    {
     "cell_type": "code",
     "collapsed": false,
     "input": [
      "fv91_native.nodes()"
     ],
     "language": "python",
     "metadata": {},
     "outputs": [
      {
       "output_type": "pyout",
       "prompt_number": 82,
       "text": [
        "['RV94-TMPS',\n",
        " 'YP95-PU_C_M_D',\n",
        " 'O52-GM',\n",
        " 'YP95-CD_G_L_V',\n",
        " 'O52-CSL',\n",
        " 'YP95-CD_H',\n",
        " 'FV91-SMA',\n",
        " 'YP95-CD_B',\n",
        " 'FV91-MIP',\n",
        " 'YP95-CD_G',\n",
        " 'MCSGP04-23C',\n",
        " 'O52-LI',\n",
        " 'FV91-V4T',\n",
        " 'FV91-AITD',\n",
        " 'O52-LP',\n",
        " 'FV91-V4D',\n",
        " 'FV91-AITV',\n",
        " 'FV91-PO',\n",
        " 'FV91-PITV',\n",
        " 'FV91-IG',\n",
        " 'FV91-ID',\n",
        " 'VPR87-23',\n",
        " 'YP95-CD_H_I_D',\n",
        " 'FV91-PITD',\n",
        " 'FV91-3A',\n",
        " 'FV91-3B',\n",
        " 'YP97-PO',\n",
        " 'YP97-PM',\n",
        " 'YP97-PL',\n",
        " 'YP97-PI',\n",
        " 'YP95-CD_T_M_C',\n",
        " 'YP95-CD_H_L_D',\n",
        " 'O52-SG',\n",
        " 'FV91-35',\n",
        " 'FV91-36',\n",
        " 'FV91-PIP',\n",
        " 'SP78-TEM',\n",
        " 'FV91-PIT',\n",
        " 'FV91-CITD',\n",
        " 'FV91-RI',\n",
        " 'YP95-CD_B_L_D',\n",
        " 'O52-PUL.M',\n",
        " 'O52-PUL.L',\n",
        " 'O52-PUL.O',\n",
        " 'FV91-DP',\n",
        " 'YP95-CD_G_I_D',\n",
        " 'FV91-V3A',\n",
        " 'O52-CL',\n",
        " 'FV91-MDP',\n",
        " 'FV91-MSTD',\n",
        " 'MCSGP04-31',\n",
        " 'FV91-MSTL',\n",
        " 'FV91-STPA',\n",
        " 'FV91-SII',\n",
        " 'FV91-FEF',\n",
        " 'FV91-STPP',\n",
        " 'FV91-CITV',\n",
        " 'FV91-FST',\n",
        " 'YP95-CD_T_I_V',\n",
        " 'BDU91-TE',\n",
        " 'SP78-IPA',\n",
        " 'O52-PCN',\n",
        " 'YP95-CD_T_I_D',\n",
        " 'MCSGP04-23',\n",
        " 'FV91-TF',\n",
        " 'SP78-PGA',\n",
        " 'FV91-TH',\n",
        " 'FV91-VOT',\n",
        " 'FV91-MT',\n",
        " 'FV91-7A',\n",
        " 'FV91-7B',\n",
        " 'O52-MD',\n",
        " 'FV91-V4',\n",
        " 'FV91-V2',\n",
        " 'FV91-V3',\n",
        " 'FV91-V1',\n",
        " 'YP95-CD_G_M_D',\n",
        " 'YP95-CD_G_M_C',\n",
        " 'FV91-STP',\n",
        " 'YP95-PU_C',\n",
        " 'FV91-46',\n",
        " 'FV91-LIP',\n",
        " 'FV91-2',\n",
        " 'FV91-1',\n",
        " 'FV91-6',\n",
        " 'FV91-5',\n",
        " 'FV91-4',\n",
        " 'FV91-V2V',\n",
        " 'FV91-CIT',\n",
        " 'YP95-CD_T_L_V',\n",
        " 'YP95-CD_T_I_C',\n",
        " 'BDU91-TEO',\n",
        " 'O52-VLPS',\n",
        " 'YP95-CD_T_L_D',\n",
        " 'YP95-CD_T_L_C',\n",
        " 'FV91-VIP',\n",
        " 'FV91-VP']"
       ]
      }
     ],
     "prompt_number": 82
    },
    {
     "cell_type": "markdown",
     "metadata": {},
     "source": [
      "#BB47"
     ]
    },
    {
     "cell_type": "code",
     "collapsed": false,
     "input": [
      "bb47_cong = mapg.keep_only_one_level_of_resolution(cong, 'BB47')"
     ],
     "language": "python",
     "metadata": {},
     "outputs": [],
     "prompt_number": 13
    },
    {
     "cell_type": "code",
     "collapsed": false,
     "input": [
      "bb47_endg=coco.EndGraph()\n",
      "bb47_endg_mort=coco.EndGraph()"
     ],
     "language": "python",
     "metadata": {},
     "outputs": [],
     "prompt_number": 14
    },
    {
     "cell_type": "code",
     "collapsed": false,
     "input": [
      "bb47_endg.add_translated_edges(mapg, bb47_cong, 'BB47', 'original')"
     ],
     "language": "python",
     "metadata": {},
     "outputs": [],
     "prompt_number": 15
    },
    {
     "cell_type": "code",
     "collapsed": false,
     "input": [
      "bb47_endg_mort.add_translated_edges(mapg, bb47_cong, 'BB47', 'modified')"
     ],
     "language": "python",
     "metadata": {},
     "outputs": [],
     "prompt_number": 30
    },
    {
     "cell_type": "code",
     "collapsed": false,
     "input": [
      "bb47_endg=coco.strip_absent_and_unknown_edges(bb47_endg)"
     ],
     "language": "python",
     "metadata": {},
     "outputs": [],
     "prompt_number": 16
    },
    {
     "cell_type": "code",
     "collapsed": false,
     "input": [
      "bb47_density=nx.density(bb47_endg)\n",
      "bb47_density"
     ],
     "language": "python",
     "metadata": {},
     "outputs": [
      {
       "output_type": "pyout",
       "prompt_number": 17,
       "text": [
        "0.22549019607843138"
       ]
      }
     ],
     "prompt_number": 17
    },
    {
     "cell_type": "code",
     "collapsed": false,
     "input": [
      "bb47_mort_density=nx.density(bb47_endg_mort)\n",
      "bb47_mort_density"
     ],
     "language": "python",
     "metadata": {},
     "outputs": [
      {
       "output_type": "pyout",
       "prompt_number": 31,
       "text": [
        "0.2984126984126984"
       ]
      }
     ],
     "prompt_number": 31
    },
    {
     "cell_type": "code",
     "collapsed": false,
     "input": [
      "bb47_degrees=dict\n",
      "bb47_degreedist=[]\n",
      "bb47_degrees=bb47_endg.degree()\n",
      "bb47_degreedist=bb47_degrees.values()\n",
      "bb47_degreedist.sort()\n"
     ],
     "language": "python",
     "metadata": {},
     "outputs": [],
     "prompt_number": 27
    },
    {
     "cell_type": "code",
     "collapsed": false,
     "input": [
      "bb47_mort_degrees=dict\n",
      "bb47_mort_degreedist=[]\n",
      "bb47_mort_degrees=bb47_endg_mort.degree()\n",
      "bb47_mort_degreedist=bb47_mort_degrees.values()\n",
      "bb47_mort_degreedist.sort()"
     ],
     "language": "python",
     "metadata": {},
     "outputs": [],
     "prompt_number": 32
    },
    {
     "cell_type": "code",
     "collapsed": false,
     "input": [
      "a=hist(bb47_degreedist, 30)"
     ],
     "language": "python",
     "metadata": {},
     "outputs": [
      {
       "output_type": "display_data",
       "png": "[encoded data removed]"
      }
     ],
     "prompt_number": 29
    },
    {
     "cell_type": "code",
     "collapsed": false,
     "input": [
      "b=hist(bb47_mort_degreedist, 30)"
     ],
     "language": "python",
     "metadata": {},
     "outputs": [
      {
       "output_type": "display_data",
       "png": "[encoded data removed]"
      }
     ],
     "prompt_number": 33
    },
    {
     "cell_type": "code",
     "collapsed": false,
     "input": [],
     "language": "python",
     "metadata": {},
     "outputs": []
    },
    {
     "cell_type": "markdown",
     "metadata": {},
     "source": [
      "#PP94"
     ]
    },
    {
     "cell_type": "code",
     "collapsed": false,
     "input": [
      "pp94_cong = mapg.keep_only_one_level_of_resolution(cong, 'PP94')"
     ],
     "language": "python",
     "metadata": {},
     "outputs": [],
     "prompt_number": 18
    },
    {
     "cell_type": "code",
     "collapsed": false,
     "input": [
      "pp94_endg=coco.EndGraph()\n",
      "pp94_endg_mort=coco.EndGraph()"
     ],
     "language": "python",
     "metadata": {},
     "outputs": [],
     "prompt_number": 19
    },
    {
     "cell_type": "code",
     "collapsed": false,
     "input": [
      "pp94_endg.add_translated_edges(mapg, cong, 'PP94', 'original')"
     ],
     "language": "python",
     "metadata": {},
     "outputs": [],
     "prompt_number": 20
    },
    {
     "cell_type": "code",
     "collapsed": false,
     "input": [
      "pp94_endg_mort.add_translated_edges(mapg, cong, 'PP94', 'modified')"
     ],
     "language": "python",
     "metadata": {},
     "outputs": [],
     "prompt_number": 36
    },
    {
     "cell_type": "code",
     "collapsed": false,
     "input": [
      "pp94_endg=coco.strip_absent_and_unknown_edges(pp94_endg)"
     ],
     "language": "python",
     "metadata": {},
     "outputs": [],
     "prompt_number": 21
    },
    {
     "cell_type": "code",
     "collapsed": false,
     "input": [
      "pp94_density=nx.density(pp94_endg)\n",
      "pp94_density"
     ],
     "language": "python",
     "metadata": {},
     "outputs": [
      {
       "output_type": "pyout",
       "prompt_number": 22,
       "text": [
        "0.3"
       ]
      }
     ],
     "prompt_number": 22
    },
    {
     "cell_type": "code",
     "collapsed": false,
     "input": [
      "pp94_degrees=dict\n",
      "pp94_degreedist=[]\n",
      "pp94_degrees=pp94_endg.degree()\n",
      "pp94_degreedist=pp94_degrees.values()\n",
      "pp94_degreedist.sort()\n"
     ],
     "language": "python",
     "metadata": {},
     "outputs": [],
     "prompt_number": 34
    },
    {
     "cell_type": "code",
     "collapsed": false,
     "input": [
      "a=hist(pp94_degreedist, 30)"
     ],
     "language": "python",
     "metadata": {},
     "outputs": [
      {
       "output_type": "display_data",
       "png": "[encoded data removed]"
      }
     ],
     "prompt_number": 35
    },
    {
     "cell_type": "code",
     "collapsed": false,
     "input": [
      "pp94_mort_degrees=dict\n",
      "pp94_mort_degreedist=[]\n",
      "pp94_mort_degrees=pp94_endg_mort.degree()\n",
      "pp94_mort_degreedist=pp94_mort_degrees.values()\n",
      "pp94_mort_degreedist.sort()"
     ],
     "language": "python",
     "metadata": {},
     "outputs": [],
     "prompt_number": 37
    },
    {
     "cell_type": "code",
     "collapsed": false,
     "input": [
      "b=hist(pp94_mort_degreedist, 30)"
     ],
     "language": "python",
     "metadata": {},
     "outputs": [
      {
       "output_type": "display_data",
       "png": "[encoded data removed]"
      }
     ],
     "prompt_number": 38
    },
    {
     "cell_type": "markdown",
     "metadata": {},
     "source": [
      "#PHT00"
     ]
    },
    {
     "cell_type": "code",
     "collapsed": false,
     "input": [
      "pht00_cong = mapg.keep_only_one_level_of_resolution(cong, 'PHT00')\n",
      "pht00_endg=coco.EndGraph()\n",
      "pht00_endg_mort=coco.EndGraph()"
     ],
     "language": "python",
     "metadata": {},
     "outputs": [],
     "prompt_number": 102
    },
    {
     "cell_type": "code",
     "collapsed": false,
     "input": [
      "pht00_endg.add_translated_edges(mapg, cong, 'PHT00', 'original')\n",
      "pht00_endg_mort.add_translated_edges(mapg, cong, 'PHT00', 'modified')"
     ],
     "language": "python",
     "metadata": {},
     "outputs": [],
     "prompt_number": 103
    },
    {
     "cell_type": "code",
     "collapsed": false,
     "input": [
      "pht00_endg=coco.strip_absent_and_unknown_edges(pht00_endg)"
     ],
     "language": "python",
     "metadata": {},
     "outputs": [],
     "prompt_number": 104
    },
    {
     "cell_type": "code",
     "collapsed": false,
     "input": [
      "pht00_density=nx.density(pht00_endg)\n",
      "pht00_density"
     ],
     "language": "python",
     "metadata": {},
     "outputs": [
      {
       "output_type": "pyout",
       "prompt_number": 105,
       "text": [
        "0.05043859649122807"
       ]
      }
     ],
     "prompt_number": 105
    },
    {
     "cell_type": "code",
     "collapsed": false,
     "input": [
      "pht00_mort_density=nx.density(pht00_endg_mort)\n",
      "pht00_mort_density"
     ],
     "language": "python",
     "metadata": {},
     "outputs": [
      {
       "output_type": "pyout",
       "prompt_number": 106,
       "text": [
        "0.037131069501745474"
       ]
      }
     ],
     "prompt_number": 106
    },
    {
     "cell_type": "code",
     "collapsed": false,
     "input": [
      "pht00_con_bunch, pht00_con_failures = coco.multi_map_ebunch('Connectivity', ['PHT00'])"
     ],
     "language": "python",
     "metadata": {},
     "outputs": [],
     "prompt_number": 94
    },
    {
     "cell_type": "code",
     "collapsed": false,
     "input": [
      "pht00_native=coco.ConGraph()\n",
      "pht00_native.add_edges_from(pht00_con_bunch)\n",
      "pht00_native=coco.strip_absent_and_unknown_edges(pht00_native)\n"
     ],
     "language": "python",
     "metadata": {},
     "outputs": [],
     "prompt_number": 107
    },
    {
     "cell_type": "code",
     "collapsed": false,
     "input": [
      "pht00_native_density=nx.density(pht00_native)\n",
      "pht00_density"
     ],
     "language": "python",
     "metadata": {},
     "outputs": [
      {
       "output_type": "pyout",
       "prompt_number": 108,
       "text": [
        "0.05043859649122807"
       ]
      }
     ],
     "prompt_number": 108
    },
    {
     "cell_type": "code",
     "collapsed": false,
     "input": [],
     "language": "python",
     "metadata": {},
     "outputs": []
    }
   ],
   "metadata": {}
  }
 ]
}