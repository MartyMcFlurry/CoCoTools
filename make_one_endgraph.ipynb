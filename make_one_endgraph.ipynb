{
 "metadata": {
  "name": "make_one_endgraph"
 },
 "nbformat": 3,
 "nbformat_minor": 0,
 "worksheets": [
  {
   "cells": [
    {
     "cell_type": "code",
     "collapsed": false,
     "input": [
      "pwd"
     ],
     "language": "python",
     "metadata": {},
     "outputs": [
      {
       "output_type": "pyout",
       "prompt_number": 27,
       "text": [
        "u'C:\\\\Users\\\\Robert\\\\cocomac\\\\cocomac-tools'"
       ]
      }
     ],
     "prompt_number": 27
    },
    {
     "cell_type": "code",
     "collapsed": false,
     "input": [
      "import cocotools as coco\n",
      "import networkx as nx\n",
      "import pickle"
     ],
     "language": "python",
     "metadata": {},
     "outputs": [],
     "prompt_number": 28
    },
    {
     "cell_type": "markdown",
     "metadata": {},
     "source": [
      "# Importing Data"
     ]
    },
    {
     "cell_type": "code",
     "collapsed": false,
     "input": [
      "mapname='bb47'\n",
      "mapstub='results\\\\graphs\\\\' +mapname+\"_post_deduce_mapg.pck\"\n",
      "constub='results\\\\graphs\\\\' +mapname+\"_post_deduce_cong.pck\"\n",
      "mapfile=open(mapstub, 'rb')\n",
      "confile=open(constub, 'rb')\n",
      "mapg=pickle.load(mapfile)\n",
      "cong=pickle.load(confile)\n",
      "coconame=mapname.upper()"
     ],
     "language": "python",
     "metadata": {},
     "outputs": [],
     "prompt_number": 80
    },
    {
     "cell_type": "code",
     "collapsed": false,
     "input": [
      "# The mORT needs to be redone from scratch\n",
      "mapname='b05'\n",
      "mapstub=\"results\\\\graphs\\\\post_deduce_fullmapg3.pck\"\n",
      "constub=\"results\\\\graphs\\\\post_deduce_fullcong3.pck\"\n",
      "mapfile=open(mapstub, 'rb')\n",
      "confile=open(constub, 'rb')\n",
      "mapg=pickle.load(mapfile)\n",
      "cong=pickle.load(confile)\n",
      "coconame=mapname.upper()"
     ],
     "language": "python",
     "metadata": {},
     "outputs": [],
     "prompt_number": 5
    },
    {
     "cell_type": "markdown",
     "metadata": {},
     "source": [
      "#Coordinate-free registration"
     ]
    },
    {
     "cell_type": "code",
     "collapsed": false,
     "input": [
      "endg=coco.EndGraph()\n",
      "endg_mort=coco.EndGraph()\n",
      "endg.add_translated_edges(mapg, cong, coconame, 'original')\n",
      "endg=coco.strip_absent_and_unknown_edges(endg)\n",
      "endg_mort.add_translated_edges(mapg, cong, coconame, 'modified')\n",
      "endg_mort=coco.strip_absent_and_unknown_edges(endg_mort)"
     ],
     "language": "python",
     "metadata": {},
     "outputs": [],
     "prompt_number": 19
    },
    {
     "cell_type": "markdown",
     "metadata": {},
     "source": [
      "#Save EndGraph"
     ]
    },
    {
     "cell_type": "code",
     "collapsed": false,
     "input": [
      "ort_save='results\\\\graphs\\\\' +mapname+\"_endg_ort.pck\"\n",
      "with open(ort_save, 'wb') as f:\n",
      "    pickle.dump(endg, f, pickle.HIGHEST_PROTOCOL)\n",
      "    "
     ],
     "language": "python",
     "metadata": {},
     "outputs": [],
     "prompt_number": 16
    },
    {
     "cell_type": "code",
     "collapsed": false,
     "input": [
      "mort_save='results\\\\graphs\\\\' +mapname+\"_endg_mort.pck\"\n",
      "with open(mort_save, 'wb') as f:\n",
      "    pickle.dump(endg_mort, f, pickle.HIGHEST_PROTOCOL)\n",
      "    "
     ],
     "language": "python",
     "metadata": {},
     "outputs": [],
     "prompt_number": 26
    },
    {
     "cell_type": "markdown",
     "metadata": {},
     "source": [
      "#Basic Descriptives"
     ]
    },
    {
     "cell_type": "code",
     "collapsed": false,
     "input": [
      "y=endg.nodes()\n",
      "z=endg.degree(y).values()\n",
      "connected_edges=sum(1 if z[xval]>0 else 0 for xval in range(len(z)))"
     ],
     "language": "python",
     "metadata": {},
     "outputs": [],
     "prompt_number": 20
    },
    {
     "cell_type": "code",
     "collapsed": false,
     "input": [
      "y=endg_mort.nodes()\n",
      "z=endg_mort.degree(y).values()\n",
      "mort_connected_edges=sum(1 if z[xval]>0 else 0 for xval in range(len(z)))"
     ],
     "language": "python",
     "metadata": {},
     "outputs": [],
     "prompt_number": 21
    },
    {
     "cell_type": "code",
     "collapsed": false,
     "input": [
      "density=nx.density(endg)\n",
      "density"
     ],
     "language": "python",
     "metadata": {},
     "outputs": [
      {
       "output_type": "pyout",
       "prompt_number": 22,
       "text": [
        "0.2857142857142857"
       ]
      }
     ],
     "prompt_number": 22
    },
    {
     "cell_type": "code",
     "collapsed": false,
     "input": [
      "mort_density=nx.density(endg_mort)\n",
      "mort_density"
     ],
     "language": "python",
     "metadata": {},
     "outputs": [
      {
       "output_type": "pyout",
       "prompt_number": 23,
       "text": [
        "0.30197444831591175"
       ]
      }
     ],
     "prompt_number": 23
    },
    {
     "cell_type": "code",
     "collapsed": false,
     "input": [
      "print 'ORT w/ all of CoCoMac found edges for ', connected_edges, 'out of', endg.number_of_nodes(), 'nodes.Totalling', endg.number_of_edges(), 'edges. That is a density of', density"
     ],
     "language": "python",
     "metadata": {},
     "outputs": [
      {
       "output_type": "stream",
       "stream": "stdout",
       "text": [
        "ORT w/ all of CoCoMac found edges for  37 out of 42 nodes.Totalling 492 edges. That is a density of 0.285714285714\n"
       ]
      }
     ],
     "prompt_number": 24
    },
    {
     "cell_type": "code",
     "collapsed": false,
     "input": [
      "print 'mORT w/ all of CoCoMac found edges for ', mort_connected_edges, 'out of', endg_mort.number_of_nodes(), 'nodes.Totalling', endg_mort.number_of_edges(), 'edges.That is a density of', mort_density"
     ],
     "language": "python",
     "metadata": {},
     "outputs": [
      {
       "output_type": "stream",
       "stream": "stdout",
       "text": [
        "mORT w/ all of CoCoMac found edges for  37 out of 42 nodes.Totalling 520 edges.That is a density of 0.301974448316\n"
       ]
      }
     ],
     "prompt_number": 25
    }
   ],
   "metadata": {}
  }
 ]
}