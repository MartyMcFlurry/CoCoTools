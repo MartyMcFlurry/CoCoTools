{
 "metadata": {
  "name": "make_one_endgraph"
 },
 "nbformat": 3,
 "nbformat_minor": 0,
 "worksheets": [
  {
   "cells": [
    {
     "cell_type": "code",
     "collapsed": false,
     "input": [
      "pwd"
     ],
     "language": "python",
     "metadata": {},
     "outputs": [
      {
       "output_type": "pyout",
       "prompt_number": 1,
       "text": [
        "u'C:\\\\Users\\\\Robert\\\\cocomac\\\\cocomac-tools'"
       ]
      }
     ],
     "prompt_number": 1
    },
    {
     "cell_type": "code",
     "collapsed": false,
     "input": [
      "import cocotools as coco\n",
      "import networkx as nx\n",
      "import pickle"
     ],
     "language": "python",
     "metadata": {},
     "outputs": [],
     "prompt_number": 2
    },
    {
     "cell_type": "markdown",
     "metadata": {},
     "source": [
      "# Importing Data"
     ]
    },
    {
     "cell_type": "code",
     "collapsed": false,
     "input": [
      "mapname='bb47'\n",
      "mapstub='C:\\\\Users\\Robert\\\\cocomac\\\\cocoresults\\\\results\\\\graphs\\\\revision_graphs\\\\' +mapname+\"_post_deduce_mapg.pck\"\n",
      "constub='C:\\\\Users\\Robert\\\\cocomac\\\\cocoresults\\\\results\\\\graphs\\\\revision_graphs\\\\' +mapname+\"_post_deduce_cong.pck\"\n",
      "mapfile=open(mapstub, 'rb')\n",
      "confile=open(constub, 'rb')\n",
      "mapg=pickle.load(mapfile)\n",
      "cong=pickle.load(confile)\n",
      "coconame=mapname.upper()"
     ],
     "language": "python",
     "metadata": {},
     "outputs": [],
     "prompt_number": 19
    },
    {
     "cell_type": "markdown",
     "metadata": {},
     "source": [
      "#Coordinate-free registration"
     ]
    },
    {
     "cell_type": "code",
     "collapsed": false,
     "input": [
      "endg=coco.EndGraph()\n",
      "endg_mort=coco.EndGraph()\n",
      "endg.add_translated_edges(mapg, cong, coconame, 'original')\n",
      "endg=coco.strip_absent_and_unknown_edges(endg)\n",
      "endg_mort.add_translated_edges(mapg, cong, coconame, 'modified')\n",
      "endg_mort=coco.strip_absent_and_unknown_edges(endg_mort)"
     ],
     "language": "python",
     "metadata": {},
     "outputs": [],
     "prompt_number": 20
    },
    {
     "cell_type": "markdown",
     "metadata": {},
     "source": [
      "#Save EndGraph"
     ]
    },
    {
     "cell_type": "code",
     "collapsed": false,
     "input": [
      "ort_save='C:\\\\Users\\Robert\\\\cocomac\\\\cocoresults\\\\results\\\\graphs\\\\revision_graphs\\\\' +mapname+\"_endg_ort.pck\"\n",
      "with open(ort_save, 'wb') as f:\n",
      "    pickle.dump(endg, f, pickle.HIGHEST_PROTOCOL)\n",
      "    "
     ],
     "language": "python",
     "metadata": {},
     "outputs": [],
     "prompt_number": 51
    },
    {
     "cell_type": "code",
     "collapsed": false,
     "input": [
      "mort_save='C:\\\\Users\\Robert\\\\cocomac\\\\cocoresults\\\\results\\\\graphs\\\\revision_graphs\\\\' +mapname+\"_endg_mort.pck\"\n",
      "with open(mort_save, 'wb') as f:\n",
      "    pickle.dump(endg_mort, f, pickle.HIGHEST_PROTOCOL)\n",
      "    "
     ],
     "language": "python",
     "metadata": {},
     "outputs": [],
     "prompt_number": 52
    },
    {
     "cell_type": "markdown",
     "metadata": {},
     "source": [
      "#Basic Descriptives"
     ]
    },
    {
     "cell_type": "code",
     "collapsed": false,
     "input": [
      "y=endg.nodes()\n",
      "z=endg.degree(y).values()\n",
      "connected_edges=sum(1 if z[xval]>0 else 0 for xval in range(len(z)))"
     ],
     "language": "python",
     "metadata": {},
     "outputs": [],
     "prompt_number": 21
    },
    {
     "cell_type": "code",
     "collapsed": false,
     "input": [
      "y=endg_mort.nodes()\n",
      "z=endg_mort.degree(y).values()\n",
      "mort_connected_edges=sum(1 if z[xval]>0 else 0 for xval in range(len(z)))"
     ],
     "language": "python",
     "metadata": {},
     "outputs": [],
     "prompt_number": 22
    },
    {
     "cell_type": "code",
     "collapsed": false,
     "input": [
      "density=nx.density(endg)\n",
      "density"
     ],
     "language": "python",
     "metadata": {},
     "outputs": [
      {
       "output_type": "pyout",
       "prompt_number": 23,
       "text": [
        "0.27382645803698435"
       ]
      }
     ],
     "prompt_number": 23
    },
    {
     "cell_type": "code",
     "collapsed": false,
     "input": [
      "mort_density=nx.density(endg_mort)\n",
      "mort_density"
     ],
     "language": "python",
     "metadata": {},
     "outputs": [
      {
       "output_type": "pyout",
       "prompt_number": 24,
       "text": [
        "0.2631578947368421"
       ]
      }
     ],
     "prompt_number": 24
    },
    {
     "cell_type": "code",
     "collapsed": false,
     "input": [
      "print 'ORT w/ all of CoCoMac found edges for ', connected_edges, 'out of', endg.number_of_nodes(), 'nodes.Totalling', endg.number_of_edges(), 'edges. That is a density of', density"
     ],
     "language": "python",
     "metadata": {},
     "outputs": [
      {
       "output_type": "stream",
       "stream": "stdout",
       "text": [
        "ORT w/ all of CoCoMac found edges for  35 out of 38 nodes.Totalling 385 edges. That is a density of 0.273826458037\n"
       ]
      }
     ],
     "prompt_number": 25
    },
    {
     "cell_type": "code",
     "collapsed": false,
     "input": [
      "print 'mORT w/ all of CoCoMac found edges for ', mort_connected_edges, 'out of', endg_mort.number_of_nodes(), 'nodes.Totalling', endg_mort.number_of_edges(), 'edges.That is a density of', mort_density"
     ],
     "language": "python",
     "metadata": {},
     "outputs": [
      {
       "output_type": "stream",
       "stream": "stdout",
       "text": [
        "mORT w/ all of CoCoMac found edges for  34 out of 38 nodes.Totalling 370 edges.That is a density of 0.263157894737\n"
       ]
      }
     ],
     "prompt_number": 26
    },
    {
     "cell_type": "markdown",
     "metadata": {},
     "source": [
      "#Remove Subcortical nodes/edges"
     ]
    },
    {
     "cell_type": "code",
     "collapsed": false,
     "input": [
      "endg.nodes()"
     ],
     "language": "python",
     "metadata": {},
     "outputs": [
      {
       "output_type": "pyout",
       "prompt_number": 27,
       "text": [
        "['FDE',\n",
        " 'FF',\n",
        " 'FDL',\n",
        " 'PEM',\n",
        " 'FB',\n",
        " 'FC',\n",
        " 'FD',\n",
        " 'FE',\n",
        " 'PCOP',\n",
        " 'FCBM',\n",
        " 'FL',\n",
        " 'LC',\n",
        " 'TEO',\n",
        " 'FDDELTA',\n",
        " 'PB',\n",
        " 'PC',\n",
        " 'PA',\n",
        " 'PF',\n",
        " 'PG',\n",
        " 'TH',\n",
        " 'TF',\n",
        " 'TG',\n",
        " 'TE',\n",
        " 'TB',\n",
        " 'TC',\n",
        " 'TA',\n",
        " 'A',\n",
        " 'FAL',\n",
        " 'IA',\n",
        " 'IB',\n",
        " 'FCOP',\n",
        " 'FA',\n",
        " 'LA',\n",
        " 'OC',\n",
        " 'OB',\n",
        " 'OA',\n",
        " 'FBA',\n",
        " 'FDGAMMA']"
       ]
      }
     ],
     "prompt_number": 27
    },
    {
     "cell_type": "code",
     "collapsed": false,
     "input": [
      "#pht00_subcort=['BL', 'PAS', 'BM', 'SNC', 'SNR', 'DTG', 'PU', 'PTG', 'PF', 'S', 'ME', 'ATG', 'ECL', 'VTA', 'CL', 'CE', 'CD', 'PUL', 'AA', 'AHIMC', 'LA']\n",
      "#r00_subcort=['HC', 'AMYG']\n",
      "fv91_subcort=['PAS',\n",
      "endg.remove_nodes_from(r00_subcort)\n",
      "endg_mort.remove_nodes_from(r00_subcort)"
     ],
     "language": "python",
     "metadata": {},
     "outputs": [],
     "prompt_number": 7
    },
    {
     "cell_type": "code",
     "collapsed": false,
     "input": [
      "ort_save='C:\\\\Users\\Robert\\\\cocomac\\\\cocoresults\\\\results\\\\graphs\\\\revision_graphs\\\\' +mapname+\"_endg_no_subcort_ort.pck\"\n",
      "with open(ort_save, 'wb') as f:\n",
      "    pickle.dump(endg, f, pickle.HIGHEST_PROTOCOL)\n",
      "    "
     ],
     "language": "python",
     "metadata": {},
     "outputs": [],
     "prompt_number": 8
    },
    {
     "cell_type": "code",
     "collapsed": false,
     "input": [
      "mort_save='C:\\\\Users\\Robert\\\\cocomac\\\\cocoresults\\\\results\\\\graphs\\\\revision_graphs\\\\' +mapname+\"_endg_no_subcort_mort.pck\"\n",
      "with open(mort_save, 'wb') as f:\n",
      "    pickle.dump(endg_mort, f, pickle.HIGHEST_PROTOCOL)\n",
      "    "
     ],
     "language": "python",
     "metadata": {},
     "outputs": [],
     "prompt_number": 9
    },
    {
     "cell_type": "code",
     "collapsed": false,
     "input": [],
     "language": "python",
     "metadata": {},
     "outputs": []
    }
   ],
   "metadata": {}
  }
 ]
}