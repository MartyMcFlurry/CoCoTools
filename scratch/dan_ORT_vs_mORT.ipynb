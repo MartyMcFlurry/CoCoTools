{
 "metadata": {
  "name": "dan_ORT_vs_mORT"
 },
 "nbformat": 3,
 "worksheets": [
  {
   "cells": [
    {
     "cell_type": "code",
     "collapsed": true,
     "input": [
      "import pickle",
      "import cocotools as coco"
     ],
     "language": "python",
     "outputs": [],
     "prompt_number": 34
    },
    {
     "cell_type": "code",
     "collapsed": true,
     "input": [
      "map_bunch1, map_failures1 = coco.multi_map_ebunch('Mapping', coco.MAPPING_NON_TIMEOUTS)"
     ],
     "language": "python",
     "outputs": [],
     "prompt_number": 2
    },
    {
     "cell_type": "code",
     "collapsed": false,
     "input": [
      "map_failures1"
     ],
     "language": "python",
     "outputs": [
      {
       "output_type": "pyout",
       "prompt_number": 3,
       "text": [
        "[]"
       ]
      }
     ],
     "prompt_number": 3
    },
    {
     "cell_type": "code",
     "collapsed": true,
     "input": [
      "map_bunch2, map_failures2 = coco.query_maps_by_area('Mapping', coco.MAPPING_TIMEOUTS)"
     ],
     "language": "python",
     "outputs": [],
     "prompt_number": 4
    },
    {
     "cell_type": "code",
     "collapsed": false,
     "input": [
      "map_failures2"
     ],
     "language": "python",
     "outputs": [
      {
       "output_type": "pyout",
       "prompt_number": 5,
       "text": [
        "['BB47-FAS',",
        " 'BB47-FE',",
        " 'O52-B#3',",
        " 'O52-Clau',",
        " 'O52-Fil',",
        " 'O52-GMmc',",
        " 'O52-GR.cn',",
        " 'O52-H1',",
        " 'O52-H2',",
        " 'O52-Hyp',",
        " 'O52-In',",
        " 'O52-In.p.c',",
        " 'O52-Inc',",
        " 'O52-Mm#2',",
        " 'O52-SN.com',",
        " 'O52-N.dif',",
        " 'O52-Pall#2',",
        " 'O52-Per#2',",
        " 'O52-Prt.a',",
        " 'O52-Put',",
        " 'O52-PvH',",
        " 'O52-Reg.prt',",
        " 'O52-Ru.mc',",
        " 'O52-Ru.pc',",
        " 'O52-S.Ret.mes',",
        " 'O52-Sf',",
        " 'O52-SO#2',",
        " 'O52-Sub.Th',",
        " 'O52-Tub',",
        " 'O52-Tub.ol',",
        " 'PRA87-Cd',",
        " 'PRA87-P#1',",
        " 'PRA87-PrS']"
       ]
      }
     ],
     "prompt_number": 5
    },
    {
     "cell_type": "code",
     "collapsed": true,
     "input": [
      "con_bunch1, con_failures1 = coco.multi_map_ebunch('Connectivity', coco.CONNECTIVITY_NON_TIMEOUTS)"
     ],
     "language": "python",
     "outputs": [],
     "prompt_number": 6
    },
    {
     "cell_type": "code",
     "collapsed": false,
     "input": [
      "con_failures1"
     ],
     "language": "python",
     "outputs": [
      {
       "output_type": "pyout",
       "prompt_number": 7,
       "text": [
        "[]"
       ]
      }
     ],
     "prompt_number": 7
    },
    {
     "cell_type": "code",
     "collapsed": true,
     "input": [
      "con_bunch2, con_failures2 = coco.query_maps_by_area('Connectivity', coco.CONNECTIVITY_TIMEOUTS)"
     ],
     "language": "python",
     "outputs": [],
     "prompt_number": 8
    },
    {
     "cell_type": "code",
     "collapsed": false,
     "input": [
      "con_failures2"
     ],
     "language": "python",
     "outputs": [
      {
       "output_type": "pyout",
       "prompt_number": 9,
       "text": [
        "['B09-15',",
        " 'B09-16',",
        " 'B09-26',",
        " 'B09-27',",
        " 'B09-35-I',",
        " 'B09-35-II',",
        " 'B09-35-III',",
        " 'B09-35-V',",
        " 'B09-35-VI',",
        " 'B09-36',",
        " 'B09-36-I',",
        " 'B09-36-II',",
        " 'B09-36-III',",
        " 'B09-36-IV',",
        " 'B09-36-V',",
        " 'B09-36-VI',",
        " 'B09-43',",
        " 'BB47-FAS',",
        " 'BP89-D46c',",
        " 'BP89-V46c',",
        " 'CP94-OT',",
        " 'FV91-IT',",
        " 'FV91-MST',",
        " 'FV91-SEF',",
        " 'FV91-V2d',",
        " 'FV91-V4v',",
        " 'LV00a-10m',",
        " 'LV00a-11l',",
        " 'LV00a-11m',",
        " 'LV00a-13a',",
        " 'LV00a-13b',",
        " 'LV00a-13L',",
        " 'LV00a-13M',",
        " 'LV00a-23a',",
        " 'LV00a-23b',",
        " 'LV00a-23c',",
        " 'LV00a-24c',",
        " 'LV00a-31',",
        " 'LV00a-35',",
        " 'LV00a-36',",
        " 'LV00a-3b',",
        " 'LV00a-6D',",
        " 'LV00a-6DC',",
        " 'LV00a-8B',",
        " 'LV00a-ER#2',",
        " 'LV00a-G#2',",
        " 'LV00a-Ia#2',",
        " 'LV00a-TE1-3d',",
        " 'LV00a-TE1-3v',",
        " 'LV00a-V2',",
        " 'LV00a-V4',",
        " 'LV00a-VOT',",
        " 'O52-Caud',",
        " 'O52-Clau',",
        " 'O52-GLv',",
        " 'O52-H1',",
        " 'O52-H2',",
        " 'O52-Hyp',",
        " 'O52-Inc',",
        " 'O52-SN.com',",
        " 'O52-N.dif',",
        " 'O52-Prt.a',",
        " 'O52-Put',",
        " 'O52-PvH',",
        " 'O52-Reg.prt',",
        " 'O52-S.Ret.mes',",
        " 'O52-Tub',",
        " 'O52-Tub.ol',",
        " 'O52-Zic']"
       ]
      }
     ],
     "prompt_number": 9
    },
    {
     "cell_type": "code",
     "collapsed": true,
     "input": [
      "con_g = coco.ConGraph()"
     ],
     "language": "python",
     "outputs": [],
     "prompt_number": 10
    },
    {
     "cell_type": "code",
     "collapsed": true,
     "input": [
      "con_g.add_edges_from(con_bunch1 + con_bunch2)"
     ],
     "language": "python",
     "outputs": [],
     "prompt_number": 11
    },
    {
     "cell_type": "code",
     "collapsed": true,
     "input": [
      "map_g = coco.MapGraph()"
     ],
     "language": "python",
     "outputs": [],
     "prompt_number": 12
    },
    {
     "cell_type": "code",
     "collapsed": true,
     "input": [
      "map_g.add_edges_from(map_bunch1 + map_bunch2)"
     ],
     "language": "python",
     "outputs": [],
     "prompt_number": 13
    },
    {
     "cell_type": "code",
     "collapsed": true,
     "input": [
      "map_g.clean_data()"
     ],
     "language": "python",
     "outputs": [],
     "prompt_number": 14
    },
    {
     "cell_type": "code",
     "collapsed": true,
     "input": [
      "con_g = map_g.keep_only_one_level_of_resolution(con_g, 'PHT00')"
     ],
     "language": "python",
     "outputs": [],
     "prompt_number": 15
    },
    {
     "cell_type": "code",
     "collapsed": true,
     "input": [
      "map_g.deduce_edges()"
     ],
     "language": "python",
     "outputs": [],
     "prompt_number": 16
    },
    {
     "cell_type": "code",
     "collapsed": true,
     "input": [
      "end_g_original = coco.EndGraph()"
     ],
     "language": "python",
     "outputs": [],
     "prompt_number": 17
    },
    {
     "cell_type": "code",
     "collapsed": true,
     "input": [
      "end_g_original.add_translated_edges(map_g, con_g, 'PHT00', 'original')"
     ],
     "language": "python",
     "outputs": [],
     "prompt_number": 18
    },
    {
     "cell_type": "code",
     "collapsed": true,
     "input": [
      "end_g_modified = coco.EndGraph()"
     ],
     "language": "python",
     "outputs": [],
     "prompt_number": 19
    },
    {
     "cell_type": "code",
     "collapsed": true,
     "input": [
      "end_g_modified.add_translated_edges(map_g, con_g, 'PHT00', 'modified')"
     ],
     "language": "python",
     "outputs": [],
     "prompt_number": 20
    },
    {
     "cell_type": "code",
     "collapsed": false,
     "input": [
      "end_g_original.number_of_nodes()"
     ],
     "language": "python",
     "outputs": [
      {
       "output_type": "pyout",
       "prompt_number": 21,
       "text": [
        "138"
       ]
      }
     ],
     "prompt_number": 21
    },
    {
     "cell_type": "code",
     "collapsed": false,
     "input": [
      "end_g_modified.number_of_nodes()"
     ],
     "language": "python",
     "outputs": [
      {
       "output_type": "pyout",
       "prompt_number": 22,
       "text": [
        "138"
       ]
      }
     ],
     "prompt_number": 22
    },
    {
     "cell_type": "code",
     "collapsed": false,
     "input": [
      "end_g_original.number_of_edges()"
     ],
     "language": "python",
     "outputs": [
      {
       "output_type": "pyout",
       "prompt_number": 23,
       "text": [
        "7376"
       ]
      }
     ],
     "prompt_number": 23
    },
    {
     "cell_type": "code",
     "collapsed": false,
     "input": [
      "end_g_modified.number_of_edges()"
     ],
     "language": "python",
     "outputs": [
      {
       "output_type": "pyout",
       "prompt_number": 24,
       "text": [
        "707"
       ]
      }
     ],
     "prompt_number": 24
    },
    {
     "cell_type": "code",
     "collapsed": true,
     "input": [
      "stripped_original_g = coco.strip_absent_and_unknown_edges(end_g_original)"
     ],
     "language": "python",
     "outputs": [],
     "prompt_number": 25
    },
    {
     "cell_type": "code",
     "collapsed": false,
     "input": [
      "stripped_original_g.number_of_nodes()"
     ],
     "language": "python",
     "outputs": [
      {
       "output_type": "pyout",
       "prompt_number": 26,
       "text": [
        "138"
       ]
      }
     ],
     "prompt_number": 26
    },
    {
     "cell_type": "code",
     "collapsed": false,
     "input": [
      "stripped_original_g.number_of_edges()"
     ],
     "language": "python",
     "outputs": [
      {
       "output_type": "pyout",
       "prompt_number": 27,
       "text": [
        "459"
       ]
      }
     ],
     "prompt_number": 27
    },
    {
     "cell_type": "code",
     "collapsed": true,
     "input": [
      "ORT_edges = stripped_original_g.edges()",
      "mORT_edges = end_g_modified.edges()"
     ],
     "language": "python",
     "outputs": [],
     "prompt_number": 28
    },
    {
     "cell_type": "code",
     "collapsed": true,
     "input": [
      "ORT_not_mORT = []",
      "for edge in ORT_edges:",
      "    if edge not in mORT_edges:",
      "        ORT_not_mORT.append(edge)"
     ],
     "language": "python",
     "outputs": [],
     "prompt_number": 29
    },
    {
     "cell_type": "code",
     "collapsed": true,
     "input": [
      "mORT_not_ORT = []",
      "for edge in mORT_edges:",
      "    if edge not in ORT_edges:",
      "        mORT_not_ORT.append(edge)"
     ],
     "language": "python",
     "outputs": [],
     "prompt_number": 30
    },
    {
     "cell_type": "code",
     "collapsed": false,
     "input": [
      "len(ORT_not_mORT), len(mORT_not_ORT)"
     ],
     "language": "python",
     "outputs": [
      {
       "output_type": "pyout",
       "prompt_number": 31,
       "text": [
        "(10, 258)"
       ]
      }
     ],
     "prompt_number": 31
    },
    {
     "cell_type": "code",
     "collapsed": false,
     "input": [
      "with open('dan_finished_mapg.pck', 'w') as f:",
      "    pickle.dump(map_g, f)"
     ],
     "language": "python",
     "outputs": [],
     "prompt_number": 35
    },
    {
     "cell_type": "code",
     "collapsed": true,
     "input": [
      "with open('dan_finished_cong.pck', 'w') as f:",
      "    pickle.dump(con_g, f)"
     ],
     "language": "python",
     "outputs": [],
     "prompt_number": 36
    },
    {
     "cell_type": "code",
     "collapsed": true,
     "input": [],
     "language": "python",
     "outputs": []
    }
   ]
  }
 ]
}