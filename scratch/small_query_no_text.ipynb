{
 "metadata": {
  "name": "small_query_no_text"
 },
 "nbformat": 3,
 "nbformat_minor": 0,
 "worksheets": [
  {
   "cells": [
    {
     "cell_type": "markdown",
     "metadata": {},
     "source": [
      "#CoCoTools demonstration using a small set of data"
     ]
    },
    {
     "cell_type": "code",
     "collapsed": false,
     "input": [
      "pwd"
     ],
     "language": "python",
     "metadata": {},
     "outputs": [
      {
       "output_type": "pyout",
       "prompt_number": 1,
       "text": [
        "u'C:\\\\Users\\\\Robert\\\\cocomac\\\\cocomac-tools'"
       ]
      }
     ],
     "prompt_number": 1
    },
    {
     "cell_type": "code",
     "collapsed": false,
     "input": [
      "import cocotools as coco\n",
      "import networkx as nx"
     ],
     "language": "python",
     "metadata": {},
     "outputs": [],
     "prompt_number": 2
    },
    {
     "cell_type": "markdown",
     "metadata": {},
     "source": [
      "In this example, we will use a small list of studies"
     ]
    },
    {
     "cell_type": "code",
     "collapsed": false,
     "input": [
      "small_query_list=['PP94', 'YP85', 'PP99', 'PP02', 'VV19', 'PHT00']"
     ],
     "language": "python",
     "metadata": {},
     "outputs": [],
     "prompt_number": 3
    },
    {
     "cell_type": "markdown",
     "metadata": {},
     "source": [
      "##Query demonstration:"
     ]
    },
    {
     "cell_type": "markdown",
     "metadata": {},
     "source": [
      "###Mapping Query:"
     ]
    },
    {
     "cell_type": "code",
     "collapsed": false,
     "input": [
      "small_map_bunch, small_map_failures =coco.multi_map_ebunch('Mapping', small_query_list)"
     ],
     "language": "python",
     "metadata": {},
     "outputs": [],
     "prompt_number": 4
    },
    {
     "cell_type": "markdown",
     "metadata": {},
     "source": [
      "###Connectivity Query:"
     ]
    },
    {
     "cell_type": "code",
     "collapsed": false,
     "input": [
      "small_con_bunch, small_con_failures= coco.multi_map_ebunch('Connectivity', small_query_list)"
     ],
     "language": "python",
     "metadata": {},
     "outputs": [],
     "prompt_number": 5
    },
    {
     "cell_type": "markdown",
     "metadata": {},
     "source": [
      "###Place Query Outputs into MapGraph and ConGraphs objects:"
     ]
    },
    {
     "cell_type": "code",
     "collapsed": false,
     "input": [
      "small_mapg=coco.MapGraph()\n",
      "small_mapg.add_edges_from(small_map_bunch)"
     ],
     "language": "python",
     "metadata": {},
     "outputs": [],
     "prompt_number": 6
    },
    {
     "cell_type": "code",
     "collapsed": false,
     "input": [
      "small_cong=coco.ConGraph()\n",
      "small_cong.add_edges_from(small_con_bunch)"
     ],
     "language": "python",
     "metadata": {},
     "outputs": [],
     "prompt_number": 7
    },
    {
     "cell_type": "markdown",
     "metadata": {},
     "source": [
      "Query outputs can be placed into MapGraph and ConGraph objects. This allows the user to operate on this data with networksX's suite of graph theory methods.\n",
      "For instance:"
     ]
    },
    {
     "cell_type": "code",
     "collapsed": false,
     "input": [
      "small_mapg.size()"
     ],
     "language": "python",
     "metadata": {},
     "outputs": [
      {
       "output_type": "pyout",
       "prompt_number": 8,
       "text": [
        "1042"
       ]
      }
     ],
     "prompt_number": 8
    },
    {
     "cell_type": "code",
     "collapsed": false,
     "input": [
      "small_mapg.edges('PP94-46')"
     ],
     "language": "python",
     "metadata": {},
     "outputs": [
      {
       "output_type": "pyout",
       "prompt_number": 9,
       "text": [
        "[('PP94-46', 'PHT00-46'),\n",
        " ('PP94-46', 'B09-9'),\n",
        " ('PP94-46', 'CP99-46'),\n",
        " ('PP94-46', 'W40-46'),\n",
        " ('PP94-46', 'B09-10'),\n",
        " ('PP94-46', 'PP99-46')]"
       ]
      }
     ],
     "prompt_number": 9
    },
    {
     "cell_type": "code",
     "collapsed": false,
     "input": [
      "small_mapg.edge['PP94-46']['B09-9']"
     ],
     "language": "python",
     "metadata": {},
     "outputs": [
      {
       "output_type": "pyout",
       "prompt_number": 10,
       "text": [
        "{'PDC': 2, 'RC': 'O', 'TP': []}"
       ]
      }
     ],
     "prompt_number": 10
    },
    {
     "cell_type": "code",
     "collapsed": false,
     "input": [
      "small_cong.size()"
     ],
     "language": "python",
     "metadata": {},
     "outputs": [
      {
       "output_type": "pyout",
       "prompt_number": 11,
       "text": [
        "629"
       ]
      }
     ],
     "prompt_number": 11
    },
    {
     "cell_type": "code",
     "collapsed": false,
     "input": [
      "small_cong.edges('PP94-46')"
     ],
     "language": "python",
     "metadata": {},
     "outputs": [
      {
       "output_type": "pyout",
       "prompt_number": 12,
       "text": [
        "[('PP94-46', 'MCSGP04-M4'),\n",
        " ('PP94-46', 'PP94-9/46V'),\n",
        " ('PP94-46', 'MCSGP04-31'),\n",
        " ('PP94-46', 'MCSGP04-SSA'),\n",
        " ('PP94-46', 'MCSGP04-TSA'),\n",
        " ('PP94-46', 'VPR87-23'),\n",
        " ('PP94-46', 'MCSGP04-23'),\n",
        " ('PP94-46', 'PP94-47/12'),\n",
        " ('PP94-46', 'MCSGP04-23C')]"
       ]
      }
     ],
     "prompt_number": 12
    },
    {
     "cell_type": "code",
     "collapsed": false,
     "input": [
      "small_cong.edge['PP94-46']['PP94-47/12']"
     ],
     "language": "python",
     "metadata": {},
     "outputs": [
      {
       "output_type": "pyout",
       "prompt_number": 13,
       "text": [
        "{'Connection': 'Present',\n",
        " 'Degree': 'X',\n",
        " 'EC_Source': 'P',\n",
        " 'EC_Target': 'X',\n",
        " 'PDC_Density': 18,\n",
        " 'PDC_EC_Source': 6,\n",
        " 'PDC_EC_Target': 18,\n",
        " 'PDC_Site_Source': 12,\n",
        " 'PDC_Site_Target': 0}"
       ]
      }
     ],
     "prompt_number": 13
    },
    {
     "cell_type": "code",
     "collapsed": false,
     "input": [
      "small_cong.edges('PHT00-9/46D')"
     ],
     "language": "python",
     "metadata": {},
     "outputs": [
      {
       "output_type": "pyout",
       "prompt_number": 14,
       "text": [
        "[]"
       ]
      }
     ],
     "prompt_number": 14
    },
    {
     "cell_type": "code",
     "collapsed": false,
     "input": [
      "small_cong.edges('PP94-9/46D')"
     ],
     "language": "python",
     "metadata": {},
     "outputs": [
      {
       "output_type": "pyout",
       "prompt_number": 15,
       "text": [
        "[('PP94-9/46D', 'MPP99A-30PV'),\n",
        " ('PP94-9/46D', 'MPP99A-24'),\n",
        " ('PP94-9/46D', 'MPP99A-25'),\n",
        " ('PP94-9/46D', 'VPR87-29D'),\n",
        " ('PP94-9/46D', 'MPP99A-30D'),\n",
        " ('PP94-9/46D', 'MPP99A-CINGB'),\n",
        " ('PP94-9/46D', 'PP94-9'),\n",
        " ('PP94-9/46D', 'PP94-32'),\n",
        " ('PP94-9/46D', 'MPP99A-29A-C'),\n",
        " ('PP94-9/46D', 'PP94-10'),\n",
        " ('PP94-9/46D', 'PP94-9/46V'),\n",
        " ('PP94-9/46D', 'VPR87-23'),\n",
        " ('PP94-9/46D', 'RV77-PRES'),\n",
        " ('PP94-9/46D', 'PP94-47/12'),\n",
        " ('PP94-9/46D', 'VPR87-31'),\n",
        " ('PP94-9/46D', 'PP94-8B')]"
       ]
      }
     ],
     "prompt_number": 15
    },
    {
     "cell_type": "markdown",
     "metadata": {},
     "source": [
      "##Pre-Processing:"
     ]
    },
    {
     "cell_type": "markdown",
     "metadata": {},
     "source": [
      "While developing CoCoTools we discovered numerous omissions and errors in the Mapping section of the CoCoMac database.  Calling the clean_data method of MapGraph rectifies these."
     ]
    },
    {
     "cell_type": "code",
     "collapsed": false,
     "input": [
      "small_mapg.clean_data()"
     ],
     "language": "python",
     "metadata": {},
     "outputs": [],
     "prompt_number": 16
    },
    {
     "cell_type": "markdown",
     "metadata": {},
     "source": [
      "Next, remove spatial hierarchies and non-disjoint nodes from mapgraph based on the resolution of your planned target space"
     ]
    },
    {
     "cell_type": "markdown",
     "metadata": {},
     "source": [
      "By default the keep_only_one_level_of_resolution method keeps the level with the most anatomical connections"
     ]
    },
    {
     "cell_type": "code",
     "collapsed": false,
     "input": [
      "small_mapg.keep_only_one_level_of_resolution(small_cong, 'PHT00')"
     ],
     "language": "python",
     "metadata": {},
     "outputs": [
      {
       "output_type": "pyout",
       "prompt_number": 17,
       "text": [
        "<cocotools.congraph.ConGraph at 0x79e3790>"
       ]
      }
     ],
     "prompt_number": 17
    },
    {
     "cell_type": "markdown",
     "metadata": {},
     "source": [
      "With no overlap among areas from the same map, the method for deducing new spatial relationships can be performed. The deduce_edges function uses a hybrid approach that is similar to the method described by Stephan et al. (2000) however, rather than using the finite automaton of Stephan et al. (2000) for resolving chains of relations to a single RC, CoCoTools uses Table 2 of Kotter & Wanke (2005)."
     ]
    },
    {
     "cell_type": "markdown",
     "metadata": {},
     "source": [
      "Please note that with large MapGraph datasets (e.g. if you queried coco.MAPPING_NON_TIMEOUTS ), this step can take several hours to complete."
     ]
    },
    {
     "cell_type": "code",
     "collapsed": false,
     "input": [
      "small_mapg.deduce_edges()"
     ],
     "language": "python",
     "metadata": {},
     "outputs": [],
     "prompt_number": 18
    },
    {
     "cell_type": "markdown",
     "metadata": {},
     "source": [
      "##Coordinate-free registration demonstration:"
     ]
    },
    {
     "cell_type": "code",
     "collapsed": false,
     "input": [
      "small_endg = coco.EndGraph()"
     ],
     "language": "python",
     "metadata": {},
     "outputs": [],
     "prompt_number": 19
    },
    {
     "cell_type": "code",
     "collapsed": false,
     "input": [
      "small_endg.add_translated_edges(small_mapg, small_cong, 'PHT00', 'original')"
     ],
     "language": "python",
     "metadata": {},
     "outputs": [],
     "prompt_number": 21
    },
    {
     "cell_type": "code",
     "collapsed": false,
     "input": [
      "small_endg.size()"
     ],
     "language": "python",
     "metadata": {},
     "outputs": [
      {
       "output_type": "pyout",
       "prompt_number": 28,
       "text": [
        "452"
       ]
      }
     ],
     "prompt_number": 28
    },
    {
     "cell_type": "markdown",
     "metadata": {},
     "source": [
      "####Strip_absent_and_unknown_edges()"
     ]
    },
    {
     "cell_type": "markdown",
     "metadata": {},
     "source": [
      "The process of ORT can lead to translated edges with U(nkown) or N(ot Present) values the strip_absent_and_unknown_edges removes these edges"
     ]
    },
    {
     "cell_type": "code",
     "collapsed": false,
     "input": [
      "small_endg=coco.strip_absent_and_unknown_edges(small_endg)"
     ],
     "language": "python",
     "metadata": {},
     "outputs": []
    },
    {
     "cell_type": "code",
     "collapsed": false,
     "input": [
      "small_endg.predecessors('9/46D')"
     ],
     "language": "python",
     "metadata": {},
     "outputs": [
      {
       "output_type": "pyout",
       "prompt_number": 26,
       "text": [
        "['8/32',\n",
        " '9/32',\n",
        " '3B',\n",
        " '3A',\n",
        " '25',\n",
        " '9M',\n",
        " '9L',\n",
        " 'TEO',\n",
        " '46',\n",
        " 'PGOP',\n",
        " 'PGM',\n",
        " '29',\n",
        " 'PF',\n",
        " 'PG',\n",
        " 'TH',\n",
        " 'TF',\n",
        " '8AD',\n",
        " 'OPT',\n",
        " '10',\n",
        " 'TPO',\n",
        " 'PFOP',\n",
        " 'PGM/31',\n",
        " '14',\n",
        " '11',\n",
        " 'F1',\n",
        " '13',\n",
        " '6DR',\n",
        " 'F4',\n",
        " 'F5',\n",
        " 'PFG',\n",
        " '8B',\n",
        " '32',\n",
        " '47(12)',\n",
        " 'PROM',\n",
        " '45A',\n",
        " '45B']"
       ]
      }
     ],
     "prompt_number": 26
    },
    {
     "cell_type": "code",
     "collapsed": false,
     "input": [
      "small_mort_endg=coco.EndGraph()"
     ],
     "language": "python",
     "metadata": {},
     "outputs": [],
     "prompt_number": 22
    },
    {
     "cell_type": "code",
     "collapsed": false,
     "input": [
      "small_mort_endg.add_translated_edges(small_mapg, small_cong, 'PHT00', 'modified')"
     ],
     "language": "python",
     "metadata": {},
     "outputs": [],
     "prompt_number": 23
    },
    {
     "cell_type": "code",
     "collapsed": false,
     "input": [
      "small_mort_endg.size()"
     ],
     "language": "python",
     "metadata": {},
     "outputs": [
      {
       "output_type": "pyout",
       "prompt_number": 29,
       "text": [
        "86"
       ]
      }
     ],
     "prompt_number": 29
    },
    {
     "cell_type": "code",
     "collapsed": false,
     "input": [
      "small_mort_endg.predecessors('9/46D')"
     ],
     "language": "python",
     "metadata": {},
     "outputs": [
      {
       "output_type": "pyout",
       "prompt_number": 27,
       "text": [
        "['11',\n",
        " '10',\n",
        " '13',\n",
        " '6DR',\n",
        " 'TPO',\n",
        " '8B',\n",
        " '47(12)',\n",
        " '29',\n",
        " '46',\n",
        " 'PG',\n",
        " 'TH',\n",
        " '45A',\n",
        " '8AD',\n",
        " '14']"
       ]
      }
     ],
     "prompt_number": 27
    },
    {
     "cell_type": "code",
     "collapsed": false,
     "input": [
      "from cocotools import nxdraw"
     ],
     "language": "python",
     "metadata": {},
     "outputs": [],
     "prompt_number": 30
    },
    {
     "cell_type": "code",
     "collapsed": false,
     "input": [
      "nxdraw.draw_network(small_mort_endg, colors)"
     ],
     "language": "python",
     "metadata": {},
     "outputs": [
      {
       "ename": "NameError",
       "evalue": "name 'colors' is not defined",
       "output_type": "pyerr",
       "traceback": [
        "\u001b[1;31m---------------------------------------------------------------------------\u001b[0m\n\u001b[1;31mNameError\u001b[0m                                 Traceback (most recent call last)",
        "\u001b[1;32m<ipython-input-31-62ee5723d9a5>\u001b[0m in \u001b[0;36m<module>\u001b[1;34m()\u001b[0m\n\u001b[1;32m----> 1\u001b[1;33m \u001b[0mnxdraw\u001b[0m\u001b[1;33m.\u001b[0m\u001b[0mdraw_network\u001b[0m\u001b[1;33m(\u001b[0m\u001b[0msmall_mort_endg\u001b[0m\u001b[1;33m,\u001b[0m \u001b[0mcolors\u001b[0m\u001b[1;33m)\u001b[0m\u001b[1;33m\u001b[0m\u001b[0m\n\u001b[0m",
        "\u001b[1;31mNameError\u001b[0m: name 'colors' is not defined"
       ]
      }
     ],
     "prompt_number": 31
    },
    {
     "cell_type": "code",
     "collapsed": false,
     "input": [],
     "language": "python",
     "metadata": {},
     "outputs": []
    }
   ],
   "metadata": {}
  }
 ]
}